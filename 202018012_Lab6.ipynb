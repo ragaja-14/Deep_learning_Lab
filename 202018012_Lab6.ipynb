{
  "nbformat": 4,
  "nbformat_minor": 0,
  "metadata": {
    "colab": {
      "name": "202018012_Lab6.ipynb",
      "provenance": [],
      "collapsed_sections": [],
      "toc_visible": true
    },
    "kernelspec": {
      "name": "python3",
      "display_name": "Python 3"
    },
    "language_info": {
      "name": "python"
    },
    "accelerator": "GPU"
  },
  "cells": [
    {
      "cell_type": "markdown",
      "metadata": {
        "id": "fTks8m2onVk-"
      },
      "source": [
        "#Lab -6"
      ]
    },
    {
      "cell_type": "code",
      "metadata": {
        "id": "Oke7NYLBoD2K"
      },
      "source": [
        "import numpy as np\n",
        "import pandas as pd\n",
        "import matplotlib.pyplot as plt\n",
        "import seaborn as sns\n",
        "%matplotlib inline\n",
        "from google.colab.patches import cv2_imshow\n",
        "\n",
        "import tensorflow as tf\n",
        "from tensorflow import keras\n",
        "from tensorflow.keras.layers import Dense, Dropout, BatchNormalization, Flatten\n",
        "from tensorflow.keras.models import Model, load_model, Sequential, save_model\n",
        "from tensorflow.keras.optimizers import Adam\n",
        "from tensorflow.keras.utils import plot_model\n"
      ],
      "execution_count": 2,
      "outputs": []
    },
    {
      "cell_type": "markdown",
      "metadata": {
        "id": "DmlWZkdXnaEO"
      },
      "source": [
        "## Task 01"
      ]
    },
    {
      "cell_type": "code",
      "metadata": {
        "colab": {
          "base_uri": "https://localhost:8080/",
          "height": 484
        },
        "id": "0mcIm4Z9m_tQ",
        "outputId": "7ae7593c-8178-414c-cad8-12379ebff3ae"
      },
      "source": [
        "weather_data=pd.read_csv('/content/weatherHistory.csv')\n",
        "weather_data.head()"
      ],
      "execution_count": 3,
      "outputs": [
        {
          "output_type": "execute_result",
          "data": {
            "text/html": [
              "<div>\n",
              "<style scoped>\n",
              "    .dataframe tbody tr th:only-of-type {\n",
              "        vertical-align: middle;\n",
              "    }\n",
              "\n",
              "    .dataframe tbody tr th {\n",
              "        vertical-align: top;\n",
              "    }\n",
              "\n",
              "    .dataframe thead th {\n",
              "        text-align: right;\n",
              "    }\n",
              "</style>\n",
              "<table border=\"1\" class=\"dataframe\">\n",
              "  <thead>\n",
              "    <tr style=\"text-align: right;\">\n",
              "      <th></th>\n",
              "      <th>Formatted Date</th>\n",
              "      <th>Summary</th>\n",
              "      <th>Precip Type</th>\n",
              "      <th>Temperature (C)</th>\n",
              "      <th>Apparent Temperature (C)</th>\n",
              "      <th>Humidity</th>\n",
              "      <th>Wind Speed (km/h)</th>\n",
              "      <th>Wind Bearing (degrees)</th>\n",
              "      <th>Visibility (km)</th>\n",
              "      <th>Loud Cover</th>\n",
              "      <th>Pressure (millibars)</th>\n",
              "      <th>Daily Summary</th>\n",
              "    </tr>\n",
              "  </thead>\n",
              "  <tbody>\n",
              "    <tr>\n",
              "      <th>0</th>\n",
              "      <td>2006-04-01 00:00:00.000 +0200</td>\n",
              "      <td>Partly Cloudy</td>\n",
              "      <td>rain</td>\n",
              "      <td>9.472222</td>\n",
              "      <td>7.388889</td>\n",
              "      <td>0.89</td>\n",
              "      <td>14.1197</td>\n",
              "      <td>251.0</td>\n",
              "      <td>15.8263</td>\n",
              "      <td>0.0</td>\n",
              "      <td>1015.13</td>\n",
              "      <td>Partly cloudy throughout the day.</td>\n",
              "    </tr>\n",
              "    <tr>\n",
              "      <th>1</th>\n",
              "      <td>2006-04-01 01:00:00.000 +0200</td>\n",
              "      <td>Partly Cloudy</td>\n",
              "      <td>rain</td>\n",
              "      <td>9.355556</td>\n",
              "      <td>7.227778</td>\n",
              "      <td>0.86</td>\n",
              "      <td>14.2646</td>\n",
              "      <td>259.0</td>\n",
              "      <td>15.8263</td>\n",
              "      <td>0.0</td>\n",
              "      <td>1015.63</td>\n",
              "      <td>Partly cloudy throughout the day.</td>\n",
              "    </tr>\n",
              "    <tr>\n",
              "      <th>2</th>\n",
              "      <td>2006-04-01 02:00:00.000 +0200</td>\n",
              "      <td>Mostly Cloudy</td>\n",
              "      <td>rain</td>\n",
              "      <td>9.377778</td>\n",
              "      <td>9.377778</td>\n",
              "      <td>0.89</td>\n",
              "      <td>3.9284</td>\n",
              "      <td>204.0</td>\n",
              "      <td>14.9569</td>\n",
              "      <td>0.0</td>\n",
              "      <td>1015.94</td>\n",
              "      <td>Partly cloudy throughout the day.</td>\n",
              "    </tr>\n",
              "    <tr>\n",
              "      <th>3</th>\n",
              "      <td>2006-04-01 03:00:00.000 +0200</td>\n",
              "      <td>Partly Cloudy</td>\n",
              "      <td>rain</td>\n",
              "      <td>8.288889</td>\n",
              "      <td>5.944444</td>\n",
              "      <td>0.83</td>\n",
              "      <td>14.1036</td>\n",
              "      <td>269.0</td>\n",
              "      <td>15.8263</td>\n",
              "      <td>0.0</td>\n",
              "      <td>1016.41</td>\n",
              "      <td>Partly cloudy throughout the day.</td>\n",
              "    </tr>\n",
              "    <tr>\n",
              "      <th>4</th>\n",
              "      <td>2006-04-01 04:00:00.000 +0200</td>\n",
              "      <td>Mostly Cloudy</td>\n",
              "      <td>rain</td>\n",
              "      <td>8.755556</td>\n",
              "      <td>6.977778</td>\n",
              "      <td>0.83</td>\n",
              "      <td>11.0446</td>\n",
              "      <td>259.0</td>\n",
              "      <td>15.8263</td>\n",
              "      <td>0.0</td>\n",
              "      <td>1016.51</td>\n",
              "      <td>Partly cloudy throughout the day.</td>\n",
              "    </tr>\n",
              "  </tbody>\n",
              "</table>\n",
              "</div>"
            ],
            "text/plain": [
              "                  Formatted Date  ...                      Daily Summary\n",
              "0  2006-04-01 00:00:00.000 +0200  ...  Partly cloudy throughout the day.\n",
              "1  2006-04-01 01:00:00.000 +0200  ...  Partly cloudy throughout the day.\n",
              "2  2006-04-01 02:00:00.000 +0200  ...  Partly cloudy throughout the day.\n",
              "3  2006-04-01 03:00:00.000 +0200  ...  Partly cloudy throughout the day.\n",
              "4  2006-04-01 04:00:00.000 +0200  ...  Partly cloudy throughout the day.\n",
              "\n",
              "[5 rows x 12 columns]"
            ]
          },
          "metadata": {},
          "execution_count": 3
        }
      ]
    },
    {
      "cell_type": "code",
      "metadata": {
        "id": "hS-N8tFYowOH",
        "colab": {
          "base_uri": "https://localhost:8080/"
        },
        "outputId": "7f0a0521-5003-43c5-b7eb-2669fd3304b0"
      },
      "source": [
        "weather_data.shape"
      ],
      "execution_count": 4,
      "outputs": [
        {
          "output_type": "execute_result",
          "data": {
            "text/plain": [
              "(96453, 12)"
            ]
          },
          "metadata": {},
          "execution_count": 4
        }
      ]
    },
    {
      "cell_type": "code",
      "metadata": {
        "colab": {
          "base_uri": "https://localhost:8080/"
        },
        "id": "ypMVNApfnA_V",
        "outputId": "47d0503e-028c-4d3f-8c85-63f82815efed"
      },
      "source": [
        "weather_data.dtypes"
      ],
      "execution_count": 5,
      "outputs": [
        {
          "output_type": "execute_result",
          "data": {
            "text/plain": [
              "Formatted Date               object\n",
              "Summary                      object\n",
              "Precip Type                  object\n",
              "Temperature (C)             float64\n",
              "Apparent Temperature (C)    float64\n",
              "Humidity                    float64\n",
              "Wind Speed (km/h)           float64\n",
              "Wind Bearing (degrees)      float64\n",
              "Visibility (km)             float64\n",
              "Loud Cover                  float64\n",
              "Pressure (millibars)        float64\n",
              "Daily Summary                object\n",
              "dtype: object"
            ]
          },
          "metadata": {},
          "execution_count": 5
        }
      ]
    },
    {
      "cell_type": "code",
      "metadata": {
        "colab": {
          "base_uri": "https://localhost:8080/"
        },
        "id": "3YtatJFgnCYU",
        "outputId": "2a9f65f1-df83-4306-a579-1e65d7c5c1ae"
      },
      "source": [
        "weather_data.isnull().sum()"
      ],
      "execution_count": 6,
      "outputs": [
        {
          "output_type": "execute_result",
          "data": {
            "text/plain": [
              "Formatted Date                0\n",
              "Summary                       0\n",
              "Precip Type                 517\n",
              "Temperature (C)               0\n",
              "Apparent Temperature (C)      0\n",
              "Humidity                      0\n",
              "Wind Speed (km/h)             0\n",
              "Wind Bearing (degrees)        0\n",
              "Visibility (km)               0\n",
              "Loud Cover                    0\n",
              "Pressure (millibars)          0\n",
              "Daily Summary                 0\n",
              "dtype: int64"
            ]
          },
          "metadata": {},
          "execution_count": 6
        }
      ]
    },
    {
      "cell_type": "code",
      "metadata": {
        "colab": {
          "base_uri": "https://localhost:8080/"
        },
        "id": "AVdkmTszYSBh",
        "outputId": "faf03133-3fb7-43d6-d79a-710639b9f625"
      },
      "source": [
        "weather_data=weather_data.fillna('')\n",
        "weather_data.isnull().sum()"
      ],
      "execution_count": 7,
      "outputs": [
        {
          "output_type": "execute_result",
          "data": {
            "text/plain": [
              "Formatted Date              0\n",
              "Summary                     0\n",
              "Precip Type                 0\n",
              "Temperature (C)             0\n",
              "Apparent Temperature (C)    0\n",
              "Humidity                    0\n",
              "Wind Speed (km/h)           0\n",
              "Wind Bearing (degrees)      0\n",
              "Visibility (km)             0\n",
              "Loud Cover                  0\n",
              "Pressure (millibars)        0\n",
              "Daily Summary               0\n",
              "dtype: int64"
            ]
          },
          "metadata": {},
          "execution_count": 7
        }
      ]
    },
    {
      "cell_type": "markdown",
      "metadata": {
        "id": "tv62kLwTK-0i"
      },
      "source": [
        "###Function for Onehot encoding from scracth\n",
        "Using the function_onehot to encode the catogerical columns on the given data."
      ]
    },
    {
      "cell_type": "code",
      "metadata": {
        "id": "ZFcuJG-CeIcZ"
      },
      "source": [
        "def function_onehot(input_dt):\n",
        "  unq_vals=list(input_dt.unique())\n",
        "  n=len(unq_vals)\n",
        "  val_cols=[i for i in range(0,n)]\n",
        "  op_dt=np.zeros((len(input_dt),n))\n",
        "  j=0\n",
        "  for i in input_dt:\n",
        "    val=unq_vals.index(i)\n",
        "    op_dt[j][val]=1\n",
        "    j=j+1\n",
        "  op_dt=pd.DataFrame(op_dt,columns=val_cols)\n",
        "  return op_dt"
      ],
      "execution_count": 402,
      "outputs": []
    },
    {
      "cell_type": "code",
      "metadata": {
        "id": "bX8AR830nCm5"
      },
      "source": [
        "import copy\n",
        "cat_cols=['Summary','Precip Type']\n",
        "new_data=pd.DataFrame()\n",
        "for i in cat_cols:\n",
        "  col_encoding=function_onehot(weather_data[i])\n",
        "  new_data=pd.concat([new_data,col_encoding],axis=1)\n"
      ],
      "execution_count": 10,
      "outputs": []
    },
    {
      "cell_type": "code",
      "metadata": {
        "colab": {
          "base_uri": "https://localhost:8080/",
          "height": 271
        },
        "id": "INTzD9dJZMMd",
        "outputId": "672385c1-c73a-40e1-a7e9-2b2325454148"
      },
      "source": [
        "new_data.head()"
      ],
      "execution_count": 11,
      "outputs": [
        {
          "output_type": "execute_result",
          "data": {
            "text/html": [
              "<div>\n",
              "<style scoped>\n",
              "    .dataframe tbody tr th:only-of-type {\n",
              "        vertical-align: middle;\n",
              "    }\n",
              "\n",
              "    .dataframe tbody tr th {\n",
              "        vertical-align: top;\n",
              "    }\n",
              "\n",
              "    .dataframe thead th {\n",
              "        text-align: right;\n",
              "    }\n",
              "</style>\n",
              "<table border=\"1\" class=\"dataframe\">\n",
              "  <thead>\n",
              "    <tr style=\"text-align: right;\">\n",
              "      <th></th>\n",
              "      <th>Partly Cloudy</th>\n",
              "      <th>Mostly Cloudy</th>\n",
              "      <th>Overcast</th>\n",
              "      <th>Foggy</th>\n",
              "      <th>Breezy and Mostly Cloudy</th>\n",
              "      <th>Clear</th>\n",
              "      <th>Breezy and Partly Cloudy</th>\n",
              "      <th>Breezy and Overcast</th>\n",
              "      <th>Humid and Mostly Cloudy</th>\n",
              "      <th>Humid and Partly Cloudy</th>\n",
              "      <th>Windy and Foggy</th>\n",
              "      <th>Windy and Overcast</th>\n",
              "      <th>Breezy and Foggy</th>\n",
              "      <th>Windy and Partly Cloudy</th>\n",
              "      <th>Breezy</th>\n",
              "      <th>Dry and Partly Cloudy</th>\n",
              "      <th>Windy and Mostly Cloudy</th>\n",
              "      <th>Dangerously Windy and Partly Cloudy</th>\n",
              "      <th>Dry</th>\n",
              "      <th>Windy</th>\n",
              "      <th>Humid and Overcast</th>\n",
              "      <th>Light Rain</th>\n",
              "      <th>Drizzle</th>\n",
              "      <th>Windy and Dry</th>\n",
              "      <th>Dry and Mostly Cloudy</th>\n",
              "      <th>Breezy and Dry</th>\n",
              "      <th>Rain</th>\n",
              "      <th>rain</th>\n",
              "      <th>snow</th>\n",
              "      <th></th>\n",
              "    </tr>\n",
              "  </thead>\n",
              "  <tbody>\n",
              "    <tr>\n",
              "      <th>0</th>\n",
              "      <td>1.0</td>\n",
              "      <td>0.0</td>\n",
              "      <td>0.0</td>\n",
              "      <td>0.0</td>\n",
              "      <td>0.0</td>\n",
              "      <td>0.0</td>\n",
              "      <td>0.0</td>\n",
              "      <td>0.0</td>\n",
              "      <td>0.0</td>\n",
              "      <td>0.0</td>\n",
              "      <td>0.0</td>\n",
              "      <td>0.0</td>\n",
              "      <td>0.0</td>\n",
              "      <td>0.0</td>\n",
              "      <td>0.0</td>\n",
              "      <td>0.0</td>\n",
              "      <td>0.0</td>\n",
              "      <td>0.0</td>\n",
              "      <td>0.0</td>\n",
              "      <td>0.0</td>\n",
              "      <td>0.0</td>\n",
              "      <td>0.0</td>\n",
              "      <td>0.0</td>\n",
              "      <td>0.0</td>\n",
              "      <td>0.0</td>\n",
              "      <td>0.0</td>\n",
              "      <td>0.0</td>\n",
              "      <td>1.0</td>\n",
              "      <td>0.0</td>\n",
              "      <td>0.0</td>\n",
              "    </tr>\n",
              "    <tr>\n",
              "      <th>1</th>\n",
              "      <td>1.0</td>\n",
              "      <td>0.0</td>\n",
              "      <td>0.0</td>\n",
              "      <td>0.0</td>\n",
              "      <td>0.0</td>\n",
              "      <td>0.0</td>\n",
              "      <td>0.0</td>\n",
              "      <td>0.0</td>\n",
              "      <td>0.0</td>\n",
              "      <td>0.0</td>\n",
              "      <td>0.0</td>\n",
              "      <td>0.0</td>\n",
              "      <td>0.0</td>\n",
              "      <td>0.0</td>\n",
              "      <td>0.0</td>\n",
              "      <td>0.0</td>\n",
              "      <td>0.0</td>\n",
              "      <td>0.0</td>\n",
              "      <td>0.0</td>\n",
              "      <td>0.0</td>\n",
              "      <td>0.0</td>\n",
              "      <td>0.0</td>\n",
              "      <td>0.0</td>\n",
              "      <td>0.0</td>\n",
              "      <td>0.0</td>\n",
              "      <td>0.0</td>\n",
              "      <td>0.0</td>\n",
              "      <td>1.0</td>\n",
              "      <td>0.0</td>\n",
              "      <td>0.0</td>\n",
              "    </tr>\n",
              "    <tr>\n",
              "      <th>2</th>\n",
              "      <td>0.0</td>\n",
              "      <td>1.0</td>\n",
              "      <td>0.0</td>\n",
              "      <td>0.0</td>\n",
              "      <td>0.0</td>\n",
              "      <td>0.0</td>\n",
              "      <td>0.0</td>\n",
              "      <td>0.0</td>\n",
              "      <td>0.0</td>\n",
              "      <td>0.0</td>\n",
              "      <td>0.0</td>\n",
              "      <td>0.0</td>\n",
              "      <td>0.0</td>\n",
              "      <td>0.0</td>\n",
              "      <td>0.0</td>\n",
              "      <td>0.0</td>\n",
              "      <td>0.0</td>\n",
              "      <td>0.0</td>\n",
              "      <td>0.0</td>\n",
              "      <td>0.0</td>\n",
              "      <td>0.0</td>\n",
              "      <td>0.0</td>\n",
              "      <td>0.0</td>\n",
              "      <td>0.0</td>\n",
              "      <td>0.0</td>\n",
              "      <td>0.0</td>\n",
              "      <td>0.0</td>\n",
              "      <td>1.0</td>\n",
              "      <td>0.0</td>\n",
              "      <td>0.0</td>\n",
              "    </tr>\n",
              "    <tr>\n",
              "      <th>3</th>\n",
              "      <td>1.0</td>\n",
              "      <td>0.0</td>\n",
              "      <td>0.0</td>\n",
              "      <td>0.0</td>\n",
              "      <td>0.0</td>\n",
              "      <td>0.0</td>\n",
              "      <td>0.0</td>\n",
              "      <td>0.0</td>\n",
              "      <td>0.0</td>\n",
              "      <td>0.0</td>\n",
              "      <td>0.0</td>\n",
              "      <td>0.0</td>\n",
              "      <td>0.0</td>\n",
              "      <td>0.0</td>\n",
              "      <td>0.0</td>\n",
              "      <td>0.0</td>\n",
              "      <td>0.0</td>\n",
              "      <td>0.0</td>\n",
              "      <td>0.0</td>\n",
              "      <td>0.0</td>\n",
              "      <td>0.0</td>\n",
              "      <td>0.0</td>\n",
              "      <td>0.0</td>\n",
              "      <td>0.0</td>\n",
              "      <td>0.0</td>\n",
              "      <td>0.0</td>\n",
              "      <td>0.0</td>\n",
              "      <td>1.0</td>\n",
              "      <td>0.0</td>\n",
              "      <td>0.0</td>\n",
              "    </tr>\n",
              "    <tr>\n",
              "      <th>4</th>\n",
              "      <td>0.0</td>\n",
              "      <td>1.0</td>\n",
              "      <td>0.0</td>\n",
              "      <td>0.0</td>\n",
              "      <td>0.0</td>\n",
              "      <td>0.0</td>\n",
              "      <td>0.0</td>\n",
              "      <td>0.0</td>\n",
              "      <td>0.0</td>\n",
              "      <td>0.0</td>\n",
              "      <td>0.0</td>\n",
              "      <td>0.0</td>\n",
              "      <td>0.0</td>\n",
              "      <td>0.0</td>\n",
              "      <td>0.0</td>\n",
              "      <td>0.0</td>\n",
              "      <td>0.0</td>\n",
              "      <td>0.0</td>\n",
              "      <td>0.0</td>\n",
              "      <td>0.0</td>\n",
              "      <td>0.0</td>\n",
              "      <td>0.0</td>\n",
              "      <td>0.0</td>\n",
              "      <td>0.0</td>\n",
              "      <td>0.0</td>\n",
              "      <td>0.0</td>\n",
              "      <td>0.0</td>\n",
              "      <td>1.0</td>\n",
              "      <td>0.0</td>\n",
              "      <td>0.0</td>\n",
              "    </tr>\n",
              "  </tbody>\n",
              "</table>\n",
              "</div>"
            ],
            "text/plain": [
              "   Partly Cloudy  Mostly Cloudy  Overcast  Foggy  ...  Rain  rain  snow     \n",
              "0            1.0            0.0       0.0    0.0  ...   0.0   1.0   0.0  0.0\n",
              "1            1.0            0.0       0.0    0.0  ...   0.0   1.0   0.0  0.0\n",
              "2            0.0            1.0       0.0    0.0  ...   0.0   1.0   0.0  0.0\n",
              "3            1.0            0.0       0.0    0.0  ...   0.0   1.0   0.0  0.0\n",
              "4            0.0            1.0       0.0    0.0  ...   0.0   1.0   0.0  0.0\n",
              "\n",
              "[5 rows x 30 columns]"
            ]
          },
          "metadata": {},
          "execution_count": 11
        }
      ]
    },
    {
      "cell_type": "code",
      "metadata": {
        "colab": {
          "base_uri": "https://localhost:8080/"
        },
        "id": "x0JeP1Bhf2S0",
        "outputId": "45dfc039-cf5d-4662-c4e5-f2f00c6ad941"
      },
      "source": [
        "new_data.shape"
      ],
      "execution_count": 12,
      "outputs": [
        {
          "output_type": "execute_result",
          "data": {
            "text/plain": [
              "(96453, 30)"
            ]
          },
          "metadata": {},
          "execution_count": 12
        }
      ]
    },
    {
      "cell_type": "code",
      "metadata": {
        "id": "nysPrpj_nCrD"
      },
      "source": [
        "cat_cols.append('Daily Summary')\n",
        "cat_cols.append('Formatted Date')\n",
        "cat_cols.append('Loud Cover')\n",
        "new_dt=weather_data.drop(cat_cols,axis=1)"
      ],
      "execution_count": 13,
      "outputs": []
    },
    {
      "cell_type": "code",
      "metadata": {
        "colab": {
          "base_uri": "https://localhost:8080/",
          "height": 218
        },
        "id": "CTp96dr4lRha",
        "outputId": "6c75fb4f-cd0a-4525-bf35-546505a8b45e"
      },
      "source": [
        "new_dt.head()"
      ],
      "execution_count": 14,
      "outputs": [
        {
          "output_type": "execute_result",
          "data": {
            "text/html": [
              "<div>\n",
              "<style scoped>\n",
              "    .dataframe tbody tr th:only-of-type {\n",
              "        vertical-align: middle;\n",
              "    }\n",
              "\n",
              "    .dataframe tbody tr th {\n",
              "        vertical-align: top;\n",
              "    }\n",
              "\n",
              "    .dataframe thead th {\n",
              "        text-align: right;\n",
              "    }\n",
              "</style>\n",
              "<table border=\"1\" class=\"dataframe\">\n",
              "  <thead>\n",
              "    <tr style=\"text-align: right;\">\n",
              "      <th></th>\n",
              "      <th>Temperature (C)</th>\n",
              "      <th>Apparent Temperature (C)</th>\n",
              "      <th>Humidity</th>\n",
              "      <th>Wind Speed (km/h)</th>\n",
              "      <th>Wind Bearing (degrees)</th>\n",
              "      <th>Visibility (km)</th>\n",
              "      <th>Pressure (millibars)</th>\n",
              "    </tr>\n",
              "  </thead>\n",
              "  <tbody>\n",
              "    <tr>\n",
              "      <th>0</th>\n",
              "      <td>9.472222</td>\n",
              "      <td>7.388889</td>\n",
              "      <td>0.89</td>\n",
              "      <td>14.1197</td>\n",
              "      <td>251.0</td>\n",
              "      <td>15.8263</td>\n",
              "      <td>1015.13</td>\n",
              "    </tr>\n",
              "    <tr>\n",
              "      <th>1</th>\n",
              "      <td>9.355556</td>\n",
              "      <td>7.227778</td>\n",
              "      <td>0.86</td>\n",
              "      <td>14.2646</td>\n",
              "      <td>259.0</td>\n",
              "      <td>15.8263</td>\n",
              "      <td>1015.63</td>\n",
              "    </tr>\n",
              "    <tr>\n",
              "      <th>2</th>\n",
              "      <td>9.377778</td>\n",
              "      <td>9.377778</td>\n",
              "      <td>0.89</td>\n",
              "      <td>3.9284</td>\n",
              "      <td>204.0</td>\n",
              "      <td>14.9569</td>\n",
              "      <td>1015.94</td>\n",
              "    </tr>\n",
              "    <tr>\n",
              "      <th>3</th>\n",
              "      <td>8.288889</td>\n",
              "      <td>5.944444</td>\n",
              "      <td>0.83</td>\n",
              "      <td>14.1036</td>\n",
              "      <td>269.0</td>\n",
              "      <td>15.8263</td>\n",
              "      <td>1016.41</td>\n",
              "    </tr>\n",
              "    <tr>\n",
              "      <th>4</th>\n",
              "      <td>8.755556</td>\n",
              "      <td>6.977778</td>\n",
              "      <td>0.83</td>\n",
              "      <td>11.0446</td>\n",
              "      <td>259.0</td>\n",
              "      <td>15.8263</td>\n",
              "      <td>1016.51</td>\n",
              "    </tr>\n",
              "  </tbody>\n",
              "</table>\n",
              "</div>"
            ],
            "text/plain": [
              "   Temperature (C)  ...  Pressure (millibars)\n",
              "0         9.472222  ...               1015.13\n",
              "1         9.355556  ...               1015.63\n",
              "2         9.377778  ...               1015.94\n",
              "3         8.288889  ...               1016.41\n",
              "4         8.755556  ...               1016.51\n",
              "\n",
              "[5 rows x 7 columns]"
            ]
          },
          "metadata": {},
          "execution_count": 14
        }
      ]
    },
    {
      "cell_type": "code",
      "metadata": {
        "id": "GUkktjtGnCuc",
        "colab": {
          "base_uri": "https://localhost:8080/",
          "height": 271
        },
        "outputId": "faf17c5a-d187-4616-d245-366fa72dca38"
      },
      "source": [
        "new_dt2=pd.concat([new_dt,new_data],axis=1)\n",
        "new_dt2.head()"
      ],
      "execution_count": 15,
      "outputs": [
        {
          "output_type": "execute_result",
          "data": {
            "text/html": [
              "<div>\n",
              "<style scoped>\n",
              "    .dataframe tbody tr th:only-of-type {\n",
              "        vertical-align: middle;\n",
              "    }\n",
              "\n",
              "    .dataframe tbody tr th {\n",
              "        vertical-align: top;\n",
              "    }\n",
              "\n",
              "    .dataframe thead th {\n",
              "        text-align: right;\n",
              "    }\n",
              "</style>\n",
              "<table border=\"1\" class=\"dataframe\">\n",
              "  <thead>\n",
              "    <tr style=\"text-align: right;\">\n",
              "      <th></th>\n",
              "      <th>Temperature (C)</th>\n",
              "      <th>Apparent Temperature (C)</th>\n",
              "      <th>Humidity</th>\n",
              "      <th>Wind Speed (km/h)</th>\n",
              "      <th>Wind Bearing (degrees)</th>\n",
              "      <th>Visibility (km)</th>\n",
              "      <th>Pressure (millibars)</th>\n",
              "      <th>Partly Cloudy</th>\n",
              "      <th>Mostly Cloudy</th>\n",
              "      <th>Overcast</th>\n",
              "      <th>Foggy</th>\n",
              "      <th>Breezy and Mostly Cloudy</th>\n",
              "      <th>Clear</th>\n",
              "      <th>Breezy and Partly Cloudy</th>\n",
              "      <th>Breezy and Overcast</th>\n",
              "      <th>Humid and Mostly Cloudy</th>\n",
              "      <th>Humid and Partly Cloudy</th>\n",
              "      <th>Windy and Foggy</th>\n",
              "      <th>Windy and Overcast</th>\n",
              "      <th>Breezy and Foggy</th>\n",
              "      <th>Windy and Partly Cloudy</th>\n",
              "      <th>Breezy</th>\n",
              "      <th>Dry and Partly Cloudy</th>\n",
              "      <th>Windy and Mostly Cloudy</th>\n",
              "      <th>Dangerously Windy and Partly Cloudy</th>\n",
              "      <th>Dry</th>\n",
              "      <th>Windy</th>\n",
              "      <th>Humid and Overcast</th>\n",
              "      <th>Light Rain</th>\n",
              "      <th>Drizzle</th>\n",
              "      <th>Windy and Dry</th>\n",
              "      <th>Dry and Mostly Cloudy</th>\n",
              "      <th>Breezy and Dry</th>\n",
              "      <th>Rain</th>\n",
              "      <th>rain</th>\n",
              "      <th>snow</th>\n",
              "      <th></th>\n",
              "    </tr>\n",
              "  </thead>\n",
              "  <tbody>\n",
              "    <tr>\n",
              "      <th>0</th>\n",
              "      <td>9.472222</td>\n",
              "      <td>7.388889</td>\n",
              "      <td>0.89</td>\n",
              "      <td>14.1197</td>\n",
              "      <td>251.0</td>\n",
              "      <td>15.8263</td>\n",
              "      <td>1015.13</td>\n",
              "      <td>1.0</td>\n",
              "      <td>0.0</td>\n",
              "      <td>0.0</td>\n",
              "      <td>0.0</td>\n",
              "      <td>0.0</td>\n",
              "      <td>0.0</td>\n",
              "      <td>0.0</td>\n",
              "      <td>0.0</td>\n",
              "      <td>0.0</td>\n",
              "      <td>0.0</td>\n",
              "      <td>0.0</td>\n",
              "      <td>0.0</td>\n",
              "      <td>0.0</td>\n",
              "      <td>0.0</td>\n",
              "      <td>0.0</td>\n",
              "      <td>0.0</td>\n",
              "      <td>0.0</td>\n",
              "      <td>0.0</td>\n",
              "      <td>0.0</td>\n",
              "      <td>0.0</td>\n",
              "      <td>0.0</td>\n",
              "      <td>0.0</td>\n",
              "      <td>0.0</td>\n",
              "      <td>0.0</td>\n",
              "      <td>0.0</td>\n",
              "      <td>0.0</td>\n",
              "      <td>0.0</td>\n",
              "      <td>1.0</td>\n",
              "      <td>0.0</td>\n",
              "      <td>0.0</td>\n",
              "    </tr>\n",
              "    <tr>\n",
              "      <th>1</th>\n",
              "      <td>9.355556</td>\n",
              "      <td>7.227778</td>\n",
              "      <td>0.86</td>\n",
              "      <td>14.2646</td>\n",
              "      <td>259.0</td>\n",
              "      <td>15.8263</td>\n",
              "      <td>1015.63</td>\n",
              "      <td>1.0</td>\n",
              "      <td>0.0</td>\n",
              "      <td>0.0</td>\n",
              "      <td>0.0</td>\n",
              "      <td>0.0</td>\n",
              "      <td>0.0</td>\n",
              "      <td>0.0</td>\n",
              "      <td>0.0</td>\n",
              "      <td>0.0</td>\n",
              "      <td>0.0</td>\n",
              "      <td>0.0</td>\n",
              "      <td>0.0</td>\n",
              "      <td>0.0</td>\n",
              "      <td>0.0</td>\n",
              "      <td>0.0</td>\n",
              "      <td>0.0</td>\n",
              "      <td>0.0</td>\n",
              "      <td>0.0</td>\n",
              "      <td>0.0</td>\n",
              "      <td>0.0</td>\n",
              "      <td>0.0</td>\n",
              "      <td>0.0</td>\n",
              "      <td>0.0</td>\n",
              "      <td>0.0</td>\n",
              "      <td>0.0</td>\n",
              "      <td>0.0</td>\n",
              "      <td>0.0</td>\n",
              "      <td>1.0</td>\n",
              "      <td>0.0</td>\n",
              "      <td>0.0</td>\n",
              "    </tr>\n",
              "    <tr>\n",
              "      <th>2</th>\n",
              "      <td>9.377778</td>\n",
              "      <td>9.377778</td>\n",
              "      <td>0.89</td>\n",
              "      <td>3.9284</td>\n",
              "      <td>204.0</td>\n",
              "      <td>14.9569</td>\n",
              "      <td>1015.94</td>\n",
              "      <td>0.0</td>\n",
              "      <td>1.0</td>\n",
              "      <td>0.0</td>\n",
              "      <td>0.0</td>\n",
              "      <td>0.0</td>\n",
              "      <td>0.0</td>\n",
              "      <td>0.0</td>\n",
              "      <td>0.0</td>\n",
              "      <td>0.0</td>\n",
              "      <td>0.0</td>\n",
              "      <td>0.0</td>\n",
              "      <td>0.0</td>\n",
              "      <td>0.0</td>\n",
              "      <td>0.0</td>\n",
              "      <td>0.0</td>\n",
              "      <td>0.0</td>\n",
              "      <td>0.0</td>\n",
              "      <td>0.0</td>\n",
              "      <td>0.0</td>\n",
              "      <td>0.0</td>\n",
              "      <td>0.0</td>\n",
              "      <td>0.0</td>\n",
              "      <td>0.0</td>\n",
              "      <td>0.0</td>\n",
              "      <td>0.0</td>\n",
              "      <td>0.0</td>\n",
              "      <td>0.0</td>\n",
              "      <td>1.0</td>\n",
              "      <td>0.0</td>\n",
              "      <td>0.0</td>\n",
              "    </tr>\n",
              "    <tr>\n",
              "      <th>3</th>\n",
              "      <td>8.288889</td>\n",
              "      <td>5.944444</td>\n",
              "      <td>0.83</td>\n",
              "      <td>14.1036</td>\n",
              "      <td>269.0</td>\n",
              "      <td>15.8263</td>\n",
              "      <td>1016.41</td>\n",
              "      <td>1.0</td>\n",
              "      <td>0.0</td>\n",
              "      <td>0.0</td>\n",
              "      <td>0.0</td>\n",
              "      <td>0.0</td>\n",
              "      <td>0.0</td>\n",
              "      <td>0.0</td>\n",
              "      <td>0.0</td>\n",
              "      <td>0.0</td>\n",
              "      <td>0.0</td>\n",
              "      <td>0.0</td>\n",
              "      <td>0.0</td>\n",
              "      <td>0.0</td>\n",
              "      <td>0.0</td>\n",
              "      <td>0.0</td>\n",
              "      <td>0.0</td>\n",
              "      <td>0.0</td>\n",
              "      <td>0.0</td>\n",
              "      <td>0.0</td>\n",
              "      <td>0.0</td>\n",
              "      <td>0.0</td>\n",
              "      <td>0.0</td>\n",
              "      <td>0.0</td>\n",
              "      <td>0.0</td>\n",
              "      <td>0.0</td>\n",
              "      <td>0.0</td>\n",
              "      <td>0.0</td>\n",
              "      <td>1.0</td>\n",
              "      <td>0.0</td>\n",
              "      <td>0.0</td>\n",
              "    </tr>\n",
              "    <tr>\n",
              "      <th>4</th>\n",
              "      <td>8.755556</td>\n",
              "      <td>6.977778</td>\n",
              "      <td>0.83</td>\n",
              "      <td>11.0446</td>\n",
              "      <td>259.0</td>\n",
              "      <td>15.8263</td>\n",
              "      <td>1016.51</td>\n",
              "      <td>0.0</td>\n",
              "      <td>1.0</td>\n",
              "      <td>0.0</td>\n",
              "      <td>0.0</td>\n",
              "      <td>0.0</td>\n",
              "      <td>0.0</td>\n",
              "      <td>0.0</td>\n",
              "      <td>0.0</td>\n",
              "      <td>0.0</td>\n",
              "      <td>0.0</td>\n",
              "      <td>0.0</td>\n",
              "      <td>0.0</td>\n",
              "      <td>0.0</td>\n",
              "      <td>0.0</td>\n",
              "      <td>0.0</td>\n",
              "      <td>0.0</td>\n",
              "      <td>0.0</td>\n",
              "      <td>0.0</td>\n",
              "      <td>0.0</td>\n",
              "      <td>0.0</td>\n",
              "      <td>0.0</td>\n",
              "      <td>0.0</td>\n",
              "      <td>0.0</td>\n",
              "      <td>0.0</td>\n",
              "      <td>0.0</td>\n",
              "      <td>0.0</td>\n",
              "      <td>0.0</td>\n",
              "      <td>1.0</td>\n",
              "      <td>0.0</td>\n",
              "      <td>0.0</td>\n",
              "    </tr>\n",
              "  </tbody>\n",
              "</table>\n",
              "</div>"
            ],
            "text/plain": [
              "   Temperature (C)  Apparent Temperature (C)  Humidity  ...  rain  snow     \n",
              "0         9.472222                  7.388889      0.89  ...   1.0   0.0  0.0\n",
              "1         9.355556                  7.227778      0.86  ...   1.0   0.0  0.0\n",
              "2         9.377778                  9.377778      0.89  ...   1.0   0.0  0.0\n",
              "3         8.288889                  5.944444      0.83  ...   1.0   0.0  0.0\n",
              "4         8.755556                  6.977778      0.83  ...   1.0   0.0  0.0\n",
              "\n",
              "[5 rows x 37 columns]"
            ]
          },
          "metadata": {},
          "execution_count": 15
        }
      ]
    },
    {
      "cell_type": "code",
      "metadata": {
        "id": "7kx7jQn_nBCk",
        "colab": {
          "base_uri": "https://localhost:8080/",
          "height": 363
        },
        "outputId": "fd27ec9e-6579-4f4a-c7f6-f116ea012194"
      },
      "source": [
        "new_dt2.describe()"
      ],
      "execution_count": 16,
      "outputs": [
        {
          "output_type": "execute_result",
          "data": {
            "text/html": [
              "<div>\n",
              "<style scoped>\n",
              "    .dataframe tbody tr th:only-of-type {\n",
              "        vertical-align: middle;\n",
              "    }\n",
              "\n",
              "    .dataframe tbody tr th {\n",
              "        vertical-align: top;\n",
              "    }\n",
              "\n",
              "    .dataframe thead th {\n",
              "        text-align: right;\n",
              "    }\n",
              "</style>\n",
              "<table border=\"1\" class=\"dataframe\">\n",
              "  <thead>\n",
              "    <tr style=\"text-align: right;\">\n",
              "      <th></th>\n",
              "      <th>Temperature (C)</th>\n",
              "      <th>Apparent Temperature (C)</th>\n",
              "      <th>Humidity</th>\n",
              "      <th>Wind Speed (km/h)</th>\n",
              "      <th>Wind Bearing (degrees)</th>\n",
              "      <th>Visibility (km)</th>\n",
              "      <th>Pressure (millibars)</th>\n",
              "      <th>Partly Cloudy</th>\n",
              "      <th>Mostly Cloudy</th>\n",
              "      <th>Overcast</th>\n",
              "      <th>Foggy</th>\n",
              "      <th>Breezy and Mostly Cloudy</th>\n",
              "      <th>Clear</th>\n",
              "      <th>Breezy and Partly Cloudy</th>\n",
              "      <th>Breezy and Overcast</th>\n",
              "      <th>Humid and Mostly Cloudy</th>\n",
              "      <th>Humid and Partly Cloudy</th>\n",
              "      <th>Windy and Foggy</th>\n",
              "      <th>Windy and Overcast</th>\n",
              "      <th>Breezy and Foggy</th>\n",
              "      <th>Windy and Partly Cloudy</th>\n",
              "      <th>Breezy</th>\n",
              "      <th>Dry and Partly Cloudy</th>\n",
              "      <th>Windy and Mostly Cloudy</th>\n",
              "      <th>Dangerously Windy and Partly Cloudy</th>\n",
              "      <th>Dry</th>\n",
              "      <th>Windy</th>\n",
              "      <th>Humid and Overcast</th>\n",
              "      <th>Light Rain</th>\n",
              "      <th>Drizzle</th>\n",
              "      <th>Windy and Dry</th>\n",
              "      <th>Dry and Mostly Cloudy</th>\n",
              "      <th>Breezy and Dry</th>\n",
              "      <th>Rain</th>\n",
              "      <th>rain</th>\n",
              "      <th>snow</th>\n",
              "      <th></th>\n",
              "    </tr>\n",
              "  </thead>\n",
              "  <tbody>\n",
              "    <tr>\n",
              "      <th>count</th>\n",
              "      <td>96453.000000</td>\n",
              "      <td>96453.000000</td>\n",
              "      <td>96453.000000</td>\n",
              "      <td>96453.000000</td>\n",
              "      <td>96453.000000</td>\n",
              "      <td>96453.000000</td>\n",
              "      <td>96453.000000</td>\n",
              "      <td>96453.000000</td>\n",
              "      <td>96453.000000</td>\n",
              "      <td>96453.000000</td>\n",
              "      <td>96453.000000</td>\n",
              "      <td>96453.000000</td>\n",
              "      <td>96453.000000</td>\n",
              "      <td>96453.000000</td>\n",
              "      <td>96453.000000</td>\n",
              "      <td>96453.000000</td>\n",
              "      <td>96453.000000</td>\n",
              "      <td>96453.000000</td>\n",
              "      <td>96453.000000</td>\n",
              "      <td>96453.000000</td>\n",
              "      <td>96453.000000</td>\n",
              "      <td>96453.000000</td>\n",
              "      <td>96453.000000</td>\n",
              "      <td>96453.000000</td>\n",
              "      <td>96453.00000</td>\n",
              "      <td>96453.000000</td>\n",
              "      <td>96453.000000</td>\n",
              "      <td>96453.000000</td>\n",
              "      <td>96453.000000</td>\n",
              "      <td>96453.000000</td>\n",
              "      <td>96453.00000</td>\n",
              "      <td>96453.000000</td>\n",
              "      <td>96453.00000</td>\n",
              "      <td>96453.000000</td>\n",
              "      <td>96453.000000</td>\n",
              "      <td>96453.000000</td>\n",
              "      <td>96453.000000</td>\n",
              "    </tr>\n",
              "    <tr>\n",
              "      <th>mean</th>\n",
              "      <td>11.932678</td>\n",
              "      <td>10.855029</td>\n",
              "      <td>0.734899</td>\n",
              "      <td>10.810640</td>\n",
              "      <td>187.509232</td>\n",
              "      <td>10.347325</td>\n",
              "      <td>1003.235956</td>\n",
              "      <td>0.329000</td>\n",
              "      <td>0.291271</td>\n",
              "      <td>0.172073</td>\n",
              "      <td>0.074109</td>\n",
              "      <td>0.005350</td>\n",
              "      <td>0.112905</td>\n",
              "      <td>0.004002</td>\n",
              "      <td>0.005474</td>\n",
              "      <td>0.000415</td>\n",
              "      <td>0.000176</td>\n",
              "      <td>0.000041</td>\n",
              "      <td>0.000467</td>\n",
              "      <td>0.000363</td>\n",
              "      <td>0.000695</td>\n",
              "      <td>0.000560</td>\n",
              "      <td>0.000892</td>\n",
              "      <td>0.000363</td>\n",
              "      <td>0.00001</td>\n",
              "      <td>0.000353</td>\n",
              "      <td>0.000083</td>\n",
              "      <td>0.000073</td>\n",
              "      <td>0.000653</td>\n",
              "      <td>0.000404</td>\n",
              "      <td>0.00001</td>\n",
              "      <td>0.000145</td>\n",
              "      <td>0.00001</td>\n",
              "      <td>0.000104</td>\n",
              "      <td>0.883581</td>\n",
              "      <td>0.111059</td>\n",
              "      <td>0.005360</td>\n",
              "    </tr>\n",
              "    <tr>\n",
              "      <th>std</th>\n",
              "      <td>9.551546</td>\n",
              "      <td>10.696847</td>\n",
              "      <td>0.195473</td>\n",
              "      <td>6.913571</td>\n",
              "      <td>107.383428</td>\n",
              "      <td>4.192123</td>\n",
              "      <td>116.969906</td>\n",
              "      <td>0.469852</td>\n",
              "      <td>0.454351</td>\n",
              "      <td>0.377446</td>\n",
              "      <td>0.261949</td>\n",
              "      <td>0.072946</td>\n",
              "      <td>0.316478</td>\n",
              "      <td>0.063135</td>\n",
              "      <td>0.073785</td>\n",
              "      <td>0.020360</td>\n",
              "      <td>0.013275</td>\n",
              "      <td>0.006440</td>\n",
              "      <td>0.021595</td>\n",
              "      <td>0.019046</td>\n",
              "      <td>0.026347</td>\n",
              "      <td>0.023655</td>\n",
              "      <td>0.029847</td>\n",
              "      <td>0.019046</td>\n",
              "      <td>0.00322</td>\n",
              "      <td>0.018772</td>\n",
              "      <td>0.009107</td>\n",
              "      <td>0.008519</td>\n",
              "      <td>0.025549</td>\n",
              "      <td>0.020104</td>\n",
              "      <td>0.00322</td>\n",
              "      <td>0.012047</td>\n",
              "      <td>0.00322</td>\n",
              "      <td>0.010182</td>\n",
              "      <td>0.320729</td>\n",
              "      <td>0.314207</td>\n",
              "      <td>0.073017</td>\n",
              "    </tr>\n",
              "    <tr>\n",
              "      <th>min</th>\n",
              "      <td>-21.822222</td>\n",
              "      <td>-27.716667</td>\n",
              "      <td>0.000000</td>\n",
              "      <td>0.000000</td>\n",
              "      <td>0.000000</td>\n",
              "      <td>0.000000</td>\n",
              "      <td>0.000000</td>\n",
              "      <td>0.000000</td>\n",
              "      <td>0.000000</td>\n",
              "      <td>0.000000</td>\n",
              "      <td>0.000000</td>\n",
              "      <td>0.000000</td>\n",
              "      <td>0.000000</td>\n",
              "      <td>0.000000</td>\n",
              "      <td>0.000000</td>\n",
              "      <td>0.000000</td>\n",
              "      <td>0.000000</td>\n",
              "      <td>0.000000</td>\n",
              "      <td>0.000000</td>\n",
              "      <td>0.000000</td>\n",
              "      <td>0.000000</td>\n",
              "      <td>0.000000</td>\n",
              "      <td>0.000000</td>\n",
              "      <td>0.000000</td>\n",
              "      <td>0.00000</td>\n",
              "      <td>0.000000</td>\n",
              "      <td>0.000000</td>\n",
              "      <td>0.000000</td>\n",
              "      <td>0.000000</td>\n",
              "      <td>0.000000</td>\n",
              "      <td>0.00000</td>\n",
              "      <td>0.000000</td>\n",
              "      <td>0.00000</td>\n",
              "      <td>0.000000</td>\n",
              "      <td>0.000000</td>\n",
              "      <td>0.000000</td>\n",
              "      <td>0.000000</td>\n",
              "    </tr>\n",
              "    <tr>\n",
              "      <th>25%</th>\n",
              "      <td>4.688889</td>\n",
              "      <td>2.311111</td>\n",
              "      <td>0.600000</td>\n",
              "      <td>5.828200</td>\n",
              "      <td>116.000000</td>\n",
              "      <td>8.339800</td>\n",
              "      <td>1011.900000</td>\n",
              "      <td>0.000000</td>\n",
              "      <td>0.000000</td>\n",
              "      <td>0.000000</td>\n",
              "      <td>0.000000</td>\n",
              "      <td>0.000000</td>\n",
              "      <td>0.000000</td>\n",
              "      <td>0.000000</td>\n",
              "      <td>0.000000</td>\n",
              "      <td>0.000000</td>\n",
              "      <td>0.000000</td>\n",
              "      <td>0.000000</td>\n",
              "      <td>0.000000</td>\n",
              "      <td>0.000000</td>\n",
              "      <td>0.000000</td>\n",
              "      <td>0.000000</td>\n",
              "      <td>0.000000</td>\n",
              "      <td>0.000000</td>\n",
              "      <td>0.00000</td>\n",
              "      <td>0.000000</td>\n",
              "      <td>0.000000</td>\n",
              "      <td>0.000000</td>\n",
              "      <td>0.000000</td>\n",
              "      <td>0.000000</td>\n",
              "      <td>0.00000</td>\n",
              "      <td>0.000000</td>\n",
              "      <td>0.00000</td>\n",
              "      <td>0.000000</td>\n",
              "      <td>1.000000</td>\n",
              "      <td>0.000000</td>\n",
              "      <td>0.000000</td>\n",
              "    </tr>\n",
              "    <tr>\n",
              "      <th>50%</th>\n",
              "      <td>12.000000</td>\n",
              "      <td>12.000000</td>\n",
              "      <td>0.780000</td>\n",
              "      <td>9.965900</td>\n",
              "      <td>180.000000</td>\n",
              "      <td>10.046400</td>\n",
              "      <td>1016.450000</td>\n",
              "      <td>0.000000</td>\n",
              "      <td>0.000000</td>\n",
              "      <td>0.000000</td>\n",
              "      <td>0.000000</td>\n",
              "      <td>0.000000</td>\n",
              "      <td>0.000000</td>\n",
              "      <td>0.000000</td>\n",
              "      <td>0.000000</td>\n",
              "      <td>0.000000</td>\n",
              "      <td>0.000000</td>\n",
              "      <td>0.000000</td>\n",
              "      <td>0.000000</td>\n",
              "      <td>0.000000</td>\n",
              "      <td>0.000000</td>\n",
              "      <td>0.000000</td>\n",
              "      <td>0.000000</td>\n",
              "      <td>0.000000</td>\n",
              "      <td>0.00000</td>\n",
              "      <td>0.000000</td>\n",
              "      <td>0.000000</td>\n",
              "      <td>0.000000</td>\n",
              "      <td>0.000000</td>\n",
              "      <td>0.000000</td>\n",
              "      <td>0.00000</td>\n",
              "      <td>0.000000</td>\n",
              "      <td>0.00000</td>\n",
              "      <td>0.000000</td>\n",
              "      <td>1.000000</td>\n",
              "      <td>0.000000</td>\n",
              "      <td>0.000000</td>\n",
              "    </tr>\n",
              "    <tr>\n",
              "      <th>75%</th>\n",
              "      <td>18.838889</td>\n",
              "      <td>18.838889</td>\n",
              "      <td>0.890000</td>\n",
              "      <td>14.135800</td>\n",
              "      <td>290.000000</td>\n",
              "      <td>14.812000</td>\n",
              "      <td>1021.090000</td>\n",
              "      <td>1.000000</td>\n",
              "      <td>1.000000</td>\n",
              "      <td>0.000000</td>\n",
              "      <td>0.000000</td>\n",
              "      <td>0.000000</td>\n",
              "      <td>0.000000</td>\n",
              "      <td>0.000000</td>\n",
              "      <td>0.000000</td>\n",
              "      <td>0.000000</td>\n",
              "      <td>0.000000</td>\n",
              "      <td>0.000000</td>\n",
              "      <td>0.000000</td>\n",
              "      <td>0.000000</td>\n",
              "      <td>0.000000</td>\n",
              "      <td>0.000000</td>\n",
              "      <td>0.000000</td>\n",
              "      <td>0.000000</td>\n",
              "      <td>0.00000</td>\n",
              "      <td>0.000000</td>\n",
              "      <td>0.000000</td>\n",
              "      <td>0.000000</td>\n",
              "      <td>0.000000</td>\n",
              "      <td>0.000000</td>\n",
              "      <td>0.00000</td>\n",
              "      <td>0.000000</td>\n",
              "      <td>0.00000</td>\n",
              "      <td>0.000000</td>\n",
              "      <td>1.000000</td>\n",
              "      <td>0.000000</td>\n",
              "      <td>0.000000</td>\n",
              "    </tr>\n",
              "    <tr>\n",
              "      <th>max</th>\n",
              "      <td>39.905556</td>\n",
              "      <td>39.344444</td>\n",
              "      <td>1.000000</td>\n",
              "      <td>63.852600</td>\n",
              "      <td>359.000000</td>\n",
              "      <td>16.100000</td>\n",
              "      <td>1046.380000</td>\n",
              "      <td>1.000000</td>\n",
              "      <td>1.000000</td>\n",
              "      <td>1.000000</td>\n",
              "      <td>1.000000</td>\n",
              "      <td>1.000000</td>\n",
              "      <td>1.000000</td>\n",
              "      <td>1.000000</td>\n",
              "      <td>1.000000</td>\n",
              "      <td>1.000000</td>\n",
              "      <td>1.000000</td>\n",
              "      <td>1.000000</td>\n",
              "      <td>1.000000</td>\n",
              "      <td>1.000000</td>\n",
              "      <td>1.000000</td>\n",
              "      <td>1.000000</td>\n",
              "      <td>1.000000</td>\n",
              "      <td>1.000000</td>\n",
              "      <td>1.00000</td>\n",
              "      <td>1.000000</td>\n",
              "      <td>1.000000</td>\n",
              "      <td>1.000000</td>\n",
              "      <td>1.000000</td>\n",
              "      <td>1.000000</td>\n",
              "      <td>1.00000</td>\n",
              "      <td>1.000000</td>\n",
              "      <td>1.00000</td>\n",
              "      <td>1.000000</td>\n",
              "      <td>1.000000</td>\n",
              "      <td>1.000000</td>\n",
              "      <td>1.000000</td>\n",
              "    </tr>\n",
              "  </tbody>\n",
              "</table>\n",
              "</div>"
            ],
            "text/plain": [
              "       Temperature (C)  Apparent Temperature (C)  ...          snow              \n",
              "count     96453.000000              96453.000000  ...  96453.000000  96453.000000\n",
              "mean         11.932678                 10.855029  ...      0.111059      0.005360\n",
              "std           9.551546                 10.696847  ...      0.314207      0.073017\n",
              "min         -21.822222                -27.716667  ...      0.000000      0.000000\n",
              "25%           4.688889                  2.311111  ...      0.000000      0.000000\n",
              "50%          12.000000                 12.000000  ...      0.000000      0.000000\n",
              "75%          18.838889                 18.838889  ...      0.000000      0.000000\n",
              "max          39.905556                 39.344444  ...      1.000000      1.000000\n",
              "\n",
              "[8 rows x 37 columns]"
            ]
          },
          "metadata": {},
          "execution_count": 16
        }
      ]
    },
    {
      "cell_type": "code",
      "metadata": {
        "colab": {
          "base_uri": "https://localhost:8080/",
          "height": 332
        },
        "id": "vrtq6uF5X2gM",
        "outputId": "4daf0da8-001c-47cb-f70f-982f3cc542e0"
      },
      "source": [
        "sns.distplot(new_dt2['Apparent Temperature (C)'])\n",
        "plt.show()"
      ],
      "execution_count": 17,
      "outputs": [
        {
          "output_type": "stream",
          "name": "stderr",
          "text": [
            "/usr/local/lib/python3.7/dist-packages/seaborn/distributions.py:2619: FutureWarning: `distplot` is a deprecated function and will be removed in a future version. Please adapt your code to use either `displot` (a figure-level function with similar flexibility) or `histplot` (an axes-level function for histograms).\n",
            "  warnings.warn(msg, FutureWarning)\n"
          ]
        },
        {
          "output_type": "display_data",
          "data": {
            "image/png": "[encoded data removed]",
            "text/plain": [
              "<Figure size 432x288 with 1 Axes>"
            ]
          },
          "metadata": {
            "needs_background": "light"
          }
        }
      ]
    },
    {
      "cell_type": "code",
      "metadata": {
        "id": "Py6fBeyHnHpO"
      },
      "source": [
        "valid_cols=list(new_dt.columns)\n",
        "valid_cols.remove('Apparent Temperature (C)')\n"
      ],
      "execution_count": 18,
      "outputs": []
    },
    {
      "cell_type": "code",
      "metadata": {
        "id": "gb0H7SxpX2jY"
      },
      "source": [
        "X = new_dt2.drop('Apparent Temperature (C)',axis=1)\n",
        "y = new_dt2['Apparent Temperature (C)']\n",
        "from sklearn.model_selection import train_test_split\n",
        "X_train, X_test, y_train, y_test = train_test_split(X,y,test_size=0.3,random_state=2)"
      ],
      "execution_count": 19,
      "outputs": []
    },
    {
      "cell_type": "markdown",
      "metadata": {
        "id": "jXaNc49AjZTR"
      },
      "source": [
        "### Normalizing data"
      ]
    },
    {
      "cell_type": "code",
      "metadata": {
        "id": "Gkim3kttjYoY"
      },
      "source": [
        "x_mean=X_train[valid_cols].mean(axis=0)\n",
        "x_std=X_train[valid_cols].std(axis=0)\n"
      ],
      "execution_count": 28,
      "outputs": []
    },
    {
      "cell_type": "code",
      "metadata": {
        "id": "zmg6MoSrX2pY"
      },
      "source": [
        "X_train[valid_cols]= (X_train[valid_cols]-x_mean)/x_std\n",
        "X_test[valid_cols] = (X_test[valid_cols]-x_mean)/x_std"
      ],
      "execution_count": null,
      "outputs": []
    },
    {
      "cell_type": "code",
      "metadata": {
        "colab": {
          "base_uri": "https://localhost:8080/",
          "height": 271
        },
        "id": "vvFdDsATX2yu",
        "outputId": "eb12d961-bb9c-44cd-aee9-0ac3df3f7116"
      },
      "source": [
        "X_train.head()"
      ],
      "execution_count": 32,
      "outputs": [
        {
          "output_type": "execute_result",
          "data": {
            "text/html": [
              "<div>\n",
              "<style scoped>\n",
              "    .dataframe tbody tr th:only-of-type {\n",
              "        vertical-align: middle;\n",
              "    }\n",
              "\n",
              "    .dataframe tbody tr th {\n",
              "        vertical-align: top;\n",
              "    }\n",
              "\n",
              "    .dataframe thead th {\n",
              "        text-align: right;\n",
              "    }\n",
              "</style>\n",
              "<table border=\"1\" class=\"dataframe\">\n",
              "  <thead>\n",
              "    <tr style=\"text-align: right;\">\n",
              "      <th></th>\n",
              "      <th>Temperature (C)</th>\n",
              "      <th>Humidity</th>\n",
              "      <th>Wind Speed (km/h)</th>\n",
              "      <th>Wind Bearing (degrees)</th>\n",
              "      <th>Visibility (km)</th>\n",
              "      <th>Pressure (millibars)</th>\n",
              "      <th>Partly Cloudy</th>\n",
              "      <th>Mostly Cloudy</th>\n",
              "      <th>Overcast</th>\n",
              "      <th>Foggy</th>\n",
              "      <th>Breezy and Mostly Cloudy</th>\n",
              "      <th>Clear</th>\n",
              "      <th>Breezy and Partly Cloudy</th>\n",
              "      <th>Breezy and Overcast</th>\n",
              "      <th>Humid and Mostly Cloudy</th>\n",
              "      <th>Humid and Partly Cloudy</th>\n",
              "      <th>Windy and Foggy</th>\n",
              "      <th>Windy and Overcast</th>\n",
              "      <th>Breezy and Foggy</th>\n",
              "      <th>Windy and Partly Cloudy</th>\n",
              "      <th>Breezy</th>\n",
              "      <th>Dry and Partly Cloudy</th>\n",
              "      <th>Windy and Mostly Cloudy</th>\n",
              "      <th>Dangerously Windy and Partly Cloudy</th>\n",
              "      <th>Dry</th>\n",
              "      <th>Windy</th>\n",
              "      <th>Humid and Overcast</th>\n",
              "      <th>Light Rain</th>\n",
              "      <th>Drizzle</th>\n",
              "      <th>Windy and Dry</th>\n",
              "      <th>Dry and Mostly Cloudy</th>\n",
              "      <th>Breezy and Dry</th>\n",
              "      <th>Rain</th>\n",
              "      <th>rain</th>\n",
              "      <th>snow</th>\n",
              "      <th></th>\n",
              "    </tr>\n",
              "  </thead>\n",
              "  <tbody>\n",
              "    <tr>\n",
              "      <th>24935</th>\n",
              "      <td>-0.208859</td>\n",
              "      <td>0.999247</td>\n",
              "      <td>-0.674932</td>\n",
              "      <td>0.219965</td>\n",
              "      <td>-1.540815</td>\n",
              "      <td>0.253707</td>\n",
              "      <td>0.0</td>\n",
              "      <td>0.0</td>\n",
              "      <td>0.0</td>\n",
              "      <td>0.0</td>\n",
              "      <td>0.0</td>\n",
              "      <td>1.0</td>\n",
              "      <td>0.0</td>\n",
              "      <td>0.0</td>\n",
              "      <td>0.0</td>\n",
              "      <td>0.0</td>\n",
              "      <td>0.0</td>\n",
              "      <td>0.0</td>\n",
              "      <td>0.0</td>\n",
              "      <td>0.0</td>\n",
              "      <td>0.0</td>\n",
              "      <td>0.0</td>\n",
              "      <td>0.0</td>\n",
              "      <td>0.0</td>\n",
              "      <td>0.0</td>\n",
              "      <td>0.0</td>\n",
              "      <td>0.0</td>\n",
              "      <td>0.0</td>\n",
              "      <td>0.0</td>\n",
              "      <td>0.0</td>\n",
              "      <td>0.0</td>\n",
              "      <td>0.0</td>\n",
              "      <td>0.0</td>\n",
              "      <td>1.0</td>\n",
              "      <td>0.0</td>\n",
              "      <td>0.0</td>\n",
              "    </tr>\n",
              "    <tr>\n",
              "      <th>68393</th>\n",
              "      <td>-1.133293</td>\n",
              "      <td>0.948036</td>\n",
              "      <td>0.555202</td>\n",
              "      <td>1.404208</td>\n",
              "      <td>-0.085554</td>\n",
              "      <td>0.095409</td>\n",
              "      <td>0.0</td>\n",
              "      <td>0.0</td>\n",
              "      <td>1.0</td>\n",
              "      <td>0.0</td>\n",
              "      <td>0.0</td>\n",
              "      <td>0.0</td>\n",
              "      <td>0.0</td>\n",
              "      <td>0.0</td>\n",
              "      <td>0.0</td>\n",
              "      <td>0.0</td>\n",
              "      <td>0.0</td>\n",
              "      <td>0.0</td>\n",
              "      <td>0.0</td>\n",
              "      <td>0.0</td>\n",
              "      <td>0.0</td>\n",
              "      <td>0.0</td>\n",
              "      <td>0.0</td>\n",
              "      <td>0.0</td>\n",
              "      <td>0.0</td>\n",
              "      <td>0.0</td>\n",
              "      <td>0.0</td>\n",
              "      <td>0.0</td>\n",
              "      <td>0.0</td>\n",
              "      <td>0.0</td>\n",
              "      <td>0.0</td>\n",
              "      <td>0.0</td>\n",
              "      <td>0.0</td>\n",
              "      <td>1.0</td>\n",
              "      <td>0.0</td>\n",
              "      <td>0.0</td>\n",
              "    </tr>\n",
              "    <tr>\n",
              "      <th>573</th>\n",
              "      <td>0.046277</td>\n",
              "      <td>-0.844367</td>\n",
              "      <td>-0.199653</td>\n",
              "      <td>-0.264922</td>\n",
              "      <td>-0.085554</td>\n",
              "      <td>0.094815</td>\n",
              "      <td>0.0</td>\n",
              "      <td>1.0</td>\n",
              "      <td>0.0</td>\n",
              "      <td>0.0</td>\n",
              "      <td>0.0</td>\n",
              "      <td>0.0</td>\n",
              "      <td>0.0</td>\n",
              "      <td>0.0</td>\n",
              "      <td>0.0</td>\n",
              "      <td>0.0</td>\n",
              "      <td>0.0</td>\n",
              "      <td>0.0</td>\n",
              "      <td>0.0</td>\n",
              "      <td>0.0</td>\n",
              "      <td>0.0</td>\n",
              "      <td>0.0</td>\n",
              "      <td>0.0</td>\n",
              "      <td>0.0</td>\n",
              "      <td>0.0</td>\n",
              "      <td>0.0</td>\n",
              "      <td>0.0</td>\n",
              "      <td>0.0</td>\n",
              "      <td>0.0</td>\n",
              "      <td>0.0</td>\n",
              "      <td>0.0</td>\n",
              "      <td>0.0</td>\n",
              "      <td>0.0</td>\n",
              "      <td>1.0</td>\n",
              "      <td>0.0</td>\n",
              "      <td>0.0</td>\n",
              "    </tr>\n",
              "    <tr>\n",
              "      <th>95569</th>\n",
              "      <td>-1.050577</td>\n",
              "      <td>0.743190</td>\n",
              "      <td>-0.875295</td>\n",
              "      <td>0.546331</td>\n",
              "      <td>-2.466191</td>\n",
              "      <td>0.186568</td>\n",
              "      <td>0.0</td>\n",
              "      <td>0.0</td>\n",
              "      <td>0.0</td>\n",
              "      <td>0.0</td>\n",
              "      <td>0.0</td>\n",
              "      <td>1.0</td>\n",
              "      <td>0.0</td>\n",
              "      <td>0.0</td>\n",
              "      <td>0.0</td>\n",
              "      <td>0.0</td>\n",
              "      <td>0.0</td>\n",
              "      <td>0.0</td>\n",
              "      <td>0.0</td>\n",
              "      <td>0.0</td>\n",
              "      <td>0.0</td>\n",
              "      <td>0.0</td>\n",
              "      <td>0.0</td>\n",
              "      <td>0.0</td>\n",
              "      <td>0.0</td>\n",
              "      <td>0.0</td>\n",
              "      <td>0.0</td>\n",
              "      <td>0.0</td>\n",
              "      <td>0.0</td>\n",
              "      <td>0.0</td>\n",
              "      <td>0.0</td>\n",
              "      <td>0.0</td>\n",
              "      <td>0.0</td>\n",
              "      <td>0.0</td>\n",
              "      <td>0.0</td>\n",
              "      <td>1.0</td>\n",
              "    </tr>\n",
              "    <tr>\n",
              "      <th>79830</th>\n",
              "      <td>1.070318</td>\n",
              "      <td>0.435921</td>\n",
              "      <td>-0.474569</td>\n",
              "      <td>-0.199648</td>\n",
              "      <td>-0.150829</td>\n",
              "      <td>0.023432</td>\n",
              "      <td>0.0</td>\n",
              "      <td>1.0</td>\n",
              "      <td>0.0</td>\n",
              "      <td>0.0</td>\n",
              "      <td>0.0</td>\n",
              "      <td>0.0</td>\n",
              "      <td>0.0</td>\n",
              "      <td>0.0</td>\n",
              "      <td>0.0</td>\n",
              "      <td>0.0</td>\n",
              "      <td>0.0</td>\n",
              "      <td>0.0</td>\n",
              "      <td>0.0</td>\n",
              "      <td>0.0</td>\n",
              "      <td>0.0</td>\n",
              "      <td>0.0</td>\n",
              "      <td>0.0</td>\n",
              "      <td>0.0</td>\n",
              "      <td>0.0</td>\n",
              "      <td>0.0</td>\n",
              "      <td>0.0</td>\n",
              "      <td>0.0</td>\n",
              "      <td>0.0</td>\n",
              "      <td>0.0</td>\n",
              "      <td>0.0</td>\n",
              "      <td>0.0</td>\n",
              "      <td>0.0</td>\n",
              "      <td>1.0</td>\n",
              "      <td>0.0</td>\n",
              "      <td>0.0</td>\n",
              "    </tr>\n",
              "  </tbody>\n",
              "</table>\n",
              "</div>"
            ],
            "text/plain": [
              "       Temperature (C)  Humidity  Wind Speed (km/h)  ...  rain  snow     \n",
              "24935        -0.208859  0.999247          -0.674932  ...   1.0   0.0  0.0\n",
              "68393        -1.133293  0.948036           0.555202  ...   1.0   0.0  0.0\n",
              "573           0.046277 -0.844367          -0.199653  ...   1.0   0.0  0.0\n",
              "95569        -1.050577  0.743190          -0.875295  ...   0.0   0.0  1.0\n",
              "79830         1.070318  0.435921          -0.474569  ...   1.0   0.0  0.0\n",
              "\n",
              "[5 rows x 36 columns]"
            ]
          },
          "metadata": {},
          "execution_count": 32
        }
      ]
    },
    {
      "cell_type": "code",
      "metadata": {
        "colab": {
          "base_uri": "https://localhost:8080/"
        },
        "id": "VlmfKOZ3sIp7",
        "outputId": "cc97e2a7-f736-41f5-892c-937a54a57b81"
      },
      "source": [
        "X_train.shape"
      ],
      "execution_count": 33,
      "outputs": [
        {
          "output_type": "execute_result",
          "data": {
            "text/plain": [
              "(67517, 36)"
            ]
          },
          "metadata": {},
          "execution_count": 33
        }
      ]
    },
    {
      "cell_type": "code",
      "metadata": {
        "id": "ebIXehDXr4_5"
      },
      "source": [
        "from tensorflow.keras.models import Sequential\n",
        "from tensorflow.keras.layers import Dense\n",
        "from tensorflow.keras.layers import Dropout\n",
        "model = Sequential()\n",
        "model.add(Dense(36,activation='relu',input_dim=36))\n",
        "model.add(Dropout(0.1))\n",
        "model.add(Dense(16,activation='relu'))\n",
        "model.add(Dense(8,activation='relu'))\n",
        "model.add(Dense(1))\n",
        "model.compile(optimizer='adam', loss='mse')"
      ],
      "execution_count": 42,
      "outputs": []
    },
    {
      "cell_type": "code",
      "metadata": {
        "id": "7H9cwAFJQ8oJ",
        "colab": {
          "base_uri": "https://localhost:8080/"
        },
        "outputId": "e8b40678-5dd0-466a-df7b-3ab981ac3df8"
      },
      "source": [
        "from tensorflow.keras.callbacks import EarlyStopping\n",
        "\n",
        "model.fit(x=X_train,y=y_train.values,\n",
        "          validation_data=(X_test,y_test.values),\n",
        "          batch_size=300,epochs=50)"
      ],
      "execution_count": 43,
      "outputs": [
        {
          "output_type": "stream",
          "name": "stdout",
          "text": [
            "Epoch 1/50\n",
            "226/226 [==============================] - 2s 5ms/step - loss: 94.3691 - val_loss: 3.8584\n",
            "Epoch 2/50\n",
            "226/226 [==============================] - 1s 4ms/step - loss: 4.0737 - val_loss: 1.5250\n",
            "Epoch 3/50\n",
            "226/226 [==============================] - 1s 4ms/step - loss: 3.0995 - val_loss: 1.1401\n",
            "Epoch 4/50\n",
            "226/226 [==============================] - 1s 4ms/step - loss: 2.4986 - val_loss: 0.8211\n",
            "Epoch 5/50\n",
            "226/226 [==============================] - 1s 4ms/step - loss: 2.0787 - val_loss: 0.5925\n",
            "Epoch 6/50\n",
            "226/226 [==============================] - 1s 5ms/step - loss: 1.8162 - val_loss: 0.4766\n",
            "Epoch 7/50\n",
            "226/226 [==============================] - 1s 5ms/step - loss: 1.6196 - val_loss: 0.4397\n",
            "Epoch 8/50\n",
            "226/226 [==============================] - 1s 4ms/step - loss: 1.4720 - val_loss: 0.3754\n",
            "Epoch 9/50\n",
            "226/226 [==============================] - 1s 4ms/step - loss: 1.3301 - val_loss: 0.3699\n",
            "Epoch 10/50\n",
            "226/226 [==============================] - 1s 4ms/step - loss: 1.1810 - val_loss: 0.4992\n",
            "Epoch 11/50\n",
            "226/226 [==============================] - 1s 4ms/step - loss: 1.0937 - val_loss: 0.3131\n",
            "Epoch 12/50\n",
            "226/226 [==============================] - 1s 5ms/step - loss: 1.0283 - val_loss: 0.4484\n",
            "Epoch 13/50\n",
            "226/226 [==============================] - 1s 4ms/step - loss: 0.9764 - val_loss: 0.5560\n",
            "Epoch 14/50\n",
            "226/226 [==============================] - 1s 4ms/step - loss: 0.9049 - val_loss: 0.7738\n",
            "Epoch 15/50\n",
            "226/226 [==============================] - 1s 4ms/step - loss: 0.8562 - val_loss: 0.6585\n",
            "Epoch 16/50\n",
            "226/226 [==============================] - 1s 4ms/step - loss: 0.8134 - val_loss: 0.5608\n",
            "Epoch 17/50\n",
            "226/226 [==============================] - 1s 4ms/step - loss: 0.7730 - val_loss: 0.6491\n",
            "Epoch 18/50\n",
            "226/226 [==============================] - 1s 4ms/step - loss: 0.7236 - val_loss: 0.6975\n",
            "Epoch 19/50\n",
            "226/226 [==============================] - 1s 4ms/step - loss: 0.6784 - val_loss: 0.9180\n",
            "Epoch 20/50\n",
            "226/226 [==============================] - 1s 4ms/step - loss: 0.6381 - val_loss: 1.0857\n",
            "Epoch 21/50\n",
            "226/226 [==============================] - 1s 4ms/step - loss: 0.6129 - val_loss: 0.7956\n",
            "Epoch 22/50\n",
            "226/226 [==============================] - 1s 4ms/step - loss: 0.5855 - val_loss: 0.8938\n",
            "Epoch 23/50\n",
            "226/226 [==============================] - 1s 4ms/step - loss: 0.5390 - val_loss: 1.0793\n",
            "Epoch 24/50\n",
            "226/226 [==============================] - 1s 4ms/step - loss: 0.5116 - val_loss: 0.8331\n",
            "Epoch 25/50\n",
            "226/226 [==============================] - 1s 4ms/step - loss: 0.4851 - val_loss: 1.0366\n",
            "Epoch 26/50\n",
            "226/226 [==============================] - 1s 4ms/step - loss: 0.4496 - val_loss: 1.6121\n",
            "Epoch 27/50\n",
            "226/226 [==============================] - 1s 4ms/step - loss: 0.4275 - val_loss: 1.0243\n",
            "Epoch 28/50\n",
            "226/226 [==============================] - 1s 4ms/step - loss: 0.4060 - val_loss: 0.9808\n",
            "Epoch 29/50\n",
            "226/226 [==============================] - 1s 4ms/step - loss: 0.3732 - val_loss: 1.0251\n",
            "Epoch 30/50\n",
            "226/226 [==============================] - 1s 4ms/step - loss: 0.3526 - val_loss: 0.9384\n",
            "Epoch 31/50\n",
            "226/226 [==============================] - 1s 4ms/step - loss: 0.3454 - val_loss: 0.9522\n",
            "Epoch 32/50\n",
            "226/226 [==============================] - 1s 4ms/step - loss: 0.3290 - val_loss: 1.5571\n",
            "Epoch 33/50\n",
            "226/226 [==============================] - 1s 4ms/step - loss: 0.3244 - val_loss: 1.4293\n",
            "Epoch 34/50\n",
            "226/226 [==============================] - 1s 4ms/step - loss: 0.3000 - val_loss: 0.9530\n",
            "Epoch 35/50\n",
            "226/226 [==============================] - 1s 4ms/step - loss: 0.2886 - val_loss: 1.1332\n",
            "Epoch 36/50\n",
            "226/226 [==============================] - 1s 4ms/step - loss: 0.2883 - val_loss: 0.9797\n",
            "Epoch 37/50\n",
            "226/226 [==============================] - 1s 4ms/step - loss: 0.2727 - val_loss: 0.9362\n",
            "Epoch 38/50\n",
            "226/226 [==============================] - 1s 4ms/step - loss: 0.2773 - val_loss: 1.5647\n",
            "Epoch 39/50\n",
            "226/226 [==============================] - 1s 4ms/step - loss: 0.2685 - val_loss: 1.3363\n",
            "Epoch 40/50\n",
            "226/226 [==============================] - 1s 4ms/step - loss: 0.2664 - val_loss: 1.2361\n",
            "Epoch 41/50\n",
            "226/226 [==============================] - 1s 4ms/step - loss: 0.2622 - val_loss: 1.2553\n",
            "Epoch 42/50\n",
            "226/226 [==============================] - 1s 3ms/step - loss: 0.2592 - val_loss: 0.9987\n",
            "Epoch 43/50\n",
            "226/226 [==============================] - 1s 4ms/step - loss: 0.2516 - val_loss: 1.3893\n",
            "Epoch 44/50\n",
            "226/226 [==============================] - 1s 4ms/step - loss: 0.2524 - val_loss: 1.0011\n",
            "Epoch 45/50\n",
            "226/226 [==============================] - 1s 4ms/step - loss: 0.2439 - val_loss: 1.3533\n",
            "Epoch 46/50\n",
            "226/226 [==============================] - 1s 3ms/step - loss: 0.2394 - val_loss: 0.7925\n",
            "Epoch 47/50\n",
            "226/226 [==============================] - 1s 4ms/step - loss: 0.2384 - val_loss: 0.9327\n",
            "Epoch 48/50\n",
            "226/226 [==============================] - 1s 3ms/step - loss: 0.2333 - val_loss: 1.0270\n",
            "Epoch 49/50\n",
            "226/226 [==============================] - 1s 4ms/step - loss: 0.2279 - val_loss: 0.9216\n",
            "Epoch 50/50\n",
            "226/226 [==============================] - 1s 4ms/step - loss: 0.2294 - val_loss: 1.0039\n"
          ]
        },
        {
          "output_type": "execute_result",
          "data": {
            "text/plain": [
              "<keras.callbacks.History at 0x7f2c7f6f7ad0>"
            ]
          },
          "metadata": {},
          "execution_count": 43
        }
      ]
    },
    {
      "cell_type": "code",
      "metadata": {
        "id": "OsogtH4PQ8rJ",
        "colab": {
          "base_uri": "https://localhost:8080/",
          "height": 281
        },
        "outputId": "6fe56624-312d-4673-e5dc-56e22e006233"
      },
      "source": [
        "losses = pd.DataFrame(model.history.history)\n",
        "losses.plot()"
      ],
      "execution_count": 44,
      "outputs": [
        {
          "output_type": "execute_result",
          "data": {
            "text/plain": [
              "<matplotlib.axes._subplots.AxesSubplot at 0x7f2c7f669e10>"
            ]
          },
          "metadata": {},
          "execution_count": 44
        },
        {
          "output_type": "display_data",
          "data": {
            "image/png": "[encoded data removed]",
            "text/plain": [
              "<Figure size 432x288 with 1 Axes>"
            ]
          },
          "metadata": {
            "needs_background": "light"
          }
        }
      ]
    },
    {
      "cell_type": "markdown",
      "metadata": {
        "id": "BduXPytcvWuV"
      },
      "source": [
        "###New function defined for Mean Squared error"
      ]
    },
    {
      "cell_type": "code",
      "metadata": {
        "id": "kz04oqtJucGK"
      },
      "source": [
        "def func_mean_sq_error(predicted_y,labels):\n",
        "  m=predicted_y.shape[0]\n",
        "  predicted_y=np.array(predicted_y).reshape(m,1)\n",
        "  labels=np.array(labels).reshape(m,1)\n",
        "  Loss= np.round(np.dot((predicted_y- labels).transpose(),predicted_y-labels),6)\n",
        "  Mean_sq_error = Loss[0][0]/(m)\n",
        "  return Mean_sq_error"
      ],
      "execution_count": 52,
      "outputs": []
    },
    {
      "cell_type": "code",
      "metadata": {
        "colab": {
          "base_uri": "https://localhost:8080/"
        },
        "id": "8tJ8MvxFr5tP",
        "outputId": "06de7d7f-349e-4f77-c08b-76992a278918"
      },
      "source": [
        "predictions = model.predict(X_test)\n",
        "print(\"Mean squared error :\",  func_mean_sq_error(y_test,predictions))\n"
      ],
      "execution_count": 53,
      "outputs": [
        {
          "output_type": "stream",
          "name": "stdout",
          "text": [
            "Mean squared error : 1.0039461447332043\n"
          ]
        }
      ]
    },
    {
      "cell_type": "markdown",
      "metadata": {
        "id": "vIc6bDB7X6Et"
      },
      "source": [
        "## Task 02"
      ]
    },
    {
      "cell_type": "markdown",
      "metadata": {
        "id": "SjsitUmda5iR"
      },
      "source": [
        "###2.1 SubTask"
      ]
    },
    {
      "cell_type": "code",
      "metadata": {
        "id": "kC-NCeHIfy6g",
        "colab": {
          "base_uri": "https://localhost:8080/"
        },
        "outputId": "d332c03b-f4b0-494f-c0a4-dbd4ec24eb69"
      },
      "source": [
        "import tensorflow as tf\n",
        "cifar_dt=tf.keras.datasets.cifar10\n",
        "(X_train,Y_train),(X_test,Y_test)=cifar_dt.load_data()\n"
      ],
      "execution_count": 54,
      "outputs": [
        {
          "output_type": "stream",
          "name": "stdout",
          "text": [
            "Downloading data from https://www.cs.toronto.edu/~kriz/cifar-10-python.tar.gz\n",
            "170500096/170498071 [==============================] - 11s 0us/step\n",
            "170508288/170498071 [==============================] - 11s 0us/step\n"
          ]
        }
      ]
    },
    {
      "cell_type": "markdown",
      "metadata": {
        "id": "EsOd2gJ2OyLs"
      },
      "source": [
        "**Preparing a preprocessed normalized data**"
      ]
    },
    {
      "cell_type": "code",
      "metadata": {
        "id": "ujQRuLUIOGot"
      },
      "source": [
        "def preprocess(sample):\n",
        "    image = np.array(sample)\n",
        "    image = image/255.\n",
        "    return image"
      ],
      "execution_count": 55,
      "outputs": []
    },
    {
      "cell_type": "code",
      "metadata": {
        "id": "bXLkC5R2fzAn"
      },
      "source": [
        "X_train = np.asarray(X_train)\n",
        "X_train = np.asarray([preprocess(i) for i in X_train])\n",
        "Y_train = np.asarray(Y_train)"
      ],
      "execution_count": 56,
      "outputs": []
    },
    {
      "cell_type": "code",
      "metadata": {
        "id": "i5W0CO2CfzDv"
      },
      "source": [
        "X_test = np.asarray(X_test)\n",
        "X_test = np.asarray([preprocess(i) for i in X_test])\n",
        "Y_test = np.asarray(Y_test)"
      ],
      "execution_count": 57,
      "outputs": []
    },
    {
      "cell_type": "code",
      "metadata": {
        "id": "0UWSyK46fzG4",
        "colab": {
          "base_uri": "https://localhost:8080/"
        },
        "outputId": "6d06a556-afbb-4f3b-ee7e-2bf339f97e13"
      },
      "source": [
        "print(\"Train shapes: \", X_train.shape, Y_train.shape)\n",
        "print(\"Test shapes: \", X_test.shape, Y_test.shape)"
      ],
      "execution_count": 58,
      "outputs": [
        {
          "output_type": "stream",
          "name": "stdout",
          "text": [
            "Train shapes:  (50000, 32, 32, 3) (50000, 1)\n",
            "Test shapes:  (10000, 32, 32, 3) (10000, 1)\n"
          ]
        }
      ]
    },
    {
      "cell_type": "code",
      "metadata": {
        "id": "QaA1KGyxfzKF"
      },
      "source": [
        "cifar_model=tf.keras.Sequential([\n",
        "    tf.keras.layers.Flatten(input_shape=(32,32,3)),\n",
        "    tf.keras.layers.Dense(128,activation='relu'),\n",
        "    tf.keras.layers.Dense(64,activation='relu'),\n",
        "    tf.keras.layers.Dense(128,activation='relu'),\n",
        "    tf.keras.layers.Dropout(0.3),\n",
        "    tf.keras.layers.Dense(10,activation='softmax')\n",
        "])\n"
      ],
      "execution_count": 66,
      "outputs": []
    },
    {
      "cell_type": "code",
      "metadata": {
        "id": "caQmKLFkfzNV"
      },
      "source": [
        "cifar_model.compile(optimizer='adam',loss='sparse_categorical_crossentropy',metrics=['sparse_categorical_accuracy'])"
      ],
      "execution_count": 67,
      "outputs": []
    },
    {
      "cell_type": "code",
      "metadata": {
        "id": "Qx6scNG_fzQk",
        "colab": {
          "base_uri": "https://localhost:8080/"
        },
        "outputId": "165f948c-64b2-4ded-af74-bbab7d3e66d2"
      },
      "source": [
        "h3=cifar_model.fit(X_train,Y_train,validation_split=0.2,epochs=50)"
      ],
      "execution_count": 68,
      "outputs": [
        {
          "output_type": "stream",
          "name": "stdout",
          "text": [
            "Epoch 1/50\n",
            "1250/1250 [==============================] - 5s 4ms/step - loss: 1.9375 - sparse_categorical_accuracy: 0.2903 - val_loss: 1.7820 - val_sparse_categorical_accuracy: 0.3535\n",
            "Epoch 2/50\n",
            "1250/1250 [==============================] - 5s 4ms/step - loss: 1.7590 - sparse_categorical_accuracy: 0.3669 - val_loss: 1.7286 - val_sparse_categorical_accuracy: 0.3745\n",
            "Epoch 3/50\n",
            "1250/1250 [==============================] - 5s 4ms/step - loss: 1.6947 - sparse_categorical_accuracy: 0.3901 - val_loss: 1.6658 - val_sparse_categorical_accuracy: 0.4043\n",
            "Epoch 4/50\n",
            "1250/1250 [==============================] - 4s 4ms/step - loss: 1.6482 - sparse_categorical_accuracy: 0.4057 - val_loss: 1.6814 - val_sparse_categorical_accuracy: 0.3923\n",
            "Epoch 5/50\n",
            "1250/1250 [==============================] - 4s 4ms/step - loss: 1.6241 - sparse_categorical_accuracy: 0.4156 - val_loss: 1.6943 - val_sparse_categorical_accuracy: 0.3966\n",
            "Epoch 6/50\n",
            "1250/1250 [==============================] - 4s 4ms/step - loss: 1.5994 - sparse_categorical_accuracy: 0.4234 - val_loss: 1.5925 - val_sparse_categorical_accuracy: 0.4254\n",
            "Epoch 7/50\n",
            "1250/1250 [==============================] - 5s 4ms/step - loss: 1.5793 - sparse_categorical_accuracy: 0.4347 - val_loss: 1.5814 - val_sparse_categorical_accuracy: 0.4343\n",
            "Epoch 8/50\n",
            "1250/1250 [==============================] - 5s 4ms/step - loss: 1.5648 - sparse_categorical_accuracy: 0.4371 - val_loss: 1.6234 - val_sparse_categorical_accuracy: 0.4255\n",
            "Epoch 9/50\n",
            "1250/1250 [==============================] - 5s 4ms/step - loss: 1.5556 - sparse_categorical_accuracy: 0.4428 - val_loss: 1.5736 - val_sparse_categorical_accuracy: 0.4345\n",
            "Epoch 10/50\n",
            "1250/1250 [==============================] - 5s 4ms/step - loss: 1.5416 - sparse_categorical_accuracy: 0.4472 - val_loss: 1.5713 - val_sparse_categorical_accuracy: 0.4338\n",
            "Epoch 11/50\n",
            "1250/1250 [==============================] - 5s 4ms/step - loss: 1.5321 - sparse_categorical_accuracy: 0.4498 - val_loss: 1.5952 - val_sparse_categorical_accuracy: 0.4338\n",
            "Epoch 12/50\n",
            "1250/1250 [==============================] - 5s 4ms/step - loss: 1.5221 - sparse_categorical_accuracy: 0.4496 - val_loss: 1.5623 - val_sparse_categorical_accuracy: 0.4406\n",
            "Epoch 13/50\n",
            "1250/1250 [==============================] - 4s 3ms/step - loss: 1.5176 - sparse_categorical_accuracy: 0.4541 - val_loss: 1.5949 - val_sparse_categorical_accuracy: 0.4313\n",
            "Epoch 14/50\n",
            "1250/1250 [==============================] - 5s 4ms/step - loss: 1.5117 - sparse_categorical_accuracy: 0.4576 - val_loss: 1.5692 - val_sparse_categorical_accuracy: 0.4385\n",
            "Epoch 15/50\n",
            "1250/1250 [==============================] - 5s 4ms/step - loss: 1.5036 - sparse_categorical_accuracy: 0.4600 - val_loss: 1.5439 - val_sparse_categorical_accuracy: 0.4497\n",
            "Epoch 16/50\n",
            "1250/1250 [==============================] - 4s 4ms/step - loss: 1.5016 - sparse_categorical_accuracy: 0.4584 - val_loss: 1.5527 - val_sparse_categorical_accuracy: 0.4444\n",
            "Epoch 17/50\n",
            "1250/1250 [==============================] - 5s 4ms/step - loss: 1.4875 - sparse_categorical_accuracy: 0.4623 - val_loss: 1.5826 - val_sparse_categorical_accuracy: 0.4421\n",
            "Epoch 18/50\n",
            "1250/1250 [==============================] - 5s 4ms/step - loss: 1.4870 - sparse_categorical_accuracy: 0.4656 - val_loss: 1.5543 - val_sparse_categorical_accuracy: 0.4508\n",
            "Epoch 19/50\n",
            "1250/1250 [==============================] - 5s 4ms/step - loss: 1.4825 - sparse_categorical_accuracy: 0.4656 - val_loss: 1.5325 - val_sparse_categorical_accuracy: 0.4586\n",
            "Epoch 20/50\n",
            "1250/1250 [==============================] - 5s 4ms/step - loss: 1.4740 - sparse_categorical_accuracy: 0.4720 - val_loss: 1.5537 - val_sparse_categorical_accuracy: 0.4481\n",
            "Epoch 21/50\n",
            "1250/1250 [==============================] - 4s 4ms/step - loss: 1.4751 - sparse_categorical_accuracy: 0.4678 - val_loss: 1.6582 - val_sparse_categorical_accuracy: 0.4198\n",
            "Epoch 22/50\n",
            "1250/1250 [==============================] - 4s 4ms/step - loss: 1.4668 - sparse_categorical_accuracy: 0.4717 - val_loss: 1.5469 - val_sparse_categorical_accuracy: 0.4529\n",
            "Epoch 23/50\n",
            "1250/1250 [==============================] - 5s 4ms/step - loss: 1.4638 - sparse_categorical_accuracy: 0.4714 - val_loss: 1.5712 - val_sparse_categorical_accuracy: 0.4454\n",
            "Epoch 24/50\n",
            "1250/1250 [==============================] - 5s 4ms/step - loss: 1.4544 - sparse_categorical_accuracy: 0.4760 - val_loss: 1.5249 - val_sparse_categorical_accuracy: 0.4557\n",
            "Epoch 25/50\n",
            "1250/1250 [==============================] - 5s 4ms/step - loss: 1.4538 - sparse_categorical_accuracy: 0.4788 - val_loss: 1.6324 - val_sparse_categorical_accuracy: 0.4224\n",
            "Epoch 26/50\n",
            "1250/1250 [==============================] - 5s 4ms/step - loss: 1.4550 - sparse_categorical_accuracy: 0.4751 - val_loss: 1.5247 - val_sparse_categorical_accuracy: 0.4648\n",
            "Epoch 27/50\n",
            "1250/1250 [==============================] - 4s 4ms/step - loss: 1.4475 - sparse_categorical_accuracy: 0.4787 - val_loss: 1.5446 - val_sparse_categorical_accuracy: 0.4565\n",
            "Epoch 28/50\n",
            "1250/1250 [==============================] - 5s 4ms/step - loss: 1.4474 - sparse_categorical_accuracy: 0.4764 - val_loss: 1.5544 - val_sparse_categorical_accuracy: 0.4539\n",
            "Epoch 29/50\n",
            "1250/1250 [==============================] - 5s 4ms/step - loss: 1.4456 - sparse_categorical_accuracy: 0.4785 - val_loss: 1.5330 - val_sparse_categorical_accuracy: 0.4570\n",
            "Epoch 30/50\n",
            "1250/1250 [==============================] - 5s 4ms/step - loss: 1.4393 - sparse_categorical_accuracy: 0.4801 - val_loss: 1.5153 - val_sparse_categorical_accuracy: 0.4676\n",
            "Epoch 31/50\n",
            "1250/1250 [==============================] - 4s 4ms/step - loss: 1.4333 - sparse_categorical_accuracy: 0.4841 - val_loss: 1.5448 - val_sparse_categorical_accuracy: 0.4600\n",
            "Epoch 32/50\n",
            "1250/1250 [==============================] - 5s 4ms/step - loss: 1.4287 - sparse_categorical_accuracy: 0.4851 - val_loss: 1.5156 - val_sparse_categorical_accuracy: 0.4655\n",
            "Epoch 33/50\n",
            "1250/1250 [==============================] - 5s 4ms/step - loss: 1.4286 - sparse_categorical_accuracy: 0.4809 - val_loss: 1.5291 - val_sparse_categorical_accuracy: 0.4634\n",
            "Epoch 34/50\n",
            "1250/1250 [==============================] - 5s 4ms/step - loss: 1.4260 - sparse_categorical_accuracy: 0.4839 - val_loss: 1.5477 - val_sparse_categorical_accuracy: 0.4506\n",
            "Epoch 35/50\n",
            "1250/1250 [==============================] - 5s 4ms/step - loss: 1.4223 - sparse_categorical_accuracy: 0.4857 - val_loss: 1.5606 - val_sparse_categorical_accuracy: 0.4547\n",
            "Epoch 36/50\n",
            "1250/1250 [==============================] - 5s 4ms/step - loss: 1.4191 - sparse_categorical_accuracy: 0.4888 - val_loss: 1.5770 - val_sparse_categorical_accuracy: 0.4470\n",
            "Epoch 37/50\n",
            "1250/1250 [==============================] - 5s 4ms/step - loss: 1.4228 - sparse_categorical_accuracy: 0.4858 - val_loss: 1.5195 - val_sparse_categorical_accuracy: 0.4643\n",
            "Epoch 38/50\n",
            "1250/1250 [==============================] - 5s 4ms/step - loss: 1.4144 - sparse_categorical_accuracy: 0.4902 - val_loss: 1.5395 - val_sparse_categorical_accuracy: 0.4568\n",
            "Epoch 39/50\n",
            "1250/1250 [==============================] - 5s 4ms/step - loss: 1.4112 - sparse_categorical_accuracy: 0.4909 - val_loss: 1.5156 - val_sparse_categorical_accuracy: 0.4714\n",
            "Epoch 40/50\n",
            "1250/1250 [==============================] - 5s 4ms/step - loss: 1.4142 - sparse_categorical_accuracy: 0.4927 - val_loss: 1.5481 - val_sparse_categorical_accuracy: 0.4615\n",
            "Epoch 41/50\n",
            "1250/1250 [==============================] - 5s 4ms/step - loss: 1.4074 - sparse_categorical_accuracy: 0.4877 - val_loss: 1.5137 - val_sparse_categorical_accuracy: 0.4706\n",
            "Epoch 42/50\n",
            "1250/1250 [==============================] - 5s 4ms/step - loss: 1.4093 - sparse_categorical_accuracy: 0.4913 - val_loss: 1.5178 - val_sparse_categorical_accuracy: 0.4668\n",
            "Epoch 43/50\n",
            "1250/1250 [==============================] - 5s 4ms/step - loss: 1.4036 - sparse_categorical_accuracy: 0.4960 - val_loss: 1.5628 - val_sparse_categorical_accuracy: 0.4523\n",
            "Epoch 44/50\n",
            "1250/1250 [==============================] - 4s 4ms/step - loss: 1.4089 - sparse_categorical_accuracy: 0.4908 - val_loss: 1.5350 - val_sparse_categorical_accuracy: 0.4555\n",
            "Epoch 45/50\n",
            "1250/1250 [==============================] - 5s 4ms/step - loss: 1.4026 - sparse_categorical_accuracy: 0.4936 - val_loss: 1.5639 - val_sparse_categorical_accuracy: 0.4504\n",
            "Epoch 46/50\n",
            "1250/1250 [==============================] - 4s 4ms/step - loss: 1.3971 - sparse_categorical_accuracy: 0.4970 - val_loss: 1.5535 - val_sparse_categorical_accuracy: 0.4559\n",
            "Epoch 47/50\n",
            "1250/1250 [==============================] - 5s 4ms/step - loss: 1.3934 - sparse_categorical_accuracy: 0.4956 - val_loss: 1.5317 - val_sparse_categorical_accuracy: 0.4594\n",
            "Epoch 48/50\n",
            "1250/1250 [==============================] - 5s 4ms/step - loss: 1.3969 - sparse_categorical_accuracy: 0.4941 - val_loss: 1.5441 - val_sparse_categorical_accuracy: 0.4601\n",
            "Epoch 49/50\n",
            "1250/1250 [==============================] - 5s 4ms/step - loss: 1.3928 - sparse_categorical_accuracy: 0.4951 - val_loss: 1.5072 - val_sparse_categorical_accuracy: 0.4708\n",
            "Epoch 50/50\n",
            "1250/1250 [==============================] - 5s 4ms/step - loss: 1.3936 - sparse_categorical_accuracy: 0.4949 - val_loss: 1.5319 - val_sparse_categorical_accuracy: 0.4661\n"
          ]
        }
      ]
    },
    {
      "cell_type": "code",
      "metadata": {
        "colab": {
          "base_uri": "https://localhost:8080/",
          "height": 283
        },
        "id": "KzUxKlQVXzXs",
        "outputId": "5ae6b819-3c95-47c6-d8b1-cca97fdb21d9"
      },
      "source": [
        "plt.plot(h3.history['sparse_categorical_accuracy'])\n",
        "plt.plot(h3.history['val_sparse_categorical_accuracy'])\n",
        "\n",
        "plt.ylabel('accuracy')\n",
        "plt.xlabel('epoch')\n",
        "plt.ylim(0,0.7)\n",
        "plt.legend(['train', 'val'], loc='upper left')\n",
        "plt.show()"
      ],
      "execution_count": 69,
      "outputs": [
        {
          "output_type": "display_data",
          "data": {
            "image/png": "[encoded data removed]",
            "text/plain": [
              "<Figure size 432x288 with 1 Axes>"
            ]
          },
          "metadata": {
            "needs_background": "light"
          }
        }
      ]
    },
    {
      "cell_type": "markdown",
      "metadata": {
        "id": "zEfTPARsPu9n"
      },
      "source": [
        "####Defining function for confusion matrix and accuracy metrics for classification"
      ]
    },
    {
      "cell_type": "code",
      "metadata": {
        "id": "PK2gna2tX22L"
      },
      "source": [
        "predictions = cifar_model.predict(X_test)\n"
      ],
      "execution_count": 80,
      "outputs": []
    },
    {
      "cell_type": "code",
      "metadata": {
        "id": "ftWqfMUuYCHN"
      },
      "source": [
        "def get_class(pred,n=1000):\n",
        "  op_val=[]\n",
        "  for i in pred:\n",
        "    op_val.append(list(np.where(i ==i.max())))\n",
        "  op_val=np.array(op_val).reshape(n, 1)\n",
        "  return op_val"
      ],
      "execution_count": 380,
      "outputs": []
    },
    {
      "cell_type": "code",
      "metadata": {
        "id": "w496rdx_4qUi"
      },
      "source": [
        "pred_class=get_class(predictions)"
      ],
      "execution_count": 109,
      "outputs": []
    },
    {
      "cell_type": "code",
      "metadata": {
        "id": "1BvO9VS-YCKI"
      },
      "source": [
        "number_of_classes=10\n",
        "classes=[i for i in range(0,10)]\n",
        "conf_matrix = pd.DataFrame(\n",
        "    np.zeros((number_of_classes, number_of_classes),dtype=int),\n",
        "    index=classes,columns=classes)\n",
        "\n",
        "for k in list(zip(Y_test ,pred_class)):\n",
        "    conf_matrix.loc[k[0][0], k[1][0]] += 1"
      ],
      "execution_count": 122,
      "outputs": []
    },
    {
      "cell_type": "code",
      "metadata": {
        "colab": {
          "base_uri": "https://localhost:8080/",
          "height": 355
        },
        "id": "Ft84hURBYCNO",
        "outputId": "17f0ca86-f5d8-42cc-fa48-e1fc1315e67d"
      },
      "source": [
        "conf_matrix "
      ],
      "execution_count": 123,
      "outputs": [
        {
          "output_type": "execute_result",
          "data": {
            "text/html": [
              "<div>\n",
              "<style scoped>\n",
              "    .dataframe tbody tr th:only-of-type {\n",
              "        vertical-align: middle;\n",
              "    }\n",
              "\n",
              "    .dataframe tbody tr th {\n",
              "        vertical-align: top;\n",
              "    }\n",
              "\n",
              "    .dataframe thead th {\n",
              "        text-align: right;\n",
              "    }\n",
              "</style>\n",
              "<table border=\"1\" class=\"dataframe\">\n",
              "  <thead>\n",
              "    <tr style=\"text-align: right;\">\n",
              "      <th></th>\n",
              "      <th>0</th>\n",
              "      <th>1</th>\n",
              "      <th>2</th>\n",
              "      <th>3</th>\n",
              "      <th>4</th>\n",
              "      <th>5</th>\n",
              "      <th>6</th>\n",
              "      <th>7</th>\n",
              "      <th>8</th>\n",
              "      <th>9</th>\n",
              "    </tr>\n",
              "  </thead>\n",
              "  <tbody>\n",
              "    <tr>\n",
              "      <th>0</th>\n",
              "      <td>555</td>\n",
              "      <td>65</td>\n",
              "      <td>52</td>\n",
              "      <td>21</td>\n",
              "      <td>25</td>\n",
              "      <td>8</td>\n",
              "      <td>18</td>\n",
              "      <td>29</td>\n",
              "      <td>168</td>\n",
              "      <td>59</td>\n",
              "    </tr>\n",
              "    <tr>\n",
              "      <th>1</th>\n",
              "      <td>32</td>\n",
              "      <td>674</td>\n",
              "      <td>15</td>\n",
              "      <td>24</td>\n",
              "      <td>11</td>\n",
              "      <td>23</td>\n",
              "      <td>15</td>\n",
              "      <td>22</td>\n",
              "      <td>67</td>\n",
              "      <td>117</td>\n",
              "    </tr>\n",
              "    <tr>\n",
              "      <th>2</th>\n",
              "      <td>100</td>\n",
              "      <td>43</td>\n",
              "      <td>334</td>\n",
              "      <td>67</td>\n",
              "      <td>130</td>\n",
              "      <td>83</td>\n",
              "      <td>94</td>\n",
              "      <td>85</td>\n",
              "      <td>47</td>\n",
              "      <td>17</td>\n",
              "    </tr>\n",
              "    <tr>\n",
              "      <th>3</th>\n",
              "      <td>44</td>\n",
              "      <td>47</td>\n",
              "      <td>94</td>\n",
              "      <td>246</td>\n",
              "      <td>56</td>\n",
              "      <td>238</td>\n",
              "      <td>117</td>\n",
              "      <td>61</td>\n",
              "      <td>52</td>\n",
              "      <td>45</td>\n",
              "    </tr>\n",
              "    <tr>\n",
              "      <th>4</th>\n",
              "      <td>70</td>\n",
              "      <td>16</td>\n",
              "      <td>153</td>\n",
              "      <td>64</td>\n",
              "      <td>364</td>\n",
              "      <td>55</td>\n",
              "      <td>110</td>\n",
              "      <td>119</td>\n",
              "      <td>30</td>\n",
              "      <td>19</td>\n",
              "    </tr>\n",
              "    <tr>\n",
              "      <th>5</th>\n",
              "      <td>31</td>\n",
              "      <td>38</td>\n",
              "      <td>99</td>\n",
              "      <td>136</td>\n",
              "      <td>56</td>\n",
              "      <td>394</td>\n",
              "      <td>73</td>\n",
              "      <td>91</td>\n",
              "      <td>53</td>\n",
              "      <td>29</td>\n",
              "    </tr>\n",
              "    <tr>\n",
              "      <th>6</th>\n",
              "      <td>17</td>\n",
              "      <td>38</td>\n",
              "      <td>81</td>\n",
              "      <td>84</td>\n",
              "      <td>136</td>\n",
              "      <td>69</td>\n",
              "      <td>500</td>\n",
              "      <td>32</td>\n",
              "      <td>21</td>\n",
              "      <td>22</td>\n",
              "    </tr>\n",
              "    <tr>\n",
              "      <th>7</th>\n",
              "      <td>58</td>\n",
              "      <td>44</td>\n",
              "      <td>49</td>\n",
              "      <td>54</td>\n",
              "      <td>86</td>\n",
              "      <td>63</td>\n",
              "      <td>28</td>\n",
              "      <td>545</td>\n",
              "      <td>20</td>\n",
              "      <td>53</td>\n",
              "    </tr>\n",
              "    <tr>\n",
              "      <th>8</th>\n",
              "      <td>117</td>\n",
              "      <td>83</td>\n",
              "      <td>16</td>\n",
              "      <td>22</td>\n",
              "      <td>17</td>\n",
              "      <td>25</td>\n",
              "      <td>6</td>\n",
              "      <td>7</td>\n",
              "      <td>642</td>\n",
              "      <td>65</td>\n",
              "    </tr>\n",
              "    <tr>\n",
              "      <th>9</th>\n",
              "      <td>48</td>\n",
              "      <td>241</td>\n",
              "      <td>15</td>\n",
              "      <td>37</td>\n",
              "      <td>9</td>\n",
              "      <td>17</td>\n",
              "      <td>29</td>\n",
              "      <td>53</td>\n",
              "      <td>74</td>\n",
              "      <td>477</td>\n",
              "    </tr>\n",
              "  </tbody>\n",
              "</table>\n",
              "</div>"
            ],
            "text/plain": [
              "     0    1    2    3    4    5    6    7    8    9\n",
              "0  555   65   52   21   25    8   18   29  168   59\n",
              "1   32  674   15   24   11   23   15   22   67  117\n",
              "2  100   43  334   67  130   83   94   85   47   17\n",
              "3   44   47   94  246   56  238  117   61   52   45\n",
              "4   70   16  153   64  364   55  110  119   30   19\n",
              "5   31   38   99  136   56  394   73   91   53   29\n",
              "6   17   38   81   84  136   69  500   32   21   22\n",
              "7   58   44   49   54   86   63   28  545   20   53\n",
              "8  117   83   16   22   17   25    6    7  642   65\n",
              "9   48  241   15   37    9   17   29   53   74  477"
            ]
          },
          "metadata": {},
          "execution_count": 123
        }
      ]
    },
    {
      "cell_type": "code",
      "metadata": {
        "id": "LpPmV7a49Fj_"
      },
      "source": [
        "def total_accuracy(con_mat):\n",
        "  total_samples=con_mat.to_numpy().sum()\n",
        "  n_clases=con_mat.shape[0]\n",
        "  correct_cls=0\n",
        "  for i in range(0,n_clases):\n",
        "    correct_cls+=con_mat[i][i]\n",
        "  return correct_cls*100/total_samples\n",
        "\n"
      ],
      "execution_count": 130,
      "outputs": []
    },
    {
      "cell_type": "code",
      "metadata": {
        "colab": {
          "base_uri": "https://localhost:8080/"
        },
        "id": "PBV5AuTW9i8i",
        "outputId": "34cf5e6a-5334-438f-c41f-01f9cb420ffc"
      },
      "source": [
        "print(\"Overall accuracy:\",total_accuracy(conf_matrix),\"%\")"
      ],
      "execution_count": 448,
      "outputs": [
        {
          "output_type": "stream",
          "name": "stdout",
          "text": [
            "Overall accuracy: 52.3%\n"
          ]
        }
      ]
    },
    {
      "cell_type": "code",
      "metadata": {
        "id": "NsKrgEWofiqq"
      },
      "source": [
        ""
      ],
      "execution_count": null,
      "outputs": []
    },
    {
      "cell_type": "markdown",
      "metadata": {
        "id": "I0ZsGFDq6Abz"
      },
      "source": [
        "---"
      ]
    },
    {
      "cell_type": "markdown",
      "metadata": {
        "id": "lLOuAa33a-nc"
      },
      "source": [
        "### 2.2 SubTask"
      ]
    },
    {
      "cell_type": "code",
      "metadata": {
        "id": "wfSe1W5y-I9v"
      },
      "source": [
        "from tensorflow.keras.datasets import fashion_mnist\n",
        "(X_train, y_train), (X_test, y_test) = fashion_mnist.load_data()"
      ],
      "execution_count": 160,
      "outputs": []
    },
    {
      "cell_type": "code",
      "metadata": {
        "colab": {
          "base_uri": "https://localhost:8080/"
        },
        "id": "AOmaf2e7BF-7",
        "outputId": "463ac4e5-b5eb-4089-b834-ce7800500203"
      },
      "source": [
        "np.unique(y_test)"
      ],
      "execution_count": 171,
      "outputs": [
        {
          "output_type": "execute_result",
          "data": {
            "text/plain": [
              "array([0, 1, 2, 3, 4, 5, 6, 7, 8, 9], dtype=uint8)"
            ]
          },
          "metadata": {},
          "execution_count": 171
        }
      ]
    },
    {
      "cell_type": "markdown",
      "metadata": {
        "id": "vm31_E5sj8WQ"
      },
      "source": [
        "**Preparing a preprocessed normalized data**"
      ]
    },
    {
      "cell_type": "code",
      "metadata": {
        "id": "xRhhozmS-VwY"
      },
      "source": [
        "X_train = X_train / 255.0"
      ],
      "execution_count": 172,
      "outputs": []
    },
    {
      "cell_type": "code",
      "metadata": {
        "id": "pWsaj2nb-uKZ"
      },
      "source": [
        "X_test = X_test / 255.0"
      ],
      "execution_count": 173,
      "outputs": []
    },
    {
      "cell_type": "markdown",
      "metadata": {
        "id": "Zt2dm_oGiIbH"
      },
      "source": [
        "Images display "
      ]
    },
    {
      "cell_type": "code",
      "metadata": {
        "colab": {
          "base_uri": "https://localhost:8080/",
          "height": 1000
        },
        "id": "Ji6W3NLbiFEN",
        "outputId": "196ad7a4-71e5-4e74-c6ef-d559e63d03a7"
      },
      "source": [
        "for i in range(4):\n",
        "      plt.imshow(X_train[i], cmap = 'binary')\n",
        "      plt.title(y_train[i])\n",
        "      plt.axis('off')\n",
        "      plt.tight_layout()\n",
        "      plt.show()"
      ],
      "execution_count": 174,
      "outputs": [
        {
          "output_type": "display_data",
          "data": {
            "image/png": "[encoded data removed]",
            "text/plain": [
              "<Figure size 432x288 with 1 Axes>"
            ]
          },
          "metadata": {
            "needs_background": "light"
          }
        },
        {
          "output_type": "display_data",
          "data": {
            "image/png": "[encoded data removed]",
            "text/plain": [
              "<Figure size 432x288 with 1 Axes>"
            ]
          },
          "metadata": {
            "needs_background": "light"
          }
        },
        {
          "output_type": "display_data",
          "data": {
            "image/png": "[encoded data removed]",
            "text/plain": [
              "<Figure size 432x288 with 1 Axes>"
            ]
          },
          "metadata": {
            "needs_background": "light"
          }
        },
        {
          "output_type": "display_data",
          "data": {
            "image/png": "[encoded data removed]",
            "text/plain": [
              "<Figure size 432x288 with 1 Axes>"
            ]
          },
          "metadata": {
            "needs_background": "light"
          }
        }
      ]
    },
    {
      "cell_type": "code",
      "metadata": {
        "id": "HeMdHKR_-2ow"
      },
      "source": [
        "X_train = X_train.reshape(-1, 28*28)"
      ],
      "execution_count": 175,
      "outputs": []
    },
    {
      "cell_type": "code",
      "metadata": {
        "id": "qx-x8h_U_HxF",
        "colab": {
          "base_uri": "https://localhost:8080/"
        },
        "outputId": "65463bef-e05c-492f-d67d-8f4c60178a8d"
      },
      "source": [
        "X_test.shape"
      ],
      "execution_count": 176,
      "outputs": [
        {
          "output_type": "execute_result",
          "data": {
            "text/plain": [
              "(10000, 28, 28)"
            ]
          },
          "metadata": {},
          "execution_count": 176
        }
      ]
    },
    {
      "cell_type": "code",
      "metadata": {
        "id": "sgjhIMjw_UjU"
      },
      "source": [
        "X_test = X_test.reshape(-1, 28*28)"
      ],
      "execution_count": 177,
      "outputs": []
    },
    {
      "cell_type": "code",
      "metadata": {
        "id": "KIta8ggxUdOY"
      },
      "source": [
        "tf.random.set_seed(5)\n",
        "fashion_model = tf.keras.models.Sequential()\n",
        "fashion_model.add(tf.keras.layers.Dense(units=128, activation='relu', input_shape=(784, )))\n",
        "fashion_model.add(tf.keras.layers.Dense(units=32, activation='relu'))\n",
        "fashion_model.add(tf.keras.layers.Dropout(0.2))\n",
        "fashion_model.add(tf.keras.layers.Dense(units=10, activation='softmax'))"
      ],
      "execution_count": 229,
      "outputs": []
    },
    {
      "cell_type": "code",
      "metadata": {
        "id": "2Ow9nvKDUdRz"
      },
      "source": [
        "fashion_model.compile(optimizer='adam', loss='sparse_categorical_crossentropy', metrics=['sparse_categorical_accuracy'])"
      ],
      "execution_count": 230,
      "outputs": []
    },
    {
      "cell_type": "code",
      "metadata": {
        "id": "sq2BfL_kBVlY",
        "colab": {
          "base_uri": "https://localhost:8080/"
        },
        "outputId": "2c51303a-7eb4-4ac5-d717-ae66b97cad0f"
      },
      "source": [
        "h4=fashion_model.fit(X_train, y_train, epochs=10,validation_split=0.2)"
      ],
      "execution_count": 231,
      "outputs": [
        {
          "output_type": "stream",
          "name": "stdout",
          "text": [
            "Epoch 1/10\n",
            "1500/1500 [==============================] - 5s 3ms/step - loss: 1.1208 - sparse_categorical_accuracy: 0.5875 - val_loss: 0.6959 - val_sparse_categorical_accuracy: 0.7341\n",
            "Epoch 2/10\n",
            "1500/1500 [==============================] - 4s 3ms/step - loss: 0.7099 - sparse_categorical_accuracy: 0.7344 - val_loss: 0.5883 - val_sparse_categorical_accuracy: 0.7809\n",
            "Epoch 3/10\n",
            "1500/1500 [==============================] - 4s 3ms/step - loss: 0.6265 - sparse_categorical_accuracy: 0.7687 - val_loss: 0.5398 - val_sparse_categorical_accuracy: 0.8027\n",
            "Epoch 4/10\n",
            "1500/1500 [==============================] - 4s 3ms/step - loss: 0.5840 - sparse_categorical_accuracy: 0.7884 - val_loss: 0.5077 - val_sparse_categorical_accuracy: 0.8129\n",
            "Epoch 5/10\n",
            "1500/1500 [==============================] - 4s 3ms/step - loss: 0.5476 - sparse_categorical_accuracy: 0.8024 - val_loss: 0.4856 - val_sparse_categorical_accuracy: 0.8221\n",
            "Epoch 6/10\n",
            "1500/1500 [==============================] - 4s 3ms/step - loss: 0.5230 - sparse_categorical_accuracy: 0.8139 - val_loss: 0.4638 - val_sparse_categorical_accuracy: 0.8322\n",
            "Epoch 7/10\n",
            "1500/1500 [==============================] - 4s 3ms/step - loss: 0.5058 - sparse_categorical_accuracy: 0.8199 - val_loss: 0.4542 - val_sparse_categorical_accuracy: 0.8345\n",
            "Epoch 8/10\n",
            "1500/1500 [==============================] - 4s 3ms/step - loss: 0.4899 - sparse_categorical_accuracy: 0.8249 - val_loss: 0.4477 - val_sparse_categorical_accuracy: 0.8367\n",
            "Epoch 9/10\n",
            "1500/1500 [==============================] - 4s 3ms/step - loss: 0.4743 - sparse_categorical_accuracy: 0.8300 - val_loss: 0.4301 - val_sparse_categorical_accuracy: 0.8430\n",
            "Epoch 10/10\n",
            "1500/1500 [==============================] - 4s 3ms/step - loss: 0.4620 - sparse_categorical_accuracy: 0.8352 - val_loss: 0.4349 - val_sparse_categorical_accuracy: 0.8407\n"
          ]
        }
      ]
    },
    {
      "cell_type": "code",
      "metadata": {
        "colab": {
          "base_uri": "https://localhost:8080/",
          "height": 295
        },
        "id": "9l_8WH-thwE3",
        "outputId": "ede77814-22fa-44d0-f0ef-d7a572799864"
      },
      "source": [
        "plt.plot(h4.history['sparse_categorical_accuracy'])\n",
        "plt.plot(h4.history['val_sparse_categorical_accuracy'])\n",
        "plt.title('model accuracy')\n",
        "plt.ylabel('accuracy')\n",
        "plt.xlabel('epoch')\n",
        "plt.legend(['train', 'val'], loc='upper left')\n",
        "plt.show()"
      ],
      "execution_count": 232,
      "outputs": [
        {
          "output_type": "display_data",
          "data": {
            "image/png": "[encoded data removed]",
            "text/plain": [
              "<Figure size 432x288 with 1 Axes>"
            ]
          },
          "metadata": {
            "needs_background": "light"
          }
        }
      ]
    },
    {
      "cell_type": "code",
      "metadata": {
        "id": "h2YRTnykBhsD"
      },
      "source": [
        "fash_pred = fashion_model.predict(X_test)\n"
      ],
      "execution_count": 233,
      "outputs": []
    },
    {
      "cell_type": "code",
      "metadata": {
        "colab": {
          "base_uri": "https://localhost:8080/"
        },
        "id": "E50l5RfHN9P2",
        "outputId": "f5326e92-2055-4c3b-d863-f75832bcd031"
      },
      "source": [
        "fash_pred"
      ],
      "execution_count": 234,
      "outputs": [
        {
          "output_type": "execute_result",
          "data": {
            "text/plain": [
              "array([[4.2742300e-08, 5.9017002e-10, 1.3094268e-09, ..., 1.8529099e-01,\n",
              "        1.9002930e-03, 7.6884407e-01],\n",
              "       [7.9735310e-04, 5.1144507e-06, 8.4291005e-01, ..., 6.4744095e-17,\n",
              "        2.6931887e-04, 3.5858386e-15],\n",
              "       [4.1844246e-06, 9.9919981e-01, 3.5611067e-06, ..., 2.4466398e-10,\n",
              "        9.2061497e-12, 7.1072953e-10],\n",
              "       ...,\n",
              "       [1.8330663e-03, 2.0484364e-07, 7.5260272e-05, ..., 1.5125054e-05,\n",
              "        9.6917433e-01, 3.8884102e-07],\n",
              "       [2.2287168e-05, 9.9734253e-01, 1.5214437e-05, ..., 4.5640065e-09,\n",
              "        1.7677680e-10, 1.5675260e-08],\n",
              "       [1.0907507e-05, 9.5270929e-07, 6.0798302e-06, ..., 2.9253574e-02,\n",
              "        8.3669014e-03, 1.1208090e-03]], dtype=float32)"
            ]
          },
          "metadata": {},
          "execution_count": 234
        }
      ]
    },
    {
      "cell_type": "code",
      "metadata": {
        "id": "fCw_ezln_Bhp"
      },
      "source": [
        "pred_class2=get_class(fash_pred)"
      ],
      "execution_count": 235,
      "outputs": []
    },
    {
      "cell_type": "code",
      "metadata": {
        "id": "ASeN6GtA_Bhq"
      },
      "source": [
        "number_of_classes=10\n",
        "classes=[i for i in range(0,10)]\n",
        "conf_matrix2 = pd.DataFrame(\n",
        "    np.zeros((number_of_classes, number_of_classes),dtype=int),\n",
        "    index=classes,columns=classes)\n",
        "\n",
        "for k in list(zip(y_test ,pred_class2)):\n",
        "    conf_matrix2.loc[k[0], k[1][0]] += 1"
      ],
      "execution_count": 236,
      "outputs": []
    },
    {
      "cell_type": "code",
      "metadata": {
        "colab": {
          "base_uri": "https://localhost:8080/",
          "height": 355
        },
        "id": "9AA-fteX_Bhr",
        "outputId": "47713bb1-ae32-4e3b-fedf-4ed6c132f2e5"
      },
      "source": [
        "conf_matrix2"
      ],
      "execution_count": 237,
      "outputs": [
        {
          "output_type": "execute_result",
          "data": {
            "text/html": [
              "<div>\n",
              "<style scoped>\n",
              "    .dataframe tbody tr th:only-of-type {\n",
              "        vertical-align: middle;\n",
              "    }\n",
              "\n",
              "    .dataframe tbody tr th {\n",
              "        vertical-align: top;\n",
              "    }\n",
              "\n",
              "    .dataframe thead th {\n",
              "        text-align: right;\n",
              "    }\n",
              "</style>\n",
              "<table border=\"1\" class=\"dataframe\">\n",
              "  <thead>\n",
              "    <tr style=\"text-align: right;\">\n",
              "      <th></th>\n",
              "      <th>0</th>\n",
              "      <th>1</th>\n",
              "      <th>2</th>\n",
              "      <th>3</th>\n",
              "      <th>4</th>\n",
              "      <th>5</th>\n",
              "      <th>6</th>\n",
              "      <th>7</th>\n",
              "      <th>8</th>\n",
              "      <th>9</th>\n",
              "    </tr>\n",
              "  </thead>\n",
              "  <tbody>\n",
              "    <tr>\n",
              "      <th>0</th>\n",
              "      <td>110</td>\n",
              "      <td>131</td>\n",
              "      <td>78</td>\n",
              "      <td>58</td>\n",
              "      <td>94</td>\n",
              "      <td>117</td>\n",
              "      <td>94</td>\n",
              "      <td>103</td>\n",
              "      <td>125</td>\n",
              "      <td>90</td>\n",
              "    </tr>\n",
              "    <tr>\n",
              "      <th>1</th>\n",
              "      <td>114</td>\n",
              "      <td>130</td>\n",
              "      <td>91</td>\n",
              "      <td>64</td>\n",
              "      <td>77</td>\n",
              "      <td>79</td>\n",
              "      <td>115</td>\n",
              "      <td>111</td>\n",
              "      <td>123</td>\n",
              "      <td>96</td>\n",
              "    </tr>\n",
              "    <tr>\n",
              "      <th>2</th>\n",
              "      <td>111</td>\n",
              "      <td>139</td>\n",
              "      <td>85</td>\n",
              "      <td>73</td>\n",
              "      <td>96</td>\n",
              "      <td>92</td>\n",
              "      <td>104</td>\n",
              "      <td>106</td>\n",
              "      <td>109</td>\n",
              "      <td>85</td>\n",
              "    </tr>\n",
              "    <tr>\n",
              "      <th>3</th>\n",
              "      <td>114</td>\n",
              "      <td>132</td>\n",
              "      <td>77</td>\n",
              "      <td>80</td>\n",
              "      <td>84</td>\n",
              "      <td>94</td>\n",
              "      <td>113</td>\n",
              "      <td>108</td>\n",
              "      <td>113</td>\n",
              "      <td>85</td>\n",
              "    </tr>\n",
              "    <tr>\n",
              "      <th>4</th>\n",
              "      <td>110</td>\n",
              "      <td>123</td>\n",
              "      <td>97</td>\n",
              "      <td>82</td>\n",
              "      <td>87</td>\n",
              "      <td>117</td>\n",
              "      <td>98</td>\n",
              "      <td>98</td>\n",
              "      <td>100</td>\n",
              "      <td>88</td>\n",
              "    </tr>\n",
              "    <tr>\n",
              "      <th>5</th>\n",
              "      <td>86</td>\n",
              "      <td>145</td>\n",
              "      <td>98</td>\n",
              "      <td>80</td>\n",
              "      <td>95</td>\n",
              "      <td>95</td>\n",
              "      <td>97</td>\n",
              "      <td>110</td>\n",
              "      <td>107</td>\n",
              "      <td>87</td>\n",
              "    </tr>\n",
              "    <tr>\n",
              "      <th>6</th>\n",
              "      <td>125</td>\n",
              "      <td>107</td>\n",
              "      <td>92</td>\n",
              "      <td>83</td>\n",
              "      <td>86</td>\n",
              "      <td>106</td>\n",
              "      <td>88</td>\n",
              "      <td>122</td>\n",
              "      <td>111</td>\n",
              "      <td>80</td>\n",
              "    </tr>\n",
              "    <tr>\n",
              "      <th>7</th>\n",
              "      <td>91</td>\n",
              "      <td>128</td>\n",
              "      <td>99</td>\n",
              "      <td>72</td>\n",
              "      <td>102</td>\n",
              "      <td>94</td>\n",
              "      <td>94</td>\n",
              "      <td>87</td>\n",
              "      <td>129</td>\n",
              "      <td>104</td>\n",
              "    </tr>\n",
              "    <tr>\n",
              "      <th>8</th>\n",
              "      <td>105</td>\n",
              "      <td>131</td>\n",
              "      <td>84</td>\n",
              "      <td>77</td>\n",
              "      <td>91</td>\n",
              "      <td>89</td>\n",
              "      <td>97</td>\n",
              "      <td>111</td>\n",
              "      <td>131</td>\n",
              "      <td>84</td>\n",
              "    </tr>\n",
              "    <tr>\n",
              "      <th>9</th>\n",
              "      <td>106</td>\n",
              "      <td>123</td>\n",
              "      <td>107</td>\n",
              "      <td>86</td>\n",
              "      <td>78</td>\n",
              "      <td>92</td>\n",
              "      <td>90</td>\n",
              "      <td>88</td>\n",
              "      <td>126</td>\n",
              "      <td>104</td>\n",
              "    </tr>\n",
              "  </tbody>\n",
              "</table>\n",
              "</div>"
            ],
            "text/plain": [
              "     0    1    2   3    4    5    6    7    8    9\n",
              "0  110  131   78  58   94  117   94  103  125   90\n",
              "1  114  130   91  64   77   79  115  111  123   96\n",
              "2  111  139   85  73   96   92  104  106  109   85\n",
              "3  114  132   77  80   84   94  113  108  113   85\n",
              "4  110  123   97  82   87  117   98   98  100   88\n",
              "5   86  145   98  80   95   95   97  110  107   87\n",
              "6  125  107   92  83   86  106   88  122  111   80\n",
              "7   91  128   99  72  102   94   94   87  129  104\n",
              "8  105  131   84  77   91   89   97  111  131   84\n",
              "9  106  123  107  86   78   92   90   88  126  104"
            ]
          },
          "metadata": {},
          "execution_count": 237
        }
      ]
    },
    {
      "cell_type": "code",
      "metadata": {
        "colab": {
          "base_uri": "https://localhost:8080/"
        },
        "id": "gPcbBtclYCQW",
        "outputId": "54dcdedf-c4f2-41f6-aeff-212d5b5a6d48"
      },
      "source": [
        "print(total_accuracy(conf_matrix2))"
      ],
      "execution_count": 239,
      "outputs": [
        {
          "output_type": "stream",
          "name": "stdout",
          "text": [
            "9.97\n"
          ]
        }
      ]
    },
    {
      "cell_type": "code",
      "metadata": {
        "id": "uyrKekTgQA2f"
      },
      "source": [
        "test_loss, test_accuracy = fashion_model.evaluate(X_test, y_test)"
      ],
      "execution_count": null,
      "outputs": []
    },
    {
      "cell_type": "code",
      "metadata": {
        "colab": {
          "base_uri": "https://localhost:8080/"
        },
        "id": "dsXEr-h6_Bhs",
        "outputId": "985f3c56-27f0-48ab-81c9-45b63d52d1e8"
      },
      "source": [
        "\n",
        "print(\"Test accuracy:\",test_accuracy*100,\"%\")"
      ],
      "execution_count": 242,
      "outputs": [
        {
          "output_type": "stream",
          "name": "stdout",
          "text": [
            "Test accuracy: 82.70999789237976 %\n"
          ]
        }
      ]
    },
    {
      "cell_type": "markdown",
      "metadata": {
        "id": "NpKwNwWua730"
      },
      "source": [
        "###2.3 SubTask"
      ]
    },
    {
      "cell_type": "code",
      "metadata": {
        "colab": {
          "base_uri": "https://localhost:8080/",
          "height": 221
        },
        "id": "ieBJcr5sa8T-",
        "outputId": "6b1a9fae-a42a-40c9-d7d1-343091059a9a"
      },
      "source": [
        "zoo_data=pd.read_csv('/content/datasets_586_1114_zoo.csv')\n",
        "zoo_data.head()"
      ],
      "execution_count": 308,
      "outputs": [
        {
          "output_type": "execute_result",
          "data": {
            "text/html": [
              "<div>\n",
              "<style scoped>\n",
              "    .dataframe tbody tr th:only-of-type {\n",
              "        vertical-align: middle;\n",
              "    }\n",
              "\n",
              "    .dataframe tbody tr th {\n",
              "        vertical-align: top;\n",
              "    }\n",
              "\n",
              "    .dataframe thead th {\n",
              "        text-align: right;\n",
              "    }\n",
              "</style>\n",
              "<table border=\"1\" class=\"dataframe\">\n",
              "  <thead>\n",
              "    <tr style=\"text-align: right;\">\n",
              "      <th></th>\n",
              "      <th>animal_name</th>\n",
              "      <th>hair</th>\n",
              "      <th>feathers</th>\n",
              "      <th>eggs</th>\n",
              "      <th>milk</th>\n",
              "      <th>airborne</th>\n",
              "      <th>aquatic</th>\n",
              "      <th>predator</th>\n",
              "      <th>toothed</th>\n",
              "      <th>backbone</th>\n",
              "      <th>breathes</th>\n",
              "      <th>venomous</th>\n",
              "      <th>fins</th>\n",
              "      <th>legs</th>\n",
              "      <th>tail</th>\n",
              "      <th>domestic</th>\n",
              "      <th>catsize</th>\n",
              "      <th>class_type</th>\n",
              "    </tr>\n",
              "  </thead>\n",
              "  <tbody>\n",
              "    <tr>\n",
              "      <th>0</th>\n",
              "      <td>aardvark</td>\n",
              "      <td>1</td>\n",
              "      <td>0</td>\n",
              "      <td>0</td>\n",
              "      <td>1</td>\n",
              "      <td>0</td>\n",
              "      <td>0</td>\n",
              "      <td>1</td>\n",
              "      <td>1</td>\n",
              "      <td>1</td>\n",
              "      <td>1</td>\n",
              "      <td>0</td>\n",
              "      <td>0</td>\n",
              "      <td>4</td>\n",
              "      <td>0</td>\n",
              "      <td>0</td>\n",
              "      <td>1</td>\n",
              "      <td>1</td>\n",
              "    </tr>\n",
              "    <tr>\n",
              "      <th>1</th>\n",
              "      <td>antelope</td>\n",
              "      <td>1</td>\n",
              "      <td>0</td>\n",
              "      <td>0</td>\n",
              "      <td>1</td>\n",
              "      <td>0</td>\n",
              "      <td>0</td>\n",
              "      <td>0</td>\n",
              "      <td>1</td>\n",
              "      <td>1</td>\n",
              "      <td>1</td>\n",
              "      <td>0</td>\n",
              "      <td>0</td>\n",
              "      <td>4</td>\n",
              "      <td>1</td>\n",
              "      <td>0</td>\n",
              "      <td>1</td>\n",
              "      <td>1</td>\n",
              "    </tr>\n",
              "    <tr>\n",
              "      <th>2</th>\n",
              "      <td>bass</td>\n",
              "      <td>0</td>\n",
              "      <td>0</td>\n",
              "      <td>1</td>\n",
              "      <td>0</td>\n",
              "      <td>0</td>\n",
              "      <td>1</td>\n",
              "      <td>1</td>\n",
              "      <td>1</td>\n",
              "      <td>1</td>\n",
              "      <td>0</td>\n",
              "      <td>0</td>\n",
              "      <td>1</td>\n",
              "      <td>0</td>\n",
              "      <td>1</td>\n",
              "      <td>0</td>\n",
              "      <td>0</td>\n",
              "      <td>4</td>\n",
              "    </tr>\n",
              "    <tr>\n",
              "      <th>3</th>\n",
              "      <td>bear</td>\n",
              "      <td>1</td>\n",
              "      <td>0</td>\n",
              "      <td>0</td>\n",
              "      <td>1</td>\n",
              "      <td>0</td>\n",
              "      <td>0</td>\n",
              "      <td>1</td>\n",
              "      <td>1</td>\n",
              "      <td>1</td>\n",
              "      <td>1</td>\n",
              "      <td>0</td>\n",
              "      <td>0</td>\n",
              "      <td>4</td>\n",
              "      <td>0</td>\n",
              "      <td>0</td>\n",
              "      <td>1</td>\n",
              "      <td>1</td>\n",
              "    </tr>\n",
              "    <tr>\n",
              "      <th>4</th>\n",
              "      <td>boar</td>\n",
              "      <td>1</td>\n",
              "      <td>0</td>\n",
              "      <td>0</td>\n",
              "      <td>1</td>\n",
              "      <td>0</td>\n",
              "      <td>0</td>\n",
              "      <td>1</td>\n",
              "      <td>1</td>\n",
              "      <td>1</td>\n",
              "      <td>1</td>\n",
              "      <td>0</td>\n",
              "      <td>0</td>\n",
              "      <td>4</td>\n",
              "      <td>1</td>\n",
              "      <td>0</td>\n",
              "      <td>1</td>\n",
              "      <td>1</td>\n",
              "    </tr>\n",
              "  </tbody>\n",
              "</table>\n",
              "</div>"
            ],
            "text/plain": [
              "  animal_name  hair  feathers  eggs  ...  tail  domestic  catsize  class_type\n",
              "0    aardvark     1         0     0  ...     0         0        1           1\n",
              "1    antelope     1         0     0  ...     1         0        1           1\n",
              "2        bass     0         0     1  ...     1         0        0           4\n",
              "3        bear     1         0     0  ...     0         0        1           1\n",
              "4        boar     1         0     0  ...     1         0        1           1\n",
              "\n",
              "[5 rows x 18 columns]"
            ]
          },
          "metadata": {},
          "execution_count": 308
        }
      ]
    },
    {
      "cell_type": "code",
      "metadata": {
        "colab": {
          "base_uri": "https://localhost:8080/"
        },
        "id": "7IcJyPbvWlvS",
        "outputId": "a3b30631-57eb-45cb-8d1c-9d1016dbb54d"
      },
      "source": [
        "zoo_data.shape"
      ],
      "execution_count": 309,
      "outputs": [
        {
          "output_type": "execute_result",
          "data": {
            "text/plain": [
              "(101, 18)"
            ]
          },
          "metadata": {},
          "execution_count": 309
        }
      ]
    },
    {
      "cell_type": "code",
      "metadata": {
        "colab": {
          "base_uri": "https://localhost:8080/",
          "height": 221
        },
        "id": "8uuSnGG_Wlyc",
        "outputId": "a1fa909f-30cf-4b62-9b1b-a3be15956dd2"
      },
      "source": [
        "zoo_data.head(5)"
      ],
      "execution_count": 310,
      "outputs": [
        {
          "output_type": "execute_result",
          "data": {
            "text/html": [
              "<div>\n",
              "<style scoped>\n",
              "    .dataframe tbody tr th:only-of-type {\n",
              "        vertical-align: middle;\n",
              "    }\n",
              "\n",
              "    .dataframe tbody tr th {\n",
              "        vertical-align: top;\n",
              "    }\n",
              "\n",
              "    .dataframe thead th {\n",
              "        text-align: right;\n",
              "    }\n",
              "</style>\n",
              "<table border=\"1\" class=\"dataframe\">\n",
              "  <thead>\n",
              "    <tr style=\"text-align: right;\">\n",
              "      <th></th>\n",
              "      <th>animal_name</th>\n",
              "      <th>hair</th>\n",
              "      <th>feathers</th>\n",
              "      <th>eggs</th>\n",
              "      <th>milk</th>\n",
              "      <th>airborne</th>\n",
              "      <th>aquatic</th>\n",
              "      <th>predator</th>\n",
              "      <th>toothed</th>\n",
              "      <th>backbone</th>\n",
              "      <th>breathes</th>\n",
              "      <th>venomous</th>\n",
              "      <th>fins</th>\n",
              "      <th>legs</th>\n",
              "      <th>tail</th>\n",
              "      <th>domestic</th>\n",
              "      <th>catsize</th>\n",
              "      <th>class_type</th>\n",
              "    </tr>\n",
              "  </thead>\n",
              "  <tbody>\n",
              "    <tr>\n",
              "      <th>0</th>\n",
              "      <td>aardvark</td>\n",
              "      <td>1</td>\n",
              "      <td>0</td>\n",
              "      <td>0</td>\n",
              "      <td>1</td>\n",
              "      <td>0</td>\n",
              "      <td>0</td>\n",
              "      <td>1</td>\n",
              "      <td>1</td>\n",
              "      <td>1</td>\n",
              "      <td>1</td>\n",
              "      <td>0</td>\n",
              "      <td>0</td>\n",
              "      <td>4</td>\n",
              "      <td>0</td>\n",
              "      <td>0</td>\n",
              "      <td>1</td>\n",
              "      <td>1</td>\n",
              "    </tr>\n",
              "    <tr>\n",
              "      <th>1</th>\n",
              "      <td>antelope</td>\n",
              "      <td>1</td>\n",
              "      <td>0</td>\n",
              "      <td>0</td>\n",
              "      <td>1</td>\n",
              "      <td>0</td>\n",
              "      <td>0</td>\n",
              "      <td>0</td>\n",
              "      <td>1</td>\n",
              "      <td>1</td>\n",
              "      <td>1</td>\n",
              "      <td>0</td>\n",
              "      <td>0</td>\n",
              "      <td>4</td>\n",
              "      <td>1</td>\n",
              "      <td>0</td>\n",
              "      <td>1</td>\n",
              "      <td>1</td>\n",
              "    </tr>\n",
              "    <tr>\n",
              "      <th>2</th>\n",
              "      <td>bass</td>\n",
              "      <td>0</td>\n",
              "      <td>0</td>\n",
              "      <td>1</td>\n",
              "      <td>0</td>\n",
              "      <td>0</td>\n",
              "      <td>1</td>\n",
              "      <td>1</td>\n",
              "      <td>1</td>\n",
              "      <td>1</td>\n",
              "      <td>0</td>\n",
              "      <td>0</td>\n",
              "      <td>1</td>\n",
              "      <td>0</td>\n",
              "      <td>1</td>\n",
              "      <td>0</td>\n",
              "      <td>0</td>\n",
              "      <td>4</td>\n",
              "    </tr>\n",
              "    <tr>\n",
              "      <th>3</th>\n",
              "      <td>bear</td>\n",
              "      <td>1</td>\n",
              "      <td>0</td>\n",
              "      <td>0</td>\n",
              "      <td>1</td>\n",
              "      <td>0</td>\n",
              "      <td>0</td>\n",
              "      <td>1</td>\n",
              "      <td>1</td>\n",
              "      <td>1</td>\n",
              "      <td>1</td>\n",
              "      <td>0</td>\n",
              "      <td>0</td>\n",
              "      <td>4</td>\n",
              "      <td>0</td>\n",
              "      <td>0</td>\n",
              "      <td>1</td>\n",
              "      <td>1</td>\n",
              "    </tr>\n",
              "    <tr>\n",
              "      <th>4</th>\n",
              "      <td>boar</td>\n",
              "      <td>1</td>\n",
              "      <td>0</td>\n",
              "      <td>0</td>\n",
              "      <td>1</td>\n",
              "      <td>0</td>\n",
              "      <td>0</td>\n",
              "      <td>1</td>\n",
              "      <td>1</td>\n",
              "      <td>1</td>\n",
              "      <td>1</td>\n",
              "      <td>0</td>\n",
              "      <td>0</td>\n",
              "      <td>4</td>\n",
              "      <td>1</td>\n",
              "      <td>0</td>\n",
              "      <td>1</td>\n",
              "      <td>1</td>\n",
              "    </tr>\n",
              "  </tbody>\n",
              "</table>\n",
              "</div>"
            ],
            "text/plain": [
              "  animal_name  hair  feathers  eggs  ...  tail  domestic  catsize  class_type\n",
              "0    aardvark     1         0     0  ...     0         0        1           1\n",
              "1    antelope     1         0     0  ...     1         0        1           1\n",
              "2        bass     0         0     1  ...     1         0        0           4\n",
              "3        bear     1         0     0  ...     0         0        1           1\n",
              "4        boar     1         0     0  ...     1         0        1           1\n",
              "\n",
              "[5 rows x 18 columns]"
            ]
          },
          "metadata": {},
          "execution_count": 310
        }
      ]
    },
    {
      "cell_type": "code",
      "metadata": {
        "colab": {
          "base_uri": "https://localhost:8080/"
        },
        "id": "64YO9MbcdvBf",
        "outputId": "e2b7ef71-59fd-43ba-cff3-4221e0e76cbd"
      },
      "source": [
        "zoo_data.columns"
      ],
      "execution_count": 311,
      "outputs": [
        {
          "output_type": "execute_result",
          "data": {
            "text/plain": [
              "Index(['animal_name', 'hair', 'feathers', 'eggs', 'milk', 'airborne',\n",
              "       'aquatic', 'predator', 'toothed', 'backbone', 'breathes', 'venomous',\n",
              "       'fins', 'legs', 'tail', 'domestic', 'catsize', 'class_type'],\n",
              "      dtype='object')"
            ]
          },
          "metadata": {},
          "execution_count": 311
        }
      ]
    },
    {
      "cell_type": "code",
      "metadata": {
        "colab": {
          "base_uri": "https://localhost:8080/",
          "height": 280
        },
        "id": "7-2S8JAhWl1J",
        "outputId": "047f39fc-9244-4d69-98c4-e748d475f9d5"
      },
      "source": [
        "sns.countplot(data=zoo_data,x='class_type')\n",
        "plt.show()"
      ],
      "execution_count": 312,
      "outputs": [
        {
          "output_type": "display_data",
          "data": {
            "image/png": "[encoded data removed]",
            "text/plain": [
              "<Figure size 432x288 with 1 Axes>"
            ]
          },
          "metadata": {
            "needs_background": "light"
          }
        }
      ]
    },
    {
      "cell_type": "code",
      "metadata": {
        "colab": {
          "base_uri": "https://localhost:8080/"
        },
        "id": "MdruwPVTVh0c",
        "outputId": "c67a2bf2-def2-4536-cf8c-40e834636e1d"
      },
      "source": [
        "zoo_data.isnull().sum()"
      ],
      "execution_count": 313,
      "outputs": [
        {
          "output_type": "execute_result",
          "data": {
            "text/plain": [
              "animal_name    0\n",
              "hair           0\n",
              "feathers       0\n",
              "eggs           0\n",
              "milk           0\n",
              "airborne       0\n",
              "aquatic        0\n",
              "predator       0\n",
              "toothed        0\n",
              "backbone       0\n",
              "breathes       0\n",
              "venomous       0\n",
              "fins           0\n",
              "legs           0\n",
              "tail           0\n",
              "domestic       0\n",
              "catsize        0\n",
              "class_type     0\n",
              "dtype: int64"
            ]
          },
          "metadata": {},
          "execution_count": 313
        }
      ]
    },
    {
      "cell_type": "code",
      "metadata": {
        "colab": {
          "base_uri": "https://localhost:8080/",
          "height": 746
        },
        "id": "Pgc1Nl-2Wl7G",
        "outputId": "20f4380f-a6c9-443e-86bf-0972362a132b"
      },
      "source": [
        "correlations = zoo_data.corr()\n",
        "\n",
        "fig = plt.figure(figsize=(12,12))\n",
        "sns.heatmap(correlations,vmin=-1, vmax=1,fmt='.2g',cmap='Greens',annot=True)\n",
        "\n",
        "plt.show()"
      ],
      "execution_count": 314,
      "outputs": [
        {
          "output_type": "display_data",
          "data": {
            "image/png": "[encoded data removed]",
            "text/plain": [
              "<Figure size 864x864 with 2 Axes>"
            ]
          },
          "metadata": {
            "needs_background": "light"
          }
        }
      ]
    },
    {
      "cell_type": "markdown",
      "metadata": {
        "id": "7iBVxUSyMz2m"
      },
      "source": [
        "#### Encoding the target column"
      ]
    },
    {
      "cell_type": "code",
      "metadata": {
        "colab": {
          "base_uri": "https://localhost:8080/"
        },
        "id": "3d-aXJGfV--I",
        "outputId": "4ea091d7-606d-45c8-9634-1756e94203b4"
      },
      "source": [
        "zoo_data['class_type'].unique()"
      ],
      "execution_count": 317,
      "outputs": [
        {
          "output_type": "execute_result",
          "data": {
            "text/plain": [
              "array([1, 4, 2, 7, 6, 5, 3])"
            ]
          },
          "metadata": {},
          "execution_count": 317
        }
      ]
    },
    {
      "cell_type": "code",
      "metadata": {
        "id": "p1PE6pXpL4UW"
      },
      "source": [
        "\n",
        "col_encoding=function_onehot(zoo_data['class_type'])\n",
        "target=pd.DataFrame(col_encoding)"
      ],
      "execution_count": 403,
      "outputs": []
    },
    {
      "cell_type": "code",
      "metadata": {
        "colab": {
          "base_uri": "https://localhost:8080/",
          "height": 201
        },
        "id": "WzfinF2VL4Ug",
        "outputId": "c18fdbad-fe1b-4c56-c8db-449a7384c0d7"
      },
      "source": [
        "#target=pd.DataFrame(target,columns=[i for i in range(0,7)])\n",
        "target.head()"
      ],
      "execution_count": 404,
      "outputs": [
        {
          "output_type": "execute_result",
          "data": {
            "text/html": [
              "<div>\n",
              "<style scoped>\n",
              "    .dataframe tbody tr th:only-of-type {\n",
              "        vertical-align: middle;\n",
              "    }\n",
              "\n",
              "    .dataframe tbody tr th {\n",
              "        vertical-align: top;\n",
              "    }\n",
              "\n",
              "    .dataframe thead th {\n",
              "        text-align: right;\n",
              "    }\n",
              "</style>\n",
              "<table border=\"1\" class=\"dataframe\">\n",
              "  <thead>\n",
              "    <tr style=\"text-align: right;\">\n",
              "      <th></th>\n",
              "      <th>0</th>\n",
              "      <th>1</th>\n",
              "      <th>2</th>\n",
              "      <th>3</th>\n",
              "      <th>4</th>\n",
              "      <th>5</th>\n",
              "      <th>6</th>\n",
              "    </tr>\n",
              "  </thead>\n",
              "  <tbody>\n",
              "    <tr>\n",
              "      <th>0</th>\n",
              "      <td>1.0</td>\n",
              "      <td>0.0</td>\n",
              "      <td>0.0</td>\n",
              "      <td>0.0</td>\n",
              "      <td>0.0</td>\n",
              "      <td>0.0</td>\n",
              "      <td>0.0</td>\n",
              "    </tr>\n",
              "    <tr>\n",
              "      <th>1</th>\n",
              "      <td>1.0</td>\n",
              "      <td>0.0</td>\n",
              "      <td>0.0</td>\n",
              "      <td>0.0</td>\n",
              "      <td>0.0</td>\n",
              "      <td>0.0</td>\n",
              "      <td>0.0</td>\n",
              "    </tr>\n",
              "    <tr>\n",
              "      <th>2</th>\n",
              "      <td>0.0</td>\n",
              "      <td>1.0</td>\n",
              "      <td>0.0</td>\n",
              "      <td>0.0</td>\n",
              "      <td>0.0</td>\n",
              "      <td>0.0</td>\n",
              "      <td>0.0</td>\n",
              "    </tr>\n",
              "    <tr>\n",
              "      <th>3</th>\n",
              "      <td>1.0</td>\n",
              "      <td>0.0</td>\n",
              "      <td>0.0</td>\n",
              "      <td>0.0</td>\n",
              "      <td>0.0</td>\n",
              "      <td>0.0</td>\n",
              "      <td>0.0</td>\n",
              "    </tr>\n",
              "    <tr>\n",
              "      <th>4</th>\n",
              "      <td>1.0</td>\n",
              "      <td>0.0</td>\n",
              "      <td>0.0</td>\n",
              "      <td>0.0</td>\n",
              "      <td>0.0</td>\n",
              "      <td>0.0</td>\n",
              "      <td>0.0</td>\n",
              "    </tr>\n",
              "  </tbody>\n",
              "</table>\n",
              "</div>"
            ],
            "text/plain": [
              "     0    1    2    3    4    5    6\n",
              "0  1.0  0.0  0.0  0.0  0.0  0.0  0.0\n",
              "1  1.0  0.0  0.0  0.0  0.0  0.0  0.0\n",
              "2  0.0  1.0  0.0  0.0  0.0  0.0  0.0\n",
              "3  1.0  0.0  0.0  0.0  0.0  0.0  0.0\n",
              "4  1.0  0.0  0.0  0.0  0.0  0.0  0.0"
            ]
          },
          "metadata": {},
          "execution_count": 404
        }
      ]
    },
    {
      "cell_type": "code",
      "metadata": {
        "id": "cIdvCVOBz2Ex"
      },
      "source": [
        "X = zoo_data.drop(['animal_name','class_type'],axis=1)\n",
        "y = target\n",
        "\n",
        "X_train, X_test, Y_train, Y_test = train_test_split(X, y, test_size=0.3, random_state=2)"
      ],
      "execution_count": 419,
      "outputs": []
    },
    {
      "cell_type": "code",
      "metadata": {
        "colab": {
          "base_uri": "https://localhost:8080/"
        },
        "id": "2e8e6sdQRttk",
        "outputId": "4e52d453-7b51-434f-a008-c162edc90863"
      },
      "source": [
        "X_train.shape"
      ],
      "execution_count": 420,
      "outputs": [
        {
          "output_type": "execute_result",
          "data": {
            "text/plain": [
              "(70, 16)"
            ]
          },
          "metadata": {},
          "execution_count": 420
        }
      ]
    },
    {
      "cell_type": "code",
      "metadata": {
        "colab": {
          "base_uri": "https://localhost:8080/"
        },
        "id": "VOInxCTrSTnB",
        "outputId": "bbb5b643-c47a-4c71-91c8-04c29bb4dc7d"
      },
      "source": [
        "Y_train.shape"
      ],
      "execution_count": 421,
      "outputs": [
        {
          "output_type": "execute_result",
          "data": {
            "text/plain": [
              "(70, 7)"
            ]
          },
          "metadata": {},
          "execution_count": 421
        }
      ]
    },
    {
      "cell_type": "code",
      "metadata": {
        "colab": {
          "base_uri": "https://localhost:8080/",
          "height": 221
        },
        "id": "Q8WhKM24a8fi",
        "outputId": "8ea7b166-8faa-4d27-caf5-02512d3581f4"
      },
      "source": [
        "X_train.head()"
      ],
      "execution_count": 422,
      "outputs": [
        {
          "output_type": "execute_result",
          "data": {
            "text/html": [
              "<div>\n",
              "<style scoped>\n",
              "    .dataframe tbody tr th:only-of-type {\n",
              "        vertical-align: middle;\n",
              "    }\n",
              "\n",
              "    .dataframe tbody tr th {\n",
              "        vertical-align: top;\n",
              "    }\n",
              "\n",
              "    .dataframe thead th {\n",
              "        text-align: right;\n",
              "    }\n",
              "</style>\n",
              "<table border=\"1\" class=\"dataframe\">\n",
              "  <thead>\n",
              "    <tr style=\"text-align: right;\">\n",
              "      <th></th>\n",
              "      <th>hair</th>\n",
              "      <th>feathers</th>\n",
              "      <th>eggs</th>\n",
              "      <th>milk</th>\n",
              "      <th>airborne</th>\n",
              "      <th>aquatic</th>\n",
              "      <th>predator</th>\n",
              "      <th>toothed</th>\n",
              "      <th>backbone</th>\n",
              "      <th>breathes</th>\n",
              "      <th>venomous</th>\n",
              "      <th>fins</th>\n",
              "      <th>legs</th>\n",
              "      <th>tail</th>\n",
              "      <th>domestic</th>\n",
              "      <th>catsize</th>\n",
              "    </tr>\n",
              "  </thead>\n",
              "  <tbody>\n",
              "    <tr>\n",
              "      <th>1</th>\n",
              "      <td>1</td>\n",
              "      <td>0</td>\n",
              "      <td>0</td>\n",
              "      <td>1</td>\n",
              "      <td>0</td>\n",
              "      <td>0</td>\n",
              "      <td>0</td>\n",
              "      <td>1</td>\n",
              "      <td>1</td>\n",
              "      <td>1</td>\n",
              "      <td>0</td>\n",
              "      <td>0</td>\n",
              "      <td>4</td>\n",
              "      <td>1</td>\n",
              "      <td>0</td>\n",
              "      <td>1</td>\n",
              "    </tr>\n",
              "    <tr>\n",
              "      <th>18</th>\n",
              "      <td>0</td>\n",
              "      <td>0</td>\n",
              "      <td>1</td>\n",
              "      <td>0</td>\n",
              "      <td>0</td>\n",
              "      <td>1</td>\n",
              "      <td>1</td>\n",
              "      <td>1</td>\n",
              "      <td>1</td>\n",
              "      <td>0</td>\n",
              "      <td>0</td>\n",
              "      <td>1</td>\n",
              "      <td>0</td>\n",
              "      <td>1</td>\n",
              "      <td>0</td>\n",
              "      <td>1</td>\n",
              "    </tr>\n",
              "    <tr>\n",
              "      <th>88</th>\n",
              "      <td>0</td>\n",
              "      <td>0</td>\n",
              "      <td>1</td>\n",
              "      <td>0</td>\n",
              "      <td>0</td>\n",
              "      <td>0</td>\n",
              "      <td>0</td>\n",
              "      <td>0</td>\n",
              "      <td>0</td>\n",
              "      <td>1</td>\n",
              "      <td>0</td>\n",
              "      <td>0</td>\n",
              "      <td>6</td>\n",
              "      <td>0</td>\n",
              "      <td>0</td>\n",
              "      <td>0</td>\n",
              "    </tr>\n",
              "    <tr>\n",
              "      <th>36</th>\n",
              "      <td>1</td>\n",
              "      <td>0</td>\n",
              "      <td>0</td>\n",
              "      <td>1</td>\n",
              "      <td>0</td>\n",
              "      <td>0</td>\n",
              "      <td>0</td>\n",
              "      <td>1</td>\n",
              "      <td>1</td>\n",
              "      <td>1</td>\n",
              "      <td>0</td>\n",
              "      <td>0</td>\n",
              "      <td>4</td>\n",
              "      <td>1</td>\n",
              "      <td>0</td>\n",
              "      <td>0</td>\n",
              "    </tr>\n",
              "    <tr>\n",
              "      <th>73</th>\n",
              "      <td>0</td>\n",
              "      <td>0</td>\n",
              "      <td>1</td>\n",
              "      <td>0</td>\n",
              "      <td>0</td>\n",
              "      <td>1</td>\n",
              "      <td>0</td>\n",
              "      <td>1</td>\n",
              "      <td>1</td>\n",
              "      <td>0</td>\n",
              "      <td>0</td>\n",
              "      <td>1</td>\n",
              "      <td>0</td>\n",
              "      <td>1</td>\n",
              "      <td>0</td>\n",
              "      <td>0</td>\n",
              "    </tr>\n",
              "  </tbody>\n",
              "</table>\n",
              "</div>"
            ],
            "text/plain": [
              "    hair  feathers  eggs  milk  airborne  ...  fins  legs  tail  domestic  catsize\n",
              "1      1         0     0     1         0  ...     0     4     1         0        1\n",
              "18     0         0     1     0         0  ...     1     0     1         0        1\n",
              "88     0         0     1     0         0  ...     0     6     0         0        0\n",
              "36     1         0     0     1         0  ...     0     4     1         0        0\n",
              "73     0         0     1     0         0  ...     1     0     1         0        0\n",
              "\n",
              "[5 rows x 16 columns]"
            ]
          },
          "metadata": {},
          "execution_count": 422
        }
      ]
    },
    {
      "cell_type": "code",
      "metadata": {
        "id": "3U64RZgqz2Ex"
      },
      "source": [
        "\n",
        "zoo_model= Sequential()\n",
        "zoo_model.add(Dense(units = 16, activation = 'relu',  input_dim = 16))\n",
        "zoo_model.add(Dense(units = 128, activation = 'relu'))\n",
        "zoo_model.add(Dense(units = 128, activation = 'relu'))\n",
        "zoo_model.add(Dense(units=7, activation='softmax'))\n"
      ],
      "execution_count": 423,
      "outputs": []
    },
    {
      "cell_type": "code",
      "metadata": {
        "id": "t091JV43z2Ey"
      },
      "source": [
        "zoo_model.compile(optimizer='adam', loss='categorical_crossentropy', metrics=['categorical_accuracy'])"
      ],
      "execution_count": 424,
      "outputs": []
    },
    {
      "cell_type": "code",
      "metadata": {
        "colab": {
          "base_uri": "https://localhost:8080/"
        },
        "id": "EeKOiflAz2Ey",
        "outputId": "d36904c8-b07c-4b84-df46-7908ace25377"
      },
      "source": [
        "tf.random.set_seed(2)\n",
        "h7=zoo_model.fit(X_train, Y_train.values, epochs =100,validation_split=0.1)\n"
      ],
      "execution_count": 425,
      "outputs": [
        {
          "output_type": "stream",
          "name": "stdout",
          "text": [
            "Epoch 1/100\n",
            "2/2 [==============================] - 1s 224ms/step - loss: 1.9425 - categorical_accuracy: 0.2698 - val_loss: 1.7633 - val_categorical_accuracy: 0.4286\n",
            "Epoch 2/100\n",
            "2/2 [==============================] - 0s 25ms/step - loss: 1.7257 - categorical_accuracy: 0.6349 - val_loss: 1.7199 - val_categorical_accuracy: 0.4286\n",
            "Epoch 3/100\n",
            "2/2 [==============================] - 0s 25ms/step - loss: 1.5341 - categorical_accuracy: 0.5873 - val_loss: 1.7250 - val_categorical_accuracy: 0.4286\n",
            "Epoch 4/100\n",
            "2/2 [==============================] - 0s 28ms/step - loss: 1.4337 - categorical_accuracy: 0.5873 - val_loss: 1.7614 - val_categorical_accuracy: 0.4286\n",
            "Epoch 5/100\n",
            "2/2 [==============================] - 0s 28ms/step - loss: 1.3363 - categorical_accuracy: 0.5873 - val_loss: 1.7763 - val_categorical_accuracy: 0.4286\n",
            "Epoch 6/100\n",
            "2/2 [==============================] - 0s 30ms/step - loss: 1.2715 - categorical_accuracy: 0.5873 - val_loss: 1.7577 - val_categorical_accuracy: 0.4286\n",
            "Epoch 7/100\n",
            "2/2 [==============================] - 0s 32ms/step - loss: 1.2103 - categorical_accuracy: 0.5873 - val_loss: 1.6989 - val_categorical_accuracy: 0.4286\n",
            "Epoch 8/100\n",
            "2/2 [==============================] - 0s 28ms/step - loss: 1.1399 - categorical_accuracy: 0.6349 - val_loss: 1.5985 - val_categorical_accuracy: 0.4286\n",
            "Epoch 9/100\n",
            "2/2 [==============================] - 0s 24ms/step - loss: 1.0664 - categorical_accuracy: 0.6508 - val_loss: 1.5059 - val_categorical_accuracy: 0.5714\n",
            "Epoch 10/100\n",
            "2/2 [==============================] - 0s 49ms/step - loss: 1.0014 - categorical_accuracy: 0.7302 - val_loss: 1.4158 - val_categorical_accuracy: 0.5714\n",
            "Epoch 11/100\n",
            "2/2 [==============================] - 0s 26ms/step - loss: 0.9389 - categorical_accuracy: 0.7778 - val_loss: 1.3218 - val_categorical_accuracy: 0.5714\n",
            "Epoch 12/100\n",
            "2/2 [==============================] - 0s 26ms/step - loss: 0.8785 - categorical_accuracy: 0.7778 - val_loss: 1.2501 - val_categorical_accuracy: 0.5714\n",
            "Epoch 13/100\n",
            "2/2 [==============================] - 0s 24ms/step - loss: 0.8217 - categorical_accuracy: 0.8254 - val_loss: 1.1728 - val_categorical_accuracy: 0.5714\n",
            "Epoch 14/100\n",
            "2/2 [==============================] - 0s 25ms/step - loss: 0.7683 - categorical_accuracy: 0.8413 - val_loss: 1.1029 - val_categorical_accuracy: 0.7143\n",
            "Epoch 15/100\n",
            "2/2 [==============================] - 0s 26ms/step - loss: 0.7140 - categorical_accuracy: 0.8413 - val_loss: 1.0366 - val_categorical_accuracy: 0.7143\n",
            "Epoch 16/100\n",
            "2/2 [==============================] - 0s 23ms/step - loss: 0.6682 - categorical_accuracy: 0.8413 - val_loss: 0.9666 - val_categorical_accuracy: 0.7143\n",
            "Epoch 17/100\n",
            "2/2 [==============================] - 0s 29ms/step - loss: 0.6216 - categorical_accuracy: 0.8413 - val_loss: 0.9067 - val_categorical_accuracy: 0.7143\n",
            "Epoch 18/100\n",
            "2/2 [==============================] - 0s 29ms/step - loss: 0.5827 - categorical_accuracy: 0.8413 - val_loss: 0.8495 - val_categorical_accuracy: 0.7143\n",
            "Epoch 19/100\n",
            "2/2 [==============================] - 0s 26ms/step - loss: 0.5453 - categorical_accuracy: 0.8413 - val_loss: 0.8091 - val_categorical_accuracy: 0.7143\n",
            "Epoch 20/100\n",
            "2/2 [==============================] - 0s 30ms/step - loss: 0.5132 - categorical_accuracy: 0.8571 - val_loss: 0.7568 - val_categorical_accuracy: 0.7143\n",
            "Epoch 21/100\n",
            "2/2 [==============================] - 0s 34ms/step - loss: 0.4819 - categorical_accuracy: 0.8730 - val_loss: 0.7298 - val_categorical_accuracy: 0.7143\n",
            "Epoch 22/100\n",
            "2/2 [==============================] - 0s 31ms/step - loss: 0.4518 - categorical_accuracy: 0.8730 - val_loss: 0.7035 - val_categorical_accuracy: 0.7143\n",
            "Epoch 23/100\n",
            "2/2 [==============================] - 0s 31ms/step - loss: 0.4283 - categorical_accuracy: 0.8730 - val_loss: 0.6849 - val_categorical_accuracy: 0.7143\n",
            "Epoch 24/100\n",
            "2/2 [==============================] - 0s 34ms/step - loss: 0.4064 - categorical_accuracy: 0.8730 - val_loss: 0.6756 - val_categorical_accuracy: 0.7143\n",
            "Epoch 25/100\n",
            "2/2 [==============================] - 0s 29ms/step - loss: 0.3848 - categorical_accuracy: 0.8730 - val_loss: 0.6677 - val_categorical_accuracy: 0.7143\n",
            "Epoch 26/100\n",
            "2/2 [==============================] - 0s 25ms/step - loss: 0.3662 - categorical_accuracy: 0.8730 - val_loss: 0.6674 - val_categorical_accuracy: 0.7143\n",
            "Epoch 27/100\n",
            "2/2 [==============================] - 0s 25ms/step - loss: 0.3479 - categorical_accuracy: 0.8889 - val_loss: 0.6443 - val_categorical_accuracy: 0.7143\n",
            "Epoch 28/100\n",
            "2/2 [==============================] - 0s 26ms/step - loss: 0.3322 - categorical_accuracy: 0.8889 - val_loss: 0.6311 - val_categorical_accuracy: 0.7143\n",
            "Epoch 29/100\n",
            "2/2 [==============================] - 0s 29ms/step - loss: 0.3176 - categorical_accuracy: 0.8889 - val_loss: 0.6329 - val_categorical_accuracy: 0.7143\n",
            "Epoch 30/100\n",
            "2/2 [==============================] - 0s 35ms/step - loss: 0.3032 - categorical_accuracy: 0.8889 - val_loss: 0.6206 - val_categorical_accuracy: 0.7143\n",
            "Epoch 31/100\n",
            "2/2 [==============================] - 0s 30ms/step - loss: 0.2885 - categorical_accuracy: 0.8889 - val_loss: 0.6084 - val_categorical_accuracy: 0.7143\n",
            "Epoch 32/100\n",
            "2/2 [==============================] - 0s 27ms/step - loss: 0.2753 - categorical_accuracy: 0.9048 - val_loss: 0.5764 - val_categorical_accuracy: 0.7143\n",
            "Epoch 33/100\n",
            "2/2 [==============================] - 0s 32ms/step - loss: 0.2641 - categorical_accuracy: 0.9048 - val_loss: 0.5643 - val_categorical_accuracy: 0.7143\n",
            "Epoch 34/100\n",
            "2/2 [==============================] - 0s 24ms/step - loss: 0.2506 - categorical_accuracy: 0.9206 - val_loss: 0.5614 - val_categorical_accuracy: 0.7143\n",
            "Epoch 35/100\n",
            "2/2 [==============================] - 0s 25ms/step - loss: 0.2398 - categorical_accuracy: 0.9048 - val_loss: 0.5454 - val_categorical_accuracy: 0.7143\n",
            "Epoch 36/100\n",
            "2/2 [==============================] - 0s 35ms/step - loss: 0.2296 - categorical_accuracy: 0.9206 - val_loss: 0.5416 - val_categorical_accuracy: 0.7143\n",
            "Epoch 37/100\n",
            "2/2 [==============================] - 0s 33ms/step - loss: 0.2187 - categorical_accuracy: 0.9365 - val_loss: 0.5308 - val_categorical_accuracy: 0.7143\n",
            "Epoch 38/100\n",
            "2/2 [==============================] - 0s 30ms/step - loss: 0.2097 - categorical_accuracy: 0.9365 - val_loss: 0.5244 - val_categorical_accuracy: 0.7143\n",
            "Epoch 39/100\n",
            "2/2 [==============================] - 0s 27ms/step - loss: 0.1996 - categorical_accuracy: 0.9524 - val_loss: 0.5251 - val_categorical_accuracy: 0.7143\n",
            "Epoch 40/100\n",
            "2/2 [==============================] - 0s 27ms/step - loss: 0.1909 - categorical_accuracy: 0.9524 - val_loss: 0.4999 - val_categorical_accuracy: 0.8571\n",
            "Epoch 41/100\n",
            "2/2 [==============================] - 0s 24ms/step - loss: 0.1837 - categorical_accuracy: 0.9524 - val_loss: 0.5161 - val_categorical_accuracy: 0.8571\n",
            "Epoch 42/100\n",
            "2/2 [==============================] - 0s 26ms/step - loss: 0.1732 - categorical_accuracy: 0.9524 - val_loss: 0.5225 - val_categorical_accuracy: 0.8571\n",
            "Epoch 43/100\n",
            "2/2 [==============================] - 0s 25ms/step - loss: 0.1646 - categorical_accuracy: 0.9683 - val_loss: 0.5108 - val_categorical_accuracy: 0.8571\n",
            "Epoch 44/100\n",
            "2/2 [==============================] - 0s 26ms/step - loss: 0.1562 - categorical_accuracy: 0.9683 - val_loss: 0.4929 - val_categorical_accuracy: 0.8571\n",
            "Epoch 45/100\n",
            "2/2 [==============================] - 0s 25ms/step - loss: 0.1484 - categorical_accuracy: 1.0000 - val_loss: 0.4789 - val_categorical_accuracy: 0.8571\n",
            "Epoch 46/100\n",
            "2/2 [==============================] - 0s 28ms/step - loss: 0.1411 - categorical_accuracy: 1.0000 - val_loss: 0.4701 - val_categorical_accuracy: 0.8571\n",
            "Epoch 47/100\n",
            "2/2 [==============================] - 0s 24ms/step - loss: 0.1349 - categorical_accuracy: 1.0000 - val_loss: 0.4641 - val_categorical_accuracy: 0.8571\n",
            "Epoch 48/100\n",
            "2/2 [==============================] - 0s 25ms/step - loss: 0.1282 - categorical_accuracy: 1.0000 - val_loss: 0.4655 - val_categorical_accuracy: 0.8571\n",
            "Epoch 49/100\n",
            "2/2 [==============================] - 0s 34ms/step - loss: 0.1212 - categorical_accuracy: 1.0000 - val_loss: 0.4794 - val_categorical_accuracy: 0.8571\n",
            "Epoch 50/100\n",
            "2/2 [==============================] - 0s 28ms/step - loss: 0.1156 - categorical_accuracy: 1.0000 - val_loss: 0.4882 - val_categorical_accuracy: 0.8571\n",
            "Epoch 51/100\n",
            "2/2 [==============================] - 0s 29ms/step - loss: 0.1101 - categorical_accuracy: 1.0000 - val_loss: 0.4988 - val_categorical_accuracy: 0.8571\n",
            "Epoch 52/100\n",
            "2/2 [==============================] - 0s 32ms/step - loss: 0.1033 - categorical_accuracy: 1.0000 - val_loss: 0.4714 - val_categorical_accuracy: 0.8571\n",
            "Epoch 53/100\n",
            "2/2 [==============================] - 0s 31ms/step - loss: 0.0994 - categorical_accuracy: 1.0000 - val_loss: 0.4235 - val_categorical_accuracy: 0.8571\n",
            "Epoch 54/100\n",
            "2/2 [==============================] - 0s 31ms/step - loss: 0.0922 - categorical_accuracy: 1.0000 - val_loss: 0.4308 - val_categorical_accuracy: 0.8571\n",
            "Epoch 55/100\n",
            "2/2 [==============================] - 0s 27ms/step - loss: 0.0878 - categorical_accuracy: 1.0000 - val_loss: 0.4196 - val_categorical_accuracy: 0.8571\n",
            "Epoch 56/100\n",
            "2/2 [==============================] - 0s 26ms/step - loss: 0.0827 - categorical_accuracy: 1.0000 - val_loss: 0.4138 - val_categorical_accuracy: 0.8571\n",
            "Epoch 57/100\n",
            "2/2 [==============================] - 0s 28ms/step - loss: 0.0781 - categorical_accuracy: 1.0000 - val_loss: 0.4119 - val_categorical_accuracy: 0.8571\n",
            "Epoch 58/100\n",
            "2/2 [==============================] - 0s 34ms/step - loss: 0.0732 - categorical_accuracy: 1.0000 - val_loss: 0.4155 - val_categorical_accuracy: 0.8571\n",
            "Epoch 59/100\n",
            "2/2 [==============================] - 0s 26ms/step - loss: 0.0694 - categorical_accuracy: 1.0000 - val_loss: 0.4201 - val_categorical_accuracy: 0.8571\n",
            "Epoch 60/100\n",
            "2/2 [==============================] - 0s 26ms/step - loss: 0.0662 - categorical_accuracy: 1.0000 - val_loss: 0.4289 - val_categorical_accuracy: 0.8571\n",
            "Epoch 61/100\n",
            "2/2 [==============================] - 0s 28ms/step - loss: 0.0632 - categorical_accuracy: 1.0000 - val_loss: 0.4316 - val_categorical_accuracy: 0.8571\n",
            "Epoch 62/100\n",
            "2/2 [==============================] - 0s 27ms/step - loss: 0.0606 - categorical_accuracy: 1.0000 - val_loss: 0.4361 - val_categorical_accuracy: 0.8571\n",
            "Epoch 63/100\n",
            "2/2 [==============================] - 0s 28ms/step - loss: 0.0574 - categorical_accuracy: 1.0000 - val_loss: 0.4181 - val_categorical_accuracy: 0.8571\n",
            "Epoch 64/100\n",
            "2/2 [==============================] - 0s 26ms/step - loss: 0.0540 - categorical_accuracy: 1.0000 - val_loss: 0.4171 - val_categorical_accuracy: 0.8571\n",
            "Epoch 65/100\n",
            "2/2 [==============================] - 0s 29ms/step - loss: 0.0507 - categorical_accuracy: 1.0000 - val_loss: 0.4038 - val_categorical_accuracy: 0.8571\n",
            "Epoch 66/100\n",
            "2/2 [==============================] - 0s 34ms/step - loss: 0.0488 - categorical_accuracy: 1.0000 - val_loss: 0.3914 - val_categorical_accuracy: 0.8571\n",
            "Epoch 67/100\n",
            "2/2 [==============================] - 0s 26ms/step - loss: 0.0466 - categorical_accuracy: 1.0000 - val_loss: 0.3975 - val_categorical_accuracy: 0.8571\n",
            "Epoch 68/100\n",
            "2/2 [==============================] - 0s 25ms/step - loss: 0.0439 - categorical_accuracy: 1.0000 - val_loss: 0.4177 - val_categorical_accuracy: 0.8571\n",
            "Epoch 69/100\n",
            "2/2 [==============================] - 0s 24ms/step - loss: 0.0421 - categorical_accuracy: 1.0000 - val_loss: 0.4281 - val_categorical_accuracy: 0.8571\n",
            "Epoch 70/100\n",
            "2/2 [==============================] - 0s 32ms/step - loss: 0.0400 - categorical_accuracy: 1.0000 - val_loss: 0.4242 - val_categorical_accuracy: 0.8571\n",
            "Epoch 71/100\n",
            "2/2 [==============================] - 0s 28ms/step - loss: 0.0382 - categorical_accuracy: 1.0000 - val_loss: 0.4152 - val_categorical_accuracy: 0.8571\n",
            "Epoch 72/100\n",
            "2/2 [==============================] - 0s 28ms/step - loss: 0.0367 - categorical_accuracy: 1.0000 - val_loss: 0.4105 - val_categorical_accuracy: 0.8571\n",
            "Epoch 73/100\n",
            "2/2 [==============================] - 0s 29ms/step - loss: 0.0343 - categorical_accuracy: 1.0000 - val_loss: 0.4136 - val_categorical_accuracy: 0.8571\n",
            "Epoch 74/100\n",
            "2/2 [==============================] - 0s 27ms/step - loss: 0.0329 - categorical_accuracy: 1.0000 - val_loss: 0.4131 - val_categorical_accuracy: 0.8571\n",
            "Epoch 75/100\n",
            "2/2 [==============================] - 0s 29ms/step - loss: 0.0319 - categorical_accuracy: 1.0000 - val_loss: 0.4036 - val_categorical_accuracy: 0.8571\n",
            "Epoch 76/100\n",
            "2/2 [==============================] - 0s 29ms/step - loss: 0.0304 - categorical_accuracy: 1.0000 - val_loss: 0.4098 - val_categorical_accuracy: 0.8571\n",
            "Epoch 77/100\n",
            "2/2 [==============================] - 0s 36ms/step - loss: 0.0289 - categorical_accuracy: 1.0000 - val_loss: 0.4215 - val_categorical_accuracy: 0.8571\n",
            "Epoch 78/100\n",
            "2/2 [==============================] - 0s 29ms/step - loss: 0.0281 - categorical_accuracy: 1.0000 - val_loss: 0.4258 - val_categorical_accuracy: 0.8571\n",
            "Epoch 79/100\n",
            "2/2 [==============================] - 0s 33ms/step - loss: 0.0272 - categorical_accuracy: 1.0000 - val_loss: 0.4284 - val_categorical_accuracy: 0.8571\n",
            "Epoch 80/100\n",
            "2/2 [==============================] - 0s 32ms/step - loss: 0.0255 - categorical_accuracy: 1.0000 - val_loss: 0.4377 - val_categorical_accuracy: 0.8571\n",
            "Epoch 81/100\n",
            "2/2 [==============================] - 0s 37ms/step - loss: 0.0248 - categorical_accuracy: 1.0000 - val_loss: 0.4465 - val_categorical_accuracy: 0.8571\n",
            "Epoch 82/100\n",
            "2/2 [==============================] - 0s 34ms/step - loss: 0.0237 - categorical_accuracy: 1.0000 - val_loss: 0.4358 - val_categorical_accuracy: 0.8571\n",
            "Epoch 83/100\n",
            "2/2 [==============================] - 0s 35ms/step - loss: 0.0226 - categorical_accuracy: 1.0000 - val_loss: 0.4323 - val_categorical_accuracy: 0.8571\n",
            "Epoch 84/100\n",
            "2/2 [==============================] - 0s 34ms/step - loss: 0.0218 - categorical_accuracy: 1.0000 - val_loss: 0.4305 - val_categorical_accuracy: 0.8571\n",
            "Epoch 85/100\n",
            "2/2 [==============================] - 0s 30ms/step - loss: 0.0210 - categorical_accuracy: 1.0000 - val_loss: 0.4321 - val_categorical_accuracy: 0.8571\n",
            "Epoch 86/100\n",
            "2/2 [==============================] - 0s 30ms/step - loss: 0.0203 - categorical_accuracy: 1.0000 - val_loss: 0.4294 - val_categorical_accuracy: 0.8571\n",
            "Epoch 87/100\n",
            "2/2 [==============================] - 0s 28ms/step - loss: 0.0195 - categorical_accuracy: 1.0000 - val_loss: 0.4236 - val_categorical_accuracy: 0.8571\n",
            "Epoch 88/100\n",
            "2/2 [==============================] - 0s 28ms/step - loss: 0.0189 - categorical_accuracy: 1.0000 - val_loss: 0.4317 - val_categorical_accuracy: 0.8571\n",
            "Epoch 89/100\n",
            "2/2 [==============================] - 0s 26ms/step - loss: 0.0181 - categorical_accuracy: 1.0000 - val_loss: 0.4339 - val_categorical_accuracy: 0.8571\n",
            "Epoch 90/100\n",
            "2/2 [==============================] - 0s 27ms/step - loss: 0.0176 - categorical_accuracy: 1.0000 - val_loss: 0.4470 - val_categorical_accuracy: 0.8571\n",
            "Epoch 91/100\n",
            "2/2 [==============================] - 0s 27ms/step - loss: 0.0171 - categorical_accuracy: 1.0000 - val_loss: 0.4486 - val_categorical_accuracy: 0.8571\n",
            "Epoch 92/100\n",
            "2/2 [==============================] - 0s 29ms/step - loss: 0.0164 - categorical_accuracy: 1.0000 - val_loss: 0.4527 - val_categorical_accuracy: 0.8571\n",
            "Epoch 93/100\n",
            "2/2 [==============================] - 0s 31ms/step - loss: 0.0156 - categorical_accuracy: 1.0000 - val_loss: 0.4623 - val_categorical_accuracy: 0.8571\n",
            "Epoch 94/100\n",
            "2/2 [==============================] - 0s 31ms/step - loss: 0.0150 - categorical_accuracy: 1.0000 - val_loss: 0.4632 - val_categorical_accuracy: 0.8571\n",
            "Epoch 95/100\n",
            "2/2 [==============================] - 0s 30ms/step - loss: 0.0146 - categorical_accuracy: 1.0000 - val_loss: 0.4580 - val_categorical_accuracy: 0.8571\n",
            "Epoch 96/100\n",
            "2/2 [==============================] - 0s 33ms/step - loss: 0.0143 - categorical_accuracy: 1.0000 - val_loss: 0.4532 - val_categorical_accuracy: 0.8571\n",
            "Epoch 97/100\n",
            "2/2 [==============================] - 0s 32ms/step - loss: 0.0137 - categorical_accuracy: 1.0000 - val_loss: 0.4584 - val_categorical_accuracy: 0.8571\n",
            "Epoch 98/100\n",
            "2/2 [==============================] - 0s 36ms/step - loss: 0.0133 - categorical_accuracy: 1.0000 - val_loss: 0.4565 - val_categorical_accuracy: 0.8571\n",
            "Epoch 99/100\n",
            "2/2 [==============================] - 0s 30ms/step - loss: 0.0129 - categorical_accuracy: 1.0000 - val_loss: 0.4648 - val_categorical_accuracy: 0.8571\n",
            "Epoch 100/100\n",
            "2/2 [==============================] - 0s 32ms/step - loss: 0.0125 - categorical_accuracy: 1.0000 - val_loss: 0.4675 - val_categorical_accuracy: 0.8571\n"
          ]
        }
      ]
    },
    {
      "cell_type": "code",
      "metadata": {
        "colab": {
          "base_uri": "https://localhost:8080/",
          "height": 295
        },
        "id": "w7OXYUWMz2Ey",
        "outputId": "323a6a6b-c58a-454f-9c64-5242ab8d5628"
      },
      "source": [
        "plt.plot(h7.history['categorical_accuracy'])\n",
        "plt.plot(h7.history['val_categorical_accuracy'])\n",
        "plt.title('model accuracy')\n",
        "plt.ylabel('accuracy')\n",
        "plt.xlabel('epoch')\n",
        "plt.legend(['train', 'val'], loc='upper left')\n",
        "plt.show()"
      ],
      "execution_count": 426,
      "outputs": [
        {
          "output_type": "display_data",
          "data": {
            "image/png": "[encoded data removed]",
            "text/plain": [
              "<Figure size 432x288 with 1 Axes>"
            ]
          },
          "metadata": {
            "needs_background": "light"
          }
        }
      ]
    },
    {
      "cell_type": "code",
      "metadata": {
        "id": "po89udZtYW_0"
      },
      "source": [
        "pred_y= zoo_model.predict(X_test)\n",
        "pred_class=get_class(pred_y,Y_test.shape[0])"
      ],
      "execution_count": 427,
      "outputs": []
    },
    {
      "cell_type": "markdown",
      "metadata": {
        "id": "KIWUyjTOdFZP"
      },
      "source": [
        "####Defining function for confusion matrix and accuracy metrics for classification"
      ]
    },
    {
      "cell_type": "code",
      "metadata": {
        "id": "lcIuqiqBbPSl"
      },
      "source": [
        "\n",
        "number_of_classes=7\n",
        "classes=[i for i in range(0,7)]\n",
        "conf_matrix3= pd.DataFrame(\n",
        "    np.zeros((number_of_classes, number_of_classes),dtype=int),\n",
        "    index=classes,columns=classes)\n",
        "\n",
        "for k in list(zip(get_class(np.array(Y_test).reshape(Y_test.shape[0],7),Y_test.shape[0]) ,pred_class)):\n",
        "    conf_matrix3.loc[k[0], k[1][0]] += 1"
      ],
      "execution_count": 445,
      "outputs": []
    },
    {
      "cell_type": "code",
      "metadata": {
        "colab": {
          "base_uri": "https://localhost:8080/",
          "height": 263
        },
        "id": "jePpk7MYbQOO",
        "outputId": "cc7fb8d8-1707-44e5-acce-93404639d7b7"
      },
      "source": [
        "conf_matrix3"
      ],
      "execution_count": 446,
      "outputs": [
        {
          "output_type": "execute_result",
          "data": {
            "text/html": [
              "<div>\n",
              "<style scoped>\n",
              "    .dataframe tbody tr th:only-of-type {\n",
              "        vertical-align: middle;\n",
              "    }\n",
              "\n",
              "    .dataframe tbody tr th {\n",
              "        vertical-align: top;\n",
              "    }\n",
              "\n",
              "    .dataframe thead th {\n",
              "        text-align: right;\n",
              "    }\n",
              "</style>\n",
              "<table border=\"1\" class=\"dataframe\">\n",
              "  <thead>\n",
              "    <tr style=\"text-align: right;\">\n",
              "      <th></th>\n",
              "      <th>0</th>\n",
              "      <th>1</th>\n",
              "      <th>2</th>\n",
              "      <th>3</th>\n",
              "      <th>4</th>\n",
              "      <th>5</th>\n",
              "      <th>6</th>\n",
              "    </tr>\n",
              "  </thead>\n",
              "  <tbody>\n",
              "    <tr>\n",
              "      <th>0</th>\n",
              "      <td>12</td>\n",
              "      <td>0</td>\n",
              "      <td>0</td>\n",
              "      <td>0</td>\n",
              "      <td>0</td>\n",
              "      <td>0</td>\n",
              "      <td>0</td>\n",
              "    </tr>\n",
              "    <tr>\n",
              "      <th>1</th>\n",
              "      <td>0</td>\n",
              "      <td>2</td>\n",
              "      <td>0</td>\n",
              "      <td>0</td>\n",
              "      <td>0</td>\n",
              "      <td>0</td>\n",
              "      <td>0</td>\n",
              "    </tr>\n",
              "    <tr>\n",
              "      <th>2</th>\n",
              "      <td>0</td>\n",
              "      <td>0</td>\n",
              "      <td>8</td>\n",
              "      <td>0</td>\n",
              "      <td>0</td>\n",
              "      <td>0</td>\n",
              "      <td>0</td>\n",
              "    </tr>\n",
              "    <tr>\n",
              "      <th>3</th>\n",
              "      <td>0</td>\n",
              "      <td>0</td>\n",
              "      <td>0</td>\n",
              "      <td>2</td>\n",
              "      <td>0</td>\n",
              "      <td>0</td>\n",
              "      <td>2</td>\n",
              "    </tr>\n",
              "    <tr>\n",
              "      <th>4</th>\n",
              "      <td>0</td>\n",
              "      <td>0</td>\n",
              "      <td>0</td>\n",
              "      <td>0</td>\n",
              "      <td>2</td>\n",
              "      <td>0</td>\n",
              "      <td>0</td>\n",
              "    </tr>\n",
              "    <tr>\n",
              "      <th>5</th>\n",
              "      <td>1</td>\n",
              "      <td>0</td>\n",
              "      <td>0</td>\n",
              "      <td>0</td>\n",
              "      <td>0</td>\n",
              "      <td>1</td>\n",
              "      <td>0</td>\n",
              "    </tr>\n",
              "    <tr>\n",
              "      <th>6</th>\n",
              "      <td>0</td>\n",
              "      <td>0</td>\n",
              "      <td>0</td>\n",
              "      <td>0</td>\n",
              "      <td>0</td>\n",
              "      <td>0</td>\n",
              "      <td>1</td>\n",
              "    </tr>\n",
              "  </tbody>\n",
              "</table>\n",
              "</div>"
            ],
            "text/plain": [
              "    0  1  2  3  4  5  6\n",
              "0  12  0  0  0  0  0  0\n",
              "1   0  2  0  0  0  0  0\n",
              "2   0  0  8  0  0  0  0\n",
              "3   0  0  0  2  0  0  2\n",
              "4   0  0  0  0  2  0  0\n",
              "5   1  0  0  0  0  1  0\n",
              "6   0  0  0  0  0  0  1"
            ]
          },
          "metadata": {},
          "execution_count": 446
        }
      ]
    },
    {
      "cell_type": "code",
      "metadata": {
        "colab": {
          "base_uri": "https://localhost:8080/"
        },
        "id": "QjGr31pmWtLW",
        "outputId": "d51674f7-1675-4bb0-d147-2f186457bb4d"
      },
      "source": [
        "\n",
        "print(\"Test accuracy:\",total_accuracy(conf_matrix3))"
      ],
      "execution_count": 447,
      "outputs": [
        {
          "output_type": "stream",
          "name": "stdout",
          "text": [
            "Test accuracy: 90.3225806451613\n"
          ]
        }
      ]
    },
    {
      "cell_type": "code",
      "metadata": {
        "id": "H209TmNha8lA"
      },
      "source": [
        ""
      ],
      "execution_count": 21,
      "outputs": []
    },
    {
      "cell_type": "code",
      "metadata": {
        "id": "2HO0f0vwa8oa"
      },
      "source": [
        ""
      ],
      "execution_count": 21,
      "outputs": []
    }
  ]
}