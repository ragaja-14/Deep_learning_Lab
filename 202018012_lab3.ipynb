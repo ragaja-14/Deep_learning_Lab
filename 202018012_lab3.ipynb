{
  "nbformat": 4,
  "nbformat_minor": 0,
  "metadata": {
    "colab": {
      "name": "202018012_lab_3.ipynb",
      "provenance": [],
      "collapsed_sections": [],
      "toc_visible": true
    },
    "kernelspec": {
      "name": "python3",
      "display_name": "Python 3"
    },
    "language_info": {
      "name": "python"
    }
  },
  "cells": [
    {
      "cell_type": "code",
      "metadata": {
        "id": "sL61es6HkLW7"
      },
      "source": [
        "\n",
        "import pandas\n",
        "import matplotlib.pyplot as plt\n",
        "import numpy as np\n",
        "import tensorflow  as tf\n",
        "from keras.models import Sequential\n",
        "from keras.layers import Dense\n",
        "from keras.wrappers.scikit_learn import KerasClassifier\n",
        "from keras.utils import np_utils\n",
        "from sklearn.model_selection import train_test_split\n",
        "from sklearn.preprocessing import LabelEncoder\n",
        "\n"
      ],
      "execution_count": 66,
      "outputs": []
    },
    {
      "cell_type": "markdown",
      "metadata": {
        "id": "jebRG2eCkxK9"
      },
      "source": [
        "### TASK 1"
      ]
    },
    {
      "cell_type": "code",
      "metadata": {
        "id": "0b6WgkYMkuaZ"
      },
      "source": [
        "\n",
        "iris_dt = pandas.read_csv(\"/content/IRIS.csv\")\n"
      ],
      "execution_count": 25,
      "outputs": []
    },
    {
      "cell_type": "code",
      "metadata": {
        "colab": {
          "base_uri": "https://localhost:8080/",
          "height": 201
        },
        "id": "KzpSzhzvkudu",
        "outputId": "5c8540c0-7138-4be1-f3ca-4a5d7708b9bc"
      },
      "source": [
        "iris_dt.head()"
      ],
      "execution_count": 26,
      "outputs": [
        {
          "output_type": "execute_result",
          "data": {
            "text/html": [
              "<div>\n",
              "<style scoped>\n",
              "    .dataframe tbody tr th:only-of-type {\n",
              "        vertical-align: middle;\n",
              "    }\n",
              "\n",
              "    .dataframe tbody tr th {\n",
              "        vertical-align: top;\n",
              "    }\n",
              "\n",
              "    .dataframe thead th {\n",
              "        text-align: right;\n",
              "    }\n",
              "</style>\n",
              "<table border=\"1\" class=\"dataframe\">\n",
              "  <thead>\n",
              "    <tr style=\"text-align: right;\">\n",
              "      <th></th>\n",
              "      <th>sepal_length</th>\n",
              "      <th>sepal_width</th>\n",
              "      <th>petal_length</th>\n",
              "      <th>petal_width</th>\n",
              "      <th>species</th>\n",
              "    </tr>\n",
              "  </thead>\n",
              "  <tbody>\n",
              "    <tr>\n",
              "      <th>0</th>\n",
              "      <td>5.1</td>\n",
              "      <td>3.5</td>\n",
              "      <td>1.4</td>\n",
              "      <td>0.2</td>\n",
              "      <td>Iris-setosa</td>\n",
              "    </tr>\n",
              "    <tr>\n",
              "      <th>1</th>\n",
              "      <td>4.9</td>\n",
              "      <td>3.0</td>\n",
              "      <td>1.4</td>\n",
              "      <td>0.2</td>\n",
              "      <td>Iris-setosa</td>\n",
              "    </tr>\n",
              "    <tr>\n",
              "      <th>2</th>\n",
              "      <td>4.7</td>\n",
              "      <td>3.2</td>\n",
              "      <td>1.3</td>\n",
              "      <td>0.2</td>\n",
              "      <td>Iris-setosa</td>\n",
              "    </tr>\n",
              "    <tr>\n",
              "      <th>3</th>\n",
              "      <td>4.6</td>\n",
              "      <td>3.1</td>\n",
              "      <td>1.5</td>\n",
              "      <td>0.2</td>\n",
              "      <td>Iris-setosa</td>\n",
              "    </tr>\n",
              "    <tr>\n",
              "      <th>4</th>\n",
              "      <td>5.0</td>\n",
              "      <td>3.6</td>\n",
              "      <td>1.4</td>\n",
              "      <td>0.2</td>\n",
              "      <td>Iris-setosa</td>\n",
              "    </tr>\n",
              "  </tbody>\n",
              "</table>\n",
              "</div>"
            ],
            "text/plain": [
              "   sepal_length  sepal_width  petal_length  petal_width      species\n",
              "0           5.1          3.5           1.4          0.2  Iris-setosa\n",
              "1           4.9          3.0           1.4          0.2  Iris-setosa\n",
              "2           4.7          3.2           1.3          0.2  Iris-setosa\n",
              "3           4.6          3.1           1.5          0.2  Iris-setosa\n",
              "4           5.0          3.6           1.4          0.2  Iris-setosa"
            ]
          },
          "metadata": {},
          "execution_count": 26
        }
      ]
    },
    {
      "cell_type": "code",
      "metadata": {
        "colab": {
          "base_uri": "https://localhost:8080/"
        },
        "id": "KadmTt99kuhF",
        "outputId": "8868c303-3cb8-4f90-db96-86d1b67ad702"
      },
      "source": [
        "iris_dt.shape"
      ],
      "execution_count": 27,
      "outputs": [
        {
          "output_type": "execute_result",
          "data": {
            "text/plain": [
              "(150, 5)"
            ]
          },
          "metadata": {},
          "execution_count": 27
        }
      ]
    },
    {
      "cell_type": "code",
      "metadata": {
        "colab": {
          "base_uri": "https://localhost:8080/"
        },
        "id": "GbsWQYFYkukA",
        "outputId": "8e2a56bd-cdd4-4754-e34f-92591a284cdd"
      },
      "source": [
        "iris_dt.isnull().sum()"
      ],
      "execution_count": 28,
      "outputs": [
        {
          "output_type": "execute_result",
          "data": {
            "text/plain": [
              "sepal_length    0\n",
              "sepal_width     0\n",
              "petal_length    0\n",
              "petal_width     0\n",
              "species         0\n",
              "dtype: int64"
            ]
          },
          "metadata": {},
          "execution_count": 28
        }
      ]
    },
    {
      "cell_type": "code",
      "metadata": {
        "colab": {
          "base_uri": "https://localhost:8080/",
          "height": 488
        },
        "id": "qnNgZQqskunL",
        "outputId": "b4f57880-c3b0-4915-b13b-6f1485f08fa6"
      },
      "source": [
        "import seaborn as sns\n",
        "plt.figure(figsize=(8,8))\n",
        "sns.heatmap(iris_dt.corr(),annot=True)\n",
        "plt.show()"
      ],
      "execution_count": 29,
      "outputs": [
        {
          "output_type": "display_data",
          "data": {
            "image/png": "[encoded data removed]",
            "text/plain": [
              "<Figure size 576x576 with 2 Axes>"
            ]
          },
          "metadata": {
            "needs_background": "light"
          }
        }
      ]
    },
    {
      "cell_type": "markdown",
      "metadata": {
        "id": "TLg9AdK2l9vt"
      },
      "source": [
        "The target column is 'species' for the given dataset so a basic exploration of different classes associated with are obsereved to check if the data is balanced or not."
      ]
    },
    {
      "cell_type": "code",
      "metadata": {
        "colab": {
          "base_uri": "https://localhost:8080/"
        },
        "id": "c-KcEz_MmnTa",
        "outputId": "22cc9188-49c8-428a-de9c-0ee00f512ccf"
      },
      "source": [
        "iris_dt['species'].value_counts()"
      ],
      "execution_count": 30,
      "outputs": [
        {
          "output_type": "execute_result",
          "data": {
            "text/plain": [
              "Iris-setosa        50\n",
              "Iris-virginica     50\n",
              "Iris-versicolor    50\n",
              "Name: species, dtype: int64"
            ]
          },
          "metadata": {},
          "execution_count": 30
        }
      ]
    },
    {
      "cell_type": "code",
      "metadata": {
        "colab": {
          "base_uri": "https://localhost:8080/",
          "height": 279
        },
        "id": "LubbfVejmR8p",
        "outputId": "cfabbc13-436a-4caa-f807-82567dee833d"
      },
      "source": [
        "sns.countplot(x='species', data=iris_dt)\n",
        "plt.show()"
      ],
      "execution_count": 31,
      "outputs": [
        {
          "output_type": "display_data",
          "data": {
            "image/png": "[encoded data removed]",
            "text/plain": [
              "<Figure size 432x288 with 1 Axes>"
            ]
          },
          "metadata": {
            "needs_background": "light"
          }
        }
      ]
    },
    {
      "cell_type": "code",
      "metadata": {
        "colab": {
          "base_uri": "https://localhost:8080/"
        },
        "id": "8LE83gIAkuqB",
        "outputId": "d6c328d3-ca21-42de-cbc4-e2931fda0f9d"
      },
      "source": [
        "#input features and target variable are stored in separate variables X and Y\n",
        "\n",
        "X=iris_dt.drop(labels=['species'],axis=1)\n",
        "Y=iris_dt['species']\n",
        "Y=np.array(Y).reshape(-1, 1)\n",
        "\n",
        "print(X.shape,len(Y))"
      ],
      "execution_count": 35,
      "outputs": [
        {
          "output_type": "stream",
          "name": "stdout",
          "text": [
            "(150, 4) 150\n"
          ]
        }
      ]
    },
    {
      "cell_type": "code",
      "metadata": {
        "id": "CgLdjDvJlsDd"
      },
      "source": [
        "#Encoding the values of target column 'species' using One hot encoder\n",
        "from sklearn.preprocessing import OneHotEncoder\n",
        "enc = OneHotEncoder(handle_unknown='ignore',sparse=False)\n",
        "\n",
        "Y=enc.fit_transform(Y)\n"
      ],
      "execution_count": 36,
      "outputs": []
    },
    {
      "cell_type": "code",
      "metadata": {
        "id": "0hoBEhBXoJ2N"
      },
      "source": [
        "X_train,X_test,Y_train,Y_test=train_test_split(X,Y,test_size=0.2,stratify=Y,random_state=2)"
      ],
      "execution_count": 37,
      "outputs": []
    },
    {
      "cell_type": "code",
      "metadata": {
        "colab": {
          "base_uri": "https://localhost:8080/"
        },
        "id": "o_WCMuUlpJsn",
        "outputId": "e0762866-f675-4b16-dd0b-4be960a8c68c"
      },
      "source": [
        "print(X_train.shape,X_test.shape,Y_train.shape,Y_test.shape)"
      ],
      "execution_count": null,
      "outputs": [
        {
          "output_type": "stream",
          "name": "stdout",
          "text": [
            "(120, 4) (30, 4) (120, 1) (30, 1)\n"
          ]
        }
      ]
    },
    {
      "cell_type": "markdown",
      "metadata": {
        "id": "tBwr42sRrCqd"
      },
      "source": [
        "*Using adam optimizer, total epochs= 60 and accuracy as metric in all the three cases.\n"
      ]
    },
    {
      "cell_type": "markdown",
      "metadata": {
        "id": "-aEqf-q0nLKE"
      },
      "source": [
        "\n",
        "\n",
        "**CASE 1:** Using 1 hidden layer with 8 nodes."
      ]
    },
    {
      "cell_type": "code",
      "metadata": {
        "id": "NokeCNWnnJpi"
      },
      "source": [
        "\n",
        "np.random.seed(10)\n",
        "tf.random.set_seed(10)\n",
        "\n",
        "def ANN0():\n",
        "  model = Sequential()\n",
        "  model.add(Dense(8, input_dim=4, activation='relu'))\n",
        "  model.add(Dense(3, activation='softmax'))\n",
        "  model.compile(loss='categorical_crossentropy', optimizer='adam', metrics=['accuracy'])\n",
        "  print(model.output_shape)\n",
        "  return model"
      ],
      "execution_count": 106,
      "outputs": []
    },
    {
      "cell_type": "code",
      "metadata": {
        "colab": {
          "base_uri": "https://localhost:8080/"
        },
        "id": "XZhPHttinJvZ",
        "outputId": "a4f682a9-58f3-4ad3-ce3b-6ff7d53bed46"
      },
      "source": [
        "ANN_0=ANN0\n",
        "estimator0 = KerasClassifier(build_fn=ANN_0, epochs=60)\n",
        "estimator0.fit(X_train,Y_train)"
      ],
      "execution_count": 107,
      "outputs": [
        {
          "output_type": "stream",
          "name": "stdout",
          "text": [
            "(None, 3)\n",
            "Epoch 1/60\n",
            "4/4 [==============================] - 0s 3ms/step - loss: 5.1951 - accuracy: 0.3333\n",
            "Epoch 2/60\n",
            "4/4 [==============================] - 0s 4ms/step - loss: 5.0009 - accuracy: 0.3333\n",
            "Epoch 3/60\n",
            "4/4 [==============================] - 0s 3ms/step - loss: 4.8118 - accuracy: 0.3333\n",
            "Epoch 4/60\n",
            "4/4 [==============================] - 0s 3ms/step - loss: 4.6131 - accuracy: 0.3333\n",
            "Epoch 5/60\n",
            "4/4 [==============================] - 0s 3ms/step - loss: 4.4305 - accuracy: 0.3333\n",
            "Epoch 6/60\n",
            "4/4 [==============================] - 0s 2ms/step - loss: 4.2527 - accuracy: 0.3333\n",
            "Epoch 7/60\n",
            "4/4 [==============================] - 0s 2ms/step - loss: 4.0770 - accuracy: 0.3333\n",
            "Epoch 8/60\n",
            "4/4 [==============================] - 0s 2ms/step - loss: 3.9064 - accuracy: 0.3333\n",
            "Epoch 9/60\n",
            "4/4 [==============================] - 0s 2ms/step - loss: 3.7501 - accuracy: 0.3333\n",
            "Epoch 10/60\n",
            "4/4 [==============================] - 0s 2ms/step - loss: 3.5943 - accuracy: 0.3333\n",
            "Epoch 11/60\n",
            "4/4 [==============================] - 0s 2ms/step - loss: 3.4473 - accuracy: 0.3333\n",
            "Epoch 12/60\n",
            "4/4 [==============================] - 0s 3ms/step - loss: 3.3168 - accuracy: 0.3333\n",
            "Epoch 13/60\n",
            "4/4 [==============================] - 0s 3ms/step - loss: 3.1878 - accuracy: 0.3333\n",
            "Epoch 14/60\n",
            "4/4 [==============================] - 0s 3ms/step - loss: 3.0755 - accuracy: 0.3333\n",
            "Epoch 15/60\n",
            "4/4 [==============================] - 0s 2ms/step - loss: 2.9698 - accuracy: 0.3333\n",
            "Epoch 16/60\n",
            "4/4 [==============================] - 0s 3ms/step - loss: 2.8692 - accuracy: 0.3333\n",
            "Epoch 17/60\n",
            "4/4 [==============================] - 0s 4ms/step - loss: 2.7851 - accuracy: 0.3333\n",
            "Epoch 18/60\n",
            "4/4 [==============================] - 0s 3ms/step - loss: 2.7058 - accuracy: 0.3333\n",
            "Epoch 19/60\n",
            "4/4 [==============================] - 0s 3ms/step - loss: 2.6329 - accuracy: 0.3417\n",
            "Epoch 20/60\n",
            "4/4 [==============================] - 0s 2ms/step - loss: 2.5653 - accuracy: 0.3833\n",
            "Epoch 21/60\n",
            "4/4 [==============================] - 0s 3ms/step - loss: 2.5019 - accuracy: 0.4667\n",
            "Epoch 22/60\n",
            "4/4 [==============================] - 0s 4ms/step - loss: 2.4413 - accuracy: 0.5250\n",
            "Epoch 23/60\n",
            "4/4 [==============================] - 0s 2ms/step - loss: 2.3799 - accuracy: 0.6083\n",
            "Epoch 24/60\n",
            "4/4 [==============================] - 0s 3ms/step - loss: 2.3250 - accuracy: 0.6417\n",
            "Epoch 25/60\n",
            "4/4 [==============================] - 0s 3ms/step - loss: 2.2702 - accuracy: 0.6500\n",
            "Epoch 26/60\n",
            "4/4 [==============================] - 0s 3ms/step - loss: 2.2128 - accuracy: 0.6500\n",
            "Epoch 27/60\n",
            "4/4 [==============================] - 0s 3ms/step - loss: 2.1594 - accuracy: 0.6500\n",
            "Epoch 28/60\n",
            "4/4 [==============================] - 0s 3ms/step - loss: 2.1097 - accuracy: 0.6500\n",
            "Epoch 29/60\n",
            "4/4 [==============================] - 0s 3ms/step - loss: 2.0549 - accuracy: 0.6500\n",
            "Epoch 30/60\n",
            "4/4 [==============================] - 0s 3ms/step - loss: 2.0041 - accuracy: 0.6500\n",
            "Epoch 31/60\n",
            "4/4 [==============================] - 0s 3ms/step - loss: 1.9554 - accuracy: 0.6583\n",
            "Epoch 32/60\n",
            "4/4 [==============================] - 0s 3ms/step - loss: 1.9062 - accuracy: 0.6583\n",
            "Epoch 33/60\n",
            "4/4 [==============================] - 0s 2ms/step - loss: 1.8593 - accuracy: 0.6583\n",
            "Epoch 34/60\n",
            "4/4 [==============================] - 0s 2ms/step - loss: 1.8175 - accuracy: 0.6583\n",
            "Epoch 35/60\n",
            "4/4 [==============================] - 0s 3ms/step - loss: 1.7666 - accuracy: 0.6583\n",
            "Epoch 36/60\n",
            "4/4 [==============================] - 0s 2ms/step - loss: 1.7207 - accuracy: 0.6583\n",
            "Epoch 37/60\n",
            "4/4 [==============================] - 0s 4ms/step - loss: 1.6794 - accuracy: 0.6583\n",
            "Epoch 38/60\n",
            "4/4 [==============================] - 0s 3ms/step - loss: 1.6388 - accuracy: 0.6583\n",
            "Epoch 39/60\n",
            "4/4 [==============================] - 0s 3ms/step - loss: 1.5923 - accuracy: 0.6583\n",
            "Epoch 40/60\n",
            "4/4 [==============================] - 0s 5ms/step - loss: 1.5538 - accuracy: 0.6583\n",
            "Epoch 41/60\n",
            "4/4 [==============================] - 0s 3ms/step - loss: 1.5131 - accuracy: 0.6583\n",
            "Epoch 42/60\n",
            "4/4 [==============================] - 0s 3ms/step - loss: 1.4770 - accuracy: 0.6583\n",
            "Epoch 43/60\n",
            "4/4 [==============================] - 0s 3ms/step - loss: 1.4369 - accuracy: 0.6583\n",
            "Epoch 44/60\n",
            "4/4 [==============================] - 0s 3ms/step - loss: 1.4003 - accuracy: 0.6583\n",
            "Epoch 45/60\n",
            "4/4 [==============================] - 0s 6ms/step - loss: 1.3676 - accuracy: 0.6583\n",
            "Epoch 46/60\n",
            "4/4 [==============================] - 0s 3ms/step - loss: 1.3322 - accuracy: 0.6583\n",
            "Epoch 47/60\n",
            "4/4 [==============================] - 0s 3ms/step - loss: 1.2970 - accuracy: 0.6583\n",
            "Epoch 48/60\n",
            "4/4 [==============================] - 0s 4ms/step - loss: 1.2664 - accuracy: 0.6667\n",
            "Epoch 49/60\n",
            "4/4 [==============================] - 0s 3ms/step - loss: 1.2336 - accuracy: 0.6667\n",
            "Epoch 50/60\n",
            "4/4 [==============================] - 0s 4ms/step - loss: 1.2034 - accuracy: 0.6667\n",
            "Epoch 51/60\n",
            "4/4 [==============================] - 0s 3ms/step - loss: 1.1746 - accuracy: 0.6667\n",
            "Epoch 52/60\n",
            "4/4 [==============================] - 0s 3ms/step - loss: 1.1463 - accuracy: 0.6667\n",
            "Epoch 53/60\n",
            "4/4 [==============================] - 0s 4ms/step - loss: 1.1203 - accuracy: 0.6667\n",
            "Epoch 54/60\n",
            "4/4 [==============================] - 0s 3ms/step - loss: 1.0933 - accuracy: 0.6667\n",
            "Epoch 55/60\n",
            "4/4 [==============================] - 0s 4ms/step - loss: 1.0683 - accuracy: 0.6667\n",
            "Epoch 56/60\n",
            "4/4 [==============================] - 0s 3ms/step - loss: 1.0432 - accuracy: 0.6667\n",
            "Epoch 57/60\n",
            "4/4 [==============================] - 0s 3ms/step - loss: 1.0205 - accuracy: 0.6667\n",
            "Epoch 58/60\n",
            "4/4 [==============================] - 0s 2ms/step - loss: 0.9984 - accuracy: 0.6667\n",
            "Epoch 59/60\n",
            "4/4 [==============================] - 0s 4ms/step - loss: 0.9761 - accuracy: 0.6667\n",
            "Epoch 60/60\n",
            "4/4 [==============================] - 0s 3ms/step - loss: 0.9571 - accuracy: 0.6667\n"
          ]
        },
        {
          "output_type": "execute_result",
          "data": {
            "text/plain": [
              "<keras.callbacks.History at 0x7f51ebbeae90>"
            ]
          },
          "metadata": {},
          "execution_count": 107
        }
      ]
    },
    {
      "cell_type": "code",
      "metadata": {
        "colab": {
          "base_uri": "https://localhost:8080/"
        },
        "id": "B3TjEbo3nuy3",
        "outputId": "e33fa96a-19b7-4f57-e804-c8feced1aacf"
      },
      "source": [
        "test_acc0= estimator0.score(X_test,Y_test)\n",
        "\n",
        "print('\\nTest accuracy:',test_acc0)"
      ],
      "execution_count": 108,
      "outputs": [
        {
          "output_type": "stream",
          "name": "stdout",
          "text": [
            "1/1 [==============================] - 0s 108ms/step - loss: 0.9708 - accuracy: 0.6667\n",
            "\n",
            "Test accuracy: 0.6666666865348816\n"
          ]
        }
      ]
    },
    {
      "cell_type": "markdown",
      "metadata": {
        "id": "01ea-y5RV_6z"
      },
      "source": [
        "**CASE 2:** Using 1 hidden layer with 16 nodes."
      ]
    },
    {
      "cell_type": "code",
      "metadata": {
        "id": "UDnzpnRWlsJZ"
      },
      "source": [
        "\n",
        "np.random.seed(10)\n",
        "tf.random.set_seed(10)\n",
        "\n",
        "def ANN1():\n",
        "  model = Sequential()\n",
        "  model.add(Dense(16, input_dim=4, activation='relu'))\n",
        "  #model.add(Dense(8,activation='relu'))\n",
        "  model.add(Dense(3, activation='softmax'))\n",
        "  model.compile(loss='categorical_crossentropy', optimizer='adam', metrics=['accuracy'])\n",
        "  print(model.output_shape)\n",
        "  return model"
      ],
      "execution_count": 103,
      "outputs": []
    },
    {
      "cell_type": "code",
      "metadata": {
        "colab": {
          "base_uri": "https://localhost:8080/"
        },
        "id": "udZLggjLlsM9",
        "outputId": "dbc4fbff-14e4-4449-8e9d-72ff26f7b353"
      },
      "source": [
        "ANN_1=ANN1\n",
        "estimator1 = KerasClassifier(build_fn=ANN_1, epochs=60)\n",
        "estimator1.fit(X_train,Y_train)\n"
      ],
      "execution_count": 104,
      "outputs": [
        {
          "output_type": "stream",
          "name": "stdout",
          "text": [
            "(None, 3)\n",
            "Epoch 1/60\n",
            "4/4 [==============================] - 0s 3ms/step - loss: 6.1703 - accuracy: 0.3333\n",
            "Epoch 2/60\n",
            "4/4 [==============================] - 0s 5ms/step - loss: 5.9019 - accuracy: 0.3333\n",
            "Epoch 3/60\n",
            "4/4 [==============================] - 0s 2ms/step - loss: 5.6401 - accuracy: 0.3333\n",
            "Epoch 4/60\n",
            "4/4 [==============================] - 0s 2ms/step - loss: 5.3642 - accuracy: 0.3333\n",
            "Epoch 5/60\n",
            "4/4 [==============================] - 0s 3ms/step - loss: 5.1093 - accuracy: 0.3333\n",
            "Epoch 6/60\n",
            "4/4 [==============================] - 0s 3ms/step - loss: 4.8611 - accuracy: 0.3333\n",
            "Epoch 7/60\n",
            "4/4 [==============================] - 0s 4ms/step - loss: 4.6146 - accuracy: 0.3333\n",
            "Epoch 8/60\n",
            "4/4 [==============================] - 0s 3ms/step - loss: 4.3723 - accuracy: 0.3333\n",
            "Epoch 9/60\n",
            "4/4 [==============================] - 0s 2ms/step - loss: 4.1468 - accuracy: 0.3333\n",
            "Epoch 10/60\n",
            "4/4 [==============================] - 0s 3ms/step - loss: 3.9161 - accuracy: 0.3333\n",
            "Epoch 11/60\n",
            "4/4 [==============================] - 0s 3ms/step - loss: 3.6921 - accuracy: 0.3333\n",
            "Epoch 12/60\n",
            "4/4 [==============================] - 0s 3ms/step - loss: 3.4838 - accuracy: 0.3333\n",
            "Epoch 13/60\n",
            "4/4 [==============================] - 0s 3ms/step - loss: 3.2696 - accuracy: 0.3333\n",
            "Epoch 14/60\n",
            "4/4 [==============================] - 0s 3ms/step - loss: 3.0740 - accuracy: 0.3333\n",
            "Epoch 15/60\n",
            "4/4 [==============================] - 0s 4ms/step - loss: 2.8793 - accuracy: 0.3333\n",
            "Epoch 16/60\n",
            "4/4 [==============================] - 0s 3ms/step - loss: 2.6851 - accuracy: 0.3333\n",
            "Epoch 17/60\n",
            "4/4 [==============================] - 0s 6ms/step - loss: 2.5136 - accuracy: 0.3333\n",
            "Epoch 18/60\n",
            "4/4 [==============================] - 0s 3ms/step - loss: 2.3482 - accuracy: 0.3333\n",
            "Epoch 19/60\n",
            "4/4 [==============================] - 0s 3ms/step - loss: 2.1942 - accuracy: 0.3333\n",
            "Epoch 20/60\n",
            "4/4 [==============================] - 0s 4ms/step - loss: 2.0488 - accuracy: 0.3333\n",
            "Epoch 21/60\n",
            "4/4 [==============================] - 0s 4ms/step - loss: 1.9158 - accuracy: 0.3333\n",
            "Epoch 22/60\n",
            "4/4 [==============================] - 0s 4ms/step - loss: 1.7930 - accuracy: 0.3333\n",
            "Epoch 23/60\n",
            "4/4 [==============================] - 0s 3ms/step - loss: 1.6713 - accuracy: 0.3333\n",
            "Epoch 24/60\n",
            "4/4 [==============================] - 0s 3ms/step - loss: 1.5666 - accuracy: 0.3333\n",
            "Epoch 25/60\n",
            "4/4 [==============================] - 0s 2ms/step - loss: 1.4695 - accuracy: 0.3333\n",
            "Epoch 26/60\n",
            "4/4 [==============================] - 0s 2ms/step - loss: 1.3731 - accuracy: 0.3333\n",
            "Epoch 27/60\n",
            "4/4 [==============================] - 0s 2ms/step - loss: 1.2870 - accuracy: 0.3333\n",
            "Epoch 28/60\n",
            "4/4 [==============================] - 0s 3ms/step - loss: 1.2114 - accuracy: 0.3333\n",
            "Epoch 29/60\n",
            "4/4 [==============================] - 0s 3ms/step - loss: 1.1344 - accuracy: 0.3333\n",
            "Epoch 30/60\n",
            "4/4 [==============================] - 0s 3ms/step - loss: 1.0669 - accuracy: 0.3417\n",
            "Epoch 31/60\n",
            "4/4 [==============================] - 0s 4ms/step - loss: 1.0076 - accuracy: 0.3833\n",
            "Epoch 32/60\n",
            "4/4 [==============================] - 0s 3ms/step - loss: 0.9533 - accuracy: 0.4417\n",
            "Epoch 33/60\n",
            "4/4 [==============================] - 0s 4ms/step - loss: 0.9072 - accuracy: 0.5417\n",
            "Epoch 34/60\n",
            "4/4 [==============================] - 0s 2ms/step - loss: 0.8712 - accuracy: 0.6917\n",
            "Epoch 35/60\n",
            "4/4 [==============================] - 0s 3ms/step - loss: 0.8320 - accuracy: 0.8750\n",
            "Epoch 36/60\n",
            "4/4 [==============================] - 0s 2ms/step - loss: 0.8015 - accuracy: 0.9500\n",
            "Epoch 37/60\n",
            "4/4 [==============================] - 0s 3ms/step - loss: 0.7774 - accuracy: 0.9250\n",
            "Epoch 38/60\n",
            "4/4 [==============================] - 0s 3ms/step - loss: 0.7564 - accuracy: 0.9250\n",
            "Epoch 39/60\n",
            "4/4 [==============================] - 0s 3ms/step - loss: 0.7358 - accuracy: 0.9167\n",
            "Epoch 40/60\n",
            "4/4 [==============================] - 0s 3ms/step - loss: 0.7195 - accuracy: 0.9083\n",
            "Epoch 41/60\n",
            "4/4 [==============================] - 0s 2ms/step - loss: 0.7043 - accuracy: 0.8833\n",
            "Epoch 42/60\n",
            "4/4 [==============================] - 0s 3ms/step - loss: 0.6903 - accuracy: 0.8583\n",
            "Epoch 43/60\n",
            "4/4 [==============================] - 0s 3ms/step - loss: 0.6769 - accuracy: 0.8500\n",
            "Epoch 44/60\n",
            "4/4 [==============================] - 0s 3ms/step - loss: 0.6649 - accuracy: 0.8500\n",
            "Epoch 45/60\n",
            "4/4 [==============================] - 0s 3ms/step - loss: 0.6532 - accuracy: 0.8500\n",
            "Epoch 46/60\n",
            "4/4 [==============================] - 0s 3ms/step - loss: 0.6417 - accuracy: 0.8500\n",
            "Epoch 47/60\n",
            "4/4 [==============================] - 0s 3ms/step - loss: 0.6317 - accuracy: 0.8750\n",
            "Epoch 48/60\n",
            "4/4 [==============================] - 0s 3ms/step - loss: 0.6212 - accuracy: 0.8917\n",
            "Epoch 49/60\n",
            "4/4 [==============================] - 0s 3ms/step - loss: 0.6114 - accuracy: 0.8917\n",
            "Epoch 50/60\n",
            "4/4 [==============================] - 0s 3ms/step - loss: 0.6021 - accuracy: 0.9083\n",
            "Epoch 51/60\n",
            "4/4 [==============================] - 0s 2ms/step - loss: 0.5930 - accuracy: 0.9083\n",
            "Epoch 52/60\n",
            "4/4 [==============================] - 0s 3ms/step - loss: 0.5844 - accuracy: 0.9083\n",
            "Epoch 53/60\n",
            "4/4 [==============================] - 0s 3ms/step - loss: 0.5762 - accuracy: 0.9083\n",
            "Epoch 54/60\n",
            "4/4 [==============================] - 0s 4ms/step - loss: 0.5683 - accuracy: 0.9083\n",
            "Epoch 55/60\n",
            "4/4 [==============================] - 0s 4ms/step - loss: 0.5607 - accuracy: 0.9083\n",
            "Epoch 56/60\n",
            "4/4 [==============================] - 0s 4ms/step - loss: 0.5532 - accuracy: 0.9167\n",
            "Epoch 57/60\n",
            "4/4 [==============================] - 0s 6ms/step - loss: 0.5463 - accuracy: 0.9167\n",
            "Epoch 58/60\n",
            "4/4 [==============================] - 0s 4ms/step - loss: 0.5392 - accuracy: 0.9167\n",
            "Epoch 59/60\n",
            "4/4 [==============================] - 0s 3ms/step - loss: 0.5328 - accuracy: 0.9167\n",
            "Epoch 60/60\n",
            "4/4 [==============================] - 0s 4ms/step - loss: 0.5263 - accuracy: 0.9167\n"
          ]
        },
        {
          "output_type": "execute_result",
          "data": {
            "text/plain": [
              "<keras.callbacks.History at 0x7f51ebb891d0>"
            ]
          },
          "metadata": {},
          "execution_count": 104
        }
      ]
    },
    {
      "cell_type": "code",
      "metadata": {
        "colab": {
          "base_uri": "https://localhost:8080/"
        },
        "id": "fKTLauMIkutf",
        "outputId": "45e074e4-8104-4cc1-dad7-ddf21cdc6ab8"
      },
      "source": [
        "test_acc= estimator1.score(X_test,Y_test)\n",
        "\n",
        "print('\\nTest accuracy:',test_acc)"
      ],
      "execution_count": 105,
      "outputs": [
        {
          "output_type": "stream",
          "name": "stdout",
          "text": [
            "1/1 [==============================] - 0s 104ms/step - loss: 0.4873 - accuracy: 0.9667\n",
            "\n",
            "Test accuracy: 0.9666666388511658\n"
          ]
        }
      ]
    },
    {
      "cell_type": "markdown",
      "metadata": {
        "id": "jYDmTwNOlV5_"
      },
      "source": [
        "**CASE 3:**  Using 2 hidden layers each with 8 nodes."
      ]
    },
    {
      "cell_type": "code",
      "metadata": {
        "id": "3p_H_PvlsX3w"
      },
      "source": [
        "np.random.seed(10)\n",
        "tf.random.set_seed(10)\n",
        "\n",
        "def ANN2():\n",
        "  model = Sequential()\n",
        "  model.add(Dense(8, input_dim=4, activation='relu'))\n",
        "  model.add(Dense(8,activation='relu'))\n",
        "  model.add(Dense(3, activation='softmax'))\n",
        "  model.compile(loss='categorical_crossentropy', optimizer='adam', metrics=['accuracy'])\n",
        "  print(model.output_shape)\n",
        "  return model"
      ],
      "execution_count": 83,
      "outputs": []
    },
    {
      "cell_type": "code",
      "metadata": {
        "id": "YrknckV1ii70",
        "colab": {
          "base_uri": "https://localhost:8080/"
        },
        "outputId": "9a26d162-8b90-4b25-e132-a09328362673"
      },
      "source": [
        "ANN_2=ANN2\n",
        "estimator2 = KerasClassifier(build_fn=ANN_2, epochs=60)\n",
        "estimator2.fit(X_train,Y_train)"
      ],
      "execution_count": 86,
      "outputs": [
        {
          "output_type": "stream",
          "name": "stdout",
          "text": [
            "(None, 3)\n",
            "Epoch 1/60\n",
            "4/4 [==============================] - 1s 4ms/step - loss: 1.7891 - accuracy: 0.0000e+00\n",
            "Epoch 2/60\n",
            "4/4 [==============================] - 0s 3ms/step - loss: 1.7171 - accuracy: 0.0000e+00\n",
            "Epoch 3/60\n",
            "4/4 [==============================] - 0s 3ms/step - loss: 1.6538 - accuracy: 0.0000e+00\n",
            "Epoch 4/60\n",
            "4/4 [==============================] - 0s 5ms/step - loss: 1.5875 - accuracy: 0.0000e+00\n",
            "Epoch 5/60\n",
            "4/4 [==============================] - 0s 3ms/step - loss: 1.5355 - accuracy: 0.0000e+00\n",
            "Epoch 6/60\n",
            "4/4 [==============================] - 0s 3ms/step - loss: 1.4906 - accuracy: 0.0000e+00\n",
            "Epoch 7/60\n",
            "4/4 [==============================] - 0s 3ms/step - loss: 1.4503 - accuracy: 0.0167\n",
            "Epoch 8/60\n",
            "4/4 [==============================] - 0s 3ms/step - loss: 1.4145 - accuracy: 0.0667\n",
            "Epoch 9/60\n",
            "4/4 [==============================] - 0s 3ms/step - loss: 1.3825 - accuracy: 0.0750\n",
            "Epoch 10/60\n",
            "4/4 [==============================] - 0s 3ms/step - loss: 1.3518 - accuracy: 0.1250\n",
            "Epoch 11/60\n",
            "4/4 [==============================] - 0s 3ms/step - loss: 1.3229 - accuracy: 0.1917\n",
            "Epoch 12/60\n",
            "4/4 [==============================] - 0s 3ms/step - loss: 1.2954 - accuracy: 0.2667\n",
            "Epoch 13/60\n",
            "4/4 [==============================] - 0s 3ms/step - loss: 1.2687 - accuracy: 0.2917\n",
            "Epoch 14/60\n",
            "4/4 [==============================] - 0s 3ms/step - loss: 1.2433 - accuracy: 0.2917\n",
            "Epoch 15/60\n",
            "4/4 [==============================] - 0s 3ms/step - loss: 1.2192 - accuracy: 0.3167\n",
            "Epoch 16/60\n",
            "4/4 [==============================] - 0s 3ms/step - loss: 1.1967 - accuracy: 0.3167\n",
            "Epoch 17/60\n",
            "4/4 [==============================] - 0s 3ms/step - loss: 1.1745 - accuracy: 0.3250\n",
            "Epoch 18/60\n",
            "4/4 [==============================] - 0s 3ms/step - loss: 1.1536 - accuracy: 0.3250\n",
            "Epoch 19/60\n",
            "4/4 [==============================] - 0s 3ms/step - loss: 1.1342 - accuracy: 0.3333\n",
            "Epoch 20/60\n",
            "4/4 [==============================] - 0s 3ms/step - loss: 1.1149 - accuracy: 0.3333\n",
            "Epoch 21/60\n",
            "4/4 [==============================] - 0s 4ms/step - loss: 1.0971 - accuracy: 0.3333\n",
            "Epoch 22/60\n",
            "4/4 [==============================] - 0s 3ms/step - loss: 1.0799 - accuracy: 0.3333\n",
            "Epoch 23/60\n",
            "4/4 [==============================] - 0s 3ms/step - loss: 1.0628 - accuracy: 0.3333\n",
            "Epoch 24/60\n",
            "4/4 [==============================] - 0s 3ms/step - loss: 1.0463 - accuracy: 0.4417\n",
            "Epoch 25/60\n",
            "4/4 [==============================] - 0s 3ms/step - loss: 1.0308 - accuracy: 0.5750\n",
            "Epoch 26/60\n",
            "4/4 [==============================] - 0s 3ms/step - loss: 1.0157 - accuracy: 0.6167\n",
            "Epoch 27/60\n",
            "4/4 [==============================] - 0s 3ms/step - loss: 1.0012 - accuracy: 0.6250\n",
            "Epoch 28/60\n",
            "4/4 [==============================] - 0s 3ms/step - loss: 0.9873 - accuracy: 0.6417\n",
            "Epoch 29/60\n",
            "4/4 [==============================] - 0s 3ms/step - loss: 0.9740 - accuracy: 0.6500\n",
            "Epoch 30/60\n",
            "4/4 [==============================] - 0s 4ms/step - loss: 0.9611 - accuracy: 0.6583\n",
            "Epoch 31/60\n",
            "4/4 [==============================] - 0s 3ms/step - loss: 0.9482 - accuracy: 0.6583\n",
            "Epoch 32/60\n",
            "4/4 [==============================] - 0s 3ms/step - loss: 0.9360 - accuracy: 0.6583\n",
            "Epoch 33/60\n",
            "4/4 [==============================] - 0s 3ms/step - loss: 0.9241 - accuracy: 0.6583\n",
            "Epoch 34/60\n",
            "4/4 [==============================] - 0s 3ms/step - loss: 0.9127 - accuracy: 0.6583\n",
            "Epoch 35/60\n",
            "4/4 [==============================] - 0s 3ms/step - loss: 0.9013 - accuracy: 0.6667\n",
            "Epoch 36/60\n",
            "4/4 [==============================] - 0s 3ms/step - loss: 0.8913 - accuracy: 0.6667\n",
            "Epoch 37/60\n",
            "4/4 [==============================] - 0s 3ms/step - loss: 0.8804 - accuracy: 0.6667\n",
            "Epoch 38/60\n",
            "4/4 [==============================] - 0s 3ms/step - loss: 0.8703 - accuracy: 0.6667\n",
            "Epoch 39/60\n",
            "4/4 [==============================] - 0s 3ms/step - loss: 0.8610 - accuracy: 0.6667\n",
            "Epoch 40/60\n",
            "4/4 [==============================] - 0s 3ms/step - loss: 0.8511 - accuracy: 0.6667\n",
            "Epoch 41/60\n",
            "4/4 [==============================] - 0s 3ms/step - loss: 0.8420 - accuracy: 0.6667\n",
            "Epoch 42/60\n",
            "4/4 [==============================] - 0s 3ms/step - loss: 0.8324 - accuracy: 0.6667\n",
            "Epoch 43/60\n",
            "4/4 [==============================] - 0s 3ms/step - loss: 0.8236 - accuracy: 0.6667\n",
            "Epoch 44/60\n",
            "4/4 [==============================] - 0s 3ms/step - loss: 0.8147 - accuracy: 0.6667\n",
            "Epoch 45/60\n",
            "4/4 [==============================] - 0s 3ms/step - loss: 0.8059 - accuracy: 0.6667\n",
            "Epoch 46/60\n",
            "4/4 [==============================] - 0s 4ms/step - loss: 0.7968 - accuracy: 0.6667\n",
            "Epoch 47/60\n",
            "4/4 [==============================] - 0s 3ms/step - loss: 0.7885 - accuracy: 0.6667\n",
            "Epoch 48/60\n",
            "4/4 [==============================] - 0s 4ms/step - loss: 0.7797 - accuracy: 0.6667\n",
            "Epoch 49/60\n",
            "4/4 [==============================] - 0s 3ms/step - loss: 0.7713 - accuracy: 0.6667\n",
            "Epoch 50/60\n",
            "4/4 [==============================] - 0s 3ms/step - loss: 0.7629 - accuracy: 0.6667\n",
            "Epoch 51/60\n",
            "4/4 [==============================] - 0s 3ms/step - loss: 0.7545 - accuracy: 0.6667\n",
            "Epoch 52/60\n",
            "4/4 [==============================] - 0s 3ms/step - loss: 0.7463 - accuracy: 0.6667\n",
            "Epoch 53/60\n",
            "4/4 [==============================] - 0s 3ms/step - loss: 0.7382 - accuracy: 0.6667\n",
            "Epoch 54/60\n",
            "4/4 [==============================] - 0s 3ms/step - loss: 0.7300 - accuracy: 0.6667\n",
            "Epoch 55/60\n",
            "4/4 [==============================] - 0s 3ms/step - loss: 0.7219 - accuracy: 0.6667\n",
            "Epoch 56/60\n",
            "4/4 [==============================] - 0s 3ms/step - loss: 0.7139 - accuracy: 0.6667\n",
            "Epoch 57/60\n",
            "4/4 [==============================] - 0s 4ms/step - loss: 0.7062 - accuracy: 0.6667\n",
            "Epoch 58/60\n",
            "4/4 [==============================] - 0s 4ms/step - loss: 0.6982 - accuracy: 0.6667\n",
            "Epoch 59/60\n",
            "4/4 [==============================] - 0s 4ms/step - loss: 0.6906 - accuracy: 0.6667\n",
            "Epoch 60/60\n",
            "4/4 [==============================] - 0s 4ms/step - loss: 0.6827 - accuracy: 0.6667\n"
          ]
        },
        {
          "output_type": "execute_result",
          "data": {
            "text/plain": [
              "<keras.callbacks.History at 0x7f51ecf4ecd0>"
            ]
          },
          "metadata": {},
          "execution_count": 86
        }
      ]
    },
    {
      "cell_type": "code",
      "metadata": {
        "id": "CoucynlVii_V",
        "colab": {
          "base_uri": "https://localhost:8080/"
        },
        "outputId": "895cbb2d-dfe3-4af4-f820-252fbe7f2f58"
      },
      "source": [
        "pred_Y= estimator2.score(X_test,Y_test)\n",
        "\n",
        "print('\\nTest accuracy:',pred_Y)"
      ],
      "execution_count": 88,
      "outputs": [
        {
          "output_type": "stream",
          "name": "stdout",
          "text": [
            "1/1 [==============================] - 0s 15ms/step - loss: 0.6526 - accuracy: 0.6667\n",
            "\n",
            "Test accuracy: 0.6666666865348816\n"
          ]
        }
      ]
    },
    {
      "cell_type": "markdown",
      "metadata": {
        "id": "un5dX1Fxmu0X"
      },
      "source": [
        "**Best results of 93% accuracy was obtained in CASE 2 the Artificial neural network(ANN) built had 1 hidden layer with 16 nodes.**"
      ]
    },
    {
      "cell_type": "markdown",
      "metadata": {
        "id": "dv_sJvcXswx-"
      },
      "source": [
        "### TASK 2"
      ]
    },
    {
      "cell_type": "code",
      "metadata": {
        "id": "9RhKo_e5s33s"
      },
      "source": [
        "\n",
        "fish_dt = pandas.read_csv(\"/content/Fish.csv\")\n"
      ],
      "execution_count": 144,
      "outputs": []
    },
    {
      "cell_type": "code",
      "metadata": {
        "colab": {
          "base_uri": "https://localhost:8080/",
          "height": 201
        },
        "id": "y_pUy8-xs33t",
        "outputId": "2a8ca554-f5ae-4120-ba69-d1d561c65084"
      },
      "source": [
        "fish_dt.head()"
      ],
      "execution_count": 145,
      "outputs": [
        {
          "output_type": "execute_result",
          "data": {
            "text/html": [
              "<div>\n",
              "<style scoped>\n",
              "    .dataframe tbody tr th:only-of-type {\n",
              "        vertical-align: middle;\n",
              "    }\n",
              "\n",
              "    .dataframe tbody tr th {\n",
              "        vertical-align: top;\n",
              "    }\n",
              "\n",
              "    .dataframe thead th {\n",
              "        text-align: right;\n",
              "    }\n",
              "</style>\n",
              "<table border=\"1\" class=\"dataframe\">\n",
              "  <thead>\n",
              "    <tr style=\"text-align: right;\">\n",
              "      <th></th>\n",
              "      <th>Species</th>\n",
              "      <th>Weight</th>\n",
              "      <th>Length1</th>\n",
              "      <th>Length2</th>\n",
              "      <th>Length3</th>\n",
              "      <th>Height</th>\n",
              "      <th>Width</th>\n",
              "    </tr>\n",
              "  </thead>\n",
              "  <tbody>\n",
              "    <tr>\n",
              "      <th>0</th>\n",
              "      <td>Bream</td>\n",
              "      <td>242.0</td>\n",
              "      <td>23.2</td>\n",
              "      <td>25.4</td>\n",
              "      <td>30.0</td>\n",
              "      <td>11.5200</td>\n",
              "      <td>4.0200</td>\n",
              "    </tr>\n",
              "    <tr>\n",
              "      <th>1</th>\n",
              "      <td>Bream</td>\n",
              "      <td>290.0</td>\n",
              "      <td>24.0</td>\n",
              "      <td>26.3</td>\n",
              "      <td>31.2</td>\n",
              "      <td>12.4800</td>\n",
              "      <td>4.3056</td>\n",
              "    </tr>\n",
              "    <tr>\n",
              "      <th>2</th>\n",
              "      <td>Bream</td>\n",
              "      <td>340.0</td>\n",
              "      <td>23.9</td>\n",
              "      <td>26.5</td>\n",
              "      <td>31.1</td>\n",
              "      <td>12.3778</td>\n",
              "      <td>4.6961</td>\n",
              "    </tr>\n",
              "    <tr>\n",
              "      <th>3</th>\n",
              "      <td>Bream</td>\n",
              "      <td>363.0</td>\n",
              "      <td>26.3</td>\n",
              "      <td>29.0</td>\n",
              "      <td>33.5</td>\n",
              "      <td>12.7300</td>\n",
              "      <td>4.4555</td>\n",
              "    </tr>\n",
              "    <tr>\n",
              "      <th>4</th>\n",
              "      <td>Bream</td>\n",
              "      <td>430.0</td>\n",
              "      <td>26.5</td>\n",
              "      <td>29.0</td>\n",
              "      <td>34.0</td>\n",
              "      <td>12.4440</td>\n",
              "      <td>5.1340</td>\n",
              "    </tr>\n",
              "  </tbody>\n",
              "</table>\n",
              "</div>"
            ],
            "text/plain": [
              "  Species  Weight  Length1  Length2  Length3   Height   Width\n",
              "0   Bream   242.0     23.2     25.4     30.0  11.5200  4.0200\n",
              "1   Bream   290.0     24.0     26.3     31.2  12.4800  4.3056\n",
              "2   Bream   340.0     23.9     26.5     31.1  12.3778  4.6961\n",
              "3   Bream   363.0     26.3     29.0     33.5  12.7300  4.4555\n",
              "4   Bream   430.0     26.5     29.0     34.0  12.4440  5.1340"
            ]
          },
          "metadata": {},
          "execution_count": 145
        }
      ]
    },
    {
      "cell_type": "code",
      "metadata": {
        "colab": {
          "base_uri": "https://localhost:8080/"
        },
        "id": "_LkOAeL_s33u",
        "outputId": "489b8c78-b4b2-40ea-dc39-1069cd97fcc0"
      },
      "source": [
        "fish_dt.shape"
      ],
      "execution_count": 146,
      "outputs": [
        {
          "output_type": "execute_result",
          "data": {
            "text/plain": [
              "(159, 7)"
            ]
          },
          "metadata": {},
          "execution_count": 146
        }
      ]
    },
    {
      "cell_type": "code",
      "metadata": {
        "colab": {
          "base_uri": "https://localhost:8080/"
        },
        "id": "o-kLnWlis33v",
        "outputId": "ed041770-83b0-42e9-b2e5-2b03c5d4407a"
      },
      "source": [
        "fish_dt.isnull().sum()"
      ],
      "execution_count": 147,
      "outputs": [
        {
          "output_type": "execute_result",
          "data": {
            "text/plain": [
              "Species    0\n",
              "Weight     0\n",
              "Length1    0\n",
              "Length2    0\n",
              "Length3    0\n",
              "Height     0\n",
              "Width      0\n",
              "dtype: int64"
            ]
          },
          "metadata": {},
          "execution_count": 147
        }
      ]
    },
    {
      "cell_type": "code",
      "metadata": {
        "colab": {
          "base_uri": "https://localhost:8080/",
          "height": 487
        },
        "id": "5nGcYB5Zs33v",
        "outputId": "917aa217-418a-4a73-f78d-bde6c4d2195d"
      },
      "source": [
        "import seaborn as sns\n",
        "plt.figure(figsize=(8,8))\n",
        "sns.heatmap(fish_dt.corr(),annot=True)\n",
        "plt.show()"
      ],
      "execution_count": 148,
      "outputs": [
        {
          "output_type": "display_data",
          "data": {
            "image/png": "[encoded data removed]",
            "text/plain": [
              "<Figure size 576x576 with 2 Axes>"
            ]
          },
          "metadata": {
            "needs_background": "light"
          }
        }
      ]
    },
    {
      "cell_type": "markdown",
      "metadata": {
        "id": "cKECWXbbtQv1"
      },
      "source": [
        "The target column is 'Species' for the given dataset so a basic exploration of different classes associated with are obsereved to check if the data is balanced or not."
      ]
    },
    {
      "cell_type": "code",
      "metadata": {
        "colab": {
          "base_uri": "https://localhost:8080/"
        },
        "id": "OFCfA08Es33v",
        "outputId": "a5e72913-e29d-4acf-bbbc-6aece658def7"
      },
      "source": [
        "fish_dt['Species'].value_counts()"
      ],
      "execution_count": 149,
      "outputs": [
        {
          "output_type": "execute_result",
          "data": {
            "text/plain": [
              "Perch        56\n",
              "Bream        35\n",
              "Roach        20\n",
              "Pike         17\n",
              "Smelt        14\n",
              "Parkki       11\n",
              "Whitefish     6\n",
              "Name: Species, dtype: int64"
            ]
          },
          "metadata": {},
          "execution_count": 149
        }
      ]
    },
    {
      "cell_type": "code",
      "metadata": {
        "colab": {
          "base_uri": "https://localhost:8080/",
          "height": 279
        },
        "id": "pylwqIKptQwE",
        "outputId": "adec6dfd-9de0-4532-c13d-880e9e610d8c"
      },
      "source": [
        "sns.countplot(x='Species', data=fish_dt)\n",
        "plt.show()"
      ],
      "execution_count": 150,
      "outputs": [
        {
          "output_type": "display_data",
          "data": {
            "image/png": "[encoded data removed]",
            "text/plain": [
              "<Figure size 432x288 with 1 Axes>"
            ]
          },
          "metadata": {
            "needs_background": "light"
          }
        }
      ]
    },
    {
      "cell_type": "markdown",
      "metadata": {
        "id": "0cOpsn6jpc2M"
      },
      "source": [
        "It can be observed that data has unbalanced no of samples with different classes. So data has to be modified as there are three classes: Bream, Perch and Other."
      ]
    },
    {
      "cell_type": "code",
      "metadata": {
        "id": "1Q1ZHrFbsyrF"
      },
      "source": [
        "def species_3_class(x):\n",
        "  if x=='Perch':\n",
        "    return x\n",
        "  elif x=='Bream':\n",
        "    return x\n",
        "  else:\n",
        "    return 'Others'\n",
        "\n",
        "fish_dt['Species']=fish_dt['Species'].apply(species_3_class)"
      ],
      "execution_count": 151,
      "outputs": []
    },
    {
      "cell_type": "code",
      "metadata": {
        "id": "xfWBjRk1syt_",
        "colab": {
          "base_uri": "https://localhost:8080/"
        },
        "outputId": "a19ae424-f35b-47f5-d2d8-27ca8cee030a"
      },
      "source": [
        "fish_dt['Species'].value_counts()"
      ],
      "execution_count": 152,
      "outputs": [
        {
          "output_type": "execute_result",
          "data": {
            "text/plain": [
              "Others    68\n",
              "Perch     56\n",
              "Bream     35\n",
              "Name: Species, dtype: int64"
            ]
          },
          "metadata": {},
          "execution_count": 152
        }
      ]
    },
    {
      "cell_type": "code",
      "metadata": {
        "id": "GEOc4ZU1syw8",
        "colab": {
          "base_uri": "https://localhost:8080/",
          "height": 279
        },
        "outputId": "b875067a-e3f7-4fa9-cefc-8b313a73c436"
      },
      "source": [
        "sns.countplot(x='Species', data=fish_dt)\n",
        "plt.show()"
      ],
      "execution_count": 153,
      "outputs": [
        {
          "output_type": "display_data",
          "data": {
            "image/png": "[encoded data removed]",
            "text/plain": [
              "<Figure size 432x288 with 1 Axes>"
            ]
          },
          "metadata": {
            "needs_background": "light"
          }
        }
      ]
    },
    {
      "cell_type": "markdown",
      "metadata": {
        "id": "koGKHwaEqi0U"
      },
      "source": [
        "Now the is better balanced than original case."
      ]
    },
    {
      "cell_type": "code",
      "metadata": {
        "colab": {
          "base_uri": "https://localhost:8080/"
        },
        "id": "1vIbEay5rRZg",
        "outputId": "2e44d23a-5b6e-41f3-c718-fe4feb8c98a5"
      },
      "source": [
        "#input features and target variable are stored in separate variables X and Y\n",
        "\n",
        "X=fish_dt.drop(labels=['Species'],axis=1)\n",
        "Y=fish_dt['Species']\n",
        "Y=np.array(Y).reshape(-1, 1)\n",
        "\n",
        "print(X.shape,len(Y))"
      ],
      "execution_count": 154,
      "outputs": [
        {
          "output_type": "stream",
          "name": "stdout",
          "text": [
            "(159, 6) 159\n"
          ]
        }
      ]
    },
    {
      "cell_type": "code",
      "metadata": {
        "id": "iXmYKtwwtOQy"
      },
      "source": [
        "#normalizing the features using standardizing\n",
        "X=(X-X.mean())/X.std()"
      ],
      "execution_count": 155,
      "outputs": []
    },
    {
      "cell_type": "code",
      "metadata": {
        "id": "2vl8snDqrRZi"
      },
      "source": [
        "#Encoding the values of target column 'Species' using One hot encoder\n",
        "from sklearn.preprocessing import OneHotEncoder\n",
        "enc = OneHotEncoder(handle_unknown='ignore',sparse=False)\n",
        "\n",
        "Y=enc.fit_transform(Y)\n"
      ],
      "execution_count": 156,
      "outputs": []
    },
    {
      "cell_type": "code",
      "metadata": {
        "id": "MxBQi1b6rmRF"
      },
      "source": [
        "#Splitting the data in 70:30 ratio\n",
        "X_train,X_test,Y_train,Y_test=train_test_split(X,Y,test_size=0.3,stratify=Y,random_state=2)"
      ],
      "execution_count": 157,
      "outputs": []
    },
    {
      "cell_type": "code",
      "metadata": {
        "colab": {
          "base_uri": "https://localhost:8080/"
        },
        "id": "2xTk808qrmRL",
        "outputId": "80a3ecc0-c3c6-4fdb-a463-e6db0e75d1b8"
      },
      "source": [
        "print(X_train.shape,X_test.shape,Y_train.shape,Y_test.shape)"
      ],
      "execution_count": 158,
      "outputs": [
        {
          "output_type": "stream",
          "name": "stdout",
          "text": [
            "(111, 6) (48, 6) (111, 3) (48, 3)\n"
          ]
        }
      ]
    },
    {
      "cell_type": "markdown",
      "metadata": {
        "id": "QOS_mfXBr69F"
      },
      "source": [
        "*Using adam optimizer, total epochs= 100 and accuracy as metric in all the three cases.\n"
      ]
    },
    {
      "cell_type": "markdown",
      "metadata": {
        "id": "zVY5h_enr69G"
      },
      "source": [
        "\n",
        "\n",
        "**CASE 1:** Using 1 hidden layer with 8 nodes."
      ]
    },
    {
      "cell_type": "code",
      "metadata": {
        "id": "SSUu14Q9sVNx"
      },
      "source": [
        "def Fish_ANN0():\n",
        "  model = Sequential()\n",
        "  model.add(Dense(8, input_dim=6, activation='relu'))\n",
        "  model.add(Dense(3, activation='softmax'))\n",
        "  model.compile(loss='categorical_crossentropy', optimizer='adam', metrics=['accuracy'])\n",
        "  print(model.output_shape)\n",
        "  return model"
      ],
      "execution_count": 159,
      "outputs": []
    },
    {
      "cell_type": "code",
      "metadata": {
        "colab": {
          "base_uri": "https://localhost:8080/"
        },
        "id": "Sji4nsqRrzoy",
        "outputId": "3ea4317c-03f9-4945-fb6c-46eb8ed79383"
      },
      "source": [
        "\n",
        "np.random.seed(10)\n",
        "tf.random.set_seed(10)\n",
        "ANN_02=Fish_ANN0\n",
        "estimator02 = KerasClassifier(build_fn=ANN_02, epochs=80)\n",
        "estimator02.fit(X_train,Y_train)"
      ],
      "execution_count": 207,
      "outputs": [
        {
          "output_type": "stream",
          "name": "stdout",
          "text": [
            "(None, 3)\n",
            "Epoch 1/80\n",
            "4/4 [==============================] - 1s 4ms/step - loss: 1.3884 - accuracy: 0.4595\n",
            "Epoch 2/80\n",
            "4/4 [==============================] - 0s 3ms/step - loss: 1.3573 - accuracy: 0.4685\n",
            "Epoch 3/80\n",
            "4/4 [==============================] - 0s 3ms/step - loss: 1.3310 - accuracy: 0.4865\n",
            "Epoch 4/80\n",
            "4/4 [==============================] - 0s 3ms/step - loss: 1.3046 - accuracy: 0.4955\n",
            "Epoch 5/80\n",
            "4/4 [==============================] - 0s 3ms/step - loss: 1.2780 - accuracy: 0.5045\n",
            "Epoch 6/80\n",
            "4/4 [==============================] - 0s 3ms/step - loss: 1.2541 - accuracy: 0.5135\n",
            "Epoch 7/80\n",
            "4/4 [==============================] - 0s 3ms/step - loss: 1.2283 - accuracy: 0.5225\n",
            "Epoch 8/80\n",
            "4/4 [==============================] - 0s 3ms/step - loss: 1.2061 - accuracy: 0.5225\n",
            "Epoch 9/80\n",
            "4/4 [==============================] - 0s 3ms/step - loss: 1.1853 - accuracy: 0.5495\n",
            "Epoch 10/80\n",
            "4/4 [==============================] - 0s 3ms/step - loss: 1.1642 - accuracy: 0.5495\n",
            "Epoch 11/80\n",
            "4/4 [==============================] - 0s 3ms/step - loss: 1.1446 - accuracy: 0.5495\n",
            "Epoch 12/80\n",
            "4/4 [==============================] - 0s 3ms/step - loss: 1.1244 - accuracy: 0.5676\n",
            "Epoch 13/80\n",
            "4/4 [==============================] - 0s 3ms/step - loss: 1.1075 - accuracy: 0.5676\n",
            "Epoch 14/80\n",
            "4/4 [==============================] - 0s 3ms/step - loss: 1.0905 - accuracy: 0.5676\n",
            "Epoch 15/80\n",
            "4/4 [==============================] - 0s 3ms/step - loss: 1.0746 - accuracy: 0.5676\n",
            "Epoch 16/80\n",
            "4/4 [==============================] - 0s 3ms/step - loss: 1.0593 - accuracy: 0.5766\n",
            "Epoch 17/80\n",
            "4/4 [==============================] - 0s 3ms/step - loss: 1.0447 - accuracy: 0.5946\n",
            "Epoch 18/80\n",
            "4/4 [==============================] - 0s 4ms/step - loss: 1.0303 - accuracy: 0.5946\n",
            "Epoch 19/80\n",
            "4/4 [==============================] - 0s 3ms/step - loss: 1.0183 - accuracy: 0.5946\n",
            "Epoch 20/80\n",
            "4/4 [==============================] - 0s 2ms/step - loss: 1.0054 - accuracy: 0.5946\n",
            "Epoch 21/80\n",
            "4/4 [==============================] - 0s 2ms/step - loss: 0.9935 - accuracy: 0.5946\n",
            "Epoch 22/80\n",
            "4/4 [==============================] - 0s 3ms/step - loss: 0.9819 - accuracy: 0.6036\n",
            "Epoch 23/80\n",
            "4/4 [==============================] - 0s 4ms/step - loss: 0.9714 - accuracy: 0.6036\n",
            "Epoch 24/80\n",
            "4/4 [==============================] - 0s 3ms/step - loss: 0.9615 - accuracy: 0.6036\n",
            "Epoch 25/80\n",
            "4/4 [==============================] - 0s 5ms/step - loss: 0.9524 - accuracy: 0.6036\n",
            "Epoch 26/80\n",
            "4/4 [==============================] - 0s 2ms/step - loss: 0.9426 - accuracy: 0.6036\n",
            "Epoch 27/80\n",
            "4/4 [==============================] - 0s 2ms/step - loss: 0.9341 - accuracy: 0.6126\n",
            "Epoch 28/80\n",
            "4/4 [==============================] - 0s 5ms/step - loss: 0.9258 - accuracy: 0.6126\n",
            "Epoch 29/80\n",
            "4/4 [==============================] - 0s 4ms/step - loss: 0.9170 - accuracy: 0.6126\n",
            "Epoch 30/80\n",
            "4/4 [==============================] - 0s 4ms/step - loss: 0.9102 - accuracy: 0.6126\n",
            "Epoch 31/80\n",
            "4/4 [==============================] - 0s 4ms/step - loss: 0.9022 - accuracy: 0.6126\n",
            "Epoch 32/80\n",
            "4/4 [==============================] - 0s 4ms/step - loss: 0.8949 - accuracy: 0.6216\n",
            "Epoch 33/80\n",
            "4/4 [==============================] - 0s 4ms/step - loss: 0.8878 - accuracy: 0.6216\n",
            "Epoch 34/80\n",
            "4/4 [==============================] - 0s 4ms/step - loss: 0.8811 - accuracy: 0.6216\n",
            "Epoch 35/80\n",
            "4/4 [==============================] - 0s 8ms/step - loss: 0.8742 - accuracy: 0.6216\n",
            "Epoch 36/80\n",
            "4/4 [==============================] - 0s 4ms/step - loss: 0.8680 - accuracy: 0.6216\n",
            "Epoch 37/80\n",
            "4/4 [==============================] - 0s 4ms/step - loss: 0.8618 - accuracy: 0.6216\n",
            "Epoch 38/80\n",
            "4/4 [==============================] - 0s 3ms/step - loss: 0.8553 - accuracy: 0.6216\n",
            "Epoch 39/80\n",
            "4/4 [==============================] - 0s 4ms/step - loss: 0.8491 - accuracy: 0.6216\n",
            "Epoch 40/80\n",
            "4/4 [==============================] - 0s 4ms/step - loss: 0.8435 - accuracy: 0.6216\n",
            "Epoch 41/80\n",
            "4/4 [==============================] - 0s 2ms/step - loss: 0.8374 - accuracy: 0.6126\n",
            "Epoch 42/80\n",
            "4/4 [==============================] - 0s 2ms/step - loss: 0.8318 - accuracy: 0.6126\n",
            "Epoch 43/80\n",
            "4/4 [==============================] - 0s 4ms/step - loss: 0.8266 - accuracy: 0.6126\n",
            "Epoch 44/80\n",
            "4/4 [==============================] - 0s 3ms/step - loss: 0.8211 - accuracy: 0.6126\n",
            "Epoch 45/80\n",
            "4/4 [==============================] - 0s 4ms/step - loss: 0.8164 - accuracy: 0.6126\n",
            "Epoch 46/80\n",
            "4/4 [==============================] - 0s 2ms/step - loss: 0.8111 - accuracy: 0.6126\n",
            "Epoch 47/80\n",
            "4/4 [==============================] - 0s 2ms/step - loss: 0.8063 - accuracy: 0.6216\n",
            "Epoch 48/80\n",
            "4/4 [==============================] - 0s 4ms/step - loss: 0.8013 - accuracy: 0.6216\n",
            "Epoch 49/80\n",
            "4/4 [==============================] - 0s 4ms/step - loss: 0.7965 - accuracy: 0.6216\n",
            "Epoch 50/80\n",
            "4/4 [==============================] - 0s 4ms/step - loss: 0.7917 - accuracy: 0.6306\n",
            "Epoch 51/80\n",
            "4/4 [==============================] - 0s 4ms/step - loss: 0.7871 - accuracy: 0.6306\n",
            "Epoch 52/80\n",
            "4/4 [==============================] - 0s 3ms/step - loss: 0.7823 - accuracy: 0.6396\n",
            "Epoch 53/80\n",
            "4/4 [==============================] - 0s 2ms/step - loss: 0.7780 - accuracy: 0.6486\n",
            "Epoch 54/80\n",
            "4/4 [==============================] - 0s 2ms/step - loss: 0.7733 - accuracy: 0.6486\n",
            "Epoch 55/80\n",
            "4/4 [==============================] - 0s 4ms/step - loss: 0.7690 - accuracy: 0.6486\n",
            "Epoch 56/80\n",
            "4/4 [==============================] - 0s 4ms/step - loss: 0.7647 - accuracy: 0.6577\n",
            "Epoch 57/80\n",
            "4/4 [==============================] - 0s 4ms/step - loss: 0.7605 - accuracy: 0.6667\n",
            "Epoch 58/80\n",
            "4/4 [==============================] - 0s 3ms/step - loss: 0.7563 - accuracy: 0.6667\n",
            "Epoch 59/80\n",
            "4/4 [==============================] - 0s 2ms/step - loss: 0.7525 - accuracy: 0.6757\n",
            "Epoch 60/80\n",
            "4/4 [==============================] - 0s 3ms/step - loss: 0.7483 - accuracy: 0.6847\n",
            "Epoch 61/80\n",
            "4/4 [==============================] - 0s 4ms/step - loss: 0.7443 - accuracy: 0.6847\n",
            "Epoch 62/80\n",
            "4/4 [==============================] - 0s 4ms/step - loss: 0.7405 - accuracy: 0.6847\n",
            "Epoch 63/80\n",
            "4/4 [==============================] - 0s 5ms/step - loss: 0.7365 - accuracy: 0.7027\n",
            "Epoch 64/80\n",
            "4/4 [==============================] - 0s 2ms/step - loss: 0.7329 - accuracy: 0.7027\n",
            "Epoch 65/80\n",
            "4/4 [==============================] - 0s 4ms/step - loss: 0.7291 - accuracy: 0.7027\n",
            "Epoch 66/80\n",
            "4/4 [==============================] - 0s 5ms/step - loss: 0.7254 - accuracy: 0.7117\n",
            "Epoch 67/80\n",
            "4/4 [==============================] - 0s 2ms/step - loss: 0.7218 - accuracy: 0.7117\n",
            "Epoch 68/80\n",
            "4/4 [==============================] - 0s 3ms/step - loss: 0.7182 - accuracy: 0.7117\n",
            "Epoch 69/80\n",
            "4/4 [==============================] - 0s 5ms/step - loss: 0.7149 - accuracy: 0.7117\n",
            "Epoch 70/80\n",
            "4/4 [==============================] - 0s 3ms/step - loss: 0.7113 - accuracy: 0.7117\n",
            "Epoch 71/80\n",
            "4/4 [==============================] - 0s 5ms/step - loss: 0.7080 - accuracy: 0.7117\n",
            "Epoch 72/80\n",
            "4/4 [==============================] - 0s 3ms/step - loss: 0.7046 - accuracy: 0.7117\n",
            "Epoch 73/80\n",
            "4/4 [==============================] - 0s 5ms/step - loss: 0.7014 - accuracy: 0.7117\n",
            "Epoch 74/80\n",
            "4/4 [==============================] - 0s 3ms/step - loss: 0.6980 - accuracy: 0.7117\n",
            "Epoch 75/80\n",
            "4/4 [==============================] - 0s 4ms/step - loss: 0.6948 - accuracy: 0.7117\n",
            "Epoch 76/80\n",
            "4/4 [==============================] - 0s 4ms/step - loss: 0.6917 - accuracy: 0.7117\n",
            "Epoch 77/80\n",
            "4/4 [==============================] - 0s 4ms/step - loss: 0.6888 - accuracy: 0.7207\n",
            "Epoch 78/80\n",
            "4/4 [==============================] - 0s 4ms/step - loss: 0.6856 - accuracy: 0.7207\n",
            "Epoch 79/80\n",
            "4/4 [==============================] - 0s 4ms/step - loss: 0.6825 - accuracy: 0.7207\n",
            "Epoch 80/80\n",
            "4/4 [==============================] - 0s 3ms/step - loss: 0.6797 - accuracy: 0.7207\n"
          ]
        },
        {
          "output_type": "execute_result",
          "data": {
            "text/plain": [
              "<keras.callbacks.History at 0x7f51e93ef9d0>"
            ]
          },
          "metadata": {},
          "execution_count": 207
        }
      ]
    },
    {
      "cell_type": "code",
      "metadata": {
        "colab": {
          "base_uri": "https://localhost:8080/"
        },
        "id": "-SXwontGrzwv",
        "outputId": "8baa5943-bb5d-4e8f-833d-ab6ce1254df7"
      },
      "source": [
        "test_acc0= estimator02.score(X_test,Y_test)\n",
        "\n",
        "print('\\nTest accuracy:',test_acc0)"
      ],
      "execution_count": 208,
      "outputs": [
        {
          "output_type": "stream",
          "name": "stdout",
          "text": [
            "2/2 [==============================] - 0s 6ms/step - loss: 0.6892 - accuracy: 0.7500\n",
            "\n",
            "Test accuracy: 0.75\n"
          ]
        }
      ]
    },
    {
      "cell_type": "markdown",
      "metadata": {
        "id": "Deo8MoGBsw-l"
      },
      "source": [
        "**CASE 2:** Using 2 hidden layers with one with 8 and other with 16 nodes."
      ]
    },
    {
      "cell_type": "code",
      "metadata": {
        "id": "FK78Wkrusw-v"
      },
      "source": [
        "\n",
        "np.random.seed(10)\n",
        "tf.random.set_seed(10)\n",
        "\n",
        "def Fish_ANN1():\n",
        "  model = Sequential()\n",
        "  model.add(Dense(8, input_dim=6, activation='relu'))\n",
        "  model.add(Dense(16,activation='relu'))\n",
        "  model.add(Dense(3, activation='softmax'))\n",
        "  model.compile(loss='categorical_crossentropy', optimizer='adam', metrics=['accuracy'])\n",
        "  print(model.output_shape)\n",
        "  return model"
      ],
      "execution_count": 221,
      "outputs": []
    },
    {
      "cell_type": "code",
      "metadata": {
        "colab": {
          "base_uri": "https://localhost:8080/"
        },
        "id": "99vdbRwGsw-v",
        "outputId": "1629dd07-df40-436c-9837-d21d90aaeb47"
      },
      "source": [
        "ANN_1=Fish_ANN1\n",
        "estimator01 = KerasClassifier(build_fn=ANN_1, epochs=100)\n",
        "estimator01.fit(X_train,Y_train)\n"
      ],
      "execution_count": 222,
      "outputs": [
        {
          "output_type": "stream",
          "name": "stdout",
          "text": [
            "(None, 3)\n",
            "Epoch 1/100\n",
            "4/4 [==============================] - 1s 3ms/step - loss: 1.1103 - accuracy: 0.3514\n",
            "Epoch 2/100\n",
            "4/4 [==============================] - 0s 3ms/step - loss: 1.0906 - accuracy: 0.3964\n",
            "Epoch 3/100\n",
            "4/4 [==============================] - 0s 2ms/step - loss: 1.0705 - accuracy: 0.4324\n",
            "Epoch 4/100\n",
            "4/4 [==============================] - 0s 3ms/step - loss: 1.0515 - accuracy: 0.4505\n",
            "Epoch 5/100\n",
            "4/4 [==============================] - 0s 3ms/step - loss: 1.0369 - accuracy: 0.4505\n",
            "Epoch 6/100\n",
            "4/4 [==============================] - 0s 3ms/step - loss: 1.0231 - accuracy: 0.4595\n",
            "Epoch 7/100\n",
            "4/4 [==============================] - 0s 3ms/step - loss: 1.0114 - accuracy: 0.4775\n",
            "Epoch 8/100\n",
            "4/4 [==============================] - 0s 4ms/step - loss: 0.9982 - accuracy: 0.5225\n",
            "Epoch 9/100\n",
            "4/4 [==============================] - 0s 3ms/step - loss: 0.9873 - accuracy: 0.5495\n",
            "Epoch 10/100\n",
            "4/4 [==============================] - 0s 2ms/step - loss: 0.9765 - accuracy: 0.5405\n",
            "Epoch 11/100\n",
            "4/4 [==============================] - 0s 2ms/step - loss: 0.9659 - accuracy: 0.5405\n",
            "Epoch 12/100\n",
            "4/4 [==============================] - 0s 2ms/step - loss: 0.9563 - accuracy: 0.5225\n",
            "Epoch 13/100\n",
            "4/4 [==============================] - 0s 2ms/step - loss: 0.9457 - accuracy: 0.4775\n",
            "Epoch 14/100\n",
            "4/4 [==============================] - 0s 2ms/step - loss: 0.9359 - accuracy: 0.4865\n",
            "Epoch 15/100\n",
            "4/4 [==============================] - 0s 3ms/step - loss: 0.9259 - accuracy: 0.4865\n",
            "Epoch 16/100\n",
            "4/4 [==============================] - 0s 3ms/step - loss: 0.9166 - accuracy: 0.4955\n",
            "Epoch 17/100\n",
            "4/4 [==============================] - 0s 2ms/step - loss: 0.9071 - accuracy: 0.5405\n",
            "Epoch 18/100\n",
            "4/4 [==============================] - 0s 3ms/step - loss: 0.8973 - accuracy: 0.6126\n",
            "Epoch 19/100\n",
            "4/4 [==============================] - 0s 3ms/step - loss: 0.8881 - accuracy: 0.6216\n",
            "Epoch 20/100\n",
            "4/4 [==============================] - 0s 3ms/step - loss: 0.8778 - accuracy: 0.6216\n",
            "Epoch 21/100\n",
            "4/4 [==============================] - 0s 2ms/step - loss: 0.8679 - accuracy: 0.6216\n",
            "Epoch 22/100\n",
            "4/4 [==============================] - 0s 2ms/step - loss: 0.8591 - accuracy: 0.6216\n",
            "Epoch 23/100\n",
            "4/4 [==============================] - 0s 3ms/step - loss: 0.8490 - accuracy: 0.6216\n",
            "Epoch 24/100\n",
            "4/4 [==============================] - 0s 3ms/step - loss: 0.8400 - accuracy: 0.6216\n",
            "Epoch 25/100\n",
            "4/4 [==============================] - 0s 2ms/step - loss: 0.8309 - accuracy: 0.6216\n",
            "Epoch 26/100\n",
            "4/4 [==============================] - 0s 2ms/step - loss: 0.8220 - accuracy: 0.6216\n",
            "Epoch 27/100\n",
            "4/4 [==============================] - 0s 3ms/step - loss: 0.8132 - accuracy: 0.6216\n",
            "Epoch 28/100\n",
            "4/4 [==============================] - 0s 3ms/step - loss: 0.8048 - accuracy: 0.6216\n",
            "Epoch 29/100\n",
            "4/4 [==============================] - 0s 5ms/step - loss: 0.7967 - accuracy: 0.6216\n",
            "Epoch 30/100\n",
            "4/4 [==============================] - 0s 3ms/step - loss: 0.7880 - accuracy: 0.6216\n",
            "Epoch 31/100\n",
            "4/4 [==============================] - 0s 2ms/step - loss: 0.7797 - accuracy: 0.6577\n",
            "Epoch 32/100\n",
            "4/4 [==============================] - 0s 3ms/step - loss: 0.7719 - accuracy: 0.6757\n",
            "Epoch 33/100\n",
            "4/4 [==============================] - 0s 3ms/step - loss: 0.7636 - accuracy: 0.6847\n",
            "Epoch 34/100\n",
            "4/4 [==============================] - 0s 4ms/step - loss: 0.7558 - accuracy: 0.6847\n",
            "Epoch 35/100\n",
            "4/4 [==============================] - 0s 3ms/step - loss: 0.7483 - accuracy: 0.6937\n",
            "Epoch 36/100\n",
            "4/4 [==============================] - 0s 3ms/step - loss: 0.7409 - accuracy: 0.7027\n",
            "Epoch 37/100\n",
            "4/4 [==============================] - 0s 2ms/step - loss: 0.7338 - accuracy: 0.7207\n",
            "Epoch 38/100\n",
            "4/4 [==============================] - 0s 3ms/step - loss: 0.7262 - accuracy: 0.7207\n",
            "Epoch 39/100\n",
            "4/4 [==============================] - 0s 2ms/step - loss: 0.7194 - accuracy: 0.7207\n",
            "Epoch 40/100\n",
            "4/4 [==============================] - 0s 2ms/step - loss: 0.7120 - accuracy: 0.7297\n",
            "Epoch 41/100\n",
            "4/4 [==============================] - 0s 3ms/step - loss: 0.7052 - accuracy: 0.7297\n",
            "Epoch 42/100\n",
            "4/4 [==============================] - 0s 3ms/step - loss: 0.6984 - accuracy: 0.7297\n",
            "Epoch 43/100\n",
            "4/4 [==============================] - 0s 2ms/step - loss: 0.6910 - accuracy: 0.7297\n",
            "Epoch 44/100\n",
            "4/4 [==============================] - 0s 3ms/step - loss: 0.6845 - accuracy: 0.7297\n",
            "Epoch 45/100\n",
            "4/4 [==============================] - 0s 4ms/step - loss: 0.6778 - accuracy: 0.7297\n",
            "Epoch 46/100\n",
            "4/4 [==============================] - 0s 3ms/step - loss: 0.6711 - accuracy: 0.7297\n",
            "Epoch 47/100\n",
            "4/4 [==============================] - 0s 4ms/step - loss: 0.6644 - accuracy: 0.7387\n",
            "Epoch 48/100\n",
            "4/4 [==============================] - 0s 4ms/step - loss: 0.6580 - accuracy: 0.7387\n",
            "Epoch 49/100\n",
            "4/4 [==============================] - 0s 3ms/step - loss: 0.6515 - accuracy: 0.7387\n",
            "Epoch 50/100\n",
            "4/4 [==============================] - 0s 3ms/step - loss: 0.6449 - accuracy: 0.7387\n",
            "Epoch 51/100\n",
            "4/4 [==============================] - 0s 4ms/step - loss: 0.6390 - accuracy: 0.7387\n",
            "Epoch 52/100\n",
            "4/4 [==============================] - 0s 3ms/step - loss: 0.6321 - accuracy: 0.7387\n",
            "Epoch 53/100\n",
            "4/4 [==============================] - 0s 3ms/step - loss: 0.6264 - accuracy: 0.7387\n",
            "Epoch 54/100\n",
            "4/4 [==============================] - 0s 4ms/step - loss: 0.6193 - accuracy: 0.7387\n",
            "Epoch 55/100\n",
            "4/4 [==============================] - 0s 3ms/step - loss: 0.6128 - accuracy: 0.7387\n",
            "Epoch 56/100\n",
            "4/4 [==============================] - 0s 2ms/step - loss: 0.6068 - accuracy: 0.7387\n",
            "Epoch 57/100\n",
            "4/4 [==============================] - 0s 4ms/step - loss: 0.6003 - accuracy: 0.7387\n",
            "Epoch 58/100\n",
            "4/4 [==============================] - 0s 2ms/step - loss: 0.5947 - accuracy: 0.7387\n",
            "Epoch 59/100\n",
            "4/4 [==============================] - 0s 2ms/step - loss: 0.5888 - accuracy: 0.7387\n",
            "Epoch 60/100\n",
            "4/4 [==============================] - 0s 3ms/step - loss: 0.5826 - accuracy: 0.7387\n",
            "Epoch 61/100\n",
            "4/4 [==============================] - 0s 3ms/step - loss: 0.5769 - accuracy: 0.7387\n",
            "Epoch 62/100\n",
            "4/4 [==============================] - 0s 3ms/step - loss: 0.5714 - accuracy: 0.7387\n",
            "Epoch 63/100\n",
            "4/4 [==============================] - 0s 2ms/step - loss: 0.5657 - accuracy: 0.7387\n",
            "Epoch 64/100\n",
            "4/4 [==============================] - 0s 4ms/step - loss: 0.5606 - accuracy: 0.7387\n",
            "Epoch 65/100\n",
            "4/4 [==============================] - 0s 2ms/step - loss: 0.5551 - accuracy: 0.7387\n",
            "Epoch 66/100\n",
            "4/4 [==============================] - 0s 3ms/step - loss: 0.5497 - accuracy: 0.7387\n",
            "Epoch 67/100\n",
            "4/4 [==============================] - 0s 3ms/step - loss: 0.5449 - accuracy: 0.7387\n",
            "Epoch 68/100\n",
            "4/4 [==============================] - 0s 2ms/step - loss: 0.5397 - accuracy: 0.7387\n",
            "Epoch 69/100\n",
            "4/4 [==============================] - 0s 3ms/step - loss: 0.5355 - accuracy: 0.7387\n",
            "Epoch 70/100\n",
            "4/4 [==============================] - 0s 3ms/step - loss: 0.5307 - accuracy: 0.7387\n",
            "Epoch 71/100\n",
            "4/4 [==============================] - 0s 3ms/step - loss: 0.5256 - accuracy: 0.7568\n",
            "Epoch 72/100\n",
            "4/4 [==============================] - 0s 2ms/step - loss: 0.5208 - accuracy: 0.7748\n",
            "Epoch 73/100\n",
            "4/4 [==============================] - 0s 3ms/step - loss: 0.5165 - accuracy: 0.7748\n",
            "Epoch 74/100\n",
            "4/4 [==============================] - 0s 3ms/step - loss: 0.5118 - accuracy: 0.7748\n",
            "Epoch 75/100\n",
            "4/4 [==============================] - 0s 3ms/step - loss: 0.5075 - accuracy: 0.7838\n",
            "Epoch 76/100\n",
            "4/4 [==============================] - 0s 3ms/step - loss: 0.5035 - accuracy: 0.7838\n",
            "Epoch 77/100\n",
            "4/4 [==============================] - 0s 3ms/step - loss: 0.4998 - accuracy: 0.7838\n",
            "Epoch 78/100\n",
            "4/4 [==============================] - 0s 4ms/step - loss: 0.4956 - accuracy: 0.7838\n",
            "Epoch 79/100\n",
            "4/4 [==============================] - 0s 2ms/step - loss: 0.4911 - accuracy: 0.7838\n",
            "Epoch 80/100\n",
            "4/4 [==============================] - 0s 2ms/step - loss: 0.4873 - accuracy: 0.8018\n",
            "Epoch 81/100\n",
            "4/4 [==============================] - 0s 3ms/step - loss: 0.4840 - accuracy: 0.8108\n",
            "Epoch 82/100\n",
            "4/4 [==============================] - 0s 3ms/step - loss: 0.4807 - accuracy: 0.8018\n",
            "Epoch 83/100\n",
            "4/4 [==============================] - 0s 4ms/step - loss: 0.4760 - accuracy: 0.8108\n",
            "Epoch 84/100\n",
            "4/4 [==============================] - 0s 3ms/step - loss: 0.4723 - accuracy: 0.8108\n",
            "Epoch 85/100\n",
            "4/4 [==============================] - 0s 3ms/step - loss: 0.4691 - accuracy: 0.8288\n",
            "Epoch 86/100\n",
            "4/4 [==============================] - 0s 3ms/step - loss: 0.4656 - accuracy: 0.8288\n",
            "Epoch 87/100\n",
            "4/4 [==============================] - 0s 4ms/step - loss: 0.4626 - accuracy: 0.8288\n",
            "Epoch 88/100\n",
            "4/4 [==============================] - 0s 2ms/step - loss: 0.4592 - accuracy: 0.8288\n",
            "Epoch 89/100\n",
            "4/4 [==============================] - 0s 3ms/step - loss: 0.4557 - accuracy: 0.8378\n",
            "Epoch 90/100\n",
            "4/4 [==============================] - 0s 4ms/step - loss: 0.4526 - accuracy: 0.8468\n",
            "Epoch 91/100\n",
            "4/4 [==============================] - 0s 3ms/step - loss: 0.4494 - accuracy: 0.8378\n",
            "Epoch 92/100\n",
            "4/4 [==============================] - 0s 3ms/step - loss: 0.4466 - accuracy: 0.8378\n",
            "Epoch 93/100\n",
            "4/4 [==============================] - 0s 3ms/step - loss: 0.4434 - accuracy: 0.8378\n",
            "Epoch 94/100\n",
            "4/4 [==============================] - 0s 3ms/step - loss: 0.4404 - accuracy: 0.8378\n",
            "Epoch 95/100\n",
            "4/4 [==============================] - 0s 3ms/step - loss: 0.4375 - accuracy: 0.8378\n",
            "Epoch 96/100\n",
            "4/4 [==============================] - 0s 3ms/step - loss: 0.4350 - accuracy: 0.8378\n",
            "Epoch 97/100\n",
            "4/4 [==============================] - 0s 3ms/step - loss: 0.4320 - accuracy: 0.8378\n",
            "Epoch 98/100\n",
            "4/4 [==============================] - 0s 3ms/step - loss: 0.4295 - accuracy: 0.8378\n",
            "Epoch 99/100\n",
            "4/4 [==============================] - 0s 3ms/step - loss: 0.4266 - accuracy: 0.8378\n",
            "Epoch 100/100\n",
            "4/4 [==============================] - 0s 3ms/step - loss: 0.4243 - accuracy: 0.8559\n"
          ]
        },
        {
          "output_type": "execute_result",
          "data": {
            "text/plain": [
              "<keras.callbacks.History at 0x7f51e7313a50>"
            ]
          },
          "metadata": {},
          "execution_count": 222
        }
      ]
    },
    {
      "cell_type": "code",
      "metadata": {
        "colab": {
          "base_uri": "https://localhost:8080/"
        },
        "id": "GqIxdad2sw-v",
        "outputId": "4ec9bc39-5329-4cbc-a420-1cb201485382"
      },
      "source": [
        "test_acc= estimator01.score(X_test,Y_test)\n",
        "\n",
        "print('\\nTest accuracy:',test_acc)"
      ],
      "execution_count": 223,
      "outputs": [
        {
          "output_type": "stream",
          "name": "stdout",
          "text": [
            "2/2 [==============================] - 0s 7ms/step - loss: 0.4500 - accuracy: 0.8125\n",
            "\n",
            "Test accuracy: 0.8125\n"
          ]
        }
      ]
    },
    {
      "cell_type": "code",
      "metadata": {
        "id": "hxnrhIW4qp8u"
      },
      "source": [
        ""
      ],
      "execution_count": null,
      "outputs": []
    },
    {
      "cell_type": "markdown",
      "metadata": {
        "id": "XHBqJyKdwL1I"
      },
      "source": [
        "**CASE 3:** Using 3 hidden layers with one with 8 and other with 16 nodes."
      ]
    },
    {
      "cell_type": "code",
      "metadata": {
        "id": "5mAnWsX7wL1J"
      },
      "source": [
        "\n",
        "np.random.seed(10)\n",
        "tf.random.set_seed(10)\n",
        "\n",
        "def Fish_ANN2():\n",
        "  model = Sequential()\n",
        "  model.add(Dense(8, input_dim=6, activation='relu'))\n",
        "  model.add(Dense(16,activation='relu'))\n",
        "  model.add(Dense(16,activation='relu'))\n",
        "  model.add(Dense(3, activation='softmax'))\n",
        "  model.compile(loss='categorical_crossentropy', optimizer='adam', metrics=['accuracy'])\n",
        "  print(model.output_shape)\n",
        "  return model"
      ],
      "execution_count": 251,
      "outputs": []
    },
    {
      "cell_type": "code",
      "metadata": {
        "colab": {
          "base_uri": "https://localhost:8080/"
        },
        "id": "4yk8w7qjwL1K",
        "outputId": "a04a3a6e-3e1f-452f-d5a2-91ad64af2a2c"
      },
      "source": [
        "ANN_2=Fish_ANN2\n",
        "estimator02 = KerasClassifier(build_fn=ANN_2, epochs=100)\n",
        "estimator02.fit(X_train,Y_train)\n"
      ],
      "execution_count": 252,
      "outputs": [
        {
          "output_type": "stream",
          "name": "stdout",
          "text": [
            "(None, 3)\n",
            "Epoch 1/100\n",
            "4/4 [==============================] - 0s 3ms/step - loss: 1.0987 - accuracy: 0.3333\n",
            "Epoch 2/100\n",
            "4/4 [==============================] - 0s 3ms/step - loss: 1.0795 - accuracy: 0.4685\n",
            "Epoch 3/100\n",
            "4/4 [==============================] - 0s 3ms/step - loss: 1.0613 - accuracy: 0.4865\n",
            "Epoch 4/100\n",
            "4/4 [==============================] - 0s 3ms/step - loss: 1.0427 - accuracy: 0.5135\n",
            "Epoch 5/100\n",
            "4/4 [==============================] - 0s 3ms/step - loss: 1.0258 - accuracy: 0.5495\n",
            "Epoch 6/100\n",
            "4/4 [==============================] - 0s 2ms/step - loss: 1.0088 - accuracy: 0.5946\n",
            "Epoch 7/100\n",
            "4/4 [==============================] - 0s 3ms/step - loss: 0.9915 - accuracy: 0.6306\n",
            "Epoch 8/100\n",
            "4/4 [==============================] - 0s 3ms/step - loss: 0.9740 - accuracy: 0.6396\n",
            "Epoch 9/100\n",
            "4/4 [==============================] - 0s 3ms/step - loss: 0.9564 - accuracy: 0.6396\n",
            "Epoch 10/100\n",
            "4/4 [==============================] - 0s 3ms/step - loss: 0.9395 - accuracy: 0.6486\n",
            "Epoch 11/100\n",
            "4/4 [==============================] - 0s 3ms/step - loss: 0.9217 - accuracy: 0.6577\n",
            "Epoch 12/100\n",
            "4/4 [==============================] - 0s 3ms/step - loss: 0.9064 - accuracy: 0.6577\n",
            "Epoch 13/100\n",
            "4/4 [==============================] - 0s 2ms/step - loss: 0.8901 - accuracy: 0.6577\n",
            "Epoch 14/100\n",
            "4/4 [==============================] - 0s 3ms/step - loss: 0.8752 - accuracy: 0.6577\n",
            "Epoch 15/100\n",
            "4/4 [==============================] - 0s 3ms/step - loss: 0.8609 - accuracy: 0.6577\n",
            "Epoch 16/100\n",
            "4/4 [==============================] - 0s 3ms/step - loss: 0.8481 - accuracy: 0.6667\n",
            "Epoch 17/100\n",
            "4/4 [==============================] - 0s 3ms/step - loss: 0.8358 - accuracy: 0.6667\n",
            "Epoch 18/100\n",
            "4/4 [==============================] - 0s 3ms/step - loss: 0.8232 - accuracy: 0.6667\n",
            "Epoch 19/100\n",
            "4/4 [==============================] - 0s 3ms/step - loss: 0.8114 - accuracy: 0.6667\n",
            "Epoch 20/100\n",
            "4/4 [==============================] - 0s 3ms/step - loss: 0.7991 - accuracy: 0.6667\n",
            "Epoch 21/100\n",
            "4/4 [==============================] - 0s 3ms/step - loss: 0.7868 - accuracy: 0.6667\n",
            "Epoch 22/100\n",
            "4/4 [==============================] - 0s 3ms/step - loss: 0.7757 - accuracy: 0.6667\n",
            "Epoch 23/100\n",
            "4/4 [==============================] - 0s 3ms/step - loss: 0.7628 - accuracy: 0.6757\n",
            "Epoch 24/100\n",
            "4/4 [==============================] - 0s 3ms/step - loss: 0.7499 - accuracy: 0.7027\n",
            "Epoch 25/100\n",
            "4/4 [==============================] - 0s 3ms/step - loss: 0.7381 - accuracy: 0.7027\n",
            "Epoch 26/100\n",
            "4/4 [==============================] - 0s 3ms/step - loss: 0.7254 - accuracy: 0.7117\n",
            "Epoch 27/100\n",
            "4/4 [==============================] - 0s 3ms/step - loss: 0.7138 - accuracy: 0.7117\n",
            "Epoch 28/100\n",
            "4/4 [==============================] - 0s 3ms/step - loss: 0.7007 - accuracy: 0.7117\n",
            "Epoch 29/100\n",
            "4/4 [==============================] - 0s 3ms/step - loss: 0.6904 - accuracy: 0.7027\n",
            "Epoch 30/100\n",
            "4/4 [==============================] - 0s 3ms/step - loss: 0.6782 - accuracy: 0.7027\n",
            "Epoch 31/100\n",
            "4/4 [==============================] - 0s 2ms/step - loss: 0.6656 - accuracy: 0.7117\n",
            "Epoch 32/100\n",
            "4/4 [==============================] - 0s 2ms/step - loss: 0.6546 - accuracy: 0.7117\n",
            "Epoch 33/100\n",
            "4/4 [==============================] - 0s 4ms/step - loss: 0.6432 - accuracy: 0.7117\n",
            "Epoch 34/100\n",
            "4/4 [==============================] - 0s 4ms/step - loss: 0.6322 - accuracy: 0.7207\n",
            "Epoch 35/100\n",
            "4/4 [==============================] - 0s 3ms/step - loss: 0.6208 - accuracy: 0.7207\n",
            "Epoch 36/100\n",
            "4/4 [==============================] - 0s 4ms/step - loss: 0.6101 - accuracy: 0.7387\n",
            "Epoch 37/100\n",
            "4/4 [==============================] - 0s 3ms/step - loss: 0.5999 - accuracy: 0.7477\n",
            "Epoch 38/100\n",
            "4/4 [==============================] - 0s 4ms/step - loss: 0.5903 - accuracy: 0.7477\n",
            "Epoch 39/100\n",
            "4/4 [==============================] - 0s 3ms/step - loss: 0.5812 - accuracy: 0.7477\n",
            "Epoch 40/100\n",
            "4/4 [==============================] - 0s 4ms/step - loss: 0.5720 - accuracy: 0.7477\n",
            "Epoch 41/100\n",
            "4/4 [==============================] - 0s 3ms/step - loss: 0.5648 - accuracy: 0.7477\n",
            "Epoch 42/100\n",
            "4/4 [==============================] - 0s 2ms/step - loss: 0.5569 - accuracy: 0.7477\n",
            "Epoch 43/100\n",
            "4/4 [==============================] - 0s 3ms/step - loss: 0.5495 - accuracy: 0.7477\n",
            "Epoch 44/100\n",
            "4/4 [==============================] - 0s 4ms/step - loss: 0.5429 - accuracy: 0.7477\n",
            "Epoch 45/100\n",
            "4/4 [==============================] - 0s 3ms/step - loss: 0.5366 - accuracy: 0.7477\n",
            "Epoch 46/100\n",
            "4/4 [==============================] - 0s 3ms/step - loss: 0.5302 - accuracy: 0.7477\n",
            "Epoch 47/100\n",
            "4/4 [==============================] - 0s 3ms/step - loss: 0.5246 - accuracy: 0.7477\n",
            "Epoch 48/100\n",
            "4/4 [==============================] - 0s 3ms/step - loss: 0.5193 - accuracy: 0.7477\n",
            "Epoch 49/100\n",
            "4/4 [==============================] - 0s 3ms/step - loss: 0.5142 - accuracy: 0.7477\n",
            "Epoch 50/100\n",
            "4/4 [==============================] - 0s 2ms/step - loss: 0.5090 - accuracy: 0.7477\n",
            "Epoch 51/100\n",
            "4/4 [==============================] - 0s 2ms/step - loss: 0.5048 - accuracy: 0.7477\n",
            "Epoch 52/100\n",
            "4/4 [==============================] - 0s 3ms/step - loss: 0.4998 - accuracy: 0.7477\n",
            "Epoch 53/100\n",
            "4/4 [==============================] - 0s 3ms/step - loss: 0.4955 - accuracy: 0.7477\n",
            "Epoch 54/100\n",
            "4/4 [==============================] - 0s 3ms/step - loss: 0.4907 - accuracy: 0.7477\n",
            "Epoch 55/100\n",
            "4/4 [==============================] - 0s 2ms/step - loss: 0.4860 - accuracy: 0.7477\n",
            "Epoch 56/100\n",
            "4/4 [==============================] - 0s 2ms/step - loss: 0.4828 - accuracy: 0.7477\n",
            "Epoch 57/100\n",
            "4/4 [==============================] - 0s 3ms/step - loss: 0.4788 - accuracy: 0.7477\n",
            "Epoch 58/100\n",
            "4/4 [==============================] - 0s 4ms/step - loss: 0.4753 - accuracy: 0.7477\n",
            "Epoch 59/100\n",
            "4/4 [==============================] - 0s 3ms/step - loss: 0.4720 - accuracy: 0.7477\n",
            "Epoch 60/100\n",
            "4/4 [==============================] - 0s 3ms/step - loss: 0.4684 - accuracy: 0.7477\n",
            "Epoch 61/100\n",
            "4/4 [==============================] - 0s 3ms/step - loss: 0.4651 - accuracy: 0.7477\n",
            "Epoch 62/100\n",
            "4/4 [==============================] - 0s 3ms/step - loss: 0.4622 - accuracy: 0.7477\n",
            "Epoch 63/100\n",
            "4/4 [==============================] - 0s 3ms/step - loss: 0.4588 - accuracy: 0.7477\n",
            "Epoch 64/100\n",
            "4/4 [==============================] - 0s 3ms/step - loss: 0.4563 - accuracy: 0.7568\n",
            "Epoch 65/100\n",
            "4/4 [==============================] - 0s 3ms/step - loss: 0.4526 - accuracy: 0.7568\n",
            "Epoch 66/100\n",
            "4/4 [==============================] - 0s 3ms/step - loss: 0.4489 - accuracy: 0.7568\n",
            "Epoch 67/100\n",
            "4/4 [==============================] - 0s 3ms/step - loss: 0.4459 - accuracy: 0.7658\n",
            "Epoch 68/100\n",
            "4/4 [==============================] - 0s 3ms/step - loss: 0.4427 - accuracy: 0.7658\n",
            "Epoch 69/100\n",
            "4/4 [==============================] - 0s 4ms/step - loss: 0.4414 - accuracy: 0.7568\n",
            "Epoch 70/100\n",
            "4/4 [==============================] - 0s 3ms/step - loss: 0.4384 - accuracy: 0.7658\n",
            "Epoch 71/100\n",
            "4/4 [==============================] - 0s 3ms/step - loss: 0.4348 - accuracy: 0.7658\n",
            "Epoch 72/100\n",
            "4/4 [==============================] - 0s 3ms/step - loss: 0.4326 - accuracy: 0.7748\n",
            "Epoch 73/100\n",
            "4/4 [==============================] - 0s 4ms/step - loss: 0.4301 - accuracy: 0.7838\n",
            "Epoch 74/100\n",
            "4/4 [==============================] - 0s 3ms/step - loss: 0.4276 - accuracy: 0.7838\n",
            "Epoch 75/100\n",
            "4/4 [==============================] - 0s 3ms/step - loss: 0.4251 - accuracy: 0.7838\n",
            "Epoch 76/100\n",
            "4/4 [==============================] - 0s 3ms/step - loss: 0.4229 - accuracy: 0.7838\n",
            "Epoch 77/100\n",
            "4/4 [==============================] - 0s 3ms/step - loss: 0.4212 - accuracy: 0.7838\n",
            "Epoch 78/100\n",
            "4/4 [==============================] - 0s 3ms/step - loss: 0.4193 - accuracy: 0.7838\n",
            "Epoch 79/100\n",
            "4/4 [==============================] - 0s 4ms/step - loss: 0.4159 - accuracy: 0.7838\n",
            "Epoch 80/100\n",
            "4/4 [==============================] - 0s 3ms/step - loss: 0.4133 - accuracy: 0.7838\n",
            "Epoch 81/100\n",
            "4/4 [==============================] - 0s 3ms/step - loss: 0.4124 - accuracy: 0.7928\n",
            "Epoch 82/100\n",
            "4/4 [==============================] - 0s 2ms/step - loss: 0.4110 - accuracy: 0.7928\n",
            "Epoch 83/100\n",
            "4/4 [==============================] - 0s 2ms/step - loss: 0.4066 - accuracy: 0.7928\n",
            "Epoch 84/100\n",
            "4/4 [==============================] - 0s 3ms/step - loss: 0.4038 - accuracy: 0.8018\n",
            "Epoch 85/100\n",
            "4/4 [==============================] - 0s 3ms/step - loss: 0.4021 - accuracy: 0.8018\n",
            "Epoch 86/100\n",
            "4/4 [==============================] - 0s 3ms/step - loss: 0.3995 - accuracy: 0.8108\n",
            "Epoch 87/100\n",
            "4/4 [==============================] - 0s 3ms/step - loss: 0.3973 - accuracy: 0.8108\n",
            "Epoch 88/100\n",
            "4/4 [==============================] - 0s 3ms/step - loss: 0.3950 - accuracy: 0.8018\n",
            "Epoch 89/100\n",
            "4/4 [==============================] - 0s 3ms/step - loss: 0.3915 - accuracy: 0.8108\n",
            "Epoch 90/100\n",
            "4/4 [==============================] - 0s 3ms/step - loss: 0.3891 - accuracy: 0.8108\n",
            "Epoch 91/100\n",
            "4/4 [==============================] - 0s 3ms/step - loss: 0.3861 - accuracy: 0.8108\n",
            "Epoch 92/100\n",
            "4/4 [==============================] - 0s 3ms/step - loss: 0.3835 - accuracy: 0.8108\n",
            "Epoch 93/100\n",
            "4/4 [==============================] - 0s 3ms/step - loss: 0.3805 - accuracy: 0.8288\n",
            "Epoch 94/100\n",
            "4/4 [==============================] - 0s 2ms/step - loss: 0.3774 - accuracy: 0.8378\n",
            "Epoch 95/100\n",
            "4/4 [==============================] - 0s 3ms/step - loss: 0.3740 - accuracy: 0.8378\n",
            "Epoch 96/100\n",
            "4/4 [==============================] - 0s 4ms/step - loss: 0.3706 - accuracy: 0.8288\n",
            "Epoch 97/100\n",
            "4/4 [==============================] - 0s 4ms/step - loss: 0.3668 - accuracy: 0.8288\n",
            "Epoch 98/100\n",
            "4/4 [==============================] - 0s 3ms/step - loss: 0.3638 - accuracy: 0.8288\n",
            "Epoch 99/100\n",
            "4/4 [==============================] - 0s 2ms/step - loss: 0.3588 - accuracy: 0.8378\n",
            "Epoch 100/100\n",
            "4/4 [==============================] - 0s 3ms/step - loss: 0.3551 - accuracy: 0.8829\n"
          ]
        },
        {
          "output_type": "execute_result",
          "data": {
            "text/plain": [
              "<keras.callbacks.History at 0x7f51e5da9fd0>"
            ]
          },
          "metadata": {},
          "execution_count": 252
        }
      ]
    },
    {
      "cell_type": "code",
      "metadata": {
        "colab": {
          "base_uri": "https://localhost:8080/"
        },
        "id": "taRzYsaRwL1K",
        "outputId": "6ec278eb-3f0c-40da-c457-baabf5146781"
      },
      "source": [
        "test_acc= estimator02.score(X_test,Y_test)\n",
        "\n",
        "print('\\nTest accuracy:',test_acc)"
      ],
      "execution_count": 253,
      "outputs": [
        {
          "output_type": "stream",
          "name": "stdout",
          "text": [
            "2/2 [==============================] - 0s 6ms/step - loss: 0.3994 - accuracy: 0.8333\n",
            "\n",
            "Test accuracy: 0.8333333134651184\n"
          ]
        }
      ]
    },
    {
      "cell_type": "markdown",
      "metadata": {
        "id": "WItTMzpHxPYV"
      },
      "source": [
        "**Best results of 83.334% accuracy was obtained in CASE 3 the Artificial neural network(ANN) built had 3 hidden layers with 8 16 and 16 nodes corresponding to each layer.**"
      ]
    },
    {
      "cell_type": "code",
      "metadata": {
        "id": "qy4SP6ZEwBFV"
      },
      "source": [
        ""
      ],
      "execution_count": null,
      "outputs": []
    },
    {
      "cell_type": "code",
      "metadata": {
        "id": "OT8qLCDpwBI2"
      },
      "source": [
        ""
      ],
      "execution_count": null,
      "outputs": []
    },
    {
      "cell_type": "code",
      "metadata": {
        "id": "qqLlvPqOsy3g"
      },
      "source": [
        ""
      ],
      "execution_count": null,
      "outputs": []
    }
  ]
}