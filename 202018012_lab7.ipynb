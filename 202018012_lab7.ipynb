{
  "nbformat": 4,
  "nbformat_minor": 0,
  "metadata": {
    "colab": {
      "name": "202018051_Assignment7_DL.ipynb",
      "provenance": [],
      "collapsed_sections": []
    },
    "kernelspec": {
      "name": "python3",
      "display_name": "Python 3"
    },
    "language_info": {
      "name": "python"
    },
    "accelerator": "GPU"
  },
  "cells": [
    {
      "cell_type": "code",
      "metadata": {
        "id": "XSvD9du8I2xL"
      },
      "source": [
        "import os\n",
        "import numpy as np \n",
        "import pandas as pd \n",
        "from sklearn.preprocessing import minmax_scale\n",
        "from sklearn.model_selection import train_test_split\n",
        "from keras.layers import Input, Dense\n",
        "from keras.models import Model\n",
        "from numpy.random import seed"
      ],
      "execution_count": null,
      "outputs": []
    },
    {
      "cell_type": "markdown",
      "metadata": {
        "id": "irOHOKlI-ljv"
      },
      "source": [
        "# **Task 01 : ECG data**"
      ]
    },
    {
      "cell_type": "code",
      "metadata": {
        "colab": {
          "base_uri": "https://localhost:8080/"
        },
        "id": "_GiyP-daJ8e1",
        "outputId": "f85d9236-f8a7-4d2c-884f-9d62816f5da7"
      },
      "source": [
        "DF= pd.read_csv(\"/content/ECG-12Lead.csv\")\n",
        "DF.isnull().sum()\n",
        "DF = DF.dropna()\n",
        "mean = DF.mean()\n",
        "std = DF.std()\n",
        "New_DF = (DF-mean)/std\n",
        "X = New_DF.iloc[:, :]\n",
        "X_train, X_test= train_test_split(X, test_size = 0.2, random_state = 50)\n",
        "ncol = X.shape[1]\n",
        "print(X_train.shape, X_test.shape, ncol)\n",
        "print(New_DF)"
      ],
      "execution_count": null,
      "outputs": [
        {
          "output_type": "stream",
          "name": "stdout",
          "text": [
            "(13875, 12) (3469, 12) 12\n",
            "            -49       -43         6  ...       -70       -85       -83\n",
            "0     -0.497260 -0.312651  0.128602  ... -0.195806 -0.304358 -0.415875\n",
            "1     -0.512798 -0.253659  0.268800  ... -0.181961 -0.279205 -0.373585\n",
            "2     -0.559411 -0.283155  0.268800  ... -0.203717 -0.299327 -0.380633\n",
            "3     -0.458415 -0.247760  0.210384  ... -0.209650 -0.299327 -0.373585\n",
            "4     -0.427339 -0.218264  0.210384  ... -0.225472 -0.311904 -0.391206\n",
            "...         ...       ...       ...  ...       ...       ...       ...\n",
            "17339 -0.295266  0.000006  0.444048  ... -0.211628 -0.236444 -0.415875\n",
            "17340 -0.279728  0.005905  0.444048  ... -0.215583 -0.243990 -0.412351\n",
            "17341 -0.303035  0.017703  0.490781  ... -0.221517 -0.256567 -0.415875\n",
            "17342 -0.318573  0.000006  0.467415  ... -0.203717 -0.228898 -0.394730\n",
            "17343 -0.334111  0.035401  0.572564  ... -0.211628 -0.233929 -0.422923\n",
            "\n",
            "[17344 rows x 12 columns]\n"
          ]
        }
      ]
    },
    {
      "cell_type": "markdown",
      "metadata": {
        "id": "pAYhduSRDBor"
      },
      "source": [
        "# Part 1 Autoencoder"
      ]
    },
    {
      "cell_type": "code",
      "metadata": {
        "colab": {
          "base_uri": "https://localhost:8080/"
        },
        "id": "pyYnEoUaqJL8",
        "outputId": "97bc6957-bbdf-4ffe-8b5f-abb3dda04695"
      },
      "source": [
        "encoding_dim = 3\n",
        "input_dim = Input(shape = (ncol, ))\n",
        "# Encoder Layers\n",
        "encoded1 = Dense(8, activation = 'relu')(input_dim)\n",
        "encoded2 = Dense(6, activation = 'relu')(encoded1)\n",
        "encoded3 = Dense(encoding_dim, activation = 'relu')(encoded2)\n",
        "# Decoder Layers\n",
        "decoded1 = Dense(6, activation = 'relu')(encoded3)\n",
        "decoded2 = Dense(8, activation = 'relu')(decoded1)\n",
        "decoded3 = Dense(ncol, activation = 'linear')(decoded2)\n",
        "# Combine Encoder and Deocder layers\n",
        "autoencoder = Model(inputs = input_dim, outputs = decoded3)\n",
        "\n",
        "# Compile the Model\n",
        "autoencoder.compile(optimizer = 'adadelta', loss = 'mse')\n",
        "autoencoder.summary()"
      ],
      "execution_count": null,
      "outputs": [
        {
          "output_type": "stream",
          "name": "stdout",
          "text": [
            "Model: \"model\"\n",
            "_________________________________________________________________\n",
            "Layer (type)                 Output Shape              Param #   \n",
            "=================================================================\n",
            "input_1 (InputLayer)         [(None, 12)]              0         \n",
            "_________________________________________________________________\n",
            "dense (Dense)                (None, 8)                 104       \n",
            "_________________________________________________________________\n",
            "dense_1 (Dense)              (None, 6)                 54        \n",
            "_________________________________________________________________\n",
            "dense_2 (Dense)              (None, 3)                 21        \n",
            "_________________________________________________________________\n",
            "dense_3 (Dense)              (None, 6)                 24        \n",
            "_________________________________________________________________\n",
            "dense_4 (Dense)              (None, 8)                 56        \n",
            "_________________________________________________________________\n",
            "dense_5 (Dense)              (None, 12)                108       \n",
            "=================================================================\n",
            "Total params: 367\n",
            "Trainable params: 367\n",
            "Non-trainable params: 0\n",
            "_________________________________________________________________\n"
          ]
        }
      ]
    },
    {
      "cell_type": "code",
      "metadata": {
        "colab": {
          "base_uri": "https://localhost:8080/"
        },
        "id": "zBZGEiTcplc4",
        "outputId": "4a1edc04-7a05-4738-f688-d2df7ed332ba"
      },
      "source": [
        "# Training a Auto Encoder\n",
        "autoencoder.fit(X_train, X_train, epochs = 10, batch_size = 32, shuffle = False, validation_data = (X_test, X_test))"
      ],
      "execution_count": null,
      "outputs": [
        {
          "output_type": "stream",
          "name": "stdout",
          "text": [
            "Epoch 1/10\n",
            "434/434 [==============================] - 5s 4ms/step - loss: 1.0444 - val_loss: 1.0212\n",
            "Epoch 2/10\n",
            "434/434 [==============================] - 2s 4ms/step - loss: 1.0428 - val_loss: 1.0197\n",
            "Epoch 3/10\n",
            "434/434 [==============================] - 2s 4ms/step - loss: 1.0412 - val_loss: 1.0182\n",
            "Epoch 4/10\n",
            "434/434 [==============================] - 2s 4ms/step - loss: 1.0397 - val_loss: 1.0168\n",
            "Epoch 5/10\n",
            "434/434 [==============================] - 2s 4ms/step - loss: 1.0383 - val_loss: 1.0154\n",
            "Epoch 6/10\n",
            "434/434 [==============================] - 2s 4ms/step - loss: 1.0369 - val_loss: 1.0139\n",
            "Epoch 7/10\n",
            "434/434 [==============================] - 2s 4ms/step - loss: 1.0354 - val_loss: 1.0126\n",
            "Epoch 8/10\n",
            "434/434 [==============================] - 2s 4ms/step - loss: 1.0341 - val_loss: 1.0112\n",
            "Epoch 9/10\n",
            "434/434 [==============================] - 2s 4ms/step - loss: 1.0327 - val_loss: 1.0099\n",
            "Epoch 10/10\n",
            "434/434 [==============================] - 2s 4ms/step - loss: 1.0314 - val_loss: 1.0086\n"
          ]
        },
        {
          "output_type": "execute_result",
          "data": {
            "text/plain": [
              "<keras.callbacks.History at 0x7f240014f4d0>"
            ]
          },
          "metadata": {},
          "execution_count": 4
        }
      ]
    },
    {
      "cell_type": "code",
      "metadata": {
        "id": "0MDaihrtq5KI"
      },
      "source": [
        "# Getting the encoded values\n",
        "encoder = Model(inputs = input_dim, outputs = encoded3)\n",
        "encoded_input = Input(shape = (encoding_dim, ))\n",
        "# Decoding the values back\n",
        "deco = autoencoder.layers[-3](encoded_input)\n",
        "deco = autoencoder.layers[-2](deco)\n",
        "deco = autoencoder.layers[-1](deco)\n",
        "# create the decoder model\n",
        "decoder = Model(encoded_input, deco)"
      ],
      "execution_count": null,
      "outputs": []
    },
    {
      "cell_type": "code",
      "metadata": {
        "colab": {
          "base_uri": "https://localhost:8080/"
        },
        "id": "muA9oigHrAop",
        "outputId": "06e92d56-f300-443a-e135-32ff6595cbb6"
      },
      "source": [
        "encoded_train = pd.DataFrame(encoder.predict(X_train))\n",
        "encoded_test = pd.DataFrame(encoder.predict(X_test))\n",
        "decoded_train = pd.DataFrame(decoder.predict(encoded_train))\n",
        "decoded_test = pd.DataFrame(decoder.predict(encoded_test))\n",
        "# Checking the dimensions\n",
        "print(encoded_train.shape)\n",
        "print(decoded_train.shape)\n",
        "# Merging the decoded test and train data to compare with X\n",
        "decoded_train = decoded_train.iloc[:, :]\n",
        "decoded_test = decoded_test.iloc[:, :]\n",
        "decoded = pd.concat([decoded_train, decoded_test])"
      ],
      "execution_count": null,
      "outputs": [
        {
          "output_type": "stream",
          "name": "stdout",
          "text": [
            "(13875, 3)\n",
            "(13875, 12)\n"
          ]
        }
      ]
    },
    {
      "cell_type": "markdown",
      "metadata": {
        "id": "XeJFq9hy-4kN"
      },
      "source": [
        "# **Part 2 PCA**"
      ]
    },
    {
      "cell_type": "code",
      "metadata": {
        "id": "9h1vp14Q-9kd"
      },
      "source": [
        "import pandas as pd\n",
        "import numpy as np\n",
        "import sklearn\n",
        "import sklearn.datasets\n",
        "import matplotlib.pyplot as plt\n",
        "from sklearn import preprocessing\n",
        "from sklearn.model_selection import train_test_split\n",
        "import tensorflow as tf\n",
        "from tensorflow import keras\n",
        "from tensorflow.keras.utils import to_categorical, plot_model\n",
        "from PIL import Image as im\n",
        "from termcolor import colored\n",
        "from mpl_toolkits.mplot3d import Axes3D"
      ],
      "execution_count": null,
      "outputs": []
    },
    {
      "cell_type": "code",
      "metadata": {
        "id": "Tmcn-2kXAC39"
      },
      "source": [
        "from sklearn.decomposition import PCA\n",
        "import cv2\n",
        "pca = PCA(n_components=3)\n",
        "pca.fit(X)\n",
        "trans_pca = pca.transform(X)\n",
        "arr = pca.inverse_transform(trans_pca)"
      ],
      "execution_count": null,
      "outputs": []
    },
    {
      "cell_type": "markdown",
      "metadata": {
        "id": "FRHeVUaGFhB2"
      },
      "source": [
        "# **Ques 1 : Error calculation**"
      ]
    },
    {
      "cell_type": "code",
      "metadata": {
        "colab": {
          "base_uri": "https://localhost:8080/"
        },
        "id": "nf3Xn0eLzcyW",
        "outputId": "95fadcb0-19e6-422f-9c29-378bbb6fcb25"
      },
      "source": [
        "# error calculation\n",
        "pred = decoded.to_numpy()\n",
        "pred_pca = arr[:,:]\n",
        "true = X.to_numpy()\n",
        "print(pred.shape)\n",
        "print(pred_pca.shape)\n",
        "print(true.shape)\n",
        "\n",
        "from keras import backend as K\n",
        "\n",
        "error = K.sqrt(K.mean(K.square(pred - true)))\n",
        "error_pca = K.sqrt(K.mean(K.square(pred_pca - true)))\n",
        "print(\"RMSE of autoencoder is\",error)\n",
        "print(\"RMSE of PCA is\",error_pca)"
      ],
      "execution_count": null,
      "outputs": [
        {
          "output_type": "stream",
          "name": "stdout",
          "text": [
            "(17344, 12)\n",
            "(17344, 12)\n",
            "(17344, 12)\n",
            "RMSE of autoencoder is tf.Tensor(1.002682937395468, shape=(), dtype=float64)\n",
            "RMSE of PCA is tf.Tensor(0.08638926897050965, shape=(), dtype=float64)\n"
          ]
        }
      ]
    },
    {
      "cell_type": "markdown",
      "metadata": {
        "id": "8Cox1EYnE4p1"
      },
      "source": [
        "# **TASK 02 : Large Data**"
      ]
    },
    {
      "cell_type": "code",
      "metadata": {
        "colab": {
          "base_uri": "https://localhost:8080/"
        },
        "id": "NgTVenZNFGvR",
        "outputId": "37148969-66ef-4ca2-fffd-fdaf1c183e35"
      },
      "source": [
        "DF1= pd.read_csv(\"/content/ECG-12Lead.csv\")\n",
        "print(DF1)"
      ],
      "execution_count": null,
      "outputs": [
        {
          "output_type": "stream",
          "name": "stdout",
          "text": [
            "       -49  -43   6  47  -27  -18  131  -57  -97  -70  -85  -83\n",
            "0      -64  -53  11  59  -38  -22  186  -75 -131  -99 -121 -118\n",
            "1      -66  -43  23  54  -45   -9  169  -65 -111  -92 -111 -106\n",
            "2      -72  -48  23  60  -47  -13  181  -77 -123 -103 -119 -108\n",
            "3      -59  -42  18  50  -39  -12  172  -89 -129 -106 -119 -106\n",
            "4      -55  -37  18  46  -36  -10  173 -106 -144 -114 -124 -111\n",
            "...    ...  ...  ..  ..  ...  ...  ...  ...  ...  ...  ...  ...\n",
            "17339  -38    0  38  18  -39   19   61  -63  -78 -107  -94 -118\n",
            "17340  -36    1  38  17  -37   21   55  -47  -71 -109  -97 -117\n",
            "17341  -39    3  42  19  -40   23   54  -53  -71 -112 -102 -118\n",
            "17342  -41    0  40  20  -41   20   58  -51  -68 -103  -91 -112\n",
            "17343  -43    6  49  19  -46   27   68  -57  -71 -107  -93 -120\n",
            "\n",
            "[17344 rows x 12 columns]\n"
          ]
        }
      ]
    },
    {
      "cell_type": "code",
      "metadata": {
        "colab": {
          "base_uri": "https://localhost:8080/"
        },
        "id": "xmOgByGlG6Z7",
        "outputId": "86796063-9aa4-485b-d186-c9b3023a4cd5"
      },
      "source": [
        "mean1 = DF1.mean()\n",
        "std1 = DF1.std()\n",
        "New_DF1 = (DF1-mean1)/std1\n",
        "#DF = DF.iloc[:,:80]\n",
        "DF1 = New_DF1.fillna(0)\n",
        "print(DF1.isnull().sum())\n",
        "print(DF1)"
      ],
      "execution_count": null,
      "outputs": [
        {
          "output_type": "stream",
          "name": "stdout",
          "text": [
            "-49    0\n",
            "-43    0\n",
            "6      0\n",
            "47     0\n",
            "-27    0\n",
            "-18    0\n",
            "131    0\n",
            "-57    0\n",
            "-97    0\n",
            "-70    0\n",
            "-85    0\n",
            "-83    0\n",
            "dtype: int64\n",
            "            -49       -43         6  ...       -70       -85       -83\n",
            "0     -0.497260 -0.312651  0.128602  ... -0.195806 -0.304358 -0.415875\n",
            "1     -0.512798 -0.253659  0.268800  ... -0.181961 -0.279205 -0.373585\n",
            "2     -0.559411 -0.283155  0.268800  ... -0.203717 -0.299327 -0.380633\n",
            "3     -0.458415 -0.247760  0.210384  ... -0.209650 -0.299327 -0.373585\n",
            "4     -0.427339 -0.218264  0.210384  ... -0.225472 -0.311904 -0.391206\n",
            "...         ...       ...       ...  ...       ...       ...       ...\n",
            "17339 -0.295266  0.000006  0.444048  ... -0.211628 -0.236444 -0.415875\n",
            "17340 -0.279728  0.005905  0.444048  ... -0.215583 -0.243990 -0.412351\n",
            "17341 -0.303035  0.017703  0.490781  ... -0.221517 -0.256567 -0.415875\n",
            "17342 -0.318573  0.000006  0.467415  ... -0.203717 -0.228898 -0.394730\n",
            "17343 -0.334111  0.035401  0.572564  ... -0.211628 -0.233929 -0.422923\n",
            "\n",
            "[17344 rows x 12 columns]\n"
          ]
        }
      ]
    },
    {
      "cell_type": "code",
      "metadata": {
        "colab": {
          "base_uri": "https://localhost:8080/"
        },
        "id": "tq6aYmH-JbJ7",
        "outputId": "3a1503c3-f4de-4f2d-db0e-94df8ee41c7b"
      },
      "source": [
        "X1 = DF1.iloc[:, :]\n",
        "X1_train, X1_test= train_test_split(X1, test_size = 0.2, random_state = 50)\n",
        "print(X1_train.shape, X1_test.shape)\n",
        "ncol1 = X1.shape[1]\n",
        "print(X1)"
      ],
      "execution_count": null,
      "outputs": [
        {
          "output_type": "stream",
          "name": "stdout",
          "text": [
            "(13875, 12) (3469, 12)\n",
            "            -49       -43         6  ...       -70       -85       -83\n",
            "0     -0.497260 -0.312651  0.128602  ... -0.195806 -0.304358 -0.415875\n",
            "1     -0.512798 -0.253659  0.268800  ... -0.181961 -0.279205 -0.373585\n",
            "2     -0.559411 -0.283155  0.268800  ... -0.203717 -0.299327 -0.380633\n",
            "3     -0.458415 -0.247760  0.210384  ... -0.209650 -0.299327 -0.373585\n",
            "4     -0.427339 -0.218264  0.210384  ... -0.225472 -0.311904 -0.391206\n",
            "...         ...       ...       ...  ...       ...       ...       ...\n",
            "17339 -0.295266  0.000006  0.444048  ... -0.211628 -0.236444 -0.415875\n",
            "17340 -0.279728  0.005905  0.444048  ... -0.215583 -0.243990 -0.412351\n",
            "17341 -0.303035  0.017703  0.490781  ... -0.221517 -0.256567 -0.415875\n",
            "17342 -0.318573  0.000006  0.467415  ... -0.203717 -0.228898 -0.394730\n",
            "17343 -0.334111  0.035401  0.572564  ... -0.211628 -0.233929 -0.422923\n",
            "\n",
            "[17344 rows x 12 columns]\n"
          ]
        }
      ]
    },
    {
      "cell_type": "markdown",
      "metadata": {
        "id": "8-UGQVj0Js9j"
      },
      "source": [
        "# Part 1 Autoencoder"
      ]
    },
    {
      "cell_type": "code",
      "metadata": {
        "colab": {
          "base_uri": "https://localhost:8080/"
        },
        "id": "nNCeh_06Jspy",
        "outputId": "3a1cf1ee-01d5-4ee0-9bae-5b379be31e3e"
      },
      "source": [
        "encoding_dim1 = 80\n",
        "input_dim1 = Input(shape = (ncol1, ))\n",
        "# Encoder Layers\n",
        "encoded1 = Dense(200, activation = 'relu')(input_dim1)\n",
        "encoded2 = Dense(128, activation = 'relu')(encoded1)\n",
        "encoded3 = Dense(encoding_dim1, activation = 'relu')(encoded2)\n",
        "# Decoder Layers\n",
        "decoded1 = Dense(128, activation = 'relu')(encoded3)\n",
        "decoded2 = Dense(200, activation = 'relu')(decoded1)\n",
        "decoded3 = Dense(ncol1, activation = 'relu')(decoded2)\n",
        "# Combine Encoder and Deocder layers\n",
        "autoencoder1 = Model(inputs = input_dim1, outputs = decoded3)\n",
        "\n",
        "# Compile the Model\n",
        "autoencoder1.compile(optimizer = 'adadelta', loss = 'mse')\n",
        "autoencoder1.summary()"
      ],
      "execution_count": null,
      "outputs": [
        {
          "output_type": "stream",
          "name": "stdout",
          "text": [
            "Model: \"model_3\"\n",
            "_________________________________________________________________\n",
            "Layer (type)                 Output Shape              Param #   \n",
            "=================================================================\n",
            "input_3 (InputLayer)         [(None, 12)]              0         \n",
            "_________________________________________________________________\n",
            "dense_6 (Dense)              (None, 200)               2600      \n",
            "_________________________________________________________________\n",
            "dense_7 (Dense)              (None, 128)               25728     \n",
            "_________________________________________________________________\n",
            "dense_8 (Dense)              (None, 80)                10320     \n",
            "_________________________________________________________________\n",
            "dense_9 (Dense)              (None, 128)               10368     \n",
            "_________________________________________________________________\n",
            "dense_10 (Dense)             (None, 200)               25800     \n",
            "_________________________________________________________________\n",
            "dense_11 (Dense)             (None, 12)                2412      \n",
            "=================================================================\n",
            "Total params: 77,228\n",
            "Trainable params: 77,228\n",
            "Non-trainable params: 0\n",
            "_________________________________________________________________\n"
          ]
        }
      ]
    },
    {
      "cell_type": "code",
      "metadata": {
        "colab": {
          "base_uri": "https://localhost:8080/"
        },
        "id": "F6j_CQX3KJDp",
        "outputId": "0ad002c8-869c-40cc-f955-ee1b50725326"
      },
      "source": [
        "# Training a Auto Encoder\n",
        "autoencoder1.fit(X1_train, X1_train, epochs = 10, batch_size = 32, shuffle = False, validation_data = (X1_test, X1_test))"
      ],
      "execution_count": null,
      "outputs": [
        {
          "output_type": "stream",
          "name": "stdout",
          "text": [
            "Epoch 1/10\n",
            "434/434 [==============================] - 3s 5ms/step - loss: 0.9872 - val_loss: 0.9595\n",
            "Epoch 2/10\n",
            "434/434 [==============================] - 2s 4ms/step - loss: 0.9716 - val_loss: 0.9444\n",
            "Epoch 3/10\n",
            "434/434 [==============================] - 2s 4ms/step - loss: 0.9562 - val_loss: 0.9295\n",
            "Epoch 4/10\n",
            "434/434 [==============================] - 2s 4ms/step - loss: 0.9412 - val_loss: 0.9148\n",
            "Epoch 5/10\n",
            "434/434 [==============================] - 2s 4ms/step - loss: 0.9261 - val_loss: 0.8999\n",
            "Epoch 6/10\n",
            "434/434 [==============================] - 2s 4ms/step - loss: 0.9106 - val_loss: 0.8843\n",
            "Epoch 7/10\n",
            "434/434 [==============================] - 2s 4ms/step - loss: 0.8943 - val_loss: 0.8679\n",
            "Epoch 8/10\n",
            "434/434 [==============================] - 2s 4ms/step - loss: 0.8774 - val_loss: 0.8512\n",
            "Epoch 9/10\n",
            "434/434 [==============================] - 2s 4ms/step - loss: 0.8602 - val_loss: 0.8342\n",
            "Epoch 10/10\n",
            "434/434 [==============================] - 2s 4ms/step - loss: 0.8427 - val_loss: 0.8168\n"
          ]
        },
        {
          "output_type": "execute_result",
          "data": {
            "text/plain": [
              "<keras.callbacks.History at 0x7f236fbf9c10>"
            ]
          },
          "metadata": {},
          "execution_count": 15
        }
      ]
    },
    {
      "cell_type": "code",
      "metadata": {
        "id": "Y0oxSJkXKNFv"
      },
      "source": [
        "# Getting the encoded values\n",
        "encoder1 = Model(inputs = input_dim1, outputs = encoded3)\n",
        "encoded_input = Input(shape = (encoding_dim1, ))\n",
        "# Decoding the values back\n",
        "deco = autoencoder1.layers[-3](encoded_input)\n",
        "deco = autoencoder1.layers[-2](deco)\n",
        "deco = autoencoder1.layers[-1](deco)\n",
        "# create the decoder model\n",
        "decoder1 = Model(encoded_input, deco)"
      ],
      "execution_count": null,
      "outputs": []
    },
    {
      "cell_type": "code",
      "metadata": {
        "colab": {
          "base_uri": "https://localhost:8080/"
        },
        "id": "W2IUnc2cKQOA",
        "outputId": "876960db-e1d3-47ee-c18f-b7ab77c90c93"
      },
      "source": [
        "encoded1_train = pd.DataFrame(encoder1.predict(X1_train))\n",
        "encoded1_test = pd.DataFrame(encoder1.predict(X1_test))\n",
        "decoded1_train = pd.DataFrame(decoder1.predict(encoded1_train))\n",
        "decoded1_test = pd.DataFrame(decoder1.predict(encoded1_test))\n",
        "# Checking the dimensions\n",
        "print(encoded1_train.shape)\n",
        "print(decoded1_train.shape)\n",
        "# Merging the decoded test and train data to compare with X\n",
        "decoded1_train = decoded1_train.iloc[:, :]\n",
        "decoded1_test = decoded1_test.iloc[:, :]\n",
        "decoded1 = pd.concat([decoded1_train, decoded1_test])"
      ],
      "execution_count": null,
      "outputs": [
        {
          "output_type": "stream",
          "name": "stdout",
          "text": [
            "(13875, 80)\n",
            "(13875, 12)\n"
          ]
        }
      ]
    },
    {
      "cell_type": "markdown",
      "metadata": {
        "id": "12d7qqdrKZAE"
      },
      "source": [
        "# **Part 2 PCA**"
      ]
    },
    {
      "cell_type": "code",
      "metadata": {
        "colab": {
          "base_uri": "https://localhost:8080/"
        },
        "id": "yeglJ5kLKePk",
        "outputId": "88b4eb07-fa92-4551-a97f-a0337e0f6007"
      },
      "source": [
        "from sklearn.decomposition import PCA\n",
        "import cv2\n",
        "pca = PCA(n_components=12)\n",
        "pca.fit(X1)\n",
        "trans_pca = pca.transform(X1)\n",
        "arr1 = pca.inverse_transform(trans_pca)\n",
        "pred_pca1 = arr1[:,:]\n",
        "#pred = decoded.to_numpy()\n",
        "true1 = X1.to_numpy()\n",
        "print(pred_pca1.shape)\n",
        "print(true1.shape)"
      ],
      "execution_count": null,
      "outputs": [
        {
          "output_type": "stream",
          "name": "stdout",
          "text": [
            "(17344, 12)\n",
            "(17344, 12)\n"
          ]
        }
      ]
    },
    {
      "cell_type": "markdown",
      "metadata": {
        "id": "0K1rXwnXFr2l"
      },
      "source": [
        "# **Ques 2 Erro calculation**"
      ]
    },
    {
      "cell_type": "code",
      "metadata": {
        "colab": {
          "base_uri": "https://localhost:8080/"
        },
        "id": "VCh531JGKUG7",
        "outputId": "082f3d1e-258e-4fd7-a975-79b63ac26103"
      },
      "source": [
        "# error calculation\n",
        "pred1 = decoded1.to_numpy()\n",
        "true1 = X1.to_numpy()\n",
        "print(pred1.shape)\n",
        "print(true1.shape)\n",
        "\n",
        "from keras import backend as K\n",
        "\n",
        "error1 = K.sqrt(K.mean(K.square(pred1 - true1)))\n",
        "error1_pca = K.sqrt(K.mean(K.square(pred_pca1 - true1)))\n",
        "print(\"RMSE of autoencoder is\",error1)\n",
        "print(\"RMSE of PCA is\",error1_pca)"
      ],
      "execution_count": null,
      "outputs": [
        {
          "output_type": "stream",
          "name": "stdout",
          "text": [
            "(17344, 12)\n",
            "(17344, 12)\n",
            "RMSE of autoencoder is tf.Tensor(1.012610903252347, shape=(), dtype=float64)\n",
            "RMSE of PCA is tf.Tensor(7.354611593023853e-16, shape=(), dtype=float64)\n"
          ]
        }
      ]
    }
  ]
}