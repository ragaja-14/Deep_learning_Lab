{
  "nbformat": 4,
  "nbformat_minor": 0,
  "metadata": {
    "colab": {
      "name": "202018012_lab_2.ipynb",
      "provenance": [],
      "collapsed_sections": [],
      "toc_visible": true
    },
    "kernelspec": {
      "name": "python3",
      "display_name": "Python 3"
    },
    "language_info": {
      "name": "python"
    }
  },
  "cells": [
    {
      "cell_type": "markdown",
      "metadata": {
        "id": "tidN8r4FPHCi"
      },
      "source": [
        "# **Task - 1**"
      ]
    },
    {
      "cell_type": "code",
      "metadata": {
        "id": "hK7e3a1SPT1a"
      },
      "source": [
        "import numpy as np\n",
        "import pandas as pd\n",
        "import matplotlib.pyplot as plt\n",
        "import numpy as np"
      ],
      "execution_count": 77,
      "outputs": []
    },
    {
      "cell_type": "code",
      "metadata": {
        "colab": {
          "base_uri": "https://localhost:8080/",
          "height": 201
        },
        "id": "TsVa0bAqOksc",
        "outputId": "c8643935-a065-4863-f5fe-2cef3abbb632"
      },
      "source": [
        "\n",
        "\n",
        "df= pd.read_csv(\"/content/Admission_Predict.csv\",header=1)\n",
        "df.head(5)"
      ],
      "execution_count": 78,
      "outputs": [
        {
          "output_type": "execute_result",
          "data": {
            "text/html": [
              "<div>\n",
              "<style scoped>\n",
              "    .dataframe tbody tr th:only-of-type {\n",
              "        vertical-align: middle;\n",
              "    }\n",
              "\n",
              "    .dataframe tbody tr th {\n",
              "        vertical-align: top;\n",
              "    }\n",
              "\n",
              "    .dataframe thead th {\n",
              "        text-align: right;\n",
              "    }\n",
              "</style>\n",
              "<table border=\"1\" class=\"dataframe\">\n",
              "  <thead>\n",
              "    <tr style=\"text-align: right;\">\n",
              "      <th></th>\n",
              "      <th>Serial No.</th>\n",
              "      <th>GRE Score</th>\n",
              "      <th>TOEFL Score</th>\n",
              "      <th>University Rating</th>\n",
              "      <th>SOP</th>\n",
              "      <th>LOR</th>\n",
              "      <th>CGPA</th>\n",
              "      <th>Research</th>\n",
              "      <th>Chance of Admit</th>\n",
              "    </tr>\n",
              "  </thead>\n",
              "  <tbody>\n",
              "    <tr>\n",
              "      <th>0</th>\n",
              "      <td>1</td>\n",
              "      <td>337</td>\n",
              "      <td>118</td>\n",
              "      <td>4</td>\n",
              "      <td>4.5</td>\n",
              "      <td>4.5</td>\n",
              "      <td>9.65</td>\n",
              "      <td>1</td>\n",
              "      <td>0.92</td>\n",
              "    </tr>\n",
              "    <tr>\n",
              "      <th>1</th>\n",
              "      <td>2</td>\n",
              "      <td>324</td>\n",
              "      <td>107</td>\n",
              "      <td>4</td>\n",
              "      <td>4.0</td>\n",
              "      <td>4.5</td>\n",
              "      <td>8.87</td>\n",
              "      <td>1</td>\n",
              "      <td>0.76</td>\n",
              "    </tr>\n",
              "    <tr>\n",
              "      <th>2</th>\n",
              "      <td>3</td>\n",
              "      <td>316</td>\n",
              "      <td>104</td>\n",
              "      <td>3</td>\n",
              "      <td>3.0</td>\n",
              "      <td>3.5</td>\n",
              "      <td>8.00</td>\n",
              "      <td>1</td>\n",
              "      <td>0.72</td>\n",
              "    </tr>\n",
              "    <tr>\n",
              "      <th>3</th>\n",
              "      <td>4</td>\n",
              "      <td>322</td>\n",
              "      <td>110</td>\n",
              "      <td>3</td>\n",
              "      <td>3.5</td>\n",
              "      <td>2.5</td>\n",
              "      <td>8.67</td>\n",
              "      <td>1</td>\n",
              "      <td>0.80</td>\n",
              "    </tr>\n",
              "    <tr>\n",
              "      <th>4</th>\n",
              "      <td>5</td>\n",
              "      <td>314</td>\n",
              "      <td>103</td>\n",
              "      <td>2</td>\n",
              "      <td>2.0</td>\n",
              "      <td>3.0</td>\n",
              "      <td>8.21</td>\n",
              "      <td>0</td>\n",
              "      <td>0.65</td>\n",
              "    </tr>\n",
              "  </tbody>\n",
              "</table>\n",
              "</div>"
            ],
            "text/plain": [
              "   Serial No.  GRE Score  TOEFL Score  ...  CGPA  Research  Chance of Admit \n",
              "0           1        337          118  ...  9.65         1              0.92\n",
              "1           2        324          107  ...  8.87         1              0.76\n",
              "2           3        316          104  ...  8.00         1              0.72\n",
              "3           4        322          110  ...  8.67         1              0.80\n",
              "4           5        314          103  ...  8.21         0              0.65\n",
              "\n",
              "[5 rows x 9 columns]"
            ]
          },
          "metadata": {},
          "execution_count": 78
        }
      ]
    },
    {
      "cell_type": "code",
      "metadata": {
        "colab": {
          "base_uri": "https://localhost:8080/"
        },
        "id": "SzFh7shuPSU6",
        "outputId": "f0ab03bc-0743-4056-bc04-ba5d9ac1624e"
      },
      "source": [
        "df.shape"
      ],
      "execution_count": 79,
      "outputs": [
        {
          "output_type": "execute_result",
          "data": {
            "text/plain": [
              "(400, 9)"
            ]
          },
          "metadata": {},
          "execution_count": 79
        }
      ]
    },
    {
      "cell_type": "code",
      "metadata": {
        "colab": {
          "base_uri": "https://localhost:8080/"
        },
        "id": "-YSro30Y87w7",
        "outputId": "9e094e07-9f9e-4cfc-dcd5-b9f844d5516c"
      },
      "source": [
        "df.isnull().sum()"
      ],
      "execution_count": 80,
      "outputs": [
        {
          "output_type": "execute_result",
          "data": {
            "text/plain": [
              "Serial No.           0\n",
              "GRE Score            0\n",
              "TOEFL Score          0\n",
              "University Rating    0\n",
              "SOP                  0\n",
              "LOR                  0\n",
              "CGPA                 0\n",
              "Research             0\n",
              "Chance of Admit      0\n",
              "dtype: int64"
            ]
          },
          "metadata": {},
          "execution_count": 80
        }
      ]
    },
    {
      "cell_type": "code",
      "metadata": {
        "colab": {
          "base_uri": "https://localhost:8080/",
          "height": 563
        },
        "id": "yiwx8fBHPdJj",
        "outputId": "30b2867e-5375-43e0-d516-13991d8d470a"
      },
      "source": [
        "import seaborn as sns\n",
        "plt.figure(figsize=(8,8))\n",
        "sns.heatmap(df.corr(),annot=True)\n",
        "plt.show()"
      ],
      "execution_count": 81,
      "outputs": [
        {
          "output_type": "display_data",
          "data": {
            "image/png": "[encoded data removed]",
            "text/plain": [
              "<Figure size 576x576 with 2 Axes>"
            ]
          },
          "metadata": {
            "needs_background": "light"
          }
        }
      ]
    },
    {
      "cell_type": "code",
      "metadata": {
        "id": "juoGK8uX9XDA",
        "colab": {
          "base_uri": "https://localhost:8080/",
          "height": 413
        },
        "outputId": "17ec8c57-8ca3-47f3-ab04-fc434690476b"
      },
      "source": [
        "##shuffling data to using sample function\n",
        "df.sample(frac = 1,random_state=12)"
      ],
      "execution_count": 82,
      "outputs": [
        {
          "output_type": "execute_result",
          "data": {
            "text/html": [
              "<div>\n",
              "<style scoped>\n",
              "    .dataframe tbody tr th:only-of-type {\n",
              "        vertical-align: middle;\n",
              "    }\n",
              "\n",
              "    .dataframe tbody tr th {\n",
              "        vertical-align: top;\n",
              "    }\n",
              "\n",
              "    .dataframe thead th {\n",
              "        text-align: right;\n",
              "    }\n",
              "</style>\n",
              "<table border=\"1\" class=\"dataframe\">\n",
              "  <thead>\n",
              "    <tr style=\"text-align: right;\">\n",
              "      <th></th>\n",
              "      <th>Serial No.</th>\n",
              "      <th>GRE Score</th>\n",
              "      <th>TOEFL Score</th>\n",
              "      <th>University Rating</th>\n",
              "      <th>SOP</th>\n",
              "      <th>LOR</th>\n",
              "      <th>CGPA</th>\n",
              "      <th>Research</th>\n",
              "      <th>Chance of Admit</th>\n",
              "    </tr>\n",
              "  </thead>\n",
              "  <tbody>\n",
              "    <tr>\n",
              "      <th>280</th>\n",
              "      <td>281</td>\n",
              "      <td>311</td>\n",
              "      <td>102</td>\n",
              "      <td>3</td>\n",
              "      <td>4.5</td>\n",
              "      <td>4.0</td>\n",
              "      <td>8.64</td>\n",
              "      <td>1</td>\n",
              "      <td>0.68</td>\n",
              "    </tr>\n",
              "    <tr>\n",
              "      <th>387</th>\n",
              "      <td>388</td>\n",
              "      <td>307</td>\n",
              "      <td>105</td>\n",
              "      <td>2</td>\n",
              "      <td>2.0</td>\n",
              "      <td>3.5</td>\n",
              "      <td>8.10</td>\n",
              "      <td>0</td>\n",
              "      <td>0.53</td>\n",
              "    </tr>\n",
              "    <tr>\n",
              "      <th>313</th>\n",
              "      <td>314</td>\n",
              "      <td>301</td>\n",
              "      <td>100</td>\n",
              "      <td>3</td>\n",
              "      <td>3.5</td>\n",
              "      <td>3.0</td>\n",
              "      <td>8.04</td>\n",
              "      <td>0</td>\n",
              "      <td>0.67</td>\n",
              "    </tr>\n",
              "    <tr>\n",
              "      <th>1</th>\n",
              "      <td>2</td>\n",
              "      <td>324</td>\n",
              "      <td>107</td>\n",
              "      <td>4</td>\n",
              "      <td>4.0</td>\n",
              "      <td>4.5</td>\n",
              "      <td>8.87</td>\n",
              "      <td>1</td>\n",
              "      <td>0.76</td>\n",
              "    </tr>\n",
              "    <tr>\n",
              "      <th>35</th>\n",
              "      <td>36</td>\n",
              "      <td>320</td>\n",
              "      <td>110</td>\n",
              "      <td>5</td>\n",
              "      <td>5.0</td>\n",
              "      <td>5.0</td>\n",
              "      <td>9.20</td>\n",
              "      <td>1</td>\n",
              "      <td>0.88</td>\n",
              "    </tr>\n",
              "    <tr>\n",
              "      <th>...</th>\n",
              "      <td>...</td>\n",
              "      <td>...</td>\n",
              "      <td>...</td>\n",
              "      <td>...</td>\n",
              "      <td>...</td>\n",
              "      <td>...</td>\n",
              "      <td>...</td>\n",
              "      <td>...</td>\n",
              "      <td>...</td>\n",
              "    </tr>\n",
              "    <tr>\n",
              "      <th>241</th>\n",
              "      <td>242</td>\n",
              "      <td>317</td>\n",
              "      <td>103</td>\n",
              "      <td>2</td>\n",
              "      <td>2.5</td>\n",
              "      <td>2.0</td>\n",
              "      <td>8.15</td>\n",
              "      <td>0</td>\n",
              "      <td>0.65</td>\n",
              "    </tr>\n",
              "    <tr>\n",
              "      <th>253</th>\n",
              "      <td>254</td>\n",
              "      <td>335</td>\n",
              "      <td>115</td>\n",
              "      <td>4</td>\n",
              "      <td>4.5</td>\n",
              "      <td>4.5</td>\n",
              "      <td>9.68</td>\n",
              "      <td>1</td>\n",
              "      <td>0.93</td>\n",
              "    </tr>\n",
              "    <tr>\n",
              "      <th>390</th>\n",
              "      <td>391</td>\n",
              "      <td>314</td>\n",
              "      <td>102</td>\n",
              "      <td>2</td>\n",
              "      <td>2.0</td>\n",
              "      <td>2.5</td>\n",
              "      <td>8.24</td>\n",
              "      <td>0</td>\n",
              "      <td>0.64</td>\n",
              "    </tr>\n",
              "    <tr>\n",
              "      <th>155</th>\n",
              "      <td>156</td>\n",
              "      <td>312</td>\n",
              "      <td>109</td>\n",
              "      <td>3</td>\n",
              "      <td>3.0</td>\n",
              "      <td>3.0</td>\n",
              "      <td>8.69</td>\n",
              "      <td>0</td>\n",
              "      <td>0.77</td>\n",
              "    </tr>\n",
              "    <tr>\n",
              "      <th>331</th>\n",
              "      <td>332</td>\n",
              "      <td>311</td>\n",
              "      <td>105</td>\n",
              "      <td>2</td>\n",
              "      <td>3.0</td>\n",
              "      <td>2.0</td>\n",
              "      <td>8.12</td>\n",
              "      <td>1</td>\n",
              "      <td>0.73</td>\n",
              "    </tr>\n",
              "  </tbody>\n",
              "</table>\n",
              "<p>400 rows × 9 columns</p>\n",
              "</div>"
            ],
            "text/plain": [
              "     Serial No.  GRE Score  TOEFL Score  ...  CGPA  Research  Chance of Admit \n",
              "280         281        311          102  ...  8.64         1              0.68\n",
              "387         388        307          105  ...  8.10         0              0.53\n",
              "313         314        301          100  ...  8.04         0              0.67\n",
              "1             2        324          107  ...  8.87         1              0.76\n",
              "35           36        320          110  ...  9.20         1              0.88\n",
              "..          ...        ...          ...  ...   ...       ...               ...\n",
              "241         242        317          103  ...  8.15         0              0.65\n",
              "253         254        335          115  ...  9.68         1              0.93\n",
              "390         391        314          102  ...  8.24         0              0.64\n",
              "155         156        312          109  ...  8.69         0              0.77\n",
              "331         332        311          105  ...  8.12         1              0.73\n",
              "\n",
              "[400 rows x 9 columns]"
            ]
          },
          "metadata": {},
          "execution_count": 82
        }
      ]
    },
    {
      "cell_type": "markdown",
      "metadata": {
        "id": "MOjW0kdQYdfI"
      },
      "source": [
        "Using threshold =0.5 to convert target to binary values"
      ]
    },
    {
      "cell_type": "code",
      "metadata": {
        "colab": {
          "base_uri": "https://localhost:8080/"
        },
        "id": "H80THVGL9gKo",
        "outputId": "c92dfb5c-c4ac-4c63-f099-ec3673f7ee8f"
      },
      "source": [
        "#input features and target variable are stored in separate variables X and Y\n",
        "\n",
        "X=df.drop(labels=['Chance of Admit '],axis=1)\n",
        "Y=df['Chance of Admit ']\n",
        "# Converting the Y values to binary class values\n",
        "\n",
        "Y = [1 if(i >= 0.5) else 0 for i in Y]\n",
        "print(X.shape,len(Y))"
      ],
      "execution_count": 83,
      "outputs": [
        {
          "output_type": "stream",
          "name": "stdout",
          "text": [
            "(400, 8) 400\n"
          ]
        }
      ]
    },
    {
      "cell_type": "code",
      "metadata": {
        "id": "Z6LGZtx79iZ0"
      },
      "source": [
        "#generatng training set size =70%\n",
        "train_size=int(X.shape[0]*0.7)\n",
        "\n",
        "train_X=X[:train_size]\n",
        "train_Y=Y[:train_size]\n",
        "\n",
        "test_size=X.shape[0]-train_size\n",
        "test_X=X[train_size:]\n",
        "test_Y=Y[train_size:]\n"
      ],
      "execution_count": 84,
      "outputs": []
    },
    {
      "cell_type": "markdown",
      "metadata": {
        "id": "svLwN1xpLdKx"
      },
      "source": [
        "####1. Feature Normalization"
      ]
    },
    {
      "cell_type": "code",
      "metadata": {
        "id": "ndf3b8EqHDCl"
      },
      "source": [
        "#Normalizing the feature values to standard normal form\n",
        "train_X=(train_X-train_X.mean())/train_X.std()\n",
        "\n",
        "test_X=(test_X-test_X.mean())/test_X.std()\n"
      ],
      "execution_count": 85,
      "outputs": []
    },
    {
      "cell_type": "markdown",
      "metadata": {
        "id": "OBNirxuQPtXq"
      },
      "source": [
        "## **Using Library function**"
      ]
    },
    {
      "cell_type": "code",
      "metadata": {
        "colab": {
          "base_uri": "https://localhost:8080/"
        },
        "id": "b7Yz7NV3_Xjr",
        "outputId": "a15ff441-9254-4e22-dd64-d2cead82574a"
      },
      "source": [
        "from sklearn.metrics import mean_squared_error\n",
        "from sklearn.linear_model import LogisticRegression\n",
        "m1=LogisticRegression(max_iter=20)\n",
        "m1.fit(train_X, train_Y)\n",
        "\n",
        "print(\"Coefficients: \", m1.coef_)\n",
        "print(\"Intercept: \", m1.intercept_)\n",
        "\n",
        "Y_pred=m1.predict(test_X)\n",
        "print(\"MSE: \", mean_squared_error(test_Y, Y_pred))"
      ],
      "execution_count": 86,
      "outputs": [
        {
          "output_type": "stream",
          "name": "stdout",
          "text": [
            "Coefficients:  [[ 0.94768218  0.8181919   1.01322784 -0.35879569 -0.46152698  0.58150815\n",
            "   1.18798727  0.17025963]]\n",
            "Intercept:  [4.95862962]\n",
            "MSE:  0.06666666666666667\n"
          ]
        }
      ]
    },
    {
      "cell_type": "code",
      "metadata": {
        "colab": {
          "base_uri": "https://localhost:8080/"
        },
        "id": "8Yfe_E79bkpn",
        "outputId": "279fd134-1ff6-498b-ac60-7ec73a5d156c"
      },
      "source": [
        "accur = (Y_pred == test_Y).sum()  # count of correctly classified Y values\n",
        "print(\"Accuracy using sklearn library: \", accur*100/len(test_Y), \"%\" )"
      ],
      "execution_count": 89,
      "outputs": [
        {
          "output_type": "stream",
          "name": "stdout",
          "text": [
            "Accuracy using sklearn library:  93.33333333333333 %\n"
          ]
        }
      ]
    },
    {
      "cell_type": "markdown",
      "metadata": {
        "id": "SQKQ5SFeAWiE"
      },
      "source": [
        "##**Solution using Gradient Descent**"
      ]
    },
    {
      "cell_type": "code",
      "metadata": {
        "id": "D8hPRpUYRF_L"
      },
      "source": [
        "#Gradient descent Model built by using features as vectors\n",
        "#so can be used for varying number of features i.e for both simple and multiple case it works\n",
        "def sigmoid(scores):\n",
        "  return 1 / (1 + np.exp(-scores))\n",
        "class gradient_descent:\n",
        "\n",
        "  def fit_to_grad(self,input_data, labels, learning_rate,epochs):\n",
        "    m = input_data.shape[0]\n",
        "    k=input_data.shape[1]\n",
        "    n=epochs\n",
        "    initial_params=np.array([0.0]*(k+1))\n",
        "    thetas=np.array(initial_params).reshape(k+1,1)\n",
        "    labels=np.array(labels).reshape(m,1)\n",
        "    ones=np.array([1]*m).reshape(m,1)\n",
        "    input_data=np.array(input_data).reshape(m,k)\n",
        "    X1=np.append(ones,input_data,axis=1)\n",
        "    ct=1\n",
        "    for i in range(n):\n",
        "        predicted_y = np.dot(X1,thetas)\n",
        "        sig_error=labels-sigmoid(predicted_y)\n",
        "        gradient=np.dot(X1.T,sig_error)\n",
        "        new_thetas=thetas+(gradient*learning_rate/(m))\n",
        "        thetas=new_thetas\n",
        "    #print(thetas)\n",
        "    self.thetas=thetas\n",
        "    return self.thetas\n",
        "\n",
        "  def predict(self,input_data):\n",
        "    m=input_data.shape[0]\n",
        "    n=input_data.shape[1]\n",
        "    ones=np.array([1]*m).reshape(m,1)\n",
        "    input_data=np.array(input_data).reshape(m,n)\n",
        "    X1=np.append(ones,input_data,axis=1)\n",
        "    \n",
        "    predicted_y = np.dot(X1,self.thetas)\n",
        "    ## returns the binary class values\n",
        "    predicted_y=[1 if(i >= 0.5) else 0 for i in predicted_y]\n",
        "    return predicted_y \n"
      ],
      "execution_count": 90,
      "outputs": []
    },
    {
      "cell_type": "code",
      "metadata": {
        "colab": {
          "base_uri": "https://localhost:8080/",
          "height": 281
        },
        "id": "wtB78ImtDt9H",
        "outputId": "e9908406-0a1f-471b-b8fa-852f5ad8a268"
      },
      "source": [
        "learning_rate=0.01\n",
        "itrs=range(100,700,50)\n",
        "itrs_loss=[]\n",
        "\n",
        "plt.title(\"Variation of loss(MSE) with increasing number of iterations\")\n",
        "for k in itrs:\n",
        "  grad_model=gradient_descent()\n",
        "  grad_model.fit_to_grad(train_X, train_Y,learning_rate,k)\n",
        "  y_pred=grad_model.predict(test_X)\n",
        "  itrs_loss.append(mean_squared_error(y_pred,test_Y))\n",
        "plt.plot(itrs,itrs_loss)\n",
        "plt.show()"
      ],
      "execution_count": 91,
      "outputs": [
        {
          "output_type": "display_data",
          "data": {
            "image/png": "[encoded data removed]",
            "text/plain": [
              "<Figure size 432x288 with 1 Axes>"
            ]
          },
          "metadata": {
            "needs_background": "light"
          }
        }
      ]
    },
    {
      "cell_type": "code",
      "metadata": {
        "id": "jd7gzpXgD2vN"
      },
      "source": [
        "#using learning rate of 0.01 and no of iterations=500 "
      ],
      "execution_count": null,
      "outputs": []
    },
    {
      "cell_type": "code",
      "metadata": {
        "id": "xxAFFYwhEFWY",
        "colab": {
          "base_uri": "https://localhost:8080/"
        },
        "outputId": "5dd9a047-f420-4061-f29a-c9fccc5ca475"
      },
      "source": [
        "grad_model=gradient_descent()\n",
        "grad_model.fit_to_grad(train_X, train_Y,0.01,500)\n",
        "\n",
        "print(\"\\nCoefficients \\n \",grad_model.thetas[:])\n",
        "\n",
        "y_pred=grad_model.predict(test_X)\n",
        "#calculating MSE by loss function\n",
        "print(\"Mean squared Error obtained:\\n\",mean_squared_error(y_pred,test_Y))"
      ],
      "execution_count": 98,
      "outputs": [
        {
          "output_type": "stream",
          "name": "stdout",
          "text": [
            "\n",
            "Coefficients \n",
            "  [[ 1.27827772]\n",
            " [ 0.18954065]\n",
            " [ 0.15743253]\n",
            " [ 0.1548116 ]\n",
            " [ 0.02244059]\n",
            " [-0.01743375]\n",
            " [ 0.11020858]\n",
            " [ 0.1961261 ]\n",
            " [ 0.01420164]]\n",
            "Mean squared Error obtained:\n",
            " 0.1\n"
          ]
        }
      ]
    },
    {
      "cell_type": "code",
      "metadata": {
        "colab": {
          "base_uri": "https://localhost:8080/"
        },
        "id": "jNR8C43MbPnn",
        "outputId": "a88bac4f-e3dd-4f9a-a5af-582cbf0585c2"
      },
      "source": [
        "accur = (np.array(y_pred) == test_Y).sum()  # count of correctly classified Y values\n",
        "print(\"Accuracy using sklearn library: \", accur*100/len(test_Y), \"%\" )"
      ],
      "execution_count": 99,
      "outputs": [
        {
          "output_type": "stream",
          "name": "stdout",
          "text": [
            "Accuracy using sklearn library:  90.0 %\n"
          ]
        }
      ]
    },
    {
      "cell_type": "code",
      "metadata": {
        "colab": {
          "base_uri": "https://localhost:8080/",
          "height": 329
        },
        "id": "RcSV19nDRWGP",
        "outputId": "e2cfcd2e-bcbc-4a58-d2cd-fbbf5bf63183"
      },
      "source": [
        "from sklearn.metrics import confusion_matrix, precision_score, recall_score, f1_score\n",
        "from mlxtend.plotting import plot_confusion_matrix\n",
        " \n",
        "conf_matrix = confusion_matrix(test_Y, y_pred)\n",
        "\n",
        "sns.heatmap(conf_matrix,annot=True,cmap='Greens')\n",
        "plt.ylabel('Predicted')\n",
        "plt.xlabel('Actual')\n",
        "plt.show()\n",
        "print(\"Precision: \", precision_score(test_Y, y_pred))\n",
        "print(\"Recall: \", recall_score(test_Y, y_pred))\n",
        "print(\"F1 score: \", f1_score(test_Y, y_pred))"
      ],
      "execution_count": 100,
      "outputs": [
        {
          "output_type": "display_data",
          "data": {
            "image/png": "[encoded data removed]",
            "text/plain": [
              "<Figure size 432x288 with 2 Axes>"
            ]
          },
          "metadata": {
            "needs_background": "light"
          }
        },
        {
          "output_type": "stream",
          "name": "stdout",
          "text": [
            "Precision:  0.9532710280373832\n",
            "Recall:  0.9357798165137615\n",
            "F1 score:  0.9444444444444445\n"
          ]
        }
      ]
    },
    {
      "cell_type": "markdown",
      "metadata": {
        "id": "exu6Vc54WVhl"
      },
      "source": [
        "# **Task - 2**"
      ]
    },
    {
      "cell_type": "code",
      "metadata": {
        "colab": {
          "base_uri": "https://localhost:8080/",
          "height": 201
        },
        "id": "wIyDhTPrS-s_",
        "outputId": "109d520c-a5e0-4f84-cb6f-a43a3662b160"
      },
      "source": [
        "# Read csv file\n",
        "df2 = pd.read_csv(\"/content/heart.csv\",sep='\\t',header=1)\n",
        "df2.head()"
      ],
      "execution_count": 122,
      "outputs": [
        {
          "output_type": "execute_result",
          "data": {
            "text/html": [
              "<div>\n",
              "<style scoped>\n",
              "    .dataframe tbody tr th:only-of-type {\n",
              "        vertical-align: middle;\n",
              "    }\n",
              "\n",
              "    .dataframe tbody tr th {\n",
              "        vertical-align: top;\n",
              "    }\n",
              "\n",
              "    .dataframe thead th {\n",
              "        text-align: right;\n",
              "    }\n",
              "</style>\n",
              "<table border=\"1\" class=\"dataframe\">\n",
              "  <thead>\n",
              "    <tr style=\"text-align: right;\">\n",
              "      <th></th>\n",
              "      <th>age</th>\n",
              "      <th>sex</th>\n",
              "      <th>cp</th>\n",
              "      <th>trestbps</th>\n",
              "      <th>chol</th>\n",
              "      <th>fbs</th>\n",
              "      <th>restecg</th>\n",
              "      <th>thalach</th>\n",
              "      <th>exang</th>\n",
              "      <th>oldpeak</th>\n",
              "      <th>slope</th>\n",
              "      <th>ca</th>\n",
              "      <th>thal</th>\n",
              "      <th>target</th>\n",
              "    </tr>\n",
              "  </thead>\n",
              "  <tbody>\n",
              "    <tr>\n",
              "      <th>0</th>\n",
              "      <td>63</td>\n",
              "      <td>1</td>\n",
              "      <td>3</td>\n",
              "      <td>145</td>\n",
              "      <td>233</td>\n",
              "      <td>1</td>\n",
              "      <td>0</td>\n",
              "      <td>150</td>\n",
              "      <td>0</td>\n",
              "      <td>2.3</td>\n",
              "      <td>0</td>\n",
              "      <td>0</td>\n",
              "      <td>1</td>\n",
              "      <td>1</td>\n",
              "    </tr>\n",
              "    <tr>\n",
              "      <th>1</th>\n",
              "      <td>37</td>\n",
              "      <td>1</td>\n",
              "      <td>2</td>\n",
              "      <td>130</td>\n",
              "      <td>250</td>\n",
              "      <td>0</td>\n",
              "      <td>1</td>\n",
              "      <td>187</td>\n",
              "      <td>0</td>\n",
              "      <td>3.5</td>\n",
              "      <td>0</td>\n",
              "      <td>0</td>\n",
              "      <td>2</td>\n",
              "      <td>1</td>\n",
              "    </tr>\n",
              "    <tr>\n",
              "      <th>2</th>\n",
              "      <td>41</td>\n",
              "      <td>0</td>\n",
              "      <td>1</td>\n",
              "      <td>130</td>\n",
              "      <td>204</td>\n",
              "      <td>0</td>\n",
              "      <td>0</td>\n",
              "      <td>172</td>\n",
              "      <td>0</td>\n",
              "      <td>1.4</td>\n",
              "      <td>2</td>\n",
              "      <td>0</td>\n",
              "      <td>2</td>\n",
              "      <td>1</td>\n",
              "    </tr>\n",
              "    <tr>\n",
              "      <th>3</th>\n",
              "      <td>56</td>\n",
              "      <td>1</td>\n",
              "      <td>1</td>\n",
              "      <td>120</td>\n",
              "      <td>236</td>\n",
              "      <td>0</td>\n",
              "      <td>1</td>\n",
              "      <td>178</td>\n",
              "      <td>0</td>\n",
              "      <td>0.8</td>\n",
              "      <td>2</td>\n",
              "      <td>0</td>\n",
              "      <td>2</td>\n",
              "      <td>1</td>\n",
              "    </tr>\n",
              "    <tr>\n",
              "      <th>4</th>\n",
              "      <td>57</td>\n",
              "      <td>0</td>\n",
              "      <td>0</td>\n",
              "      <td>120</td>\n",
              "      <td>354</td>\n",
              "      <td>0</td>\n",
              "      <td>1</td>\n",
              "      <td>163</td>\n",
              "      <td>1</td>\n",
              "      <td>0.6</td>\n",
              "      <td>2</td>\n",
              "      <td>0</td>\n",
              "      <td>2</td>\n",
              "      <td>1</td>\n",
              "    </tr>\n",
              "  </tbody>\n",
              "</table>\n",
              "</div>"
            ],
            "text/plain": [
              "   age  sex  cp  trestbps  chol  fbs  ...  exang  oldpeak  slope  ca  thal  target\n",
              "0   63    1   3       145   233    1  ...      0      2.3      0   0     1       1\n",
              "1   37    1   2       130   250    0  ...      0      3.5      0   0     2       1\n",
              "2   41    0   1       130   204    0  ...      0      1.4      2   0     2       1\n",
              "3   56    1   1       120   236    0  ...      0      0.8      2   0     2       1\n",
              "4   57    0   0       120   354    0  ...      1      0.6      2   0     2       1\n",
              "\n",
              "[5 rows x 14 columns]"
            ]
          },
          "metadata": {},
          "execution_count": 122
        }
      ]
    },
    {
      "cell_type": "code",
      "metadata": {
        "colab": {
          "base_uri": "https://localhost:8080/"
        },
        "id": "ZmfUV9b6WfMM",
        "outputId": "3b2fdbda-eae8-4c1c-ec3e-33f140c04646"
      },
      "source": [
        "df2.shape"
      ],
      "execution_count": 123,
      "outputs": [
        {
          "output_type": "execute_result",
          "data": {
            "text/plain": [
              "(303, 14)"
            ]
          },
          "metadata": {},
          "execution_count": 123
        }
      ]
    },
    {
      "cell_type": "code",
      "metadata": {
        "colab": {
          "base_uri": "https://localhost:8080/"
        },
        "id": "t1LLTBPGY3Qb",
        "outputId": "f0e616b2-81f5-4d07-96b1-c4d770aef2b9"
      },
      "source": [
        "df2.isnull().sum()"
      ],
      "execution_count": 124,
      "outputs": [
        {
          "output_type": "execute_result",
          "data": {
            "text/plain": [
              "age         0\n",
              "sex         0\n",
              "cp          0\n",
              "trestbps    0\n",
              "chol        0\n",
              "fbs         0\n",
              "restecg     0\n",
              "thalach     0\n",
              "exang       0\n",
              "oldpeak     0\n",
              "slope       0\n",
              "ca          0\n",
              "thal        0\n",
              "target      0\n",
              "dtype: int64"
            ]
          },
          "metadata": {},
          "execution_count": 124
        }
      ]
    },
    {
      "cell_type": "code",
      "metadata": {
        "colab": {
          "base_uri": "https://localhost:8080/",
          "height": 518
        },
        "id": "DUxFduIrY3Qi",
        "outputId": "c840bc1d-d73b-478e-fad8-6588f99d0816"
      },
      "source": [
        "import seaborn as sns\n",
        "plt.figure(figsize=(8,8))\n",
        "sns.heatmap(df2.corr(),annot=True)\n",
        "plt.show()"
      ],
      "execution_count": 125,
      "outputs": [
        {
          "output_type": "display_data",
          "data": {
            "image/png": "[encoded data removed]",
            "text/plain": [
              "<Figure size 576x576 with 2 Axes>"
            ]
          },
          "metadata": {
            "needs_background": "light"
          }
        }
      ]
    },
    {
      "cell_type": "code",
      "metadata": {
        "colab": {
          "base_uri": "https://localhost:8080/"
        },
        "id": "jdAQ58kbaqg6",
        "outputId": "ec1bc8aa-c980-445d-b92a-befcfc46452f"
      },
      "source": [
        "#input features and target variable are stored in separate variables X and Y\n",
        "\n",
        "X=df2.drop(labels=['target'],axis=1)\n",
        "Y=df2['target']\n",
        "# Converting the Y values to binary class values\n",
        "\n",
        "\n",
        "print(X.shape,len(Y))"
      ],
      "execution_count": 128,
      "outputs": [
        {
          "output_type": "stream",
          "name": "stdout",
          "text": [
            "(303, 13) 303\n"
          ]
        }
      ]
    },
    {
      "cell_type": "code",
      "metadata": {
        "id": "SnF8GxkfaqhD"
      },
      "source": [
        "#generatng training set size =70%\n",
        "train_size=int(X.shape[0]*0.7)\n",
        "\n",
        "train_X=X[:train_size]\n",
        "train_Y=Y[:train_size]\n",
        "\n",
        "test_size=X.shape[0]-train_size\n",
        "test_X=X[train_size:]\n",
        "test_Y=Y[train_size:]\n"
      ],
      "execution_count": 129,
      "outputs": []
    },
    {
      "cell_type": "code",
      "metadata": {
        "id": "PKBO0jn7aqhD"
      },
      "source": [
        "#Normalizing the feature values to standard normal form\n",
        "train_X=(train_X-train_X.mean())/train_X.std()\n",
        "\n",
        "test_X=(test_X-test_X.mean())/test_X.std()\n"
      ],
      "execution_count": 130,
      "outputs": []
    },
    {
      "cell_type": "markdown",
      "metadata": {
        "id": "1b3sVA23sljR"
      },
      "source": [
        "## **Using Library function**"
      ]
    },
    {
      "cell_type": "code",
      "metadata": {
        "colab": {
          "base_uri": "https://localhost:8080/"
        },
        "id": "rDAfbYF4X2Dk",
        "outputId": "235afda7-97b8-4d59-8740-f9df2c6f24fb"
      },
      "source": [
        "from sklearn.metrics import mean_squared_error\n",
        "from sklearn.linear_model import LogisticRegression\n",
        "m2=LogisticRegression(C=500)\n",
        "m2.fit(train_X, train_Y)\n",
        "\n",
        "print(\"Coefficients: \", m2.coef_)\n",
        "print(\"Intercept: \", m2.intercept_)\n",
        "\n",
        "Y_pred=m2.predict(test_X)\n",
        "print(\"MSE: \", mean_squared_error(test_Y, Y_pred))"
      ],
      "execution_count": 137,
      "outputs": [
        {
          "output_type": "stream",
          "name": "stdout",
          "text": [
            "Coefficients:  [[-0.11662036 -1.0505168   1.20797401 -0.04353218 -0.22997393  0.03727412\n",
            "   0.73588606 -0.0642142  -0.37717178 -0.86926054  0.33592781 -0.75227755\n",
            "  -0.6357853 ]]\n",
            "Intercept:  [2.46571333]\n",
            "MSE:  0.8021978021978022\n"
          ]
        }
      ]
    },
    {
      "cell_type": "code",
      "metadata": {
        "colab": {
          "base_uri": "https://localhost:8080/"
        },
        "id": "0OUOlg9jc58t",
        "outputId": "1770e1ab-36c1-4db7-9eb6-543285a7b9b4"
      },
      "source": [
        "accur = (Y_pred == test_Y).sum()  # count of correctly classified Y values\n",
        "print(\"Accuracy using sklearn library: \", accur*100/len(test_Y), \"%\" )"
      ],
      "execution_count": 133,
      "outputs": [
        {
          "output_type": "stream",
          "name": "stdout",
          "text": [
            "Accuracy using sklearn library:  82.5566%\n"
          ]
        }
      ]
    },
    {
      "cell_type": "markdown",
      "metadata": {
        "id": "Yf_rTHhYW2hO"
      },
      "source": [
        "##**Solution using Gradient Descent**"
      ]
    },
    {
      "cell_type": "code",
      "metadata": {
        "colab": {
          "base_uri": "https://localhost:8080/",
          "height": 281
        },
        "id": "WGYImDl6eOt4",
        "outputId": "52f81c9a-d802-41f5-bc65-fcb4f44eabdf"
      },
      "source": [
        "learning_rate=0.001\n",
        "itrs=range(50,700,50)\n",
        "itrs_loss=[]\n",
        "\n",
        "plt.title(\"Variation of loss(MSE) with increasing number of iterations\")\n",
        "for k in itrs:\n",
        "  grad_model=gradient_descent()\n",
        "  grad_model.fit_to_grad(train_X, train_Y,learning_rate,k)\n",
        "  y_pred=grad_model.predict(test_X)\n",
        "  itrs_loss.append(mean_squared_error(y_pred,test_Y))\n",
        "plt.plot(itrs,itrs_loss)\n",
        "plt.show()"
      ],
      "execution_count": 155,
      "outputs": [
        {
          "output_type": "display_data",
          "data": {
            "image/png": "[encoded data removed]",
            "text/plain": [
              "<Figure size 432x288 with 1 Axes>"
            ]
          },
          "metadata": {
            "needs_background": "light"
          }
        }
      ]
    },
    {
      "cell_type": "code",
      "metadata": {
        "colab": {
          "base_uri": "https://localhost:8080/"
        },
        "id": "JITVKykfeXwY",
        "outputId": "a65d76ce-5849-4c67-ffb6-8ca7c65df3e7"
      },
      "source": [
        "grad_model=gradient_descent()\n",
        "grad_model.fit_to_grad(train_X, train_Y,0.01,100)\n",
        "\n",
        "print(\"\\nCoefficients \\n \",grad_model.thetas[:])\n",
        "\n",
        "y_pred=grad_model.predict(test_X)\n",
        "#calculating MSE by loss function\n",
        "print(\"Mean squared Error obtained:\\n\",mean_squared_error(y_pred,test_Y))"
      ],
      "execution_count": 159,
      "outputs": [
        {
          "output_type": "stream",
          "name": "stdout",
          "text": [
            "\n",
            "Coefficients \n",
            "  [[ 0.2469529 ]\n",
            " [-0.05145135]\n",
            " [-0.08845179]\n",
            " [ 0.12665752]\n",
            " [-0.01671543]\n",
            " [-0.00527628]\n",
            " [ 0.01465908]\n",
            " [ 0.0723476 ]\n",
            " [ 0.09035337]\n",
            " [-0.11405078]\n",
            " [-0.14341073]\n",
            " [ 0.08837311]\n",
            " [-0.1089855 ]\n",
            " [-0.13639031]]\n",
            "Mean squared Error obtained:\n",
            " 0.2857142857142857\n"
          ]
        }
      ]
    },
    {
      "cell_type": "code",
      "metadata": {
        "colab": {
          "base_uri": "https://localhost:8080/"
        },
        "id": "ZWYXiyTQeXwa",
        "outputId": "35dc1b4f-322b-4d3c-d036-5060582b05d1"
      },
      "source": [
        "accur = (np.array(y_pred) == test_Y).sum()  # count of correctly classified Y values\n",
        "print(\"Accuracy using sklearn library: \", accur*100/len(test_Y), \"%\" )"
      ],
      "execution_count": 160,
      "outputs": [
        {
          "output_type": "stream",
          "name": "stdout",
          "text": [
            "Accuracy using sklearn library:  71.42857142857143 %\n"
          ]
        }
      ]
    },
    {
      "cell_type": "code",
      "metadata": {
        "colab": {
          "base_uri": "https://localhost:8080/",
          "height": 382
        },
        "id": "Uk1qOp31eXwa",
        "outputId": "c94998c3-0cd0-49b2-abe4-f1ba352e8306"
      },
      "source": [
        "from sklearn.metrics import confusion_matrix, precision_score, recall_score, f1_score\n",
        "from mlxtend.plotting import plot_confusion_matrix\n",
        " \n",
        "conf_matrix = confusion_matrix(test_Y, y_pred)\n",
        "\n",
        "sns.heatmap(conf_matrix,annot=True,cmap='Greens')\n",
        "plt.ylabel('Predicted')\n",
        "plt.xlabel('Actual')\n",
        "plt.show()\n",
        "print(\"Precision: \", precision_score(test_Y, y_pred))\n",
        "print(\"Recall: \", recall_score(test_Y, y_pred))\n",
        "print(\"F1 score: \", f1_score(test_Y, y_pred))"
      ],
      "execution_count": 161,
      "outputs": [
        {
          "output_type": "display_data",
          "data": {
            "image/png": "[encoded data removed]",
            "text/plain": [
              "<Figure size 432x288 with 2 Axes>"
            ]
          },
          "metadata": {
            "needs_background": "light"
          }
        },
        {
          "output_type": "stream",
          "name": "stdout",
          "text": [
            "Precision:  0.0\n",
            "Recall:  0.0\n",
            "F1 score:  0.0\n"
          ]
        },
        {
          "output_type": "stream",
          "name": "stderr",
          "text": [
            "/usr/local/lib/python3.7/dist-packages/sklearn/metrics/_classification.py:1272: UndefinedMetricWarning: Recall is ill-defined and being set to 0.0 due to no true samples. Use `zero_division` parameter to control this behavior.\n",
            "  _warn_prf(average, modifier, msg_start, len(result))\n"
          ]
        }
      ]
    }
  ]
}