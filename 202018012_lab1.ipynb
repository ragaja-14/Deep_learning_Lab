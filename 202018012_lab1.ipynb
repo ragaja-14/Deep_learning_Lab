{
  "nbformat": 4,
  "nbformat_minor": 0,
  "metadata": {
    "colab": {
      "name": "202018012_lab_1.ipynb",
      "provenance": [],
      "collapsed_sections": [],
      "toc_visible": true
    },
    "kernelspec": {
      "name": "python3",
      "display_name": "Python 3"
    },
    "language_info": {
      "name": "python"
    }
  },
  "cells": [
    {
      "cell_type": "code",
      "metadata": {
        "id": "RZavBaqoGkFX"
      },
      "source": [
        "import numpy as np\n",
        "import pandas as pd\n",
        "import matplotlib.pyplot as plt"
      ],
      "execution_count": 1,
      "outputs": []
    },
    {
      "cell_type": "markdown",
      "metadata": {
        "id": "rWwuBr2FHslQ"
      },
      "source": [
        "####**TASK I**"
      ]
    },
    {
      "cell_type": "code",
      "metadata": {
        "colab": {
          "base_uri": "https://localhost:8080/",
          "height": 232
        },
        "id": "FDfrJNksHC18",
        "outputId": "a8f54c55-f5c6-4238-a01c-3fe0564ee824"
      },
      "source": [
        "data=pd.read_csv(r'/content/Admission_Predict.csv',header=1,index_col=0)\n",
        "data.head(5)"
      ],
      "execution_count": 2,
      "outputs": [
        {
          "output_type": "execute_result",
          "data": {
            "text/html": [
              "<div>\n",
              "<style scoped>\n",
              "    .dataframe tbody tr th:only-of-type {\n",
              "        vertical-align: middle;\n",
              "    }\n",
              "\n",
              "    .dataframe tbody tr th {\n",
              "        vertical-align: top;\n",
              "    }\n",
              "\n",
              "    .dataframe thead th {\n",
              "        text-align: right;\n",
              "    }\n",
              "</style>\n",
              "<table border=\"1\" class=\"dataframe\">\n",
              "  <thead>\n",
              "    <tr style=\"text-align: right;\">\n",
              "      <th></th>\n",
              "      <th>GRE Score</th>\n",
              "      <th>TOEFL Score</th>\n",
              "      <th>University Rating</th>\n",
              "      <th>SOP</th>\n",
              "      <th>LOR</th>\n",
              "      <th>CGPA</th>\n",
              "      <th>Research</th>\n",
              "      <th>Chance of Admit</th>\n",
              "    </tr>\n",
              "    <tr>\n",
              "      <th>Serial No.</th>\n",
              "      <th></th>\n",
              "      <th></th>\n",
              "      <th></th>\n",
              "      <th></th>\n",
              "      <th></th>\n",
              "      <th></th>\n",
              "      <th></th>\n",
              "      <th></th>\n",
              "    </tr>\n",
              "  </thead>\n",
              "  <tbody>\n",
              "    <tr>\n",
              "      <th>1</th>\n",
              "      <td>337</td>\n",
              "      <td>118</td>\n",
              "      <td>4</td>\n",
              "      <td>4.5</td>\n",
              "      <td>4.5</td>\n",
              "      <td>9.65</td>\n",
              "      <td>1</td>\n",
              "      <td>0.92</td>\n",
              "    </tr>\n",
              "    <tr>\n",
              "      <th>2</th>\n",
              "      <td>324</td>\n",
              "      <td>107</td>\n",
              "      <td>4</td>\n",
              "      <td>4.0</td>\n",
              "      <td>4.5</td>\n",
              "      <td>8.87</td>\n",
              "      <td>1</td>\n",
              "      <td>0.76</td>\n",
              "    </tr>\n",
              "    <tr>\n",
              "      <th>3</th>\n",
              "      <td>316</td>\n",
              "      <td>104</td>\n",
              "      <td>3</td>\n",
              "      <td>3.0</td>\n",
              "      <td>3.5</td>\n",
              "      <td>8.00</td>\n",
              "      <td>1</td>\n",
              "      <td>0.72</td>\n",
              "    </tr>\n",
              "    <tr>\n",
              "      <th>4</th>\n",
              "      <td>322</td>\n",
              "      <td>110</td>\n",
              "      <td>3</td>\n",
              "      <td>3.5</td>\n",
              "      <td>2.5</td>\n",
              "      <td>8.67</td>\n",
              "      <td>1</td>\n",
              "      <td>0.80</td>\n",
              "    </tr>\n",
              "    <tr>\n",
              "      <th>5</th>\n",
              "      <td>314</td>\n",
              "      <td>103</td>\n",
              "      <td>2</td>\n",
              "      <td>2.0</td>\n",
              "      <td>3.0</td>\n",
              "      <td>8.21</td>\n",
              "      <td>0</td>\n",
              "      <td>0.65</td>\n",
              "    </tr>\n",
              "  </tbody>\n",
              "</table>\n",
              "</div>"
            ],
            "text/plain": [
              "            GRE Score  TOEFL Score  ...  Research  Chance of Admit \n",
              "Serial No.                          ...                            \n",
              "1                 337          118  ...         1              0.92\n",
              "2                 324          107  ...         1              0.76\n",
              "3                 316          104  ...         1              0.72\n",
              "4                 322          110  ...         1              0.80\n",
              "5                 314          103  ...         0              0.65\n",
              "\n",
              "[5 rows x 8 columns]"
            ]
          },
          "metadata": {},
          "execution_count": 2
        }
      ]
    },
    {
      "cell_type": "code",
      "metadata": {
        "colab": {
          "base_uri": "https://localhost:8080/"
        },
        "id": "jpml2a9sJBe7",
        "outputId": "a346cc4b-c888-45e9-a71c-c20684e35ca1"
      },
      "source": [
        "data.shape"
      ],
      "execution_count": 3,
      "outputs": [
        {
          "output_type": "execute_result",
          "data": {
            "text/plain": [
              "(400, 8)"
            ]
          },
          "metadata": {},
          "execution_count": 3
        }
      ]
    },
    {
      "cell_type": "code",
      "metadata": {
        "colab": {
          "base_uri": "https://localhost:8080/"
        },
        "id": "cwxU8DnVHC5F",
        "outputId": "eea1099f-d881-4867-9b59-d2dd09e005a2"
      },
      "source": [
        "print(data.columns)\n",
        "data.isna().sum(axis=0)"
      ],
      "execution_count": 4,
      "outputs": [
        {
          "output_type": "stream",
          "name": "stdout",
          "text": [
            "Index(['GRE Score', 'TOEFL Score', 'University Rating', 'SOP', 'LOR ', 'CGPA',\n",
            "       'Research', 'Chance of Admit '],\n",
            "      dtype='object')\n"
          ]
        },
        {
          "output_type": "execute_result",
          "data": {
            "text/plain": [
              "GRE Score            0\n",
              "TOEFL Score          0\n",
              "University Rating    0\n",
              "SOP                  0\n",
              "LOR                  0\n",
              "CGPA                 0\n",
              "Research             0\n",
              "Chance of Admit      0\n",
              "dtype: int64"
            ]
          },
          "metadata": {},
          "execution_count": 4
        }
      ]
    },
    {
      "cell_type": "code",
      "metadata": {
        "colab": {
          "base_uri": "https://localhost:8080/",
          "height": 444
        },
        "id": "uogPOezGJH0s",
        "outputId": "e72b95eb-aefe-4137-d9b7-0b9d50cb745b"
      },
      "source": [
        "##shuffling data to using sample function\n",
        "data.sample(frac = 1,random_state=10)"
      ],
      "execution_count": 5,
      "outputs": [
        {
          "output_type": "execute_result",
          "data": {
            "text/html": [
              "<div>\n",
              "<style scoped>\n",
              "    .dataframe tbody tr th:only-of-type {\n",
              "        vertical-align: middle;\n",
              "    }\n",
              "\n",
              "    .dataframe tbody tr th {\n",
              "        vertical-align: top;\n",
              "    }\n",
              "\n",
              "    .dataframe thead th {\n",
              "        text-align: right;\n",
              "    }\n",
              "</style>\n",
              "<table border=\"1\" class=\"dataframe\">\n",
              "  <thead>\n",
              "    <tr style=\"text-align: right;\">\n",
              "      <th></th>\n",
              "      <th>GRE Score</th>\n",
              "      <th>TOEFL Score</th>\n",
              "      <th>University Rating</th>\n",
              "      <th>SOP</th>\n",
              "      <th>LOR</th>\n",
              "      <th>CGPA</th>\n",
              "      <th>Research</th>\n",
              "      <th>Chance of Admit</th>\n",
              "    </tr>\n",
              "    <tr>\n",
              "      <th>Serial No.</th>\n",
              "      <th></th>\n",
              "      <th></th>\n",
              "      <th></th>\n",
              "      <th></th>\n",
              "      <th></th>\n",
              "      <th></th>\n",
              "      <th></th>\n",
              "      <th></th>\n",
              "    </tr>\n",
              "  </thead>\n",
              "  <tbody>\n",
              "    <tr>\n",
              "      <th>333</th>\n",
              "      <td>308</td>\n",
              "      <td>106</td>\n",
              "      <td>3</td>\n",
              "      <td>3.5</td>\n",
              "      <td>2.5</td>\n",
              "      <td>8.21</td>\n",
              "      <td>1</td>\n",
              "      <td>0.75</td>\n",
              "    </tr>\n",
              "    <tr>\n",
              "      <th>112</th>\n",
              "      <td>321</td>\n",
              "      <td>109</td>\n",
              "      <td>4</td>\n",
              "      <td>4.0</td>\n",
              "      <td>4.0</td>\n",
              "      <td>8.68</td>\n",
              "      <td>1</td>\n",
              "      <td>0.69</td>\n",
              "    </tr>\n",
              "    <tr>\n",
              "      <th>353</th>\n",
              "      <td>303</td>\n",
              "      <td>100</td>\n",
              "      <td>2</td>\n",
              "      <td>3.0</td>\n",
              "      <td>3.5</td>\n",
              "      <td>8.06</td>\n",
              "      <td>1</td>\n",
              "      <td>0.64</td>\n",
              "    </tr>\n",
              "    <tr>\n",
              "      <th>206</th>\n",
              "      <td>295</td>\n",
              "      <td>99</td>\n",
              "      <td>2</td>\n",
              "      <td>2.5</td>\n",
              "      <td>3.0</td>\n",
              "      <td>7.65</td>\n",
              "      <td>0</td>\n",
              "      <td>0.57</td>\n",
              "    </tr>\n",
              "    <tr>\n",
              "      <th>57</th>\n",
              "      <td>316</td>\n",
              "      <td>102</td>\n",
              "      <td>3</td>\n",
              "      <td>2.0</td>\n",
              "      <td>3.0</td>\n",
              "      <td>7.40</td>\n",
              "      <td>0</td>\n",
              "      <td>0.64</td>\n",
              "    </tr>\n",
              "    <tr>\n",
              "      <th>...</th>\n",
              "      <td>...</td>\n",
              "      <td>...</td>\n",
              "      <td>...</td>\n",
              "      <td>...</td>\n",
              "      <td>...</td>\n",
              "      <td>...</td>\n",
              "      <td>...</td>\n",
              "      <td>...</td>\n",
              "    </tr>\n",
              "    <tr>\n",
              "      <th>370</th>\n",
              "      <td>301</td>\n",
              "      <td>98</td>\n",
              "      <td>1</td>\n",
              "      <td>2.0</td>\n",
              "      <td>3.0</td>\n",
              "      <td>8.03</td>\n",
              "      <td>1</td>\n",
              "      <td>0.67</td>\n",
              "    </tr>\n",
              "    <tr>\n",
              "      <th>321</th>\n",
              "      <td>317</td>\n",
              "      <td>106</td>\n",
              "      <td>3</td>\n",
              "      <td>4.0</td>\n",
              "      <td>3.5</td>\n",
              "      <td>8.50</td>\n",
              "      <td>1</td>\n",
              "      <td>0.75</td>\n",
              "    </tr>\n",
              "    <tr>\n",
              "      <th>16</th>\n",
              "      <td>314</td>\n",
              "      <td>105</td>\n",
              "      <td>3</td>\n",
              "      <td>3.5</td>\n",
              "      <td>2.5</td>\n",
              "      <td>8.30</td>\n",
              "      <td>0</td>\n",
              "      <td>0.54</td>\n",
              "    </tr>\n",
              "    <tr>\n",
              "      <th>126</th>\n",
              "      <td>300</td>\n",
              "      <td>100</td>\n",
              "      <td>3</td>\n",
              "      <td>2.0</td>\n",
              "      <td>3.0</td>\n",
              "      <td>8.66</td>\n",
              "      <td>1</td>\n",
              "      <td>0.64</td>\n",
              "    </tr>\n",
              "    <tr>\n",
              "      <th>266</th>\n",
              "      <td>313</td>\n",
              "      <td>102</td>\n",
              "      <td>3</td>\n",
              "      <td>2.5</td>\n",
              "      <td>2.5</td>\n",
              "      <td>8.68</td>\n",
              "      <td>0</td>\n",
              "      <td>0.71</td>\n",
              "    </tr>\n",
              "  </tbody>\n",
              "</table>\n",
              "<p>400 rows × 8 columns</p>\n",
              "</div>"
            ],
            "text/plain": [
              "            GRE Score  TOEFL Score  ...  Research  Chance of Admit \n",
              "Serial No.                          ...                            \n",
              "333               308          106  ...         1              0.75\n",
              "112               321          109  ...         1              0.69\n",
              "353               303          100  ...         1              0.64\n",
              "206               295           99  ...         0              0.57\n",
              "57                316          102  ...         0              0.64\n",
              "...               ...          ...  ...       ...               ...\n",
              "370               301           98  ...         1              0.67\n",
              "321               317          106  ...         1              0.75\n",
              "16                314          105  ...         0              0.54\n",
              "126               300          100  ...         1              0.64\n",
              "266               313          102  ...         0              0.71\n",
              "\n",
              "[400 rows x 8 columns]"
            ]
          },
          "metadata": {},
          "execution_count": 5
        }
      ]
    },
    {
      "cell_type": "code",
      "metadata": {
        "colab": {
          "base_uri": "https://localhost:8080/"
        },
        "id": "TPSCeGT1HC8a",
        "outputId": "ccf8f249-85d2-4a03-d0bd-f1e5fbd53f79"
      },
      "source": [
        "#input features and target variable are stored in separate variables X and Y\n",
        "\n",
        "X=data.drop(labels=['Chance of Admit '],axis=1)\n",
        "Y=data['Chance of Admit ']\n",
        "print(X.shape,Y.shape)"
      ],
      "execution_count": 6,
      "outputs": [
        {
          "output_type": "stream",
          "name": "stdout",
          "text": [
            "(400, 7) (400,)\n"
          ]
        }
      ]
    },
    {
      "cell_type": "code",
      "metadata": {
        "colab": {
          "base_uri": "https://localhost:8080/"
        },
        "id": "9vWnzXALHC_h",
        "outputId": "50a2a35e-ede1-4340-8d8e-172fa1e2d08f"
      },
      "source": [
        "#generatng training set size =70%\n",
        "train_size=int(X.shape[0]*0.7)\n",
        "\n",
        "train_X=X[:train_size]\n",
        "train_Y=Y[:train_size]\n",
        "\n",
        "test_size=X.shape[0]-train_size\n",
        "test_X=X[train_size:]\n",
        "test_Y=Y[train_size:]\n",
        "print(train_X.shape,test_X.shape,train_Y.shape,test_Y.shape)"
      ],
      "execution_count": 7,
      "outputs": [
        {
          "output_type": "stream",
          "name": "stdout",
          "text": [
            "(280, 7) (120, 7) (280,) (120,)\n"
          ]
        }
      ]
    },
    {
      "cell_type": "markdown",
      "metadata": {
        "id": "svLwN1xpLdKx"
      },
      "source": [
        "####1. Feature Normalization"
      ]
    },
    {
      "cell_type": "code",
      "metadata": {
        "id": "ndf3b8EqHDCl"
      },
      "source": [
        "#Normalizing the feature values to standard normal form\n",
        "train_X=(train_X-train_X.mean())/train_X.std()\n",
        "\n",
        "test_X=(test_X-test_X.mean())/test_X.std()\n"
      ],
      "execution_count": 8,
      "outputs": []
    },
    {
      "cell_type": "markdown",
      "metadata": {
        "id": "a1s3nSdeQPQH"
      },
      "source": [
        "##### 2. Solution using Closed form formula\n"
      ]
    },
    {
      "cell_type": "code",
      "metadata": {
        "id": "XnkYYXO_uMWF"
      },
      "source": [
        "def MSE(predicted_y,labels):\n",
        "  m=predicted_y.shape[0]\n",
        "  predicted_y=predicted_y\n",
        "  Loss= np.round(np.dot((predicted_y- labels).transpose(),predicted_y-labels),6)\n",
        "  Mean_sq_error = Loss[0][0]/(m)\n",
        "  return Mean_sq_error"
      ],
      "execution_count": 10,
      "outputs": []
    },
    {
      "cell_type": "code",
      "metadata": {
        "id": "AznR4utcHDF0"
      },
      "source": [
        "class close_form:\n",
        "  \n",
        "  def fit(self,input_features, target):\n",
        "    n=input_features.shape[0]\n",
        "    m=input_features.shape[1]\n",
        "    input_features=np.array(input_features).reshape(n,m)\n",
        "    ones=np.array([1]*n).reshape(n,1)\n",
        "    X=np.append(ones,input_features,axis=1)\n",
        "    target=np.array(target).reshape(n,1)\n",
        "    self.theta=np.dot(np.linalg.inv(np.dot(X.T,X)),np.dot(X.T,target)) \n",
        "    \n",
        "\n",
        "  def closed_form_predict(self,input_features):\n",
        "    n=input_features.shape[0]\n",
        "    m=input_features.shape[1]\n",
        "    input_features=np.array(input_features).reshape(n,m)\n",
        "    ones=np.array([1]*n).reshape(n,1)\n",
        "    X=np.append(ones,input_features,axis=1)\n",
        "    new_predictions=np.dot(X,self.theta)\n",
        "    return new_predictions"
      ],
      "execution_count": 11,
      "outputs": []
    },
    {
      "cell_type": "code",
      "metadata": {
        "colab": {
          "base_uri": "https://localhost:8080/"
        },
        "id": "H8WcLkWmHDJK",
        "outputId": "f652f92f-ec7a-414a-a78c-3678f90bc669"
      },
      "source": [
        "from sklearn.metrics import mean_squared_error\n",
        "\n",
        "model=close_form()\n",
        "model.fit(train_X, train_Y)\n",
        "pred_Y=model.closed_form_predict(test_X)\n",
        "print(\"coefficientss obtained by Closed form : \\n\",model.theta[0:])\n",
        "\n",
        "print(\"MSE:\\t\",mean_squared_error(pred_Y,test_Y))"
      ],
      "execution_count": 12,
      "outputs": [
        {
          "output_type": "stream",
          "name": "stdout",
          "text": [
            "coefficientss obtained by Closed form : \n",
            " [[ 0.72896429]\n",
            " [ 0.02130449]\n",
            " [ 0.01689003]\n",
            " [ 0.00925594]\n",
            " [-0.00551656]\n",
            " [ 0.02538239]\n",
            " [ 0.06898077]\n",
            " [ 0.01011877]]\n",
            "MSE:\t 0.003127488591677208\n"
          ]
        }
      ]
    },
    {
      "cell_type": "markdown",
      "metadata": {
        "id": "-6BLxuGQQldh"
      },
      "source": [
        "##### 3. Solution using Gradient Descent"
      ]
    },
    {
      "cell_type": "code",
      "metadata": {
        "id": "nSfQjd4wHDMS"
      },
      "source": [
        "#Gradient descent Model built by using features as vectors\n",
        "#so can be used for varying number of features i.e for both simple and multiple case it works\n",
        "\n",
        "class gradient_descent:\n",
        "  def fit_to_grad(self,input_data, labels, learning_rate,epochs):\n",
        "    m = input_data.shape[0]\n",
        "    k=input_data.shape[1]\n",
        "    n=epochs\n",
        "    initial_params=np.array([0.0]*(k+1))\n",
        "    thetas=np.array(initial_params).reshape(k+1,1)\n",
        "    labels=np.array(labels).reshape(m,1)\n",
        "    ones=np.array([1]*m).reshape(m,1)\n",
        "    input_data=np.array(input_data).reshape(m,k)\n",
        "    X1=np.append(ones,input_data,axis=1)\n",
        "    ct=1\n",
        "    for i in range(n):\n",
        "        predicted_y = np.dot(X1,thetas)\n",
        "        gradient=thetas-ct*( np.round(np.dot(X1.transpose(),(labels-predicted_y)),5))\n",
        "        new_thetas=thetas-(gradient*2*learning_rate/(m))\n",
        "        thetas=new_thetas\n",
        "    #print(thetas)\n",
        "    self.thetas=thetas\n",
        "    return self.thetas\n",
        "\n",
        "  def predict(self,input_data):\n",
        "    m=input_data.shape[0]\n",
        "    n=input_data.shape[1]\n",
        "    ones=np.array([1]*m).reshape(m,1)\n",
        "    input_data=np.array(input_data).reshape(m,n)\n",
        "    X1=np.append(ones,input_data,axis=1)\n",
        "    \n",
        "    predicted_y = np.dot(X1,self.thetas)\n",
        "    return predicted_y \n",
        "\n"
      ],
      "execution_count": 14,
      "outputs": []
    },
    {
      "cell_type": "code",
      "metadata": {
        "colab": {
          "base_uri": "https://localhost:8080/",
          "height": 281
        },
        "id": "EtErAYWXvlIG",
        "outputId": "0209f8da-24b9-49e6-a813-3e61cc5d5183"
      },
      "source": [
        "learning_rate=0.01\n",
        "itrs=range(100,700,50)\n",
        "itrs_loss=[]\n",
        "\n",
        "plt.title(\"Variation of loss(MSE) with increasing number of iterations\")\n",
        "for k in itrs:\n",
        "  grad_model=gradient_descent()\n",
        "  grad_model.fit_to_grad(train_X, train_Y,learning_rate,k)\n",
        "  y_pred=grad_model.predict(test_X)\n",
        "  itrs_loss.append(mean_squared_error(y_pred,test_Y))\n",
        "plt.plot(itrs,itrs_loss)\n",
        "plt.show()"
      ],
      "execution_count": 15,
      "outputs": [
        {
          "output_type": "display_data",
          "data": {
            "image/png": "[encoded data removed]",
            "text/plain": [
              "<Figure size 432x288 with 1 Axes>"
            ]
          },
          "metadata": {
            "needs_background": "light"
          }
        }
      ]
    },
    {
      "cell_type": "code",
      "metadata": {
        "colab": {
          "base_uri": "https://localhost:8080/"
        },
        "id": "BP1b3HihHDPa",
        "outputId": "b8d29ebe-9f98-4ffe-866d-8b4860b73e5e"
      },
      "source": [
        "grad_model=gradient_descent()\n",
        "grad_model.fit_to_grad(train_X, train_Y,0.01,200)\n",
        "\n",
        "print(\"\\nCoefficients \\n \",grad_model.thetas[:])\n",
        "\n",
        "y_pred=grad_model.predict(test_X)\n",
        "#calculating MSE by loss function\n",
        "print(\"Mean squared Error obtained:\\n\",mean_squared_error(y_pred,test_Y))"
      ],
      "execution_count": 16,
      "outputs": [
        {
          "output_type": "stream",
          "name": "stdout",
          "text": [
            "\n",
            "Coefficients \n",
            "  [[0.71377963]\n",
            " [0.0275256 ]\n",
            " [0.02336425]\n",
            " [0.01319115]\n",
            " [0.00081592]\n",
            " [0.02397006]\n",
            " [0.04841898]\n",
            " [0.01053752]]\n",
            "Mean squared Error obtained:\n",
            " 0.0029226345642255984\n"
          ]
        }
      ]
    },
    {
      "cell_type": "markdown",
      "metadata": {
        "id": "O23RAJBozHsW"
      },
      "source": [
        "####**TASK II**"
      ]
    },
    {
      "cell_type": "code",
      "metadata": {
        "id": "RGxJKaxMHDSz",
        "colab": {
          "base_uri": "https://localhost:8080/",
          "height": 201
        },
        "outputId": "0985305c-08a8-4af0-c4a9-a4fe5517f8d2"
      },
      "source": [
        "dt2=pd.read_csv(r'/content/heart.csv',sep='\\t',header=1)\n",
        "dt2.head(5)"
      ],
      "execution_count": 226,
      "outputs": [
        {
          "output_type": "execute_result",
          "data": {
            "text/html": [
              "<div>\n",
              "<style scoped>\n",
              "    .dataframe tbody tr th:only-of-type {\n",
              "        vertical-align: middle;\n",
              "    }\n",
              "\n",
              "    .dataframe tbody tr th {\n",
              "        vertical-align: top;\n",
              "    }\n",
              "\n",
              "    .dataframe thead th {\n",
              "        text-align: right;\n",
              "    }\n",
              "</style>\n",
              "<table border=\"1\" class=\"dataframe\">\n",
              "  <thead>\n",
              "    <tr style=\"text-align: right;\">\n",
              "      <th></th>\n",
              "      <th>age</th>\n",
              "      <th>sex</th>\n",
              "      <th>cp</th>\n",
              "      <th>trestbps</th>\n",
              "      <th>chol</th>\n",
              "      <th>fbs</th>\n",
              "      <th>restecg</th>\n",
              "      <th>thalach</th>\n",
              "      <th>exang</th>\n",
              "      <th>oldpeak</th>\n",
              "      <th>slope</th>\n",
              "      <th>ca</th>\n",
              "      <th>thal</th>\n",
              "      <th>target</th>\n",
              "    </tr>\n",
              "  </thead>\n",
              "  <tbody>\n",
              "    <tr>\n",
              "      <th>0</th>\n",
              "      <td>63</td>\n",
              "      <td>1</td>\n",
              "      <td>3</td>\n",
              "      <td>145</td>\n",
              "      <td>233</td>\n",
              "      <td>1</td>\n",
              "      <td>0</td>\n",
              "      <td>150</td>\n",
              "      <td>0</td>\n",
              "      <td>2.3</td>\n",
              "      <td>0</td>\n",
              "      <td>0</td>\n",
              "      <td>1</td>\n",
              "      <td>1</td>\n",
              "    </tr>\n",
              "    <tr>\n",
              "      <th>1</th>\n",
              "      <td>37</td>\n",
              "      <td>1</td>\n",
              "      <td>2</td>\n",
              "      <td>130</td>\n",
              "      <td>250</td>\n",
              "      <td>0</td>\n",
              "      <td>1</td>\n",
              "      <td>187</td>\n",
              "      <td>0</td>\n",
              "      <td>3.5</td>\n",
              "      <td>0</td>\n",
              "      <td>0</td>\n",
              "      <td>2</td>\n",
              "      <td>1</td>\n",
              "    </tr>\n",
              "    <tr>\n",
              "      <th>2</th>\n",
              "      <td>41</td>\n",
              "      <td>0</td>\n",
              "      <td>1</td>\n",
              "      <td>130</td>\n",
              "      <td>204</td>\n",
              "      <td>0</td>\n",
              "      <td>0</td>\n",
              "      <td>172</td>\n",
              "      <td>0</td>\n",
              "      <td>1.4</td>\n",
              "      <td>2</td>\n",
              "      <td>0</td>\n",
              "      <td>2</td>\n",
              "      <td>1</td>\n",
              "    </tr>\n",
              "    <tr>\n",
              "      <th>3</th>\n",
              "      <td>56</td>\n",
              "      <td>1</td>\n",
              "      <td>1</td>\n",
              "      <td>120</td>\n",
              "      <td>236</td>\n",
              "      <td>0</td>\n",
              "      <td>1</td>\n",
              "      <td>178</td>\n",
              "      <td>0</td>\n",
              "      <td>0.8</td>\n",
              "      <td>2</td>\n",
              "      <td>0</td>\n",
              "      <td>2</td>\n",
              "      <td>1</td>\n",
              "    </tr>\n",
              "    <tr>\n",
              "      <th>4</th>\n",
              "      <td>57</td>\n",
              "      <td>0</td>\n",
              "      <td>0</td>\n",
              "      <td>120</td>\n",
              "      <td>354</td>\n",
              "      <td>0</td>\n",
              "      <td>1</td>\n",
              "      <td>163</td>\n",
              "      <td>1</td>\n",
              "      <td>0.6</td>\n",
              "      <td>2</td>\n",
              "      <td>0</td>\n",
              "      <td>2</td>\n",
              "      <td>1</td>\n",
              "    </tr>\n",
              "  </tbody>\n",
              "</table>\n",
              "</div>"
            ],
            "text/plain": [
              "   age  sex  cp  trestbps  chol  fbs  ...  exang  oldpeak  slope  ca  thal  target\n",
              "0   63    1   3       145   233    1  ...      0      2.3      0   0     1       1\n",
              "1   37    1   2       130   250    0  ...      0      3.5      0   0     2       1\n",
              "2   41    0   1       130   204    0  ...      0      1.4      2   0     2       1\n",
              "3   56    1   1       120   236    0  ...      0      0.8      2   0     2       1\n",
              "4   57    0   0       120   354    0  ...      1      0.6      2   0     2       1\n",
              "\n",
              "[5 rows x 14 columns]"
            ]
          },
          "metadata": {},
          "execution_count": 226
        }
      ]
    },
    {
      "cell_type": "code",
      "metadata": {
        "colab": {
          "base_uri": "https://localhost:8080/"
        },
        "id": "9VWKFNIwzQP6",
        "outputId": "a4628067-4436-4ef2-b454-f394da4887c6"
      },
      "source": [
        "dt2.shape"
      ],
      "execution_count": 227,
      "outputs": [
        {
          "output_type": "execute_result",
          "data": {
            "text/plain": [
              "(303, 14)"
            ]
          },
          "metadata": {},
          "execution_count": 227
        }
      ]
    },
    {
      "cell_type": "code",
      "metadata": {
        "colab": {
          "base_uri": "https://localhost:8080/"
        },
        "id": "Do0_c8LdzQTC",
        "outputId": "5147f7af-ce5f-483f-ef73-17d1d34b52e3"
      },
      "source": [
        "print(dt2.columns)\n",
        "dt2.isna().sum(axis=0)"
      ],
      "execution_count": 228,
      "outputs": [
        {
          "output_type": "stream",
          "name": "stdout",
          "text": [
            "Index(['age', 'sex', 'cp', 'trestbps', 'chol', 'fbs', 'restecg', 'thalach',\n",
            "       'exang', 'oldpeak', 'slope', 'ca', 'thal', 'target'],\n",
            "      dtype='object')\n"
          ]
        },
        {
          "output_type": "execute_result",
          "data": {
            "text/plain": [
              "age         0\n",
              "sex         0\n",
              "cp          0\n",
              "trestbps    0\n",
              "chol        0\n",
              "fbs         0\n",
              "restecg     0\n",
              "thalach     0\n",
              "exang       0\n",
              "oldpeak     0\n",
              "slope       0\n",
              "ca          0\n",
              "thal        0\n",
              "target      0\n",
              "dtype: int64"
            ]
          },
          "metadata": {},
          "execution_count": 228
        }
      ]
    },
    {
      "cell_type": "code",
      "metadata": {
        "colab": {
          "base_uri": "https://localhost:8080/"
        },
        "id": "ROgsogiRzQfr",
        "outputId": "adf3c3e3-86a7-4120-a2e4-522addfd4022"
      },
      "source": [
        "#generatng training set size =70%\n",
        "train_size=int(X.shape[0]*0.7)\n",
        "test_X=X.sample(frac=0.3,random_state=2)\n",
        "test_Y=Y.filter(items = test_X.index)\n",
        "train_X=X[:train_size]\n",
        "train_Y=Y[:train_size]\n",
        "\n",
        "test_size=X.shape[0]-train_size\n",
        "\n",
        "print(train_X.shape,test_X.shape,train_Y.shape,test_Y.shape)"
      ],
      "execution_count": 232,
      "outputs": [
        {
          "output_type": "stream",
          "name": "stdout",
          "text": [
            "(212, 13) (91, 13) (212,) (91,)\n"
          ]
        }
      ]
    },
    {
      "cell_type": "markdown",
      "metadata": {
        "id": "oj_R7cCG2bEE"
      },
      "source": [
        "####1. Feature Normalization"
      ]
    },
    {
      "cell_type": "code",
      "metadata": {
        "id": "XIq7NgQp2bEV"
      },
      "source": [
        "#Normalizing the feature values to standard normal form\n",
        "train_X=(train_X-train_X.mean(axis=0))/train_X.std(axis=0)\n",
        "\n",
        "test_X=(test_X-test_X.mean(axis=0))/test_X.std(axis=0)"
      ],
      "execution_count": 233,
      "outputs": []
    },
    {
      "cell_type": "markdown",
      "metadata": {
        "id": "i1l2KUS2Eeb7"
      },
      "source": [
        "##### 2. Solution using Closed form formula\n"
      ]
    },
    {
      "cell_type": "code",
      "metadata": {
        "colab": {
          "base_uri": "https://localhost:8080/"
        },
        "id": "EIcoZQr2EecK",
        "outputId": "5b47138e-84cd-462f-d2c8-5783cf0d2e8c"
      },
      "source": [
        "from sklearn.metrics import mean_squared_error\n",
        "\n",
        "model=close_form()\n",
        "model.fit(train_X, train_Y)\n",
        "pred_Y=model.closed_form_predict(test_X)\n",
        "print(\"coefficientss obtained by Closed form : \\n\",model.theta[0:])\n",
        "pred_Y=np.where(pred_Y<0.5, 0, 1)\n",
        "print(\"MSE:\\t\",mean_squared_error(pred_Y,test_Y))"
      ],
      "execution_count": 234,
      "outputs": [
        {
          "output_type": "stream",
          "name": "stdout",
          "text": [
            "coefficientss obtained by Closed form : \n",
            " [[ 0.77830189]\n",
            " [ 0.00156335]\n",
            " [-0.05978163]\n",
            " [ 0.10530193]\n",
            " [-0.00089527]\n",
            " [-0.01001626]\n",
            " [ 0.00418203]\n",
            " [ 0.05348633]\n",
            " [ 0.02967404]\n",
            " [-0.0440587 ]\n",
            " [-0.10099706]\n",
            " [ 0.02159781]\n",
            " [-0.08104361]\n",
            " [-0.08020756]]\n",
            "MSE:\t 0.21978021978021978\n"
          ]
        }
      ]
    },
    {
      "cell_type": "markdown",
      "metadata": {
        "id": "971M-4WdE28h"
      },
      "source": [
        "##### 3. Solution using Gradient Descent"
      ]
    },
    {
      "cell_type": "code",
      "metadata": {
        "colab": {
          "base_uri": "https://localhost:8080/"
        },
        "id": "u5BNXd8ME28i",
        "outputId": "c6893f6e-a67f-4957-e9d2-201009f07bd0"
      },
      "source": [
        "grad_model=gradient_descent()\n",
        "grad_model.fit_to_grad(train_X, train_Y,0.01,100)\n",
        "\n",
        "print(\"\\nCoefficients \\n \",grad_model.thetas[:])\n",
        "\n",
        "y_pred=grad_model.predict(test_X)\n",
        "\n",
        "y_pred=np.where(y_pred<0.5, 0, 1)\n",
        "\n",
        "print(\"MSE:\\t\",mean_squared_error(y_pred,test_Y))"
      ],
      "execution_count": 236,
      "outputs": [
        {
          "output_type": "stream",
          "name": "stdout",
          "text": [
            "\n",
            "Coefficients \n",
            "  [[ 0.67289869]\n",
            " [-0.00802836]\n",
            " [-0.05853059]\n",
            " [ 0.09249324]\n",
            " [-0.0018128 ]\n",
            " [-0.00582628]\n",
            " [ 0.00966418]\n",
            " [ 0.0482989 ]\n",
            " [ 0.03146325]\n",
            " [-0.05208425]\n",
            " [-0.08566821]\n",
            " [ 0.03281486]\n",
            " [-0.0743661 ]\n",
            " [-0.08025119]]\n",
            "MSE:\t 0.16483516483516483\n"
          ]
        }
      ]
    },
    {
      "cell_type": "code",
      "metadata": {
        "id": "i-mEHGls2mYa"
      },
      "source": [
        ""
      ],
      "execution_count": null,
      "outputs": []
    },
    {
      "cell_type": "code",
      "metadata": {
        "id": "BRQRQbxI2mbv"
      },
      "source": [
        ""
      ],
      "execution_count": null,
      "outputs": []
    },
    {
      "cell_type": "code",
      "metadata": {
        "id": "UwbbTBaAzHEw"
      },
      "source": [
        ""
      ],
      "execution_count": null,
      "outputs": []
    }
  ]
}