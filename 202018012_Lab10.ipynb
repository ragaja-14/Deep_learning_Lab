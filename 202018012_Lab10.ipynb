{
  "nbformat": 4,
  "nbformat_minor": 0,
  "metadata": {
    "colab": {
      "name": "202018012_Lab10.ipynb",
      "provenance": [],
      "collapsed_sections": [],
      "toc_visible": true
    },
    "kernelspec": {
      "name": "python3",
      "display_name": "Python 3"
    },
    "language_info": {
      "name": "python"
    },
    "accelerator": "GPU"
  },
  "cells": [
    {
      "cell_type": "code",
      "metadata": {
        "id": "rEJaguGpAQ-s"
      },
      "source": [
        "import re\n",
        "import numpy as np\n",
        "import pandas as pd\n",
        "import matplotlib.pyplot as plt\n",
        "from sklearn.model_selection import train_test_split\n",
        "import tensorflow as tf\n",
        "from tensorflow.keras.layers import Input, Dense, LSTM, Embedding, Conv1D, BatchNormalization, MaxPooling2D,Dropout, GRU\n",
        "from tensorflow.keras.models import Model, save_model, load_model, Sequential\n",
        "from tensorflow.keras.utils import plot_model"
      ],
      "execution_count": 2,
      "outputs": []
    },
    {
      "cell_type": "markdown",
      "metadata": {
        "id": "a9qcQYKaXoOU"
      },
      "source": [
        "\n",
        "##TASK 1"
      ]
    },
    {
      "cell_type": "markdown",
      "metadata": {
        "id": "sjWan2laAWeW"
      },
      "source": [
        "###TASK 1.1"
      ]
    },
    {
      "cell_type": "code",
      "metadata": {
        "colab": {
          "base_uri": "https://localhost:8080/",
          "height": 423
        },
        "id": "wM81sZ-nASat",
        "outputId": "29dab280-f69f-4992-a0a9-493782438746"
      },
      "source": [
        "data1 = pd.read_csv('/content/daily-minimum-temperatures-in-me.csv')\n",
        "data1"
      ],
      "execution_count": null,
      "outputs": [
        {
          "output_type": "execute_result",
          "data": {
            "text/html": [
              "<div>\n",
              "<style scoped>\n",
              "    .dataframe tbody tr th:only-of-type {\n",
              "        vertical-align: middle;\n",
              "    }\n",
              "\n",
              "    .dataframe tbody tr th {\n",
              "        vertical-align: top;\n",
              "    }\n",
              "\n",
              "    .dataframe thead th {\n",
              "        text-align: right;\n",
              "    }\n",
              "</style>\n",
              "<table border=\"1\" class=\"dataframe\">\n",
              "  <thead>\n",
              "    <tr style=\"text-align: right;\">\n",
              "      <th></th>\n",
              "      <th>Date</th>\n",
              "      <th>Daily minimum temperatures</th>\n",
              "    </tr>\n",
              "  </thead>\n",
              "  <tbody>\n",
              "    <tr>\n",
              "      <th>0</th>\n",
              "      <td>1/1/1981</td>\n",
              "      <td>20.7</td>\n",
              "    </tr>\n",
              "    <tr>\n",
              "      <th>1</th>\n",
              "      <td>1/2/1981</td>\n",
              "      <td>17.9</td>\n",
              "    </tr>\n",
              "    <tr>\n",
              "      <th>2</th>\n",
              "      <td>1/3/1981</td>\n",
              "      <td>18.8</td>\n",
              "    </tr>\n",
              "    <tr>\n",
              "      <th>3</th>\n",
              "      <td>1/4/1981</td>\n",
              "      <td>14.6</td>\n",
              "    </tr>\n",
              "    <tr>\n",
              "      <th>4</th>\n",
              "      <td>1/5/1981</td>\n",
              "      <td>15.8</td>\n",
              "    </tr>\n",
              "    <tr>\n",
              "      <th>...</th>\n",
              "      <td>...</td>\n",
              "      <td>...</td>\n",
              "    </tr>\n",
              "    <tr>\n",
              "      <th>3645</th>\n",
              "      <td>12/27/1990</td>\n",
              "      <td>14</td>\n",
              "    </tr>\n",
              "    <tr>\n",
              "      <th>3646</th>\n",
              "      <td>12/28/1990</td>\n",
              "      <td>13.6</td>\n",
              "    </tr>\n",
              "    <tr>\n",
              "      <th>3647</th>\n",
              "      <td>12/29/1990</td>\n",
              "      <td>13.5</td>\n",
              "    </tr>\n",
              "    <tr>\n",
              "      <th>3648</th>\n",
              "      <td>12/30/1990</td>\n",
              "      <td>15.7</td>\n",
              "    </tr>\n",
              "    <tr>\n",
              "      <th>3649</th>\n",
              "      <td>12/31/1990</td>\n",
              "      <td>13</td>\n",
              "    </tr>\n",
              "  </tbody>\n",
              "</table>\n",
              "<p>3650 rows × 2 columns</p>\n",
              "</div>"
            ],
            "text/plain": [
              "            Date Daily minimum temperatures\n",
              "0       1/1/1981                       20.7\n",
              "1       1/2/1981                       17.9\n",
              "2       1/3/1981                       18.8\n",
              "3       1/4/1981                       14.6\n",
              "4       1/5/1981                       15.8\n",
              "...          ...                        ...\n",
              "3645  12/27/1990                         14\n",
              "3646  12/28/1990                       13.6\n",
              "3647  12/29/1990                       13.5\n",
              "3648  12/30/1990                       15.7\n",
              "3649  12/31/1990                         13\n",
              "\n",
              "[3650 rows x 2 columns]"
            ]
          },
          "metadata": {},
          "execution_count": 2
        }
      ]
    },
    {
      "cell_type": "code",
      "metadata": {
        "colab": {
          "base_uri": "https://localhost:8080/"
        },
        "id": "HJxE_UDzASdy",
        "outputId": "218ced51-ae19-496d-90f1-55a36e4c72f2"
      },
      "source": [
        "data1.isnull().sum()"
      ],
      "execution_count": null,
      "outputs": [
        {
          "output_type": "execute_result",
          "data": {
            "text/plain": [
              "Date                          0\n",
              "Daily minimum temperatures    0\n",
              "dtype: int64"
            ]
          },
          "metadata": {},
          "execution_count": 3
        }
      ]
    },
    {
      "cell_type": "code",
      "metadata": {
        "id": "OQKjgt2kCAEq"
      },
      "source": [
        "def new_feature_dataset(ip_data, prev_data_count=2):\n",
        "    new_data=[]\n",
        "    n=ip_data.shape[0]\n",
        "    i_range = n - prev_data_count - 1\n",
        "    \n",
        "    for i in range(0, i_range):\n",
        "        new_data.append(ip_data[i:(i+prev_data_count+1)]) \n",
        "        #Add the records upto the previous count value as features and current record as target\n",
        "    return np.array(new_data)"
      ],
      "execution_count": null,
      "outputs": []
    },
    {
      "cell_type": "markdown",
      "metadata": {
        "id": "kiKOZ3k12duF"
      },
      "source": [
        "**Here, considering 6 previous records as appropriate no of features for prediction of single current record as target.**"
      ]
    },
    {
      "cell_type": "code",
      "metadata": {
        "id": "17OlvQtYiRVt"
      },
      "source": [
        "prev_data_count=4\n",
        "#no of previous occuring recors to be used as features \n",
        "new_task1_data = new_feature_dataset(data1['Daily minimum temperatures'],prev_data_count)"
      ],
      "execution_count": null,
      "outputs": []
    },
    {
      "cell_type": "code",
      "metadata": {
        "colab": {
          "base_uri": "https://localhost:8080/"
        },
        "id": "5KjlAfd-RiPn",
        "outputId": "9a4ae70b-ec75-47b9-98ef-dfdac1b45e06"
      },
      "source": [
        "col_names=['feature_'+str(i+1) for i in range(0,prev_data_count)]\n",
        "col_names.append('Target')\n",
        "print(col_names)"
      ],
      "execution_count": null,
      "outputs": [
        {
          "output_type": "stream",
          "name": "stdout",
          "text": [
            "['feature_1', 'feature_2', 'feature_3', 'feature_4', 'Target']\n"
          ]
        }
      ]
    },
    {
      "cell_type": "code",
      "metadata": {
        "colab": {
          "base_uri": "https://localhost:8080/",
          "height": 206
        },
        "id": "3DUkTOEkRiTU",
        "outputId": "79e919bb-06f9-4d59-f961-9980b9bbdd7f"
      },
      "source": [
        "new_task1_data=pd.DataFrame(new_task1_data,columns=col_names)\n",
        "new_task1_data.head()"
      ],
      "execution_count": null,
      "outputs": [
        {
          "output_type": "execute_result",
          "data": {
            "text/html": [
              "<div>\n",
              "<style scoped>\n",
              "    .dataframe tbody tr th:only-of-type {\n",
              "        vertical-align: middle;\n",
              "    }\n",
              "\n",
              "    .dataframe tbody tr th {\n",
              "        vertical-align: top;\n",
              "    }\n",
              "\n",
              "    .dataframe thead th {\n",
              "        text-align: right;\n",
              "    }\n",
              "</style>\n",
              "<table border=\"1\" class=\"dataframe\">\n",
              "  <thead>\n",
              "    <tr style=\"text-align: right;\">\n",
              "      <th></th>\n",
              "      <th>feature_1</th>\n",
              "      <th>feature_2</th>\n",
              "      <th>feature_3</th>\n",
              "      <th>feature_4</th>\n",
              "      <th>Target</th>\n",
              "    </tr>\n",
              "  </thead>\n",
              "  <tbody>\n",
              "    <tr>\n",
              "      <th>0</th>\n",
              "      <td>20.7</td>\n",
              "      <td>17.9</td>\n",
              "      <td>18.8</td>\n",
              "      <td>14.6</td>\n",
              "      <td>15.8</td>\n",
              "    </tr>\n",
              "    <tr>\n",
              "      <th>1</th>\n",
              "      <td>17.9</td>\n",
              "      <td>18.8</td>\n",
              "      <td>14.6</td>\n",
              "      <td>15.8</td>\n",
              "      <td>15.8</td>\n",
              "    </tr>\n",
              "    <tr>\n",
              "      <th>2</th>\n",
              "      <td>18.8</td>\n",
              "      <td>14.6</td>\n",
              "      <td>15.8</td>\n",
              "      <td>15.8</td>\n",
              "      <td>15.8</td>\n",
              "    </tr>\n",
              "    <tr>\n",
              "      <th>3</th>\n",
              "      <td>14.6</td>\n",
              "      <td>15.8</td>\n",
              "      <td>15.8</td>\n",
              "      <td>15.8</td>\n",
              "      <td>17.4</td>\n",
              "    </tr>\n",
              "    <tr>\n",
              "      <th>4</th>\n",
              "      <td>15.8</td>\n",
              "      <td>15.8</td>\n",
              "      <td>15.8</td>\n",
              "      <td>17.4</td>\n",
              "      <td>21.8</td>\n",
              "    </tr>\n",
              "  </tbody>\n",
              "</table>\n",
              "</div>"
            ],
            "text/plain": [
              "  feature_1 feature_2 feature_3 feature_4 Target\n",
              "0      20.7      17.9      18.8      14.6   15.8\n",
              "1      17.9      18.8      14.6      15.8   15.8\n",
              "2      18.8      14.6      15.8      15.8   15.8\n",
              "3      14.6      15.8      15.8      15.8   17.4\n",
              "4      15.8      15.8      15.8      17.4   21.8"
            ]
          },
          "metadata": {},
          "execution_count": 61
        }
      ]
    },
    {
      "cell_type": "code",
      "metadata": {
        "colab": {
          "base_uri": "https://localhost:8080/"
        },
        "id": "6VrlwlZnD15K",
        "outputId": "b577f902-d72d-4b50-fa44-e02866a9ed7e"
      },
      "source": [
        "new_task1_data.dtypes"
      ],
      "execution_count": null,
      "outputs": [
        {
          "output_type": "execute_result",
          "data": {
            "text/plain": [
              "feature_1    object\n",
              "feature_2    object\n",
              "feature_3    object\n",
              "feature_4    object\n",
              "Target       object\n",
              "dtype: object"
            ]
          },
          "metadata": {},
          "execution_count": 62
        }
      ]
    },
    {
      "cell_type": "code",
      "metadata": {
        "id": "wO_TzJhqD5EJ"
      },
      "source": [
        "for i in new_task1_data.columns:\n",
        "  new_task1_data[i]=pd.to_numeric(new_task1_data[i], errors='coerce')"
      ],
      "execution_count": null,
      "outputs": []
    },
    {
      "cell_type": "code",
      "metadata": {
        "colab": {
          "base_uri": "https://localhost:8080/"
        },
        "id": "ALBy-JMqEVC8",
        "outputId": "30d3dd90-a5e6-4abe-9cfa-66730b433ff9"
      },
      "source": [
        "new_task1_data.dtypes"
      ],
      "execution_count": null,
      "outputs": [
        {
          "output_type": "execute_result",
          "data": {
            "text/plain": [
              "feature_1    float64\n",
              "feature_2    float64\n",
              "feature_3    float64\n",
              "feature_4    float64\n",
              "Target       float64\n",
              "dtype: object"
            ]
          },
          "metadata": {},
          "execution_count": 64
        }
      ]
    },
    {
      "cell_type": "code",
      "metadata": {
        "id": "hR8UbzgIEppE"
      },
      "source": [
        "new_task1_data=new_task1_data.fillna(0)"
      ],
      "execution_count": null,
      "outputs": []
    },
    {
      "cell_type": "code",
      "metadata": {
        "id": "CrSmYdfw_oSB"
      },
      "source": [
        "X = new_task1_data.drop('Target',axis=1)\n",
        "y = new_task1_data['Target']\n"
      ],
      "execution_count": null,
      "outputs": []
    },
    {
      "cell_type": "markdown",
      "metadata": {
        "id": "O68T5LMI_oSA"
      },
      "source": [
        "####Splitting the data in 80:20 ratio for training and testing of the model."
      ]
    },
    {
      "cell_type": "code",
      "metadata": {
        "id": "Zd2zAh28_W3S"
      },
      "source": [
        "from sklearn.model_selection import train_test_split\n",
        "X_train, X_test, y_train, y_test = train_test_split(X,y,test_size=0.2,random_state=2)"
      ],
      "execution_count": null,
      "outputs": []
    },
    {
      "cell_type": "code",
      "metadata": {
        "colab": {
          "base_uri": "https://localhost:8080/",
          "height": 206
        },
        "id": "klUuX7GeAv_d",
        "outputId": "8a03e6af-1333-45a7-87ff-d54673cc9cc6"
      },
      "source": [
        "X_train.head()"
      ],
      "execution_count": null,
      "outputs": [
        {
          "output_type": "execute_result",
          "data": {
            "text/html": [
              "<div>\n",
              "<style scoped>\n",
              "    .dataframe tbody tr th:only-of-type {\n",
              "        vertical-align: middle;\n",
              "    }\n",
              "\n",
              "    .dataframe tbody tr th {\n",
              "        vertical-align: top;\n",
              "    }\n",
              "\n",
              "    .dataframe thead th {\n",
              "        text-align: right;\n",
              "    }\n",
              "</style>\n",
              "<table border=\"1\" class=\"dataframe\">\n",
              "  <thead>\n",
              "    <tr style=\"text-align: right;\">\n",
              "      <th></th>\n",
              "      <th>feature_1</th>\n",
              "      <th>feature_2</th>\n",
              "      <th>feature_3</th>\n",
              "      <th>feature_4</th>\n",
              "    </tr>\n",
              "  </thead>\n",
              "  <tbody>\n",
              "    <tr>\n",
              "      <th>514</th>\n",
              "      <td>11.5</td>\n",
              "      <td>7.0</td>\n",
              "      <td>7.1</td>\n",
              "      <td>9.0</td>\n",
              "    </tr>\n",
              "    <tr>\n",
              "      <th>1962</th>\n",
              "      <td>10.9</td>\n",
              "      <td>12.0</td>\n",
              "      <td>12.1</td>\n",
              "      <td>10.4</td>\n",
              "    </tr>\n",
              "    <tr>\n",
              "      <th>3010</th>\n",
              "      <td>13.3</td>\n",
              "      <td>15.1</td>\n",
              "      <td>14.2</td>\n",
              "      <td>14.2</td>\n",
              "    </tr>\n",
              "    <tr>\n",
              "      <th>221</th>\n",
              "      <td>5.2</td>\n",
              "      <td>3.0</td>\n",
              "      <td>5.6</td>\n",
              "      <td>7.9</td>\n",
              "    </tr>\n",
              "    <tr>\n",
              "      <th>3416</th>\n",
              "      <td>12.3</td>\n",
              "      <td>11.1</td>\n",
              "      <td>10.2</td>\n",
              "      <td>9.5</td>\n",
              "    </tr>\n",
              "  </tbody>\n",
              "</table>\n",
              "</div>"
            ],
            "text/plain": [
              "      feature_1  feature_2  feature_3  feature_4\n",
              "514        11.5        7.0        7.1        9.0\n",
              "1962       10.9       12.0       12.1       10.4\n",
              "3010       13.3       15.1       14.2       14.2\n",
              "221         5.2        3.0        5.6        7.9\n",
              "3416       12.3       11.1       10.2        9.5"
            ]
          },
          "metadata": {},
          "execution_count": 68
        }
      ]
    },
    {
      "cell_type": "markdown",
      "metadata": {
        "id": "GlYCwQkV_oSB"
      },
      "source": [
        "####Normalizing data"
      ]
    },
    {
      "cell_type": "code",
      "metadata": {
        "id": "roCXWw-0_oSC"
      },
      "source": [
        "X_train=(X_train-X_train.mean())/X_train.std()\n",
        "X_test = (X_test-X_train.mean())/X_train.std()\n",
        "y_train=(y_train-y_train.mean())/y_train.std()\n",
        "y_test = (y_test-y_train.mean())/y_train.std()\n"
      ],
      "execution_count": null,
      "outputs": []
    },
    {
      "cell_type": "markdown",
      "metadata": {
        "id": "Rt0-1XmTAfTf"
      },
      "source": [
        "####LSTM"
      ]
    },
    {
      "cell_type": "code",
      "metadata": {
        "colab": {
          "base_uri": "https://localhost:8080/"
        },
        "id": "645DIqrbASjm",
        "outputId": "9daa4f74-398a-4478-a08e-264a9054c320"
      },
      "source": [
        "inp = Input(shape=[None,1])\n",
        "x = Conv1D(filters=64, kernel_size=5,strides=1, padding=\"causal\",activation=\"relu\")(inp)\n",
        "x = LSTM(64, return_sequences=True)(x)\n",
        "x = LSTM(64, return_sequences=True)(x)\n",
        "x = Dense(40, activation=\"relu\")(x)\n",
        "x = Dropout(0.2)(x)\n",
        "out = Dense(1, activation='linear')(x)\n",
        "\n",
        "model = Model(inputs=inp,outputs=out)\n",
        "model.summary()"
      ],
      "execution_count": null,
      "outputs": [
        {
          "output_type": "stream",
          "name": "stdout",
          "text": [
            "Model: \"model_14\"\n",
            "_________________________________________________________________\n",
            " Layer (type)                Output Shape              Param #   \n",
            "=================================================================\n",
            " input_16 (InputLayer)       [(None, None, 1)]         0         \n",
            "                                                                 \n",
            " conv1d_15 (Conv1D)          (None, None, 64)          384       \n",
            "                                                                 \n",
            " lstm_30 (LSTM)              (None, None, 64)          33024     \n",
            "                                                                 \n",
            " lstm_31 (LSTM)              (None, None, 64)          33024     \n",
            "                                                                 \n",
            " dense_30 (Dense)            (None, None, 40)          2600      \n",
            "                                                                 \n",
            " dropout_2 (Dropout)         (None, None, 40)          0         \n",
            "                                                                 \n",
            " dense_31 (Dense)            (None, None, 1)           41        \n",
            "                                                                 \n",
            "=================================================================\n",
            "Total params: 69,073\n",
            "Trainable params: 69,073\n",
            "Non-trainable params: 0\n",
            "_________________________________________________________________\n"
          ]
        }
      ]
    },
    {
      "cell_type": "code",
      "metadata": {
        "colab": {
          "base_uri": "https://localhost:8080/",
          "height": 661
        },
        "id": "iAQfzraGASmb",
        "outputId": "bd8a6692-cb1e-49f8-da8b-f48c374ecf06"
      },
      "source": [
        "plot_model(model,'model1_lstm.png')"
      ],
      "execution_count": null,
      "outputs": [
        {
          "output_type": "execute_result",
          "data": {
            "image/png": "[encoded data removed]",
            "text/plain": [
              "<IPython.core.display.Image object>"
            ]
          },
          "metadata": {},
          "execution_count": 110
        }
      ]
    },
    {
      "cell_type": "markdown",
      "metadata": {
        "id": "YsjVPO-ftXni"
      },
      "source": [
        "**Training**"
      ]
    },
    {
      "cell_type": "code",
      "metadata": {
        "id": "KfHdHCR8s1uR"
      },
      "source": [
        "model.compile(optimizer='adam',loss='mse')"
      ],
      "execution_count": null,
      "outputs": []
    },
    {
      "cell_type": "code",
      "metadata": {
        "colab": {
          "base_uri": "https://localhost:8080/"
        },
        "id": "GVRwQDe7tfK0",
        "outputId": "59840366-3fef-4594-a26c-1359f1e2def3"
      },
      "source": [
        "h1=model.fit(X_train,y_train.values,epochs=15,validation_split=0.1)"
      ],
      "execution_count": null,
      "outputs": [
        {
          "output_type": "stream",
          "name": "stdout",
          "text": [
            "Epoch 1/15\n",
            "82/82 [==============================] - 4s 24ms/step - loss: 1.0094 - val_loss: 0.9140\n",
            "Epoch 2/15\n",
            "82/82 [==============================] - 1s 9ms/step - loss: 1.0091 - val_loss: 0.9138\n",
            "Epoch 3/15\n",
            "82/82 [==============================] - 1s 10ms/step - loss: 1.0092 - val_loss: 0.9139\n",
            "Epoch 4/15\n",
            "82/82 [==============================] - 1s 9ms/step - loss: 1.0091 - val_loss: 0.9138\n",
            "Epoch 5/15\n",
            "82/82 [==============================] - 1s 10ms/step - loss: 1.0092 - val_loss: 0.9138\n",
            "Epoch 6/15\n",
            "82/82 [==============================] - 1s 10ms/step - loss: 1.0093 - val_loss: 0.9139\n",
            "Epoch 7/15\n",
            "82/82 [==============================] - 1s 10ms/step - loss: 1.0093 - val_loss: 0.9139\n",
            "Epoch 8/15\n",
            "82/82 [==============================] - 1s 9ms/step - loss: 1.0092 - val_loss: 0.9139\n",
            "Epoch 9/15\n",
            "82/82 [==============================] - 1s 9ms/step - loss: 1.0091 - val_loss: 0.9139\n",
            "Epoch 10/15\n",
            "82/82 [==============================] - 1s 9ms/step - loss: 1.0090 - val_loss: 0.9138\n",
            "Epoch 11/15\n",
            "82/82 [==============================] - 1s 10ms/step - loss: 1.0090 - val_loss: 0.9138\n",
            "Epoch 12/15\n",
            "82/82 [==============================] - 1s 9ms/step - loss: 1.0092 - val_loss: 0.9139\n",
            "Epoch 13/15\n",
            "82/82 [==============================] - 1s 9ms/step - loss: 1.0092 - val_loss: 0.9139\n",
            "Epoch 14/15\n",
            "82/82 [==============================] - 1s 10ms/step - loss: 1.0089 - val_loss: 0.9137\n",
            "Epoch 15/15\n",
            "82/82 [==============================] - 1s 11ms/step - loss: 1.0090 - val_loss: 0.9137\n"
          ]
        }
      ]
    },
    {
      "cell_type": "code",
      "metadata": {
        "colab": {
          "base_uri": "https://localhost:8080/",
          "height": 283
        },
        "id": "rn-H_MZpASpV",
        "outputId": "cf00e0f5-b890-4b7b-f367-a826d1e19243"
      },
      "source": [
        "plt.plot(h1.history['loss'])\n",
        "plt.plot(h1.history['val_loss'])\n",
        "plt.ylim(0.2,1.2)\n",
        "plt.xlabel('epoch')\n",
        "plt.legend(['train', 'val'], loc='lower left')\n",
        "plt.show()"
      ],
      "execution_count": null,
      "outputs": [
        {
          "output_type": "display_data",
          "data": {
            "image/png": "[encoded data removed]",
            "text/plain": [
              "<Figure size 432x288 with 1 Axes>"
            ]
          },
          "metadata": {
            "needs_background": "light"
          }
        }
      ]
    },
    {
      "cell_type": "markdown",
      "metadata": {
        "id": "18Mht-rLAipy"
      },
      "source": [
        "####GRU"
      ]
    },
    {
      "cell_type": "code",
      "metadata": {
        "colab": {
          "base_uri": "https://localhost:8080/"
        },
        "id": "S6Hqirm3JEjT",
        "outputId": "6b9572a0-1f3c-4351-bf95-b34762a716d1"
      },
      "source": [
        "inp = Input(shape=[None,1])\n",
        "x = Conv1D(filters=64, kernel_size=5,strides=1, padding=\"causal\",activation=\"relu\")(inp)\n",
        "x = GRU(64, return_sequences=True)(x)\n",
        "x = Dense(20, activation=\"relu\")(x)\n",
        "out = Dense(1, activation='linear')(x)\n",
        "\n",
        "model = Model(inputs=inp,outputs=out)\n",
        "model.summary()"
      ],
      "execution_count": null,
      "outputs": [
        {
          "output_type": "stream",
          "name": "stdout",
          "text": [
            "Model: \"model_16\"\n",
            "_________________________________________________________________\n",
            " Layer (type)                Output Shape              Param #   \n",
            "=================================================================\n",
            " input_18 (InputLayer)       [(None, None, 1)]         0         \n",
            "                                                                 \n",
            " conv1d_17 (Conv1D)          (None, None, 64)          384       \n",
            "                                                                 \n",
            " gru_2 (GRU)                 (None, None, 64)          24960     \n",
            "                                                                 \n",
            " dense_34 (Dense)            (None, None, 20)          1300      \n",
            "                                                                 \n",
            " dense_35 (Dense)            (None, None, 1)           21        \n",
            "                                                                 \n",
            "=================================================================\n",
            "Total params: 26,665\n",
            "Trainable params: 26,665\n",
            "Non-trainable params: 0\n",
            "_________________________________________________________________\n"
          ]
        }
      ]
    },
    {
      "cell_type": "code",
      "metadata": {
        "colab": {
          "base_uri": "https://localhost:8080/",
          "height": 466
        },
        "id": "hXMTvoIVJEjU",
        "outputId": "1b2b2889-b2ae-4faf-a8d7-c789c9d07037"
      },
      "source": [
        "plot_model(model,'model1_gru.png')"
      ],
      "execution_count": null,
      "outputs": [
        {
          "output_type": "execute_result",
          "data": {
            "image/png": "[encoded data removed]",
            "text/plain": [
              "<IPython.core.display.Image object>"
            ]
          },
          "metadata": {},
          "execution_count": 138
        }
      ]
    },
    {
      "cell_type": "markdown",
      "metadata": {
        "id": "3RhykzzDJEjU"
      },
      "source": [
        "**Training**"
      ]
    },
    {
      "cell_type": "code",
      "metadata": {
        "id": "InEwMFQcJEjU"
      },
      "source": [
        "model.compile(optimizer='adam',loss='mse')"
      ],
      "execution_count": null,
      "outputs": []
    },
    {
      "cell_type": "code",
      "metadata": {
        "colab": {
          "base_uri": "https://localhost:8080/"
        },
        "id": "Dc_rS9PnJEjU",
        "outputId": "5493b7a8-6b93-4f5d-b957-0fb076844e7b"
      },
      "source": [
        "h1=model.fit(X_train,y_train.values,epochs=15,validation_split=0.1)"
      ],
      "execution_count": null,
      "outputs": [
        {
          "output_type": "stream",
          "name": "stdout",
          "text": [
            "Epoch 1/15\n",
            "82/82 [==============================] - 3s 13ms/step - loss: 1.0115 - val_loss: 0.9139\n",
            "Epoch 2/15\n",
            "82/82 [==============================] - 1s 7ms/step - loss: 1.0099 - val_loss: 0.9143\n",
            "Epoch 3/15\n",
            "82/82 [==============================] - 1s 6ms/step - loss: 1.0099 - val_loss: 0.9141\n",
            "Epoch 4/15\n",
            "82/82 [==============================] - 1s 7ms/step - loss: 1.0093 - val_loss: 0.9143\n",
            "Epoch 5/15\n",
            "82/82 [==============================] - 1s 7ms/step - loss: 1.0093 - val_loss: 0.9139\n",
            "Epoch 6/15\n",
            "82/82 [==============================] - 1s 6ms/step - loss: 1.0093 - val_loss: 0.9140\n",
            "Epoch 7/15\n",
            "82/82 [==============================] - 0s 6ms/step - loss: 1.0092 - val_loss: 0.9140\n",
            "Epoch 8/15\n",
            "82/82 [==============================] - 1s 6ms/step - loss: 1.0093 - val_loss: 0.9143\n",
            "Epoch 9/15\n",
            "82/82 [==============================] - 0s 5ms/step - loss: 1.0094 - val_loss: 0.9143\n",
            "Epoch 10/15\n",
            "82/82 [==============================] - 1s 6ms/step - loss: 1.0092 - val_loss: 0.9140\n",
            "Epoch 11/15\n",
            "82/82 [==============================] - 0s 6ms/step - loss: 1.0096 - val_loss: 0.9138\n",
            "Epoch 12/15\n",
            "82/82 [==============================] - 1s 6ms/step - loss: 1.0092 - val_loss: 0.9141\n",
            "Epoch 13/15\n",
            "82/82 [==============================] - 0s 6ms/step - loss: 1.0091 - val_loss: 0.9137\n",
            "Epoch 14/15\n",
            "82/82 [==============================] - 1s 6ms/step - loss: 1.0093 - val_loss: 0.9138\n",
            "Epoch 15/15\n",
            "82/82 [==============================] - 1s 7ms/step - loss: 1.0093 - val_loss: 0.9139\n"
          ]
        }
      ]
    },
    {
      "cell_type": "code",
      "metadata": {
        "colab": {
          "base_uri": "https://localhost:8080/",
          "height": 283
        },
        "id": "zSIcT1J1JEjU",
        "outputId": "06d9c837-d191-4681-c292-d80e44fd60b7"
      },
      "source": [
        "plt.plot(h1.history['loss'])\n",
        "plt.plot(h1.history['val_loss'])\n",
        "plt.ylim(0.2,1.2)\n",
        "plt.xlabel('epoch')\n",
        "plt.legend(['train', 'val'], loc='lower left')\n",
        "plt.show()"
      ],
      "execution_count": null,
      "outputs": [
        {
          "output_type": "display_data",
          "data": {
            "image/png": "[encoded data removed]",
            "text/plain": [
              "<Figure size 432x288 with 1 Axes>"
            ]
          },
          "metadata": {
            "needs_background": "light"
          }
        }
      ]
    },
    {
      "cell_type": "markdown",
      "metadata": {
        "id": "MTTIJrJ-Ac-z"
      },
      "source": [
        "###TASK 1.2"
      ]
    },
    {
      "cell_type": "code",
      "metadata": {
        "colab": {
          "base_uri": "https://localhost:8080/",
          "height": 206
        },
        "id": "pJmvFXBdRiMm",
        "outputId": "d8d0ad22-fdda-4a33-8d0c-7848ad6c2f70"
      },
      "source": [
        "task2_dt=pd.read_csv('/content/Electric_Production.csv',)\n",
        "\n",
        "task2_dt.head()"
      ],
      "execution_count": null,
      "outputs": [
        {
          "output_type": "execute_result",
          "data": {
            "text/html": [
              "<div>\n",
              "<style scoped>\n",
              "    .dataframe tbody tr th:only-of-type {\n",
              "        vertical-align: middle;\n",
              "    }\n",
              "\n",
              "    .dataframe tbody tr th {\n",
              "        vertical-align: top;\n",
              "    }\n",
              "\n",
              "    .dataframe thead th {\n",
              "        text-align: right;\n",
              "    }\n",
              "</style>\n",
              "<table border=\"1\" class=\"dataframe\">\n",
              "  <thead>\n",
              "    <tr style=\"text-align: right;\">\n",
              "      <th></th>\n",
              "      <th>DATE</th>\n",
              "      <th>IPG2211A2N</th>\n",
              "    </tr>\n",
              "  </thead>\n",
              "  <tbody>\n",
              "    <tr>\n",
              "      <th>0</th>\n",
              "      <td>1/1/1985</td>\n",
              "      <td>72.5052</td>\n",
              "    </tr>\n",
              "    <tr>\n",
              "      <th>1</th>\n",
              "      <td>2/1/1985</td>\n",
              "      <td>70.6720</td>\n",
              "    </tr>\n",
              "    <tr>\n",
              "      <th>2</th>\n",
              "      <td>3/1/1985</td>\n",
              "      <td>62.4502</td>\n",
              "    </tr>\n",
              "    <tr>\n",
              "      <th>3</th>\n",
              "      <td>4/1/1985</td>\n",
              "      <td>57.4714</td>\n",
              "    </tr>\n",
              "    <tr>\n",
              "      <th>4</th>\n",
              "      <td>5/1/1985</td>\n",
              "      <td>55.3151</td>\n",
              "    </tr>\n",
              "  </tbody>\n",
              "</table>\n",
              "</div>"
            ],
            "text/plain": [
              "       DATE  IPG2211A2N\n",
              "0  1/1/1985     72.5052\n",
              "1  2/1/1985     70.6720\n",
              "2  3/1/1985     62.4502\n",
              "3  4/1/1985     57.4714\n",
              "4  5/1/1985     55.3151"
            ]
          },
          "metadata": {},
          "execution_count": 142
        }
      ]
    },
    {
      "cell_type": "code",
      "metadata": {
        "colab": {
          "base_uri": "https://localhost:8080/"
        },
        "id": "fV22aOM_iRSO",
        "outputId": "0b4f77c1-c0bf-4848-c056-ccc864a8ee92"
      },
      "source": [
        "task2_dt.dtypes"
      ],
      "execution_count": null,
      "outputs": [
        {
          "output_type": "execute_result",
          "data": {
            "text/plain": [
              "DATE           object\n",
              "IPG2211A2N    float64\n",
              "dtype: object"
            ]
          },
          "metadata": {},
          "execution_count": 143
        }
      ]
    },
    {
      "cell_type": "code",
      "metadata": {
        "id": "8pcuYFpvMKvC"
      },
      "source": [
        "prev_data_count=6\n",
        "\n",
        "new_task2_data = new_feature_dataset(task2_dt['IPG2211A2N'],prev_data_count)"
      ],
      "execution_count": null,
      "outputs": []
    },
    {
      "cell_type": "code",
      "metadata": {
        "colab": {
          "base_uri": "https://localhost:8080/"
        },
        "id": "n8tr3b-nMKvC",
        "outputId": "9616f76c-4be7-4a2a-dc7d-26d07fc8b04d"
      },
      "source": [
        "col_names=['feature_'+str(i+1) for i in range(0,prev_data_count)]\n",
        "col_names.append('Target')\n",
        "print(col_names)"
      ],
      "execution_count": null,
      "outputs": [
        {
          "output_type": "stream",
          "name": "stdout",
          "text": [
            "['feature_1', 'feature_2', 'feature_3', 'feature_4', 'feature_5', 'feature_6', 'Target']\n"
          ]
        }
      ]
    },
    {
      "cell_type": "code",
      "metadata": {
        "colab": {
          "base_uri": "https://localhost:8080/",
          "height": 206
        },
        "id": "9RHMh7nLMKvC",
        "outputId": "c1556a23-1997-4a21-c77a-d76ece462efd"
      },
      "source": [
        "new_task2_data=pd.DataFrame(new_task2_data,columns=col_names)\n",
        "new_task2_data.head()"
      ],
      "execution_count": null,
      "outputs": [
        {
          "output_type": "execute_result",
          "data": {
            "text/html": [
              "<div>\n",
              "<style scoped>\n",
              "    .dataframe tbody tr th:only-of-type {\n",
              "        vertical-align: middle;\n",
              "    }\n",
              "\n",
              "    .dataframe tbody tr th {\n",
              "        vertical-align: top;\n",
              "    }\n",
              "\n",
              "    .dataframe thead th {\n",
              "        text-align: right;\n",
              "    }\n",
              "</style>\n",
              "<table border=\"1\" class=\"dataframe\">\n",
              "  <thead>\n",
              "    <tr style=\"text-align: right;\">\n",
              "      <th></th>\n",
              "      <th>feature_1</th>\n",
              "      <th>feature_2</th>\n",
              "      <th>feature_3</th>\n",
              "      <th>feature_4</th>\n",
              "      <th>feature_5</th>\n",
              "      <th>feature_6</th>\n",
              "      <th>Target</th>\n",
              "    </tr>\n",
              "  </thead>\n",
              "  <tbody>\n",
              "    <tr>\n",
              "      <th>0</th>\n",
              "      <td>72.5052</td>\n",
              "      <td>70.6720</td>\n",
              "      <td>62.4502</td>\n",
              "      <td>57.4714</td>\n",
              "      <td>55.3151</td>\n",
              "      <td>58.0904</td>\n",
              "      <td>62.6202</td>\n",
              "    </tr>\n",
              "    <tr>\n",
              "      <th>1</th>\n",
              "      <td>70.6720</td>\n",
              "      <td>62.4502</td>\n",
              "      <td>57.4714</td>\n",
              "      <td>55.3151</td>\n",
              "      <td>58.0904</td>\n",
              "      <td>62.6202</td>\n",
              "      <td>63.2485</td>\n",
              "    </tr>\n",
              "    <tr>\n",
              "      <th>2</th>\n",
              "      <td>62.4502</td>\n",
              "      <td>57.4714</td>\n",
              "      <td>55.3151</td>\n",
              "      <td>58.0904</td>\n",
              "      <td>62.6202</td>\n",
              "      <td>63.2485</td>\n",
              "      <td>60.5846</td>\n",
              "    </tr>\n",
              "    <tr>\n",
              "      <th>3</th>\n",
              "      <td>57.4714</td>\n",
              "      <td>55.3151</td>\n",
              "      <td>58.0904</td>\n",
              "      <td>62.6202</td>\n",
              "      <td>63.2485</td>\n",
              "      <td>60.5846</td>\n",
              "      <td>56.3154</td>\n",
              "    </tr>\n",
              "    <tr>\n",
              "      <th>4</th>\n",
              "      <td>55.3151</td>\n",
              "      <td>58.0904</td>\n",
              "      <td>62.6202</td>\n",
              "      <td>63.2485</td>\n",
              "      <td>60.5846</td>\n",
              "      <td>56.3154</td>\n",
              "      <td>58.0005</td>\n",
              "    </tr>\n",
              "  </tbody>\n",
              "</table>\n",
              "</div>"
            ],
            "text/plain": [
              "   feature_1  feature_2  feature_3  feature_4  feature_5  feature_6   Target\n",
              "0    72.5052    70.6720    62.4502    57.4714    55.3151    58.0904  62.6202\n",
              "1    70.6720    62.4502    57.4714    55.3151    58.0904    62.6202  63.2485\n",
              "2    62.4502    57.4714    55.3151    58.0904    62.6202    63.2485  60.5846\n",
              "3    57.4714    55.3151    58.0904    62.6202    63.2485    60.5846  56.3154\n",
              "4    55.3151    58.0904    62.6202    63.2485    60.5846    56.3154  58.0005"
            ]
          },
          "metadata": {},
          "execution_count": 146
        }
      ]
    },
    {
      "cell_type": "code",
      "metadata": {
        "id": "wY02HbUkMKvC"
      },
      "source": [
        "X = new_task2_data.drop('Target',axis=1)\n",
        "y = new_task2_data['Target']\n"
      ],
      "execution_count": null,
      "outputs": []
    },
    {
      "cell_type": "markdown",
      "metadata": {
        "id": "fzXyJd9iMKvC"
      },
      "source": [
        "####Splitting the data in 80:20 ratio for training and testing of the model."
      ]
    },
    {
      "cell_type": "code",
      "metadata": {
        "id": "wlY3oGqDMKvC"
      },
      "source": [
        "from sklearn.model_selection import train_test_split\n",
        "X_train, X_test, y_train, y_test = train_test_split(X,y,test_size=0.2,random_state=2)"
      ],
      "execution_count": null,
      "outputs": []
    },
    {
      "cell_type": "markdown",
      "metadata": {
        "id": "1L_Tp2Y5MTEr"
      },
      "source": [
        "####Normalizing data"
      ]
    },
    {
      "cell_type": "code",
      "metadata": {
        "id": "PcoxoJpCMTEs"
      },
      "source": [
        "X_train=(X_train-X_train.mean())/X_train.std()\n",
        "X_test = (X_test-X_train.mean())/X_train.std()\n",
        "\n"
      ],
      "execution_count": null,
      "outputs": []
    },
    {
      "cell_type": "markdown",
      "metadata": {
        "id": "83cu31KqAp05"
      },
      "source": [
        "####LSTM"
      ]
    },
    {
      "cell_type": "code",
      "metadata": {
        "colab": {
          "base_uri": "https://localhost:8080/"
        },
        "id": "cc6GTPwrMb83",
        "outputId": "e7428267-e43f-4aca-a4bd-12e57efc87a4"
      },
      "source": [
        "inp = Input(shape=[None,1])\n",
        "x = Conv1D(filters=64, kernel_size=5,strides=1, padding=\"causal\",activation=\"relu\")(inp)\n",
        "x = LSTM(64, return_sequences=True)(x)\n",
        "x = LSTM(32, return_sequences=True)(x)\n",
        "x = Dense(40, activation=\"relu\")(x)\n",
        "x = Dense(10, activation=\"relu\")(x)\n",
        "out = Dense(1, activation='linear')(x)\n",
        "\n",
        "model2 = Model(inputs=inp,outputs=out)\n",
        "model2.summary()"
      ],
      "execution_count": null,
      "outputs": [
        {
          "output_type": "stream",
          "name": "stdout",
          "text": [
            "Model: \"model_30\"\n",
            "_________________________________________________________________\n",
            " Layer (type)                Output Shape              Param #   \n",
            "=================================================================\n",
            " input_32 (InputLayer)       [(None, None, 1)]         0         \n",
            "                                                                 \n",
            " conv1d_31 (Conv1D)          (None, None, 64)          384       \n",
            "                                                                 \n",
            " lstm_46 (LSTM)              (None, None, 64)          33024     \n",
            "                                                                 \n",
            " lstm_47 (LSTM)              (None, None, 32)          12416     \n",
            "                                                                 \n",
            " dense_69 (Dense)            (None, None, 40)          1320      \n",
            "                                                                 \n",
            " dense_70 (Dense)            (None, None, 10)          410       \n",
            "                                                                 \n",
            " dense_71 (Dense)            (None, None, 1)           11        \n",
            "                                                                 \n",
            "=================================================================\n",
            "Total params: 47,565\n",
            "Trainable params: 47,565\n",
            "Non-trainable params: 0\n",
            "_________________________________________________________________\n"
          ]
        }
      ]
    },
    {
      "cell_type": "code",
      "metadata": {
        "colab": {
          "base_uri": "https://localhost:8080/",
          "height": 661
        },
        "id": "8mYdlk6uMb84",
        "outputId": "88247b71-315a-4dda-ed29-b1dcb3358bc3"
      },
      "source": [
        "plot_model(model2,'model1_lstm.png')"
      ],
      "execution_count": null,
      "outputs": [
        {
          "output_type": "execute_result",
          "data": {
            "image/png": "[encoded data removed]",
            "text/plain": [
              "<IPython.core.display.Image object>"
            ]
          },
          "metadata": {},
          "execution_count": 242
        }
      ]
    },
    {
      "cell_type": "markdown",
      "metadata": {
        "id": "mK8WDe2WMb84"
      },
      "source": [
        "**Training**"
      ]
    },
    {
      "cell_type": "code",
      "metadata": {
        "id": "j7IpPA0PMb84"
      },
      "source": [
        "model2.compile(optimizer='adam',loss='mse')"
      ],
      "execution_count": null,
      "outputs": []
    },
    {
      "cell_type": "code",
      "metadata": {
        "colab": {
          "base_uri": "https://localhost:8080/"
        },
        "id": "Tyj2V5NnMb84",
        "outputId": "0518bbc3-06dd-44a1-cf7c-dd6884c3213b"
      },
      "source": [
        "h2=model2.fit(X_train,y_train.values,epochs=30,validation_split=0.1)"
      ],
      "execution_count": null,
      "outputs": [
        {
          "output_type": "stream",
          "name": "stdout",
          "text": [
            "Epoch 1/30\n",
            "9/9 [==============================] - 6s 158ms/step - loss: 8185.9590 - val_loss: 7950.5132\n",
            "Epoch 2/30\n",
            "9/9 [==============================] - 0s 17ms/step - loss: 8144.4194 - val_loss: 7873.4219\n",
            "Epoch 3/30\n",
            "9/9 [==============================] - 0s 14ms/step - loss: 8013.0171 - val_loss: 7631.0044\n",
            "Epoch 4/30\n",
            "9/9 [==============================] - 0s 16ms/step - loss: 7661.1016 - val_loss: 7144.8120\n",
            "Epoch 5/30\n",
            "9/9 [==============================] - 0s 16ms/step - loss: 7098.3267 - val_loss: 6517.5410\n",
            "Epoch 6/30\n",
            "9/9 [==============================] - 0s 15ms/step - loss: 6429.6816 - val_loss: 5817.9351\n",
            "Epoch 7/30\n",
            "9/9 [==============================] - 0s 15ms/step - loss: 5680.3730 - val_loss: 5046.6270\n",
            "Epoch 8/30\n",
            "9/9 [==============================] - 0s 14ms/step - loss: 4873.4458 - val_loss: 4240.3159\n",
            "Epoch 9/30\n",
            "9/9 [==============================] - 0s 15ms/step - loss: 4043.9148 - val_loss: 3431.7217\n",
            "Epoch 10/30\n",
            "9/9 [==============================] - 0s 17ms/step - loss: 3229.3621 - val_loss: 2660.3010\n",
            "Epoch 11/30\n",
            "9/9 [==============================] - 0s 17ms/step - loss: 2460.9612 - val_loss: 1972.5176\n",
            "Epoch 12/30\n",
            "9/9 [==============================] - 0s 17ms/step - loss: 1797.5067 - val_loss: 1396.2572\n",
            "Epoch 13/30\n",
            "9/9 [==============================] - 0s 15ms/step - loss: 1248.5094 - val_loss: 958.0369\n",
            "Epoch 14/30\n",
            "9/9 [==============================] - 0s 15ms/step - loss: 844.9562 - val_loss: 656.1930\n",
            "Epoch 15/30\n",
            "9/9 [==============================] - 0s 15ms/step - loss: 571.9224 - val_loss: 475.9596\n",
            "Epoch 16/30\n",
            "9/9 [==============================] - 0s 18ms/step - loss: 419.0896 - val_loss: 385.1090\n",
            "Epoch 17/30\n",
            "9/9 [==============================] - 0s 17ms/step - loss: 341.6948 - val_loss: 351.1494\n",
            "Epoch 18/30\n",
            "9/9 [==============================] - 0s 16ms/step - loss: 312.8452 - val_loss: 343.9862\n",
            "Epoch 19/30\n",
            "9/9 [==============================] - 0s 17ms/step - loss: 302.5420 - val_loss: 344.4251\n",
            "Epoch 20/30\n",
            "9/9 [==============================] - 0s 16ms/step - loss: 301.0051 - val_loss: 345.2720\n",
            "Epoch 21/30\n",
            "9/9 [==============================] - 0s 15ms/step - loss: 300.4464 - val_loss: 344.7933\n",
            "Epoch 22/30\n",
            "9/9 [==============================] - 0s 15ms/step - loss: 299.7177 - val_loss: 344.5466\n",
            "Epoch 23/30\n",
            "9/9 [==============================] - 0s 19ms/step - loss: 298.8411 - val_loss: 343.4007\n",
            "Epoch 24/30\n",
            "9/9 [==============================] - 0s 17ms/step - loss: 297.9634 - val_loss: 342.2506\n",
            "Epoch 25/30\n",
            "9/9 [==============================] - 0s 15ms/step - loss: 297.4284 - val_loss: 340.8730\n",
            "Epoch 26/30\n",
            "9/9 [==============================] - 0s 17ms/step - loss: 296.7226 - val_loss: 340.3731\n",
            "Epoch 27/30\n",
            "9/9 [==============================] - 0s 16ms/step - loss: 296.2530 - val_loss: 339.8556\n",
            "Epoch 28/30\n",
            "9/9 [==============================] - 0s 17ms/step - loss: 295.9848 - val_loss: 339.0274\n",
            "Epoch 29/30\n",
            "9/9 [==============================] - 0s 15ms/step - loss: 295.4776 - val_loss: 339.0979\n",
            "Epoch 30/30\n",
            "9/9 [==============================] - 0s 17ms/step - loss: 295.1324 - val_loss: 338.6417\n"
          ]
        }
      ]
    },
    {
      "cell_type": "code",
      "metadata": {
        "colab": {
          "base_uri": "https://localhost:8080/",
          "height": 279
        },
        "id": "AG8aTIiiMb84",
        "outputId": "a2f7988a-21cb-412e-a95a-a24935f819de"
      },
      "source": [
        "plt.plot(h2.history['loss'])\n",
        "plt.plot(h2.history['val_loss'])\n",
        "\n",
        "plt.xlabel('epoch')\n",
        "plt.legend(['train', 'val'], loc='lower left')\n",
        "plt.show()"
      ],
      "execution_count": null,
      "outputs": [
        {
          "output_type": "display_data",
          "data": {
            "image/png": "[encoded data removed]",
            "text/plain": [
              "<Figure size 432x288 with 1 Axes>"
            ]
          },
          "metadata": {
            "needs_background": "light"
          }
        }
      ]
    },
    {
      "cell_type": "markdown",
      "metadata": {
        "id": "j7Hpg3LlAp06"
      },
      "source": [
        "####GRU"
      ]
    },
    {
      "cell_type": "code",
      "metadata": {
        "colab": {
          "base_uri": "https://localhost:8080/"
        },
        "id": "O-dJZ9AtNYJu",
        "outputId": "18470789-a681-4324-ebb3-95f88267b848"
      },
      "source": [
        "inp = Input(shape=[None,1])\n",
        "x = Conv1D(filters=32, kernel_size=5,strides=1, padding=\"causal\",activation=\"relu\")(inp)\n",
        "x = GRU(64, return_sequences=True)(x)\n",
        "x = GRU(64, return_sequences=True)(x)\n",
        "x = Dense(40, activation=\"relu\")(x)\n",
        "out = Dense(1, activation='linear')(x)\n",
        "\n",
        "model2 = Model(inputs=inp,outputs=out)\n",
        "model2.summary()"
      ],
      "execution_count": null,
      "outputs": [
        {
          "output_type": "stream",
          "name": "stdout",
          "text": [
            "Model: \"model_27\"\n",
            "_________________________________________________________________\n",
            " Layer (type)                Output Shape              Param #   \n",
            "=================================================================\n",
            " input_29 (InputLayer)       [(None, None, 1)]         0         \n",
            "                                                                 \n",
            " conv1d_28 (Conv1D)          (None, None, 32)          192       \n",
            "                                                                 \n",
            " gru_12 (GRU)                (None, None, 64)          18816     \n",
            "                                                                 \n",
            " gru_13 (GRU)                (None, None, 64)          24960     \n",
            "                                                                 \n",
            " dense_61 (Dense)            (None, None, 40)          2600      \n",
            "                                                                 \n",
            " dense_62 (Dense)            (None, None, 1)           41        \n",
            "                                                                 \n",
            "=================================================================\n",
            "Total params: 46,609\n",
            "Trainable params: 46,609\n",
            "Non-trainable params: 0\n",
            "_________________________________________________________________\n"
          ]
        }
      ]
    },
    {
      "cell_type": "code",
      "metadata": {
        "colab": {
          "base_uri": "https://localhost:8080/",
          "height": 564
        },
        "id": "7hiMUwDYNYJu",
        "outputId": "8c9d3b85-fe13-4def-d536-668d4db60aaa"
      },
      "source": [
        "plot_model(model2,'model2_gru.png')"
      ],
      "execution_count": null,
      "outputs": [
        {
          "output_type": "execute_result",
          "data": {
            "image/png": "[encoded data removed]",
            "text/plain": [
              "<IPython.core.display.Image object>"
            ]
          },
          "metadata": {},
          "execution_count": 224
        }
      ]
    },
    {
      "cell_type": "markdown",
      "metadata": {
        "id": "B5ZXBrSjNYJu"
      },
      "source": [
        "**Training**"
      ]
    },
    {
      "cell_type": "code",
      "metadata": {
        "id": "bKaxP4V0NYJu"
      },
      "source": [
        "model2.compile(optimizer='adam',loss='mse')"
      ],
      "execution_count": null,
      "outputs": []
    },
    {
      "cell_type": "code",
      "metadata": {
        "colab": {
          "base_uri": "https://localhost:8080/"
        },
        "id": "koC6wr4HNYJu",
        "outputId": "e4eed764-0cf3-4553-fcad-b97063cd4cd9"
      },
      "source": [
        "h4=model2.fit(X_train,y_train.values,epochs=25,validation_split=0.1)"
      ],
      "execution_count": null,
      "outputs": [
        {
          "output_type": "stream",
          "name": "stdout",
          "text": [
            "Epoch 1/25\n",
            "9/9 [==============================] - 6s 129ms/step - loss: 8156.9043 - val_loss: 7878.0737\n",
            "Epoch 2/25\n",
            "9/9 [==============================] - 0s 14ms/step - loss: 8003.5195 - val_loss: 7585.0903\n",
            "Epoch 3/25\n",
            "9/9 [==============================] - 0s 14ms/step - loss: 7507.0864 - val_loss: 6768.1362\n",
            "Epoch 4/25\n",
            "9/9 [==============================] - 0s 16ms/step - loss: 6581.0049 - val_loss: 5883.8188\n",
            "Epoch 5/25\n",
            "9/9 [==============================] - 0s 16ms/step - loss: 5747.3545 - val_loss: 5133.3931\n",
            "Epoch 6/25\n",
            "9/9 [==============================] - 0s 15ms/step - loss: 5006.7476 - val_loss: 4424.7368\n",
            "Epoch 7/25\n",
            "9/9 [==============================] - 0s 15ms/step - loss: 4292.0063 - val_loss: 3748.1533\n",
            "Epoch 8/25\n",
            "9/9 [==============================] - 0s 15ms/step - loss: 3609.6731 - val_loss: 3102.7791\n",
            "Epoch 9/25\n",
            "9/9 [==============================] - 0s 15ms/step - loss: 2968.9045 - val_loss: 2495.9856\n",
            "Epoch 10/25\n",
            "9/9 [==============================] - 0s 15ms/step - loss: 2362.7930 - val_loss: 1955.1110\n",
            "Epoch 11/25\n",
            "9/9 [==============================] - 0s 15ms/step - loss: 1834.8545 - val_loss: 1489.3705\n",
            "Epoch 12/25\n",
            "9/9 [==============================] - 0s 14ms/step - loss: 1381.2399 - val_loss: 1114.7861\n",
            "Epoch 13/25\n",
            "9/9 [==============================] - 0s 15ms/step - loss: 1027.3759 - val_loss: 824.3367\n",
            "Epoch 14/25\n",
            "9/9 [==============================] - 0s 14ms/step - loss: 754.1456 - val_loss: 613.0715\n",
            "Epoch 15/25\n",
            "9/9 [==============================] - 0s 14ms/step - loss: 556.5049 - val_loss: 469.1602\n",
            "Epoch 16/25\n",
            "9/9 [==============================] - 0s 15ms/step - loss: 421.7734 - val_loss: 376.9878\n",
            "Epoch 17/25\n",
            "9/9 [==============================] - 0s 15ms/step - loss: 335.0170 - val_loss: 322.2860\n",
            "Epoch 18/25\n",
            "9/9 [==============================] - 0s 15ms/step - loss: 284.0095 - val_loss: 293.0327\n",
            "Epoch 19/25\n",
            "9/9 [==============================] - 0s 17ms/step - loss: 255.3943 - val_loss: 279.3379\n",
            "Epoch 20/25\n",
            "9/9 [==============================] - 0s 14ms/step - loss: 239.9892 - val_loss: 274.4356\n",
            "Epoch 21/25\n",
            "9/9 [==============================] - 0s 14ms/step - loss: 232.5936 - val_loss: 273.4626\n",
            "Epoch 22/25\n",
            "9/9 [==============================] - 0s 14ms/step - loss: 230.8721 - val_loss: 273.9549\n",
            "Epoch 23/25\n",
            "9/9 [==============================] - 0s 14ms/step - loss: 229.1710 - val_loss: 274.5627\n",
            "Epoch 24/25\n",
            "9/9 [==============================] - 0s 15ms/step - loss: 229.2742 - val_loss: 275.4057\n",
            "Epoch 25/25\n",
            "9/9 [==============================] - 0s 16ms/step - loss: 229.0112 - val_loss: 275.8557\n"
          ]
        }
      ]
    },
    {
      "cell_type": "code",
      "metadata": {
        "colab": {
          "base_uri": "https://localhost:8080/",
          "height": 279
        },
        "id": "GBj6yQnhNYJv",
        "outputId": "e8a44f63-0613-4547-d5c6-1a2a8d393cd5"
      },
      "source": [
        "plt.plot(h4.history['loss'])\n",
        "plt.plot(h4.history['val_loss'])\n",
        "\n",
        "plt.xlabel('epoch')\n",
        "plt.legend(['train', 'val'], loc='lower left')\n",
        "plt.show()"
      ],
      "execution_count": null,
      "outputs": [
        {
          "output_type": "display_data",
          "data": {
            "image/png": "[encoded data removed]",
            "text/plain": [
              "<Figure size 432x288 with 1 Axes>"
            ]
          },
          "metadata": {
            "needs_background": "light"
          }
        }
      ]
    },
    {
      "cell_type": "markdown",
      "metadata": {
        "id": "VUYRp6O6Xjr4"
      },
      "source": [
        "\n",
        "##TASK 2"
      ]
    },
    {
      "cell_type": "markdown",
      "metadata": {
        "id": "UgEmTvnsAqlZ"
      },
      "source": [
        "\n",
        "\n",
        "\n",
        "###TASK 2.1"
      ]
    },
    {
      "cell_type": "code",
      "metadata": {
        "colab": {
          "base_uri": "https://localhost:8080/",
          "height": 206
        },
        "id": "StFjT2T5AtTV",
        "outputId": "fec901b5-1441-4824-e6f8-0d92ff4e5161"
      },
      "source": [
        "data3 = pd.read_csv('/content/IMDB Dataset.csv')\n",
        "data3.head()"
      ],
      "execution_count": 47,
      "outputs": [
        {
          "output_type": "execute_result",
          "data": {
            "text/html": [
              "<div>\n",
              "<style scoped>\n",
              "    .dataframe tbody tr th:only-of-type {\n",
              "        vertical-align: middle;\n",
              "    }\n",
              "\n",
              "    .dataframe tbody tr th {\n",
              "        vertical-align: top;\n",
              "    }\n",
              "\n",
              "    .dataframe thead th {\n",
              "        text-align: right;\n",
              "    }\n",
              "</style>\n",
              "<table border=\"1\" class=\"dataframe\">\n",
              "  <thead>\n",
              "    <tr style=\"text-align: right;\">\n",
              "      <th></th>\n",
              "      <th>review</th>\n",
              "      <th>sentiment</th>\n",
              "    </tr>\n",
              "  </thead>\n",
              "  <tbody>\n",
              "    <tr>\n",
              "      <th>0</th>\n",
              "      <td>One of the other reviewers has mentioned that ...</td>\n",
              "      <td>positive</td>\n",
              "    </tr>\n",
              "    <tr>\n",
              "      <th>1</th>\n",
              "      <td>A wonderful little production. &lt;br /&gt;&lt;br /&gt;The...</td>\n",
              "      <td>positive</td>\n",
              "    </tr>\n",
              "    <tr>\n",
              "      <th>2</th>\n",
              "      <td>I thought this was a wonderful way to spend ti...</td>\n",
              "      <td>positive</td>\n",
              "    </tr>\n",
              "    <tr>\n",
              "      <th>3</th>\n",
              "      <td>Basically there's a family where a little boy ...</td>\n",
              "      <td>negative</td>\n",
              "    </tr>\n",
              "    <tr>\n",
              "      <th>4</th>\n",
              "      <td>Petter Mattei's \"Love in the Time of Money\" is...</td>\n",
              "      <td>positive</td>\n",
              "    </tr>\n",
              "  </tbody>\n",
              "</table>\n",
              "</div>"
            ],
            "text/plain": [
              "                                              review sentiment\n",
              "0  One of the other reviewers has mentioned that ...  positive\n",
              "1  A wonderful little production. <br /><br />The...  positive\n",
              "2  I thought this was a wonderful way to spend ti...  positive\n",
              "3  Basically there's a family where a little boy ...  negative\n",
              "4  Petter Mattei's \"Love in the Time of Money\" is...  positive"
            ]
          },
          "metadata": {},
          "execution_count": 47
        }
      ]
    },
    {
      "cell_type": "code",
      "metadata": {
        "colab": {
          "base_uri": "https://localhost:8080/"
        },
        "id": "-yoF5I8jYmr9",
        "outputId": "8760dfe6-3efa-4b74-f61a-0e7d9140a760"
      },
      "source": [
        "!pip install nltk\n",
        "nltk.download('stopwords')"
      ],
      "execution_count": 48,
      "outputs": [
        {
          "output_type": "stream",
          "name": "stdout",
          "text": [
            "Requirement already satisfied: nltk in /usr/local/lib/python3.7/dist-packages (3.2.5)\n",
            "Requirement already satisfied: six in /usr/local/lib/python3.7/dist-packages (from nltk) (1.15.0)\n",
            "[nltk_data] Downloading package stopwords to /root/nltk_data...\n",
            "[nltk_data]   Package stopwords is already up-to-date!\n"
          ]
        },
        {
          "output_type": "execute_result",
          "data": {
            "text/plain": [
              "True"
            ]
          },
          "metadata": {},
          "execution_count": 48
        }
      ]
    },
    {
      "cell_type": "code",
      "metadata": {
        "id": "jBci2b9KYgKV"
      },
      "source": [
        "english_stops = set(stopwords.words('english'))"
      ],
      "execution_count": 49,
      "outputs": []
    },
    {
      "cell_type": "code",
      "metadata": {
        "id": "s08hDoaljobo"
      },
      "source": [
        "def preprocess(text):\n",
        "  s=''\n",
        "  text = re.sub(r'[0-9]',\"\",text)\n",
        "  text = re.sub(r'[^\\w\\s]',\"\",text)\n",
        "  if text not in english_stops:\n",
        "    text = text.lower()\n",
        "    text = text.split()\n",
        "    return text\n",
        "  else:\n",
        "    return s"
      ],
      "execution_count": 50,
      "outputs": []
    },
    {
      "cell_type": "code",
      "metadata": {
        "id": "hu-RBgTFnp7U"
      },
      "source": [
        "data3['review'] = data3['review'].fillna(\"\")\n",
        "data3['review'] = data3['review'].map(lambda x: preprocess(x))\n"
      ],
      "execution_count": 51,
      "outputs": []
    },
    {
      "cell_type": "code",
      "metadata": {
        "colab": {
          "base_uri": "https://localhost:8080/",
          "height": 206
        },
        "id": "I2bLBezUn37t",
        "outputId": "e8fd8891-734f-411e-e470-cb8eb00a1725"
      },
      "source": [
        "def labels(i):\n",
        "    if i=='positive':\n",
        "        return 1\n",
        "    else:\n",
        "        return 0\n",
        "data3['sentiment'] = data3['sentiment'].map(lambda x:labels(x))\n",
        "data3.head()"
      ],
      "execution_count": 54,
      "outputs": [
        {
          "output_type": "execute_result",
          "data": {
            "text/html": [
              "<div>\n",
              "<style scoped>\n",
              "    .dataframe tbody tr th:only-of-type {\n",
              "        vertical-align: middle;\n",
              "    }\n",
              "\n",
              "    .dataframe tbody tr th {\n",
              "        vertical-align: top;\n",
              "    }\n",
              "\n",
              "    .dataframe thead th {\n",
              "        text-align: right;\n",
              "    }\n",
              "</style>\n",
              "<table border=\"1\" class=\"dataframe\">\n",
              "  <thead>\n",
              "    <tr style=\"text-align: right;\">\n",
              "      <th></th>\n",
              "      <th>review</th>\n",
              "      <th>sentiment</th>\n",
              "    </tr>\n",
              "  </thead>\n",
              "  <tbody>\n",
              "    <tr>\n",
              "      <th>0</th>\n",
              "      <td>[one, of, the, other, reviewers, has, mentione...</td>\n",
              "      <td>1</td>\n",
              "    </tr>\n",
              "    <tr>\n",
              "      <th>1</th>\n",
              "      <td>[a, wonderful, little, production, br, br, the...</td>\n",
              "      <td>1</td>\n",
              "    </tr>\n",
              "    <tr>\n",
              "      <th>2</th>\n",
              "      <td>[i, thought, this, was, a, wonderful, way, to,...</td>\n",
              "      <td>1</td>\n",
              "    </tr>\n",
              "    <tr>\n",
              "      <th>3</th>\n",
              "      <td>[basically, theres, a, family, where, a, littl...</td>\n",
              "      <td>0</td>\n",
              "    </tr>\n",
              "    <tr>\n",
              "      <th>4</th>\n",
              "      <td>[petter, matteis, love, in, the, time, of, mon...</td>\n",
              "      <td>1</td>\n",
              "    </tr>\n",
              "  </tbody>\n",
              "</table>\n",
              "</div>"
            ],
            "text/plain": [
              "                                              review  sentiment\n",
              "0  [one, of, the, other, reviewers, has, mentione...          1\n",
              "1  [a, wonderful, little, production, br, br, the...          1\n",
              "2  [i, thought, this, was, a, wonderful, way, to,...          1\n",
              "3  [basically, theres, a, family, where, a, littl...          0\n",
              "4  [petter, matteis, love, in, the, time, of, mon...          1"
            ]
          },
          "metadata": {},
          "execution_count": 54
        }
      ]
    },
    {
      "cell_type": "markdown",
      "metadata": {
        "id": "pqHHL6AdoJEh"
      },
      "source": [
        "**Train-Test Split**"
      ]
    },
    {
      "cell_type": "code",
      "metadata": {
        "id": "NaSpLLQSoS2l"
      },
      "source": [
        "x_train,x_test,y_train,y_test = train_test_split(data3['review'],data3['sentiment'],test_size=0.2,random_state=4)"
      ],
      "execution_count": 55,
      "outputs": []
    },
    {
      "cell_type": "code",
      "metadata": {
        "colab": {
          "base_uri": "https://localhost:8080/",
          "height": 279
        },
        "id": "3GPq8PdFponM",
        "outputId": "8b71ae39-f8fb-437d-b325-6f848d135a17"
      },
      "source": [
        "import seaborn as sns\n",
        "sns.countplot(x='sentiment',data=data3)\n",
        "plt.show()"
      ],
      "execution_count": 61,
      "outputs": [
        {
          "output_type": "display_data",
          "data": {
            "image/png": "[encoded data removed]",
            "text/plain": [
              "<Figure size 432x288 with 1 Axes>"
            ]
          },
          "metadata": {
            "needs_background": "light"
          }
        }
      ]
    },
    {
      "cell_type": "code",
      "metadata": {
        "id": "Xbst7Onmolp4"
      },
      "source": [
        "from tensorflow.keras.preprocessing.text import Tokenizer  \n",
        "from tensorflow.keras.preprocessing.sequence import pad_sequences\n",
        "import statistics\n",
        "\n",
        "review_length = []\n",
        "for review in x_train:\n",
        "  review_length.append(len(review))\n",
        "\n",
        "max_length = round(statistics.mean(review_length))\n",
        "\n",
        "token = Tokenizer()   \n",
        "token.fit_on_texts(x_train)\n",
        "x_train = token.texts_to_sequences(x_train)\n",
        "x_test = token.texts_to_sequences(x_test)\n",
        "\n"
      ],
      "execution_count": 58,
      "outputs": []
    },
    {
      "cell_type": "code",
      "metadata": {
        "colab": {
          "base_uri": "https://localhost:8080/"
        },
        "id": "TwZkwebgpJpH",
        "outputId": "a655f943-a58a-41f4-84ee-c735387dd22e"
      },
      "source": [
        "#apply padding on the number sequences to bring all of then same length\n",
        "x_train = pad_sequences(x_train, maxlen=max_length, padding='post', truncating='post')\n",
        "x_test = pad_sequences(x_test, maxlen=max_length, padding='post', truncating='post')\n",
        "\n",
        "#vocbulary or list of words found adding 1 for 0 padding\n",
        "total_words = len(token.word_index) + 1   \n",
        "max_length"
      ],
      "execution_count": 59,
      "outputs": [
        {
          "output_type": "execute_result",
          "data": {
            "text/plain": [
              "229"
            ]
          },
          "metadata": {},
          "execution_count": 59
        }
      ]
    },
    {
      "cell_type": "markdown",
      "metadata": {
        "id": "IT-cLPLEAt5R"
      },
      "source": [
        "####LSTM"
      ]
    },
    {
      "cell_type": "code",
      "metadata": {
        "colab": {
          "base_uri": "https://localhost:8080/"
        },
        "id": "wOInaC5UiNls",
        "outputId": "58cbdba8-93b0-4293-9eb2-f591270b1199"
      },
      "source": [
        "model = Sequential()\n",
        "model.add(Embedding(total_words,32 , input_length = max_length))\n",
        "model.add(LSTM(50))\n",
        "model.add(Dense(1, activation='sigmoid'))\n",
        "\n",
        "print(model.summary())"
      ],
      "execution_count": 69,
      "outputs": [
        {
          "output_type": "stream",
          "name": "stdout",
          "text": [
            "Model: \"sequential_5\"\n",
            "_________________________________________________________________\n",
            " Layer (type)                Output Shape              Param #   \n",
            "=================================================================\n",
            " embedding_5 (Embedding)     (None, 229, 32)           4982048   \n",
            "                                                                 \n",
            " lstm_5 (LSTM)               (None, 50)                16600     \n",
            "                                                                 \n",
            " dense_5 (Dense)             (None, 1)                 51        \n",
            "                                                                 \n",
            "=================================================================\n",
            "Total params: 4,998,699\n",
            "Trainable params: 4,998,699\n",
            "Non-trainable params: 0\n",
            "_________________________________________________________________\n",
            "None\n"
          ]
        }
      ]
    },
    {
      "cell_type": "code",
      "metadata": {
        "colab": {
          "base_uri": "https://localhost:8080/",
          "height": 369
        },
        "id": "NAdDtigApjId",
        "outputId": "75c0440f-db95-41c2-9262-6ad85702191e"
      },
      "source": [
        "plot_model(model,'lstm_sentiment.png')"
      ],
      "execution_count": 70,
      "outputs": [
        {
          "output_type": "execute_result",
          "data": {
            "image/png": "[encoded data removed]",
            "text/plain": [
              "<IPython.core.display.Image object>"
            ]
          },
          "metadata": {},
          "execution_count": 70
        }
      ]
    },
    {
      "cell_type": "markdown",
      "metadata": {
        "id": "_UDg_DVgRdlt"
      },
      "source": [
        "**Training**"
      ]
    },
    {
      "cell_type": "code",
      "metadata": {
        "id": "Eiw8rL84Rdlt"
      },
      "source": [
        "model.compile(optimizer = 'adam', loss = 'binary_crossentropy', metrics = ['accuracy'])"
      ],
      "execution_count": 71,
      "outputs": []
    },
    {
      "cell_type": "code",
      "metadata": {
        "colab": {
          "base_uri": "https://localhost:8080/"
        },
        "id": "1CoOJrbeRdlt",
        "outputId": "bffd3919-bf42-45d9-c7e8-972e0837237a"
      },
      "source": [
        "h1=model.fit(x_train,y_train,epochs=10,validation_split=0.1)"
      ],
      "execution_count": 74,
      "outputs": [
        {
          "output_type": "stream",
          "name": "stdout",
          "text": [
            "Epoch 1/10\n",
            "1143/1143 [==============================] - 59s 52ms/step - loss: 0.1020 - accuracy: 0.9678 - val_loss: 0.4130 - val_accuracy: 0.8661\n",
            "Epoch 2/10\n",
            "1143/1143 [==============================] - 59s 52ms/step - loss: 0.2888 - accuracy: 0.8790 - val_loss: 0.4891 - val_accuracy: 0.8323\n",
            "Epoch 3/10\n",
            "1143/1143 [==============================] - 58s 51ms/step - loss: 0.2847 - accuracy: 0.8889 - val_loss: 0.5064 - val_accuracy: 0.8476\n",
            "Epoch 4/10\n",
            "1143/1143 [==============================] - 58s 51ms/step - loss: 0.1093 - accuracy: 0.9665 - val_loss: 0.4719 - val_accuracy: 0.8580\n",
            "Epoch 5/10\n",
            "1143/1143 [==============================] - 59s 51ms/step - loss: 0.0801 - accuracy: 0.9781 - val_loss: 0.4588 - val_accuracy: 0.8550\n",
            "Epoch 6/10\n",
            "1143/1143 [==============================] - 59s 52ms/step - loss: 0.0544 - accuracy: 0.9855 - val_loss: 0.5151 - val_accuracy: 0.8644\n",
            "Epoch 7/10\n",
            "1143/1143 [==============================] - 60s 52ms/step - loss: 0.0352 - accuracy: 0.9919 - val_loss: 0.5799 - val_accuracy: 0.8604\n",
            "Epoch 8/10\n",
            "1143/1143 [==============================] - 59s 52ms/step - loss: 0.0255 - accuracy: 0.9945 - val_loss: 0.6191 - val_accuracy: 0.8545\n",
            "Epoch 9/10\n",
            "1143/1143 [==============================] - 59s 52ms/step - loss: 0.0197 - accuracy: 0.9953 - val_loss: 0.6198 - val_accuracy: 0.8609\n",
            "Epoch 10/10\n",
            "1143/1143 [==============================] - 58s 51ms/step - loss: 0.0143 - accuracy: 0.9968 - val_loss: 0.6341 - val_accuracy: 0.8624\n"
          ]
        }
      ]
    },
    {
      "cell_type": "code",
      "metadata": {
        "id": "nnSgJQ3DAtcf",
        "colab": {
          "base_uri": "https://localhost:8080/",
          "height": 295
        },
        "outputId": "aac4374f-aa23-4505-f949-f0c59593f74b"
      },
      "source": [
        "plt.plot(h1.history['accuracy'])\n",
        "plt.plot(h1.history['val_accuracy'])\n",
        "plt.title('Variation of model accuracy with epochs')\n",
        "plt.xlabel('epoch')\n",
        "plt.ylim(0,1)\n",
        "plt.legend(['train', 'val'], loc='upper right')\n",
        "plt.show()"
      ],
      "execution_count": 79,
      "outputs": [
        {
          "output_type": "display_data",
          "data": {
            "image/png": "[encoded data removed]",
            "text/plain": [
              "<Figure size 432x288 with 1 Axes>"
            ]
          },
          "metadata": {
            "needs_background": "light"
          }
        }
      ]
    },
    {
      "cell_type": "code",
      "metadata": {
        "id": "vJQeU-xEokxN"
      },
      "source": [
        "pred = model.predict(x_test)\n",
        "bi_op=[]\n",
        "#output here if greater than 0.5 implies +ve else -ve\n",
        "for i in pred:\n",
        "  if(i>0.5):\n",
        "    bi_op.append(1)\n",
        "  else:\n",
        "    bi_op.append(0)\n",
        "\n"
      ],
      "execution_count": 80,
      "outputs": []
    },
    {
      "cell_type": "code",
      "metadata": {
        "id": "QULPbRFjAtfk",
        "colab": {
          "base_uri": "https://localhost:8080/"
        },
        "outputId": "3f10379d-78b7-4658-d805-3cbb204ff58e"
      },
      "source": [
        "from sklearn.metrics import classification_report\n",
        "\n",
        "print(classification_report(y_test,bi_op,target_names=['Positive','Negative']))"
      ],
      "execution_count": 81,
      "outputs": [
        {
          "output_type": "stream",
          "name": "stdout",
          "text": [
            "              precision    recall  f1-score   support\n",
            "\n",
            "    Positive       0.85      0.88      0.86      5073\n",
            "    Negative       0.88      0.84      0.86      5082\n",
            "\n",
            "    accuracy                           0.86     10155\n",
            "   macro avg       0.86      0.86      0.86     10155\n",
            "weighted avg       0.86      0.86      0.86     10155\n",
            "\n"
          ]
        }
      ]
    },
    {
      "cell_type": "code",
      "metadata": {
        "id": "rL7JJrV2Atiz",
        "colab": {
          "base_uri": "https://localhost:8080/",
          "height": 279
        },
        "outputId": "55ec635f-ca14-4bc9-a074-8224b968b98d"
      },
      "source": [
        "\n",
        "from sklearn.metrics import confusion_matrix\n",
        "cm=confusion_matrix(y_test,bi_op)\n",
        "sns.heatmap(cm,annot=True,cmap='Greens',fmt='.4g')\n",
        "plt.ylabel('Actual labels')\n",
        "plt.xlabel('Predicted labels')\n",
        "plt.show()\n"
      ],
      "execution_count": 92,
      "outputs": [
        {
          "output_type": "display_data",
          "data": {
            "image/png": "[encoded data removed]",
            "text/plain": [
              "<Figure size 432x288 with 2 Axes>"
            ]
          },
          "metadata": {
            "needs_background": "light"
          }
        }
      ]
    },
    {
      "cell_type": "markdown",
      "metadata": {
        "id": "ucDV6NjLAvMG"
      },
      "source": [
        "###TASK 2.2"
      ]
    },
    {
      "cell_type": "markdown",
      "metadata": {
        "id": "KqA_EFWtAzIu"
      },
      "source": [
        "####GRU"
      ]
    },
    {
      "cell_type": "code",
      "metadata": {
        "id": "fLmx68FdAzIv",
        "colab": {
          "base_uri": "https://localhost:8080/"
        },
        "outputId": "740455df-b0ec-4d3f-9bf2-608595ac91a1"
      },
      "source": [
        "model2 = Sequential()\n",
        "model2.add(Embedding(total_words, 64, input_length=max_length))\n",
        "model2.add(GRU(32))\n",
        "model2.add(Dense(1, activation='sigmoid'))\n",
        "print(model2.summary())"
      ],
      "execution_count": 98,
      "outputs": [
        {
          "output_type": "stream",
          "name": "stdout",
          "text": [
            "Model: \"sequential_8\"\n",
            "_________________________________________________________________\n",
            " Layer (type)                Output Shape              Param #   \n",
            "=================================================================\n",
            " embedding_7 (Embedding)     (None, 229, 64)           9964096   \n",
            "                                                                 \n",
            " gru_1 (GRU)                 (None, 32)                9408      \n",
            "                                                                 \n",
            " dense_7 (Dense)             (None, 1)                 33        \n",
            "                                                                 \n",
            "=================================================================\n",
            "Total params: 9,973,537\n",
            "Trainable params: 9,973,537\n",
            "Non-trainable params: 0\n",
            "_________________________________________________________________\n",
            "None\n"
          ]
        }
      ]
    },
    {
      "cell_type": "code",
      "metadata": {
        "id": "c1Z9kh23AzIv",
        "colab": {
          "base_uri": "https://localhost:8080/",
          "height": 369
        },
        "outputId": "4be81143-2498-42da-90dc-64048a12257c"
      },
      "source": [
        "model2.compile(loss='binary_crossentropy', optimizer='adam', metrics=['accuracy'])\n",
        "plot_model(model2,'gru2.png')"
      ],
      "execution_count": 107,
      "outputs": [
        {
          "output_type": "execute_result",
          "data": {
            "image/png": "[encoded data removed]",
            "text/plain": [
              "<IPython.core.display.Image object>"
            ]
          },
          "metadata": {},
          "execution_count": 107
        }
      ]
    },
    {
      "cell_type": "code",
      "metadata": {
        "id": "3-AR77E5AzIw",
        "colab": {
          "base_uri": "https://localhost:8080/"
        },
        "outputId": "997848fc-0874-4503-f982-0dff0e935b8e"
      },
      "source": [
        "h2=model2.fit(x_train,y_train,epochs=12,validation_split=0.1)"
      ],
      "execution_count": 109,
      "outputs": [
        {
          "output_type": "stream",
          "name": "stdout",
          "text": [
            "Epoch 1/12\n",
            "1143/1143 [==============================] - 51s 45ms/step - loss: 0.0017 - accuracy: 0.9996 - val_loss: 0.9265 - val_accuracy: 0.8474\n",
            "Epoch 2/12\n",
            "1143/1143 [==============================] - 50s 44ms/step - loss: 4.7539e-04 - accuracy: 0.9999 - val_loss: 0.9142 - val_accuracy: 0.8262\n",
            "Epoch 3/12\n",
            "1143/1143 [==============================] - 49s 43ms/step - loss: 0.0012 - accuracy: 0.9997 - val_loss: 0.9570 - val_accuracy: 0.8419\n",
            "Epoch 4/12\n",
            "1143/1143 [==============================] - 48s 42ms/step - loss: 1.4116e-04 - accuracy: 1.0000 - val_loss: 1.0710 - val_accuracy: 0.8432\n",
            "Epoch 5/12\n",
            "1143/1143 [==============================] - 48s 42ms/step - loss: 3.8871e-05 - accuracy: 1.0000 - val_loss: 1.2432 - val_accuracy: 0.8454\n",
            "Epoch 6/12\n",
            "1143/1143 [==============================] - 49s 43ms/step - loss: 7.6416e-06 - accuracy: 1.0000 - val_loss: 1.3231 - val_accuracy: 0.8476\n",
            "Epoch 7/12\n",
            "1143/1143 [==============================] - 49s 43ms/step - loss: 4.1275e-06 - accuracy: 1.0000 - val_loss: 1.4251 - val_accuracy: 0.8476\n",
            "Epoch 8/12\n",
            "1143/1143 [==============================] - 48s 42ms/step - loss: 2.2647e-06 - accuracy: 1.0000 - val_loss: 1.5300 - val_accuracy: 0.8454\n",
            "Epoch 9/12\n",
            "1143/1143 [==============================] - 49s 42ms/step - loss: 1.2814e-06 - accuracy: 1.0000 - val_loss: 1.6360 - val_accuracy: 0.8456\n",
            "Epoch 10/12\n",
            "1143/1143 [==============================] - 48s 42ms/step - loss: 0.0038 - accuracy: 0.9992 - val_loss: 0.6783 - val_accuracy: 0.8267\n",
            "Epoch 11/12\n",
            "1143/1143 [==============================] - 48s 42ms/step - loss: 0.0047 - accuracy: 0.9986 - val_loss: 0.9418 - val_accuracy: 0.8523\n",
            "Epoch 12/12\n",
            "1143/1143 [==============================] - 49s 43ms/step - loss: 6.2948e-05 - accuracy: 1.0000 - val_loss: 0.9810 - val_accuracy: 0.8518\n"
          ]
        }
      ]
    },
    {
      "cell_type": "code",
      "metadata": {
        "id": "NYf2ElX_AzIw",
        "colab": {
          "base_uri": "https://localhost:8080/",
          "height": 295
        },
        "outputId": "947467af-fc95-48eb-a80e-e60faf83dad4"
      },
      "source": [
        "plt.plot(h2.history['accuracy'])\n",
        "plt.plot(h2.history['val_accuracy'])\n",
        "plt.title('Variation of model accuracy with epochs')\n",
        "plt.xlabel('epoch')\n",
        "plt.ylim(0,1.2)\n",
        "plt.legend(['train', 'val'], loc='upper right')\n",
        "plt.show()"
      ],
      "execution_count": 112,
      "outputs": [
        {
          "output_type": "display_data",
          "data": {
            "image/png": "[encoded data removed]",
            "text/plain": [
              "<Figure size 432x288 with 1 Axes>"
            ]
          },
          "metadata": {
            "needs_background": "light"
          }
        }
      ]
    },
    {
      "cell_type": "code",
      "metadata": {
        "id": "nD7cZMwwAzIy"
      },
      "source": [
        "gru_pred = model2.predict(x_test)\n",
        "bi_op_gru=[]\n",
        "#output here if greater than 0.5 implies +ve else -ve\n",
        "for i in pred:\n",
        "  if(i>0.5):\n",
        "    bi_op_gru.append(1)\n",
        "  else:\n",
        "    bi_op_gru.append(0)\n"
      ],
      "execution_count": 113,
      "outputs": []
    },
    {
      "cell_type": "code",
      "metadata": {
        "id": "iTReJDtOAySy",
        "colab": {
          "base_uri": "https://localhost:8080/",
          "height": 435
        },
        "outputId": "f13517be-0228-42f9-df52-cfac9515ec29"
      },
      "source": [
        "print(classification_report(y_test,bi_op_gru,target_names=['Positive','Negative']))\n",
        "cm=confusion_matrix(y_test,bi_op_gru)\n",
        "sns.heatmap(cm,annot=True,cmap='Greens',fmt='.4g')\n",
        "plt.ylabel('Actual labels')\n",
        "plt.xlabel('Predicted labels')\n",
        "plt.show()"
      ],
      "execution_count": 114,
      "outputs": [
        {
          "output_type": "stream",
          "name": "stdout",
          "text": [
            "              precision    recall  f1-score   support\n",
            "\n",
            "    Positive       0.85      0.88      0.86      5073\n",
            "    Negative       0.88      0.84      0.86      5082\n",
            "\n",
            "    accuracy                           0.86     10155\n",
            "   macro avg       0.86      0.86      0.86     10155\n",
            "weighted avg       0.86      0.86      0.86     10155\n",
            "\n"
          ]
        },
        {
          "output_type": "display_data",
          "data": {
            "image/png": "[encoded data removed]",
            "text/plain": [
              "<Figure size 432x288 with 2 Axes>"
            ]
          },
          "metadata": {
            "needs_background": "light"
          }
        }
      ]
    },
    {
      "cell_type": "code",
      "metadata": {
        "id": "L7zAjneN5RAO"
      },
      "source": [
        ""
      ],
      "execution_count": null,
      "outputs": []
    }
  ]
}